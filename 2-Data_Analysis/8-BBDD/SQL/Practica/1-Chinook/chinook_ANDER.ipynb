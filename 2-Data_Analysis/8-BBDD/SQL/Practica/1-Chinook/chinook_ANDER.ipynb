{
 "cells": [
  {
   "cell_type": "code",
   "execution_count": 7,
   "metadata": {},
   "outputs": [],
   "source": [
    "import pandas as pd\n",
    "import sqlite3\n",
    "import os"
   ]
  },
  {
   "cell_type": "code",
   "execution_count": 8,
   "metadata": {},
   "outputs": [
    {
     "data": {
      "text/plain": [
       "'c:\\\\Users\\\\defco\\\\OneDrive\\\\Escritorio\\\\Cursos\\\\Programación\\\\Cursados\\\\Data Science Bootcamp\\\\2503_dsft_thebridge_anderpena\\\\2-Data_Analysis\\\\8-BBDD\\\\SQL\\\\Practica\\\\1-Chinook'"
      ]
     },
     "execution_count": 8,
     "metadata": {},
     "output_type": "execute_result"
    }
   ],
   "source": [
    "os.getcwd()"
   ]
  },
  {
   "cell_type": "code",
   "execution_count": 9,
   "metadata": {},
   "outputs": [],
   "source": [
    "# Conectamos con la base de datos chinook.db\n",
    "connection = sqlite3.connect(\"data/chinook.db\")"
   ]
  },
  {
   "cell_type": "markdown",
   "metadata": {},
   "source": [
    "1. Obtén los clientes de brasil\n",
    "2. Obtén los empleados que son agentes de ventas\n",
    "3. Obtén las canciones de ‘AC/DC’\n",
    "4. Obtén los campos de los clientes que no sean de USA: Nombre completo, ID, País\n",
    "5. Obtén los empleados que son agentes de ventas: Nombre completo, Dirección\n",
    "(Ciudad, Estado, País) y email\n",
    "6. Obtén una lista con los países no repetidos a los que se han emitido facturas\n",
    "7. Obtén una lista con los estados de USA no repetidos de donde son los clientes y\n",
    "cuántos clientes en cada uno.\n",
    "8. Cuántos artículos tiene la factura 37\n",
    "9. Cuántas canciones tiene ‘AC/DC’\n",
    "10. Cuántos artículos tiene cada factura\n",
    "11. Cuántas facturas hay de cada país\n",
    "12. Cuántas facturas ha habido en 2009 y 2011\n",
    "13. Cuántas facturas ha habido entre 2009 y 2011\n",
    "14. Cuántas clientes hay de España y de Brasil\n",
    "15. Obtén las canciones que su título empieza por ‘You’"
   ]
  },
  {
   "cell_type": "code",
   "execution_count": null,
   "metadata": {},
   "outputs": [
    {
     "data": {
      "application/vnd.microsoft.datawrangler.viewer.v0+json": {
       "columns": [
        {
         "name": "index",
         "rawType": "int64",
         "type": "integer"
        },
        {
         "name": "CustomerId",
         "rawType": "int64",
         "type": "integer"
        },
        {
         "name": "FirstName",
         "rawType": "object",
         "type": "string"
        },
        {
         "name": "LastName",
         "rawType": "object",
         "type": "string"
        },
        {
         "name": "Company",
         "rawType": "object",
         "type": "unknown"
        },
        {
         "name": "Address",
         "rawType": "object",
         "type": "string"
        },
        {
         "name": "City",
         "rawType": "object",
         "type": "string"
        },
        {
         "name": "State",
         "rawType": "object",
         "type": "string"
        },
        {
         "name": "Country",
         "rawType": "object",
         "type": "string"
        },
        {
         "name": "PostalCode",
         "rawType": "object",
         "type": "string"
        },
        {
         "name": "Phone",
         "rawType": "object",
         "type": "string"
        },
        {
         "name": "Fax",
         "rawType": "object",
         "type": "string"
        },
        {
         "name": "Email",
         "rawType": "object",
         "type": "string"
        },
        {
         "name": "SupportRepId",
         "rawType": "int64",
         "type": "integer"
        }
       ],
       "conversionMethod": "pd.DataFrame",
       "ref": "0be38035-bcd7-49ec-9f91-a4a39b6a0200",
       "rows": [
        [
         "0",
         "1",
         "Luís",
         "Gonçalves",
         "Embraer - Empresa Brasileira de Aeronáutica S.A.",
         "Av. Brigadeiro Faria Lima, 2170",
         "São José dos Campos",
         "SP",
         "Brazil",
         "12227-000",
         "+55 (12) 3923-5555",
         "+55 (12) 3923-5566",
         "luisg@embraer.com.br",
         "3"
        ],
        [
         "1",
         "10",
         "Eduardo",
         "Martins",
         "Woodstock Discos",
         "Rua Dr. Falcão Filho, 155",
         "São Paulo",
         "SP",
         "Brazil",
         "01007-010",
         "+55 (11) 3033-5446",
         "+55 (11) 3033-4564",
         "eduardo@woodstock.com.br",
         "4"
        ],
        [
         "2",
         "11",
         "Alexandre",
         "Rocha",
         "Banco do Brasil S.A.",
         "Av. Paulista, 2022",
         "São Paulo",
         "SP",
         "Brazil",
         "01310-200",
         "+55 (11) 3055-3278",
         "+55 (11) 3055-8131",
         "alero@uol.com.br",
         "5"
        ],
        [
         "3",
         "12",
         "Roberto",
         "Almeida",
         "Riotur",
         "Praça Pio X, 119",
         "Rio de Janeiro",
         "RJ",
         "Brazil",
         "20040-020",
         "+55 (21) 2271-7000",
         "+55 (21) 2271-7070",
         "roberto.almeida@riotur.gov.br",
         "3"
        ],
        [
         "4",
         "13",
         "Fernanda",
         "Ramos",
         null,
         "Qe 7 Bloco G",
         "Brasília",
         "DF",
         "Brazil",
         "71020-677",
         "+55 (61) 3363-5547",
         "+55 (61) 3363-7855",
         "fernadaramos4@uol.com.br",
         "4"
        ]
       ],
       "shape": {
        "columns": 13,
        "rows": 5
       }
      },
      "text/html": [
       "<div>\n",
       "<style scoped>\n",
       "    .dataframe tbody tr th:only-of-type {\n",
       "        vertical-align: middle;\n",
       "    }\n",
       "\n",
       "    .dataframe tbody tr th {\n",
       "        vertical-align: top;\n",
       "    }\n",
       "\n",
       "    .dataframe thead th {\n",
       "        text-align: right;\n",
       "    }\n",
       "</style>\n",
       "<table border=\"1\" class=\"dataframe\">\n",
       "  <thead>\n",
       "    <tr style=\"text-align: right;\">\n",
       "      <th></th>\n",
       "      <th>CustomerId</th>\n",
       "      <th>FirstName</th>\n",
       "      <th>LastName</th>\n",
       "      <th>Company</th>\n",
       "      <th>Address</th>\n",
       "      <th>City</th>\n",
       "      <th>State</th>\n",
       "      <th>Country</th>\n",
       "      <th>PostalCode</th>\n",
       "      <th>Phone</th>\n",
       "      <th>Fax</th>\n",
       "      <th>Email</th>\n",
       "      <th>SupportRepId</th>\n",
       "    </tr>\n",
       "  </thead>\n",
       "  <tbody>\n",
       "    <tr>\n",
       "      <th>0</th>\n",
       "      <td>1</td>\n",
       "      <td>Luís</td>\n",
       "      <td>Gonçalves</td>\n",
       "      <td>Embraer - Empresa Brasileira de Aeronáutica S.A.</td>\n",
       "      <td>Av. Brigadeiro Faria Lima, 2170</td>\n",
       "      <td>São José dos Campos</td>\n",
       "      <td>SP</td>\n",
       "      <td>Brazil</td>\n",
       "      <td>12227-000</td>\n",
       "      <td>+55 (12) 3923-5555</td>\n",
       "      <td>+55 (12) 3923-5566</td>\n",
       "      <td>luisg@embraer.com.br</td>\n",
       "      <td>3</td>\n",
       "    </tr>\n",
       "    <tr>\n",
       "      <th>1</th>\n",
       "      <td>10</td>\n",
       "      <td>Eduardo</td>\n",
       "      <td>Martins</td>\n",
       "      <td>Woodstock Discos</td>\n",
       "      <td>Rua Dr. Falcão Filho, 155</td>\n",
       "      <td>São Paulo</td>\n",
       "      <td>SP</td>\n",
       "      <td>Brazil</td>\n",
       "      <td>01007-010</td>\n",
       "      <td>+55 (11) 3033-5446</td>\n",
       "      <td>+55 (11) 3033-4564</td>\n",
       "      <td>eduardo@woodstock.com.br</td>\n",
       "      <td>4</td>\n",
       "    </tr>\n",
       "    <tr>\n",
       "      <th>2</th>\n",
       "      <td>11</td>\n",
       "      <td>Alexandre</td>\n",
       "      <td>Rocha</td>\n",
       "      <td>Banco do Brasil S.A.</td>\n",
       "      <td>Av. Paulista, 2022</td>\n",
       "      <td>São Paulo</td>\n",
       "      <td>SP</td>\n",
       "      <td>Brazil</td>\n",
       "      <td>01310-200</td>\n",
       "      <td>+55 (11) 3055-3278</td>\n",
       "      <td>+55 (11) 3055-8131</td>\n",
       "      <td>alero@uol.com.br</td>\n",
       "      <td>5</td>\n",
       "    </tr>\n",
       "    <tr>\n",
       "      <th>3</th>\n",
       "      <td>12</td>\n",
       "      <td>Roberto</td>\n",
       "      <td>Almeida</td>\n",
       "      <td>Riotur</td>\n",
       "      <td>Praça Pio X, 119</td>\n",
       "      <td>Rio de Janeiro</td>\n",
       "      <td>RJ</td>\n",
       "      <td>Brazil</td>\n",
       "      <td>20040-020</td>\n",
       "      <td>+55 (21) 2271-7000</td>\n",
       "      <td>+55 (21) 2271-7070</td>\n",
       "      <td>roberto.almeida@riotur.gov.br</td>\n",
       "      <td>3</td>\n",
       "    </tr>\n",
       "    <tr>\n",
       "      <th>4</th>\n",
       "      <td>13</td>\n",
       "      <td>Fernanda</td>\n",
       "      <td>Ramos</td>\n",
       "      <td>None</td>\n",
       "      <td>Qe 7 Bloco G</td>\n",
       "      <td>Brasília</td>\n",
       "      <td>DF</td>\n",
       "      <td>Brazil</td>\n",
       "      <td>71020-677</td>\n",
       "      <td>+55 (61) 3363-5547</td>\n",
       "      <td>+55 (61) 3363-7855</td>\n",
       "      <td>fernadaramos4@uol.com.br</td>\n",
       "      <td>4</td>\n",
       "    </tr>\n",
       "  </tbody>\n",
       "</table>\n",
       "</div>"
      ],
      "text/plain": [
       "   CustomerId  FirstName   LastName  \\\n",
       "0           1       Luís  Gonçalves   \n",
       "1          10    Eduardo    Martins   \n",
       "2          11  Alexandre      Rocha   \n",
       "3          12    Roberto    Almeida   \n",
       "4          13   Fernanda      Ramos   \n",
       "\n",
       "                                            Company  \\\n",
       "0  Embraer - Empresa Brasileira de Aeronáutica S.A.   \n",
       "1                                  Woodstock Discos   \n",
       "2                              Banco do Brasil S.A.   \n",
       "3                                            Riotur   \n",
       "4                                              None   \n",
       "\n",
       "                           Address                 City State Country  \\\n",
       "0  Av. Brigadeiro Faria Lima, 2170  São José dos Campos    SP  Brazil   \n",
       "1        Rua Dr. Falcão Filho, 155            São Paulo    SP  Brazil   \n",
       "2               Av. Paulista, 2022            São Paulo    SP  Brazil   \n",
       "3                 Praça Pio X, 119       Rio de Janeiro    RJ  Brazil   \n",
       "4                     Qe 7 Bloco G             Brasília    DF  Brazil   \n",
       "\n",
       "  PostalCode               Phone                 Fax  \\\n",
       "0  12227-000  +55 (12) 3923-5555  +55 (12) 3923-5566   \n",
       "1  01007-010  +55 (11) 3033-5446  +55 (11) 3033-4564   \n",
       "2  01310-200  +55 (11) 3055-3278  +55 (11) 3055-8131   \n",
       "3  20040-020  +55 (21) 2271-7000  +55 (21) 2271-7070   \n",
       "4  71020-677  +55 (61) 3363-5547  +55 (61) 3363-7855   \n",
       "\n",
       "                           Email  SupportRepId  \n",
       "0           luisg@embraer.com.br             3  \n",
       "1       eduardo@woodstock.com.br             4  \n",
       "2               alero@uol.com.br             5  \n",
       "3  roberto.almeida@riotur.gov.br             3  \n",
       "4       fernadaramos4@uol.com.br             4  "
      ]
     },
     "execution_count": 11,
     "metadata": {},
     "output_type": "execute_result"
    }
   ],
   "source": [
    "# 1\n",
    "\n",
    "query = \"\"\"\n",
    "SELECT * FROM CUSTOMERS AS C\n",
    "WHERE C.Country = \"Brazil\"\n",
    "\"\"\"\n",
    "\n",
    "pd.read_sql_query(query, connection)"
   ]
  },
  {
   "cell_type": "code",
   "execution_count": null,
   "metadata": {},
   "outputs": [
    {
     "data": {
      "application/vnd.microsoft.datawrangler.viewer.v0+json": {
       "columns": [
        {
         "name": "index",
         "rawType": "int64",
         "type": "integer"
        },
        {
         "name": "EmployeeId",
         "rawType": "int64",
         "type": "integer"
        },
        {
         "name": "LastName",
         "rawType": "object",
         "type": "string"
        },
        {
         "name": "FirstName",
         "rawType": "object",
         "type": "string"
        },
        {
         "name": "Title",
         "rawType": "object",
         "type": "string"
        },
        {
         "name": "ReportsTo",
         "rawType": "int64",
         "type": "integer"
        },
        {
         "name": "BirthDate",
         "rawType": "object",
         "type": "string"
        },
        {
         "name": "HireDate",
         "rawType": "object",
         "type": "string"
        },
        {
         "name": "Address",
         "rawType": "object",
         "type": "string"
        },
        {
         "name": "City",
         "rawType": "object",
         "type": "string"
        },
        {
         "name": "State",
         "rawType": "object",
         "type": "string"
        },
        {
         "name": "Country",
         "rawType": "object",
         "type": "string"
        },
        {
         "name": "PostalCode",
         "rawType": "object",
         "type": "string"
        },
        {
         "name": "Phone",
         "rawType": "object",
         "type": "string"
        },
        {
         "name": "Fax",
         "rawType": "object",
         "type": "string"
        },
        {
         "name": "Email",
         "rawType": "object",
         "type": "string"
        }
       ],
       "conversionMethod": "pd.DataFrame",
       "ref": "9385b056-f273-40ce-9144-c873a7243ab4",
       "rows": [
        [
         "0",
         "3",
         "Peacock",
         "Jane",
         "Sales Support Agent",
         "2",
         "1973-08-29 00:00:00",
         "2002-04-01 00:00:00",
         "1111 6 Ave SW",
         "Calgary",
         "AB",
         "Canada",
         "T2P 5M5",
         "+1 (403) 262-3443",
         "+1 (403) 262-6712",
         "jane@chinookcorp.com"
        ],
        [
         "1",
         "4",
         "Park",
         "Margaret",
         "Sales Support Agent",
         "2",
         "1947-09-19 00:00:00",
         "2003-05-03 00:00:00",
         "683 10 Street SW",
         "Calgary",
         "AB",
         "Canada",
         "T2P 5G3",
         "+1 (403) 263-4423",
         "+1 (403) 263-4289",
         "margaret@chinookcorp.com"
        ],
        [
         "2",
         "5",
         "Johnson",
         "Steve",
         "Sales Support Agent",
         "2",
         "1965-03-03 00:00:00",
         "2003-10-17 00:00:00",
         "7727B 41 Ave",
         "Calgary",
         "AB",
         "Canada",
         "T3B 1Y7",
         "1 (780) 836-9987",
         "1 (780) 836-9543",
         "steve@chinookcorp.com"
        ]
       ],
       "shape": {
        "columns": 15,
        "rows": 3
       }
      },
      "text/html": [
       "<div>\n",
       "<style scoped>\n",
       "    .dataframe tbody tr th:only-of-type {\n",
       "        vertical-align: middle;\n",
       "    }\n",
       "\n",
       "    .dataframe tbody tr th {\n",
       "        vertical-align: top;\n",
       "    }\n",
       "\n",
       "    .dataframe thead th {\n",
       "        text-align: right;\n",
       "    }\n",
       "</style>\n",
       "<table border=\"1\" class=\"dataframe\">\n",
       "  <thead>\n",
       "    <tr style=\"text-align: right;\">\n",
       "      <th></th>\n",
       "      <th>EmployeeId</th>\n",
       "      <th>LastName</th>\n",
       "      <th>FirstName</th>\n",
       "      <th>Title</th>\n",
       "      <th>ReportsTo</th>\n",
       "      <th>BirthDate</th>\n",
       "      <th>HireDate</th>\n",
       "      <th>Address</th>\n",
       "      <th>City</th>\n",
       "      <th>State</th>\n",
       "      <th>Country</th>\n",
       "      <th>PostalCode</th>\n",
       "      <th>Phone</th>\n",
       "      <th>Fax</th>\n",
       "      <th>Email</th>\n",
       "    </tr>\n",
       "  </thead>\n",
       "  <tbody>\n",
       "    <tr>\n",
       "      <th>0</th>\n",
       "      <td>3</td>\n",
       "      <td>Peacock</td>\n",
       "      <td>Jane</td>\n",
       "      <td>Sales Support Agent</td>\n",
       "      <td>2</td>\n",
       "      <td>1973-08-29 00:00:00</td>\n",
       "      <td>2002-04-01 00:00:00</td>\n",
       "      <td>1111 6 Ave SW</td>\n",
       "      <td>Calgary</td>\n",
       "      <td>AB</td>\n",
       "      <td>Canada</td>\n",
       "      <td>T2P 5M5</td>\n",
       "      <td>+1 (403) 262-3443</td>\n",
       "      <td>+1 (403) 262-6712</td>\n",
       "      <td>jane@chinookcorp.com</td>\n",
       "    </tr>\n",
       "    <tr>\n",
       "      <th>1</th>\n",
       "      <td>4</td>\n",
       "      <td>Park</td>\n",
       "      <td>Margaret</td>\n",
       "      <td>Sales Support Agent</td>\n",
       "      <td>2</td>\n",
       "      <td>1947-09-19 00:00:00</td>\n",
       "      <td>2003-05-03 00:00:00</td>\n",
       "      <td>683 10 Street SW</td>\n",
       "      <td>Calgary</td>\n",
       "      <td>AB</td>\n",
       "      <td>Canada</td>\n",
       "      <td>T2P 5G3</td>\n",
       "      <td>+1 (403) 263-4423</td>\n",
       "      <td>+1 (403) 263-4289</td>\n",
       "      <td>margaret@chinookcorp.com</td>\n",
       "    </tr>\n",
       "    <tr>\n",
       "      <th>2</th>\n",
       "      <td>5</td>\n",
       "      <td>Johnson</td>\n",
       "      <td>Steve</td>\n",
       "      <td>Sales Support Agent</td>\n",
       "      <td>2</td>\n",
       "      <td>1965-03-03 00:00:00</td>\n",
       "      <td>2003-10-17 00:00:00</td>\n",
       "      <td>7727B 41 Ave</td>\n",
       "      <td>Calgary</td>\n",
       "      <td>AB</td>\n",
       "      <td>Canada</td>\n",
       "      <td>T3B 1Y7</td>\n",
       "      <td>1 (780) 836-9987</td>\n",
       "      <td>1 (780) 836-9543</td>\n",
       "      <td>steve@chinookcorp.com</td>\n",
       "    </tr>\n",
       "  </tbody>\n",
       "</table>\n",
       "</div>"
      ],
      "text/plain": [
       "   EmployeeId LastName FirstName                Title  ReportsTo  \\\n",
       "0           3  Peacock      Jane  Sales Support Agent          2   \n",
       "1           4     Park  Margaret  Sales Support Agent          2   \n",
       "2           5  Johnson     Steve  Sales Support Agent          2   \n",
       "\n",
       "             BirthDate             HireDate           Address     City State  \\\n",
       "0  1973-08-29 00:00:00  2002-04-01 00:00:00     1111 6 Ave SW  Calgary    AB   \n",
       "1  1947-09-19 00:00:00  2003-05-03 00:00:00  683 10 Street SW  Calgary    AB   \n",
       "2  1965-03-03 00:00:00  2003-10-17 00:00:00      7727B 41 Ave  Calgary    AB   \n",
       "\n",
       "  Country PostalCode              Phone                Fax  \\\n",
       "0  Canada    T2P 5M5  +1 (403) 262-3443  +1 (403) 262-6712   \n",
       "1  Canada    T2P 5G3  +1 (403) 263-4423  +1 (403) 263-4289   \n",
       "2  Canada    T3B 1Y7   1 (780) 836-9987   1 (780) 836-9543   \n",
       "\n",
       "                      Email  \n",
       "0      jane@chinookcorp.com  \n",
       "1  margaret@chinookcorp.com  \n",
       "2     steve@chinookcorp.com  "
      ]
     },
     "execution_count": 12,
     "metadata": {},
     "output_type": "execute_result"
    }
   ],
   "source": [
    "# 2\n",
    "\n",
    "query = \"\"\"\n",
    "SELECT * FROM EMPLOYEES AS E\n",
    "WHERE E.Title = \"Sales Support Agent\"\n",
    "\"\"\"\n",
    "\n",
    "pd.read_sql_query(query, connection)"
   ]
  },
  {
   "cell_type": "code",
   "execution_count": null,
   "metadata": {},
   "outputs": [
    {
     "data": {
      "application/vnd.microsoft.datawrangler.viewer.v0+json": {
       "columns": [
        {
         "name": "index",
         "rawType": "int64",
         "type": "integer"
        },
        {
         "name": "TrackId",
         "rawType": "int64",
         "type": "integer"
        },
        {
         "name": "Name",
         "rawType": "object",
         "type": "string"
        },
        {
         "name": "AlbumId",
         "rawType": "int64",
         "type": "integer"
        },
        {
         "name": "MediaTypeId",
         "rawType": "int64",
         "type": "integer"
        },
        {
         "name": "GenreId",
         "rawType": "int64",
         "type": "integer"
        },
        {
         "name": "Composer",
         "rawType": "object",
         "type": "string"
        },
        {
         "name": "Milliseconds",
         "rawType": "int64",
         "type": "integer"
        },
        {
         "name": "Bytes",
         "rawType": "int64",
         "type": "integer"
        },
        {
         "name": "UnitPrice",
         "rawType": "float64",
         "type": "float"
        }
       ],
       "conversionMethod": "pd.DataFrame",
       "ref": "6fe8ee55-188c-4278-a2fb-03c4034bfdcb",
       "rows": [
        [
         "0",
         "15",
         "Go Down",
         "4",
         "1",
         "1",
         "AC/DC",
         "331180",
         "10847611",
         "0.99"
        ],
        [
         "1",
         "16",
         "Dog Eat Dog",
         "4",
         "1",
         "1",
         "AC/DC",
         "215196",
         "7032162",
         "0.99"
        ],
        [
         "2",
         "17",
         "Let There Be Rock",
         "4",
         "1",
         "1",
         "AC/DC",
         "366654",
         "12021261",
         "0.99"
        ],
        [
         "3",
         "18",
         "Bad Boy Boogie",
         "4",
         "1",
         "1",
         "AC/DC",
         "267728",
         "8776140",
         "0.99"
        ],
        [
         "4",
         "19",
         "Problem Child",
         "4",
         "1",
         "1",
         "AC/DC",
         "325041",
         "10617116",
         "0.99"
        ],
        [
         "5",
         "20",
         "Overdose",
         "4",
         "1",
         "1",
         "AC/DC",
         "369319",
         "12066294",
         "0.99"
        ],
        [
         "6",
         "21",
         "Hell Ain't A Bad Place To Be",
         "4",
         "1",
         "1",
         "AC/DC",
         "254380",
         "8331286",
         "0.99"
        ],
        [
         "7",
         "22",
         "Whole Lotta Rosie",
         "4",
         "1",
         "1",
         "AC/DC",
         "323761",
         "10547154",
         "0.99"
        ]
       ],
       "shape": {
        "columns": 9,
        "rows": 8
       }
      },
      "text/html": [
       "<div>\n",
       "<style scoped>\n",
       "    .dataframe tbody tr th:only-of-type {\n",
       "        vertical-align: middle;\n",
       "    }\n",
       "\n",
       "    .dataframe tbody tr th {\n",
       "        vertical-align: top;\n",
       "    }\n",
       "\n",
       "    .dataframe thead th {\n",
       "        text-align: right;\n",
       "    }\n",
       "</style>\n",
       "<table border=\"1\" class=\"dataframe\">\n",
       "  <thead>\n",
       "    <tr style=\"text-align: right;\">\n",
       "      <th></th>\n",
       "      <th>TrackId</th>\n",
       "      <th>Name</th>\n",
       "      <th>AlbumId</th>\n",
       "      <th>MediaTypeId</th>\n",
       "      <th>GenreId</th>\n",
       "      <th>Composer</th>\n",
       "      <th>Milliseconds</th>\n",
       "      <th>Bytes</th>\n",
       "      <th>UnitPrice</th>\n",
       "    </tr>\n",
       "  </thead>\n",
       "  <tbody>\n",
       "    <tr>\n",
       "      <th>0</th>\n",
       "      <td>15</td>\n",
       "      <td>Go Down</td>\n",
       "      <td>4</td>\n",
       "      <td>1</td>\n",
       "      <td>1</td>\n",
       "      <td>AC/DC</td>\n",
       "      <td>331180</td>\n",
       "      <td>10847611</td>\n",
       "      <td>0.99</td>\n",
       "    </tr>\n",
       "    <tr>\n",
       "      <th>1</th>\n",
       "      <td>16</td>\n",
       "      <td>Dog Eat Dog</td>\n",
       "      <td>4</td>\n",
       "      <td>1</td>\n",
       "      <td>1</td>\n",
       "      <td>AC/DC</td>\n",
       "      <td>215196</td>\n",
       "      <td>7032162</td>\n",
       "      <td>0.99</td>\n",
       "    </tr>\n",
       "    <tr>\n",
       "      <th>2</th>\n",
       "      <td>17</td>\n",
       "      <td>Let There Be Rock</td>\n",
       "      <td>4</td>\n",
       "      <td>1</td>\n",
       "      <td>1</td>\n",
       "      <td>AC/DC</td>\n",
       "      <td>366654</td>\n",
       "      <td>12021261</td>\n",
       "      <td>0.99</td>\n",
       "    </tr>\n",
       "    <tr>\n",
       "      <th>3</th>\n",
       "      <td>18</td>\n",
       "      <td>Bad Boy Boogie</td>\n",
       "      <td>4</td>\n",
       "      <td>1</td>\n",
       "      <td>1</td>\n",
       "      <td>AC/DC</td>\n",
       "      <td>267728</td>\n",
       "      <td>8776140</td>\n",
       "      <td>0.99</td>\n",
       "    </tr>\n",
       "    <tr>\n",
       "      <th>4</th>\n",
       "      <td>19</td>\n",
       "      <td>Problem Child</td>\n",
       "      <td>4</td>\n",
       "      <td>1</td>\n",
       "      <td>1</td>\n",
       "      <td>AC/DC</td>\n",
       "      <td>325041</td>\n",
       "      <td>10617116</td>\n",
       "      <td>0.99</td>\n",
       "    </tr>\n",
       "    <tr>\n",
       "      <th>5</th>\n",
       "      <td>20</td>\n",
       "      <td>Overdose</td>\n",
       "      <td>4</td>\n",
       "      <td>1</td>\n",
       "      <td>1</td>\n",
       "      <td>AC/DC</td>\n",
       "      <td>369319</td>\n",
       "      <td>12066294</td>\n",
       "      <td>0.99</td>\n",
       "    </tr>\n",
       "    <tr>\n",
       "      <th>6</th>\n",
       "      <td>21</td>\n",
       "      <td>Hell Ain't A Bad Place To Be</td>\n",
       "      <td>4</td>\n",
       "      <td>1</td>\n",
       "      <td>1</td>\n",
       "      <td>AC/DC</td>\n",
       "      <td>254380</td>\n",
       "      <td>8331286</td>\n",
       "      <td>0.99</td>\n",
       "    </tr>\n",
       "    <tr>\n",
       "      <th>7</th>\n",
       "      <td>22</td>\n",
       "      <td>Whole Lotta Rosie</td>\n",
       "      <td>4</td>\n",
       "      <td>1</td>\n",
       "      <td>1</td>\n",
       "      <td>AC/DC</td>\n",
       "      <td>323761</td>\n",
       "      <td>10547154</td>\n",
       "      <td>0.99</td>\n",
       "    </tr>\n",
       "  </tbody>\n",
       "</table>\n",
       "</div>"
      ],
      "text/plain": [
       "   TrackId                          Name  AlbumId  MediaTypeId  GenreId  \\\n",
       "0       15                       Go Down        4            1        1   \n",
       "1       16                   Dog Eat Dog        4            1        1   \n",
       "2       17             Let There Be Rock        4            1        1   \n",
       "3       18                Bad Boy Boogie        4            1        1   \n",
       "4       19                 Problem Child        4            1        1   \n",
       "5       20                      Overdose        4            1        1   \n",
       "6       21  Hell Ain't A Bad Place To Be        4            1        1   \n",
       "7       22             Whole Lotta Rosie        4            1        1   \n",
       "\n",
       "  Composer  Milliseconds     Bytes  UnitPrice  \n",
       "0    AC/DC        331180  10847611       0.99  \n",
       "1    AC/DC        215196   7032162       0.99  \n",
       "2    AC/DC        366654  12021261       0.99  \n",
       "3    AC/DC        267728   8776140       0.99  \n",
       "4    AC/DC        325041  10617116       0.99  \n",
       "5    AC/DC        369319  12066294       0.99  \n",
       "6    AC/DC        254380   8331286       0.99  \n",
       "7    AC/DC        323761  10547154       0.99  "
      ]
     },
     "execution_count": 13,
     "metadata": {},
     "output_type": "execute_result"
    }
   ],
   "source": [
    "# 3\n",
    "\n",
    "query = \"\"\"\n",
    "SELECT * FROM TRACKS AS T\n",
    "WHERE T.Composer = \"AC/DC\"\n",
    "\"\"\"\n",
    "\n",
    "pd.read_sql_query(query, connection)"
   ]
  },
  {
   "cell_type": "code",
   "execution_count": null,
   "metadata": {},
   "outputs": [
    {
     "data": {
      "application/vnd.microsoft.datawrangler.viewer.v0+json": {
       "columns": [
        {
         "name": "index",
         "rawType": "int64",
         "type": "integer"
        },
        {
         "name": "FirstName",
         "rawType": "object",
         "type": "string"
        },
        {
         "name": "LastName",
         "rawType": "object",
         "type": "string"
        },
        {
         "name": "CustomerId",
         "rawType": "int64",
         "type": "integer"
        },
        {
         "name": "Country",
         "rawType": "object",
         "type": "string"
        }
       ],
       "conversionMethod": "pd.DataFrame",
       "ref": "5806f8b9-4d6e-4c33-874a-48d1cebeed27",
       "rows": [
        [
         "0",
         "Luís",
         "Gonçalves",
         "1",
         "Brazil"
        ],
        [
         "1",
         "Leonie",
         "Köhler",
         "2",
         "Germany"
        ],
        [
         "2",
         "François",
         "Tremblay",
         "3",
         "Canada"
        ],
        [
         "3",
         "Bjørn",
         "Hansen",
         "4",
         "Norway"
        ],
        [
         "4",
         "František",
         "Wichterlová",
         "5",
         "Czech Republic"
        ],
        [
         "5",
         "Helena",
         "Holý",
         "6",
         "Czech Republic"
        ],
        [
         "6",
         "Astrid",
         "Gruber",
         "7",
         "Austria"
        ],
        [
         "7",
         "Daan",
         "Peeters",
         "8",
         "Belgium"
        ],
        [
         "8",
         "Kara",
         "Nielsen",
         "9",
         "Denmark"
        ],
        [
         "9",
         "Eduardo",
         "Martins",
         "10",
         "Brazil"
        ],
        [
         "10",
         "Alexandre",
         "Rocha",
         "11",
         "Brazil"
        ],
        [
         "11",
         "Roberto",
         "Almeida",
         "12",
         "Brazil"
        ],
        [
         "12",
         "Fernanda",
         "Ramos",
         "13",
         "Brazil"
        ],
        [
         "13",
         "Mark",
         "Philips",
         "14",
         "Canada"
        ],
        [
         "14",
         "Jennifer",
         "Peterson",
         "15",
         "Canada"
        ],
        [
         "15",
         "Robert",
         "Brown",
         "29",
         "Canada"
        ],
        [
         "16",
         "Edward",
         "Francis",
         "30",
         "Canada"
        ],
        [
         "17",
         "Martha",
         "Silk",
         "31",
         "Canada"
        ],
        [
         "18",
         "Aaron",
         "Mitchell",
         "32",
         "Canada"
        ],
        [
         "19",
         "Ellie",
         "Sullivan",
         "33",
         "Canada"
        ],
        [
         "20",
         "João",
         "Fernandes",
         "34",
         "Portugal"
        ],
        [
         "21",
         "Madalena",
         "Sampaio",
         "35",
         "Portugal"
        ],
        [
         "22",
         "Hannah",
         "Schneider",
         "36",
         "Germany"
        ],
        [
         "23",
         "Fynn",
         "Zimmermann",
         "37",
         "Germany"
        ],
        [
         "24",
         "Niklas",
         "Schröder",
         "38",
         "Germany"
        ],
        [
         "25",
         "Camille",
         "Bernard",
         "39",
         "France"
        ],
        [
         "26",
         "Dominique",
         "Lefebvre",
         "40",
         "France"
        ],
        [
         "27",
         "Marc",
         "Dubois",
         "41",
         "France"
        ],
        [
         "28",
         "Wyatt",
         "Girard",
         "42",
         "France"
        ],
        [
         "29",
         "Isabelle",
         "Mercier",
         "43",
         "France"
        ],
        [
         "30",
         "Terhi",
         "Hämäläinen",
         "44",
         "Finland"
        ],
        [
         "31",
         "Ladislav",
         "Kovács",
         "45",
         "Hungary"
        ],
        [
         "32",
         "Hugh",
         "O'Reilly",
         "46",
         "Ireland"
        ],
        [
         "33",
         "Lucas",
         "Mancini",
         "47",
         "Italy"
        ],
        [
         "34",
         "Johannes",
         "Van der Berg",
         "48",
         "Netherlands"
        ],
        [
         "35",
         "Stanisław",
         "Wójcik",
         "49",
         "Poland"
        ],
        [
         "36",
         "Enrique",
         "Muñoz",
         "50",
         "Spain"
        ],
        [
         "37",
         "Joakim",
         "Johansson",
         "51",
         "Sweden"
        ],
        [
         "38",
         "Emma",
         "Jones",
         "52",
         "United Kingdom"
        ],
        [
         "39",
         "Phil",
         "Hughes",
         "53",
         "United Kingdom"
        ],
        [
         "40",
         "Steve",
         "Murray",
         "54",
         "United Kingdom"
        ],
        [
         "41",
         "Mark",
         "Taylor",
         "55",
         "Australia"
        ],
        [
         "42",
         "Diego",
         "Gutiérrez",
         "56",
         "Argentina"
        ],
        [
         "43",
         "Luis",
         "Rojas",
         "57",
         "Chile"
        ],
        [
         "44",
         "Manoj",
         "Pareek",
         "58",
         "India"
        ],
        [
         "45",
         "Puja",
         "Srivastava",
         "59",
         "India"
        ]
       ],
       "shape": {
        "columns": 4,
        "rows": 46
       }
      },
      "text/html": [
       "<div>\n",
       "<style scoped>\n",
       "    .dataframe tbody tr th:only-of-type {\n",
       "        vertical-align: middle;\n",
       "    }\n",
       "\n",
       "    .dataframe tbody tr th {\n",
       "        vertical-align: top;\n",
       "    }\n",
       "\n",
       "    .dataframe thead th {\n",
       "        text-align: right;\n",
       "    }\n",
       "</style>\n",
       "<table border=\"1\" class=\"dataframe\">\n",
       "  <thead>\n",
       "    <tr style=\"text-align: right;\">\n",
       "      <th></th>\n",
       "      <th>FirstName</th>\n",
       "      <th>LastName</th>\n",
       "      <th>CustomerId</th>\n",
       "      <th>Country</th>\n",
       "    </tr>\n",
       "  </thead>\n",
       "  <tbody>\n",
       "    <tr>\n",
       "      <th>0</th>\n",
       "      <td>Luís</td>\n",
       "      <td>Gonçalves</td>\n",
       "      <td>1</td>\n",
       "      <td>Brazil</td>\n",
       "    </tr>\n",
       "    <tr>\n",
       "      <th>1</th>\n",
       "      <td>Leonie</td>\n",
       "      <td>Köhler</td>\n",
       "      <td>2</td>\n",
       "      <td>Germany</td>\n",
       "    </tr>\n",
       "    <tr>\n",
       "      <th>2</th>\n",
       "      <td>François</td>\n",
       "      <td>Tremblay</td>\n",
       "      <td>3</td>\n",
       "      <td>Canada</td>\n",
       "    </tr>\n",
       "    <tr>\n",
       "      <th>3</th>\n",
       "      <td>Bjørn</td>\n",
       "      <td>Hansen</td>\n",
       "      <td>4</td>\n",
       "      <td>Norway</td>\n",
       "    </tr>\n",
       "    <tr>\n",
       "      <th>4</th>\n",
       "      <td>František</td>\n",
       "      <td>Wichterlová</td>\n",
       "      <td>5</td>\n",
       "      <td>Czech Republic</td>\n",
       "    </tr>\n",
       "    <tr>\n",
       "      <th>5</th>\n",
       "      <td>Helena</td>\n",
       "      <td>Holý</td>\n",
       "      <td>6</td>\n",
       "      <td>Czech Republic</td>\n",
       "    </tr>\n",
       "    <tr>\n",
       "      <th>6</th>\n",
       "      <td>Astrid</td>\n",
       "      <td>Gruber</td>\n",
       "      <td>7</td>\n",
       "      <td>Austria</td>\n",
       "    </tr>\n",
       "    <tr>\n",
       "      <th>7</th>\n",
       "      <td>Daan</td>\n",
       "      <td>Peeters</td>\n",
       "      <td>8</td>\n",
       "      <td>Belgium</td>\n",
       "    </tr>\n",
       "    <tr>\n",
       "      <th>8</th>\n",
       "      <td>Kara</td>\n",
       "      <td>Nielsen</td>\n",
       "      <td>9</td>\n",
       "      <td>Denmark</td>\n",
       "    </tr>\n",
       "    <tr>\n",
       "      <th>9</th>\n",
       "      <td>Eduardo</td>\n",
       "      <td>Martins</td>\n",
       "      <td>10</td>\n",
       "      <td>Brazil</td>\n",
       "    </tr>\n",
       "    <tr>\n",
       "      <th>10</th>\n",
       "      <td>Alexandre</td>\n",
       "      <td>Rocha</td>\n",
       "      <td>11</td>\n",
       "      <td>Brazil</td>\n",
       "    </tr>\n",
       "    <tr>\n",
       "      <th>11</th>\n",
       "      <td>Roberto</td>\n",
       "      <td>Almeida</td>\n",
       "      <td>12</td>\n",
       "      <td>Brazil</td>\n",
       "    </tr>\n",
       "    <tr>\n",
       "      <th>12</th>\n",
       "      <td>Fernanda</td>\n",
       "      <td>Ramos</td>\n",
       "      <td>13</td>\n",
       "      <td>Brazil</td>\n",
       "    </tr>\n",
       "    <tr>\n",
       "      <th>13</th>\n",
       "      <td>Mark</td>\n",
       "      <td>Philips</td>\n",
       "      <td>14</td>\n",
       "      <td>Canada</td>\n",
       "    </tr>\n",
       "    <tr>\n",
       "      <th>14</th>\n",
       "      <td>Jennifer</td>\n",
       "      <td>Peterson</td>\n",
       "      <td>15</td>\n",
       "      <td>Canada</td>\n",
       "    </tr>\n",
       "    <tr>\n",
       "      <th>15</th>\n",
       "      <td>Robert</td>\n",
       "      <td>Brown</td>\n",
       "      <td>29</td>\n",
       "      <td>Canada</td>\n",
       "    </tr>\n",
       "    <tr>\n",
       "      <th>16</th>\n",
       "      <td>Edward</td>\n",
       "      <td>Francis</td>\n",
       "      <td>30</td>\n",
       "      <td>Canada</td>\n",
       "    </tr>\n",
       "    <tr>\n",
       "      <th>17</th>\n",
       "      <td>Martha</td>\n",
       "      <td>Silk</td>\n",
       "      <td>31</td>\n",
       "      <td>Canada</td>\n",
       "    </tr>\n",
       "    <tr>\n",
       "      <th>18</th>\n",
       "      <td>Aaron</td>\n",
       "      <td>Mitchell</td>\n",
       "      <td>32</td>\n",
       "      <td>Canada</td>\n",
       "    </tr>\n",
       "    <tr>\n",
       "      <th>19</th>\n",
       "      <td>Ellie</td>\n",
       "      <td>Sullivan</td>\n",
       "      <td>33</td>\n",
       "      <td>Canada</td>\n",
       "    </tr>\n",
       "    <tr>\n",
       "      <th>20</th>\n",
       "      <td>João</td>\n",
       "      <td>Fernandes</td>\n",
       "      <td>34</td>\n",
       "      <td>Portugal</td>\n",
       "    </tr>\n",
       "    <tr>\n",
       "      <th>21</th>\n",
       "      <td>Madalena</td>\n",
       "      <td>Sampaio</td>\n",
       "      <td>35</td>\n",
       "      <td>Portugal</td>\n",
       "    </tr>\n",
       "    <tr>\n",
       "      <th>22</th>\n",
       "      <td>Hannah</td>\n",
       "      <td>Schneider</td>\n",
       "      <td>36</td>\n",
       "      <td>Germany</td>\n",
       "    </tr>\n",
       "    <tr>\n",
       "      <th>23</th>\n",
       "      <td>Fynn</td>\n",
       "      <td>Zimmermann</td>\n",
       "      <td>37</td>\n",
       "      <td>Germany</td>\n",
       "    </tr>\n",
       "    <tr>\n",
       "      <th>24</th>\n",
       "      <td>Niklas</td>\n",
       "      <td>Schröder</td>\n",
       "      <td>38</td>\n",
       "      <td>Germany</td>\n",
       "    </tr>\n",
       "    <tr>\n",
       "      <th>25</th>\n",
       "      <td>Camille</td>\n",
       "      <td>Bernard</td>\n",
       "      <td>39</td>\n",
       "      <td>France</td>\n",
       "    </tr>\n",
       "    <tr>\n",
       "      <th>26</th>\n",
       "      <td>Dominique</td>\n",
       "      <td>Lefebvre</td>\n",
       "      <td>40</td>\n",
       "      <td>France</td>\n",
       "    </tr>\n",
       "    <tr>\n",
       "      <th>27</th>\n",
       "      <td>Marc</td>\n",
       "      <td>Dubois</td>\n",
       "      <td>41</td>\n",
       "      <td>France</td>\n",
       "    </tr>\n",
       "    <tr>\n",
       "      <th>28</th>\n",
       "      <td>Wyatt</td>\n",
       "      <td>Girard</td>\n",
       "      <td>42</td>\n",
       "      <td>France</td>\n",
       "    </tr>\n",
       "    <tr>\n",
       "      <th>29</th>\n",
       "      <td>Isabelle</td>\n",
       "      <td>Mercier</td>\n",
       "      <td>43</td>\n",
       "      <td>France</td>\n",
       "    </tr>\n",
       "    <tr>\n",
       "      <th>30</th>\n",
       "      <td>Terhi</td>\n",
       "      <td>Hämäläinen</td>\n",
       "      <td>44</td>\n",
       "      <td>Finland</td>\n",
       "    </tr>\n",
       "    <tr>\n",
       "      <th>31</th>\n",
       "      <td>Ladislav</td>\n",
       "      <td>Kovács</td>\n",
       "      <td>45</td>\n",
       "      <td>Hungary</td>\n",
       "    </tr>\n",
       "    <tr>\n",
       "      <th>32</th>\n",
       "      <td>Hugh</td>\n",
       "      <td>O'Reilly</td>\n",
       "      <td>46</td>\n",
       "      <td>Ireland</td>\n",
       "    </tr>\n",
       "    <tr>\n",
       "      <th>33</th>\n",
       "      <td>Lucas</td>\n",
       "      <td>Mancini</td>\n",
       "      <td>47</td>\n",
       "      <td>Italy</td>\n",
       "    </tr>\n",
       "    <tr>\n",
       "      <th>34</th>\n",
       "      <td>Johannes</td>\n",
       "      <td>Van der Berg</td>\n",
       "      <td>48</td>\n",
       "      <td>Netherlands</td>\n",
       "    </tr>\n",
       "    <tr>\n",
       "      <th>35</th>\n",
       "      <td>Stanisław</td>\n",
       "      <td>Wójcik</td>\n",
       "      <td>49</td>\n",
       "      <td>Poland</td>\n",
       "    </tr>\n",
       "    <tr>\n",
       "      <th>36</th>\n",
       "      <td>Enrique</td>\n",
       "      <td>Muñoz</td>\n",
       "      <td>50</td>\n",
       "      <td>Spain</td>\n",
       "    </tr>\n",
       "    <tr>\n",
       "      <th>37</th>\n",
       "      <td>Joakim</td>\n",
       "      <td>Johansson</td>\n",
       "      <td>51</td>\n",
       "      <td>Sweden</td>\n",
       "    </tr>\n",
       "    <tr>\n",
       "      <th>38</th>\n",
       "      <td>Emma</td>\n",
       "      <td>Jones</td>\n",
       "      <td>52</td>\n",
       "      <td>United Kingdom</td>\n",
       "    </tr>\n",
       "    <tr>\n",
       "      <th>39</th>\n",
       "      <td>Phil</td>\n",
       "      <td>Hughes</td>\n",
       "      <td>53</td>\n",
       "      <td>United Kingdom</td>\n",
       "    </tr>\n",
       "    <tr>\n",
       "      <th>40</th>\n",
       "      <td>Steve</td>\n",
       "      <td>Murray</td>\n",
       "      <td>54</td>\n",
       "      <td>United Kingdom</td>\n",
       "    </tr>\n",
       "    <tr>\n",
       "      <th>41</th>\n",
       "      <td>Mark</td>\n",
       "      <td>Taylor</td>\n",
       "      <td>55</td>\n",
       "      <td>Australia</td>\n",
       "    </tr>\n",
       "    <tr>\n",
       "      <th>42</th>\n",
       "      <td>Diego</td>\n",
       "      <td>Gutiérrez</td>\n",
       "      <td>56</td>\n",
       "      <td>Argentina</td>\n",
       "    </tr>\n",
       "    <tr>\n",
       "      <th>43</th>\n",
       "      <td>Luis</td>\n",
       "      <td>Rojas</td>\n",
       "      <td>57</td>\n",
       "      <td>Chile</td>\n",
       "    </tr>\n",
       "    <tr>\n",
       "      <th>44</th>\n",
       "      <td>Manoj</td>\n",
       "      <td>Pareek</td>\n",
       "      <td>58</td>\n",
       "      <td>India</td>\n",
       "    </tr>\n",
       "    <tr>\n",
       "      <th>45</th>\n",
       "      <td>Puja</td>\n",
       "      <td>Srivastava</td>\n",
       "      <td>59</td>\n",
       "      <td>India</td>\n",
       "    </tr>\n",
       "  </tbody>\n",
       "</table>\n",
       "</div>"
      ],
      "text/plain": [
       "    FirstName      LastName  CustomerId         Country\n",
       "0        Luís     Gonçalves           1          Brazil\n",
       "1      Leonie        Köhler           2         Germany\n",
       "2    François      Tremblay           3          Canada\n",
       "3       Bjørn        Hansen           4          Norway\n",
       "4   František   Wichterlová           5  Czech Republic\n",
       "5      Helena          Holý           6  Czech Republic\n",
       "6      Astrid        Gruber           7         Austria\n",
       "7        Daan       Peeters           8         Belgium\n",
       "8        Kara       Nielsen           9         Denmark\n",
       "9     Eduardo       Martins          10          Brazil\n",
       "10  Alexandre         Rocha          11          Brazil\n",
       "11    Roberto       Almeida          12          Brazil\n",
       "12   Fernanda         Ramos          13          Brazil\n",
       "13       Mark       Philips          14          Canada\n",
       "14   Jennifer      Peterson          15          Canada\n",
       "15     Robert         Brown          29          Canada\n",
       "16     Edward       Francis          30          Canada\n",
       "17     Martha          Silk          31          Canada\n",
       "18      Aaron      Mitchell          32          Canada\n",
       "19      Ellie      Sullivan          33          Canada\n",
       "20       João     Fernandes          34        Portugal\n",
       "21   Madalena       Sampaio          35        Portugal\n",
       "22     Hannah     Schneider          36         Germany\n",
       "23       Fynn    Zimmermann          37         Germany\n",
       "24     Niklas      Schröder          38         Germany\n",
       "25    Camille       Bernard          39          France\n",
       "26  Dominique      Lefebvre          40          France\n",
       "27       Marc        Dubois          41          France\n",
       "28      Wyatt        Girard          42          France\n",
       "29   Isabelle       Mercier          43          France\n",
       "30      Terhi    Hämäläinen          44         Finland\n",
       "31   Ladislav        Kovács          45         Hungary\n",
       "32       Hugh      O'Reilly          46         Ireland\n",
       "33      Lucas       Mancini          47           Italy\n",
       "34   Johannes  Van der Berg          48     Netherlands\n",
       "35  Stanisław        Wójcik          49          Poland\n",
       "36    Enrique         Muñoz          50           Spain\n",
       "37     Joakim     Johansson          51          Sweden\n",
       "38       Emma         Jones          52  United Kingdom\n",
       "39       Phil        Hughes          53  United Kingdom\n",
       "40      Steve        Murray          54  United Kingdom\n",
       "41       Mark        Taylor          55       Australia\n",
       "42      Diego     Gutiérrez          56       Argentina\n",
       "43       Luis         Rojas          57           Chile\n",
       "44      Manoj        Pareek          58           India\n",
       "45       Puja    Srivastava          59           India"
      ]
     },
     "execution_count": 14,
     "metadata": {},
     "output_type": "execute_result"
    }
   ],
   "source": [
    "# 4\n",
    "\n",
    "query = \"\"\"\n",
    "SELECT C.FirstName, C.LastName, C.CustomerId, C.Country FROM CUSTOMERS AS C\n",
    "WHERE C.Country != \"USA\"\n",
    "\"\"\"\n",
    "\n",
    "pd.read_sql_query(query, connection)"
   ]
  },
  {
   "cell_type": "code",
   "execution_count": null,
   "metadata": {},
   "outputs": [
    {
     "data": {
      "application/vnd.microsoft.datawrangler.viewer.v0+json": {
       "columns": [
        {
         "name": "index",
         "rawType": "int64",
         "type": "integer"
        },
        {
         "name": "FirstName",
         "rawType": "object",
         "type": "string"
        },
        {
         "name": "LastName",
         "rawType": "object",
         "type": "string"
        },
        {
         "name": "Address",
         "rawType": "object",
         "type": "string"
        },
        {
         "name": "Email",
         "rawType": "object",
         "type": "string"
        }
       ],
       "conversionMethod": "pd.DataFrame",
       "ref": "64dd37e4-ed94-4924-9a9c-272ba6f5dab4",
       "rows": [
        [
         "0",
         "Jane",
         "Peacock",
         "1111 6 Ave SW",
         "jane@chinookcorp.com"
        ],
        [
         "1",
         "Margaret",
         "Park",
         "683 10 Street SW",
         "margaret@chinookcorp.com"
        ],
        [
         "2",
         "Steve",
         "Johnson",
         "7727B 41 Ave",
         "steve@chinookcorp.com"
        ]
       ],
       "shape": {
        "columns": 4,
        "rows": 3
       }
      },
      "text/html": [
       "<div>\n",
       "<style scoped>\n",
       "    .dataframe tbody tr th:only-of-type {\n",
       "        vertical-align: middle;\n",
       "    }\n",
       "\n",
       "    .dataframe tbody tr th {\n",
       "        vertical-align: top;\n",
       "    }\n",
       "\n",
       "    .dataframe thead th {\n",
       "        text-align: right;\n",
       "    }\n",
       "</style>\n",
       "<table border=\"1\" class=\"dataframe\">\n",
       "  <thead>\n",
       "    <tr style=\"text-align: right;\">\n",
       "      <th></th>\n",
       "      <th>FirstName</th>\n",
       "      <th>LastName</th>\n",
       "      <th>Address</th>\n",
       "      <th>Email</th>\n",
       "    </tr>\n",
       "  </thead>\n",
       "  <tbody>\n",
       "    <tr>\n",
       "      <th>0</th>\n",
       "      <td>Jane</td>\n",
       "      <td>Peacock</td>\n",
       "      <td>1111 6 Ave SW</td>\n",
       "      <td>jane@chinookcorp.com</td>\n",
       "    </tr>\n",
       "    <tr>\n",
       "      <th>1</th>\n",
       "      <td>Margaret</td>\n",
       "      <td>Park</td>\n",
       "      <td>683 10 Street SW</td>\n",
       "      <td>margaret@chinookcorp.com</td>\n",
       "    </tr>\n",
       "    <tr>\n",
       "      <th>2</th>\n",
       "      <td>Steve</td>\n",
       "      <td>Johnson</td>\n",
       "      <td>7727B 41 Ave</td>\n",
       "      <td>steve@chinookcorp.com</td>\n",
       "    </tr>\n",
       "  </tbody>\n",
       "</table>\n",
       "</div>"
      ],
      "text/plain": [
       "  FirstName LastName           Address                     Email\n",
       "0      Jane  Peacock     1111 6 Ave SW      jane@chinookcorp.com\n",
       "1  Margaret     Park  683 10 Street SW  margaret@chinookcorp.com\n",
       "2     Steve  Johnson      7727B 41 Ave     steve@chinookcorp.com"
      ]
     },
     "execution_count": 15,
     "metadata": {},
     "output_type": "execute_result"
    }
   ],
   "source": [
    "# 5\n",
    "\n",
    "query = \"\"\"\n",
    "SELECT E.FirstName, E.LastName, E.Address, E.Email FROM EMPLOYEES AS E\n",
    "WHERE E.Title == \"Sales Support Agent\"\n",
    "\"\"\"\n",
    "\n",
    "pd.read_sql_query(query, connection)"
   ]
  },
  {
   "cell_type": "code",
   "execution_count": null,
   "metadata": {},
   "outputs": [
    {
     "data": {
      "application/vnd.microsoft.datawrangler.viewer.v0+json": {
       "columns": [
        {
         "name": "index",
         "rawType": "int64",
         "type": "integer"
        },
        {
         "name": "BillingCountry",
         "rawType": "object",
         "type": "string"
        }
       ],
       "conversionMethod": "pd.DataFrame",
       "ref": "9812eb58-a4f4-46af-89a8-93e715f1c804",
       "rows": [
        [
         "0",
         "Argentina"
        ],
        [
         "1",
         "Australia"
        ],
        [
         "2",
         "Austria"
        ],
        [
         "3",
         "Belgium"
        ],
        [
         "4",
         "Brazil"
        ],
        [
         "5",
         "Canada"
        ],
        [
         "6",
         "Chile"
        ],
        [
         "7",
         "Czech Republic"
        ],
        [
         "8",
         "Denmark"
        ],
        [
         "9",
         "Finland"
        ],
        [
         "10",
         "France"
        ],
        [
         "11",
         "Germany"
        ],
        [
         "12",
         "Hungary"
        ],
        [
         "13",
         "India"
        ],
        [
         "14",
         "Ireland"
        ],
        [
         "15",
         "Italy"
        ],
        [
         "16",
         "Netherlands"
        ],
        [
         "17",
         "Norway"
        ],
        [
         "18",
         "Poland"
        ],
        [
         "19",
         "Portugal"
        ],
        [
         "20",
         "Spain"
        ],
        [
         "21",
         "Sweden"
        ],
        [
         "22",
         "USA"
        ],
        [
         "23",
         "United Kingdom"
        ]
       ],
       "shape": {
        "columns": 1,
        "rows": 24
       }
      },
      "text/html": [
       "<div>\n",
       "<style scoped>\n",
       "    .dataframe tbody tr th:only-of-type {\n",
       "        vertical-align: middle;\n",
       "    }\n",
       "\n",
       "    .dataframe tbody tr th {\n",
       "        vertical-align: top;\n",
       "    }\n",
       "\n",
       "    .dataframe thead th {\n",
       "        text-align: right;\n",
       "    }\n",
       "</style>\n",
       "<table border=\"1\" class=\"dataframe\">\n",
       "  <thead>\n",
       "    <tr style=\"text-align: right;\">\n",
       "      <th></th>\n",
       "      <th>BillingCountry</th>\n",
       "    </tr>\n",
       "  </thead>\n",
       "  <tbody>\n",
       "    <tr>\n",
       "      <th>0</th>\n",
       "      <td>Argentina</td>\n",
       "    </tr>\n",
       "    <tr>\n",
       "      <th>1</th>\n",
       "      <td>Australia</td>\n",
       "    </tr>\n",
       "    <tr>\n",
       "      <th>2</th>\n",
       "      <td>Austria</td>\n",
       "    </tr>\n",
       "    <tr>\n",
       "      <th>3</th>\n",
       "      <td>Belgium</td>\n",
       "    </tr>\n",
       "    <tr>\n",
       "      <th>4</th>\n",
       "      <td>Brazil</td>\n",
       "    </tr>\n",
       "    <tr>\n",
       "      <th>5</th>\n",
       "      <td>Canada</td>\n",
       "    </tr>\n",
       "    <tr>\n",
       "      <th>6</th>\n",
       "      <td>Chile</td>\n",
       "    </tr>\n",
       "    <tr>\n",
       "      <th>7</th>\n",
       "      <td>Czech Republic</td>\n",
       "    </tr>\n",
       "    <tr>\n",
       "      <th>8</th>\n",
       "      <td>Denmark</td>\n",
       "    </tr>\n",
       "    <tr>\n",
       "      <th>9</th>\n",
       "      <td>Finland</td>\n",
       "    </tr>\n",
       "    <tr>\n",
       "      <th>10</th>\n",
       "      <td>France</td>\n",
       "    </tr>\n",
       "    <tr>\n",
       "      <th>11</th>\n",
       "      <td>Germany</td>\n",
       "    </tr>\n",
       "    <tr>\n",
       "      <th>12</th>\n",
       "      <td>Hungary</td>\n",
       "    </tr>\n",
       "    <tr>\n",
       "      <th>13</th>\n",
       "      <td>India</td>\n",
       "    </tr>\n",
       "    <tr>\n",
       "      <th>14</th>\n",
       "      <td>Ireland</td>\n",
       "    </tr>\n",
       "    <tr>\n",
       "      <th>15</th>\n",
       "      <td>Italy</td>\n",
       "    </tr>\n",
       "    <tr>\n",
       "      <th>16</th>\n",
       "      <td>Netherlands</td>\n",
       "    </tr>\n",
       "    <tr>\n",
       "      <th>17</th>\n",
       "      <td>Norway</td>\n",
       "    </tr>\n",
       "    <tr>\n",
       "      <th>18</th>\n",
       "      <td>Poland</td>\n",
       "    </tr>\n",
       "    <tr>\n",
       "      <th>19</th>\n",
       "      <td>Portugal</td>\n",
       "    </tr>\n",
       "    <tr>\n",
       "      <th>20</th>\n",
       "      <td>Spain</td>\n",
       "    </tr>\n",
       "    <tr>\n",
       "      <th>21</th>\n",
       "      <td>Sweden</td>\n",
       "    </tr>\n",
       "    <tr>\n",
       "      <th>22</th>\n",
       "      <td>USA</td>\n",
       "    </tr>\n",
       "    <tr>\n",
       "      <th>23</th>\n",
       "      <td>United Kingdom</td>\n",
       "    </tr>\n",
       "  </tbody>\n",
       "</table>\n",
       "</div>"
      ],
      "text/plain": [
       "    BillingCountry\n",
       "0        Argentina\n",
       "1        Australia\n",
       "2          Austria\n",
       "3          Belgium\n",
       "4           Brazil\n",
       "5           Canada\n",
       "6            Chile\n",
       "7   Czech Republic\n",
       "8          Denmark\n",
       "9          Finland\n",
       "10          France\n",
       "11         Germany\n",
       "12         Hungary\n",
       "13           India\n",
       "14         Ireland\n",
       "15           Italy\n",
       "16     Netherlands\n",
       "17          Norway\n",
       "18          Poland\n",
       "19        Portugal\n",
       "20           Spain\n",
       "21          Sweden\n",
       "22             USA\n",
       "23  United Kingdom"
      ]
     },
     "execution_count": 16,
     "metadata": {},
     "output_type": "execute_result"
    }
   ],
   "source": [
    "# 6\n",
    "\n",
    "query = \"\"\"\n",
    "SELECT I.BillingCountry FROM INVOICES AS I\n",
    "GROUP BY I.BillingCountry\n",
    "\"\"\"\n",
    "\n",
    "pd.read_sql_query(query, connection)"
   ]
  },
  {
   "cell_type": "code",
   "execution_count": null,
   "metadata": {},
   "outputs": [
    {
     "data": {
      "application/vnd.microsoft.datawrangler.viewer.v0+json": {
       "columns": [
        {
         "name": "index",
         "rawType": "int64",
         "type": "integer"
        },
        {
         "name": "State",
         "rawType": "object",
         "type": "string"
        },
        {
         "name": "COUNT(C.State)",
         "rawType": "int64",
         "type": "integer"
        }
       ],
       "conversionMethod": "pd.DataFrame",
       "ref": "a8475ad0-a92d-4a7e-ae58-15ebcb3d6db9",
       "rows": [
        [
         "0",
         "AZ",
         "1"
        ],
        [
         "1",
         "CA",
         "3"
        ],
        [
         "2",
         "FL",
         "1"
        ],
        [
         "3",
         "IL",
         "1"
        ],
        [
         "4",
         "MA",
         "1"
        ],
        [
         "5",
         "NV",
         "1"
        ],
        [
         "6",
         "NY",
         "1"
        ],
        [
         "7",
         "TX",
         "1"
        ],
        [
         "8",
         "UT",
         "1"
        ],
        [
         "9",
         "WA",
         "1"
        ],
        [
         "10",
         "WI",
         "1"
        ]
       ],
       "shape": {
        "columns": 2,
        "rows": 11
       }
      },
      "text/html": [
       "<div>\n",
       "<style scoped>\n",
       "    .dataframe tbody tr th:only-of-type {\n",
       "        vertical-align: middle;\n",
       "    }\n",
       "\n",
       "    .dataframe tbody tr th {\n",
       "        vertical-align: top;\n",
       "    }\n",
       "\n",
       "    .dataframe thead th {\n",
       "        text-align: right;\n",
       "    }\n",
       "</style>\n",
       "<table border=\"1\" class=\"dataframe\">\n",
       "  <thead>\n",
       "    <tr style=\"text-align: right;\">\n",
       "      <th></th>\n",
       "      <th>State</th>\n",
       "      <th>COUNT(C.State)</th>\n",
       "    </tr>\n",
       "  </thead>\n",
       "  <tbody>\n",
       "    <tr>\n",
       "      <th>0</th>\n",
       "      <td>AZ</td>\n",
       "      <td>1</td>\n",
       "    </tr>\n",
       "    <tr>\n",
       "      <th>1</th>\n",
       "      <td>CA</td>\n",
       "      <td>3</td>\n",
       "    </tr>\n",
       "    <tr>\n",
       "      <th>2</th>\n",
       "      <td>FL</td>\n",
       "      <td>1</td>\n",
       "    </tr>\n",
       "    <tr>\n",
       "      <th>3</th>\n",
       "      <td>IL</td>\n",
       "      <td>1</td>\n",
       "    </tr>\n",
       "    <tr>\n",
       "      <th>4</th>\n",
       "      <td>MA</td>\n",
       "      <td>1</td>\n",
       "    </tr>\n",
       "    <tr>\n",
       "      <th>5</th>\n",
       "      <td>NV</td>\n",
       "      <td>1</td>\n",
       "    </tr>\n",
       "    <tr>\n",
       "      <th>6</th>\n",
       "      <td>NY</td>\n",
       "      <td>1</td>\n",
       "    </tr>\n",
       "    <tr>\n",
       "      <th>7</th>\n",
       "      <td>TX</td>\n",
       "      <td>1</td>\n",
       "    </tr>\n",
       "    <tr>\n",
       "      <th>8</th>\n",
       "      <td>UT</td>\n",
       "      <td>1</td>\n",
       "    </tr>\n",
       "    <tr>\n",
       "      <th>9</th>\n",
       "      <td>WA</td>\n",
       "      <td>1</td>\n",
       "    </tr>\n",
       "    <tr>\n",
       "      <th>10</th>\n",
       "      <td>WI</td>\n",
       "      <td>1</td>\n",
       "    </tr>\n",
       "  </tbody>\n",
       "</table>\n",
       "</div>"
      ],
      "text/plain": [
       "   State  COUNT(C.State)\n",
       "0     AZ               1\n",
       "1     CA               3\n",
       "2     FL               1\n",
       "3     IL               1\n",
       "4     MA               1\n",
       "5     NV               1\n",
       "6     NY               1\n",
       "7     TX               1\n",
       "8     UT               1\n",
       "9     WA               1\n",
       "10    WI               1"
      ]
     },
     "execution_count": 17,
     "metadata": {},
     "output_type": "execute_result"
    }
   ],
   "source": [
    "# 7\n",
    "\n",
    "query = \"\"\"\n",
    "SELECT C.State, COUNT(C.State) FROM CUSTOMERS AS C\n",
    "WHERE C.Country = \"USA\"\n",
    "GROUP BY C.State\n",
    "\"\"\"\n",
    "\n",
    "pd.read_sql_query(query, connection)"
   ]
  },
  {
   "cell_type": "code",
   "execution_count": null,
   "metadata": {},
   "outputs": [
    {
     "data": {
      "application/vnd.microsoft.datawrangler.viewer.v0+json": {
       "columns": [
        {
         "name": "index",
         "rawType": "int64",
         "type": "integer"
        },
        {
         "name": "InvoiceId",
         "rawType": "int64",
         "type": "integer"
        },
        {
         "name": "COUNT(II.InvoiceId)",
         "rawType": "int64",
         "type": "integer"
        }
       ],
       "conversionMethod": "pd.DataFrame",
       "ref": "4f44a648-1781-41bc-ac38-6580ee558a99",
       "rows": [
        [
         "0",
         "37",
         "4"
        ]
       ],
       "shape": {
        "columns": 2,
        "rows": 1
       }
      },
      "text/html": [
       "<div>\n",
       "<style scoped>\n",
       "    .dataframe tbody tr th:only-of-type {\n",
       "        vertical-align: middle;\n",
       "    }\n",
       "\n",
       "    .dataframe tbody tr th {\n",
       "        vertical-align: top;\n",
       "    }\n",
       "\n",
       "    .dataframe thead th {\n",
       "        text-align: right;\n",
       "    }\n",
       "</style>\n",
       "<table border=\"1\" class=\"dataframe\">\n",
       "  <thead>\n",
       "    <tr style=\"text-align: right;\">\n",
       "      <th></th>\n",
       "      <th>InvoiceId</th>\n",
       "      <th>COUNT(II.InvoiceId)</th>\n",
       "    </tr>\n",
       "  </thead>\n",
       "  <tbody>\n",
       "    <tr>\n",
       "      <th>0</th>\n",
       "      <td>37</td>\n",
       "      <td>4</td>\n",
       "    </tr>\n",
       "  </tbody>\n",
       "</table>\n",
       "</div>"
      ],
      "text/plain": [
       "   InvoiceId  COUNT(II.InvoiceId)\n",
       "0         37                    4"
      ]
     },
     "execution_count": 18,
     "metadata": {},
     "output_type": "execute_result"
    }
   ],
   "source": [
    "# 8\n",
    "\n",
    "query = \"\"\"\n",
    "SELECT II.InvoiceId, COUNT(II.InvoiceId) FROM INVOICE_ITEMS AS II\n",
    "WHERE II.InvoiceId = 37\n",
    "\"\"\"\n",
    "\n",
    "pd.read_sql_query(query, connection)"
   ]
  },
  {
   "cell_type": "code",
   "execution_count": null,
   "metadata": {},
   "outputs": [
    {
     "data": {
      "application/vnd.microsoft.datawrangler.viewer.v0+json": {
       "columns": [
        {
         "name": "index",
         "rawType": "int64",
         "type": "integer"
        },
        {
         "name": "COUNT(TrackId)",
         "rawType": "int64",
         "type": "integer"
        }
       ],
       "conversionMethod": "pd.DataFrame",
       "ref": "5e971a87-2afb-4301-ae14-d8b4a5e3b6a2",
       "rows": [
        [
         "0",
         "8"
        ]
       ],
       "shape": {
        "columns": 1,
        "rows": 1
       }
      },
      "text/html": [
       "<div>\n",
       "<style scoped>\n",
       "    .dataframe tbody tr th:only-of-type {\n",
       "        vertical-align: middle;\n",
       "    }\n",
       "\n",
       "    .dataframe tbody tr th {\n",
       "        vertical-align: top;\n",
       "    }\n",
       "\n",
       "    .dataframe thead th {\n",
       "        text-align: right;\n",
       "    }\n",
       "</style>\n",
       "<table border=\"1\" class=\"dataframe\">\n",
       "  <thead>\n",
       "    <tr style=\"text-align: right;\">\n",
       "      <th></th>\n",
       "      <th>COUNT(TrackId)</th>\n",
       "    </tr>\n",
       "  </thead>\n",
       "  <tbody>\n",
       "    <tr>\n",
       "      <th>0</th>\n",
       "      <td>8</td>\n",
       "    </tr>\n",
       "  </tbody>\n",
       "</table>\n",
       "</div>"
      ],
      "text/plain": [
       "   COUNT(TrackId)\n",
       "0               8"
      ]
     },
     "execution_count": 19,
     "metadata": {},
     "output_type": "execute_result"
    }
   ],
   "source": [
    "# 9\n",
    "\n",
    "query = \"\"\"\n",
    "SELECT COUNT(TrackId) FROM TRACKS AS T\n",
    "WHERE T.Composer = \"AC/DC\"\n",
    "\"\"\"\n",
    "\n",
    "pd.read_sql_query(query, connection)"
   ]
  },
  {
   "cell_type": "code",
   "execution_count": null,
   "metadata": {},
   "outputs": [
    {
     "data": {
      "application/vnd.microsoft.datawrangler.viewer.v0+json": {
       "columns": [
        {
         "name": "index",
         "rawType": "int64",
         "type": "integer"
        },
        {
         "name": "InvoiceId",
         "rawType": "int64",
         "type": "integer"
        },
        {
         "name": "COUNT(II.InvoiceId)",
         "rawType": "int64",
         "type": "integer"
        }
       ],
       "conversionMethod": "pd.DataFrame",
       "ref": "849a5da1-a25b-4502-9e44-42a2b890c71b",
       "rows": [
        [
         "0",
         "1",
         "2"
        ],
        [
         "1",
         "2",
         "4"
        ],
        [
         "2",
         "3",
         "6"
        ],
        [
         "3",
         "4",
         "9"
        ],
        [
         "4",
         "5",
         "14"
        ],
        [
         "5",
         "6",
         "1"
        ],
        [
         "6",
         "7",
         "2"
        ],
        [
         "7",
         "8",
         "2"
        ],
        [
         "8",
         "9",
         "4"
        ],
        [
         "9",
         "10",
         "6"
        ],
        [
         "10",
         "11",
         "9"
        ],
        [
         "11",
         "12",
         "14"
        ],
        [
         "12",
         "13",
         "1"
        ],
        [
         "13",
         "14",
         "2"
        ],
        [
         "14",
         "15",
         "2"
        ],
        [
         "15",
         "16",
         "4"
        ],
        [
         "16",
         "17",
         "6"
        ],
        [
         "17",
         "18",
         "9"
        ],
        [
         "18",
         "19",
         "14"
        ],
        [
         "19",
         "20",
         "1"
        ],
        [
         "20",
         "21",
         "2"
        ],
        [
         "21",
         "22",
         "2"
        ],
        [
         "22",
         "23",
         "4"
        ],
        [
         "23",
         "24",
         "6"
        ],
        [
         "24",
         "25",
         "9"
        ],
        [
         "25",
         "26",
         "14"
        ],
        [
         "26",
         "27",
         "1"
        ],
        [
         "27",
         "28",
         "2"
        ],
        [
         "28",
         "29",
         "2"
        ],
        [
         "29",
         "30",
         "4"
        ],
        [
         "30",
         "31",
         "6"
        ],
        [
         "31",
         "32",
         "9"
        ],
        [
         "32",
         "33",
         "14"
        ],
        [
         "33",
         "34",
         "1"
        ],
        [
         "34",
         "35",
         "2"
        ],
        [
         "35",
         "36",
         "2"
        ],
        [
         "36",
         "37",
         "4"
        ],
        [
         "37",
         "38",
         "6"
        ],
        [
         "38",
         "39",
         "9"
        ],
        [
         "39",
         "40",
         "14"
        ],
        [
         "40",
         "41",
         "1"
        ],
        [
         "41",
         "42",
         "2"
        ],
        [
         "42",
         "43",
         "2"
        ],
        [
         "43",
         "44",
         "4"
        ],
        [
         "44",
         "45",
         "6"
        ],
        [
         "45",
         "46",
         "9"
        ],
        [
         "46",
         "47",
         "14"
        ],
        [
         "47",
         "48",
         "1"
        ],
        [
         "48",
         "49",
         "2"
        ],
        [
         "49",
         "50",
         "2"
        ]
       ],
       "shape": {
        "columns": 2,
        "rows": 412
       }
      },
      "text/html": [
       "<div>\n",
       "<style scoped>\n",
       "    .dataframe tbody tr th:only-of-type {\n",
       "        vertical-align: middle;\n",
       "    }\n",
       "\n",
       "    .dataframe tbody tr th {\n",
       "        vertical-align: top;\n",
       "    }\n",
       "\n",
       "    .dataframe thead th {\n",
       "        text-align: right;\n",
       "    }\n",
       "</style>\n",
       "<table border=\"1\" class=\"dataframe\">\n",
       "  <thead>\n",
       "    <tr style=\"text-align: right;\">\n",
       "      <th></th>\n",
       "      <th>InvoiceId</th>\n",
       "      <th>COUNT(II.InvoiceId)</th>\n",
       "    </tr>\n",
       "  </thead>\n",
       "  <tbody>\n",
       "    <tr>\n",
       "      <th>0</th>\n",
       "      <td>1</td>\n",
       "      <td>2</td>\n",
       "    </tr>\n",
       "    <tr>\n",
       "      <th>1</th>\n",
       "      <td>2</td>\n",
       "      <td>4</td>\n",
       "    </tr>\n",
       "    <tr>\n",
       "      <th>2</th>\n",
       "      <td>3</td>\n",
       "      <td>6</td>\n",
       "    </tr>\n",
       "    <tr>\n",
       "      <th>3</th>\n",
       "      <td>4</td>\n",
       "      <td>9</td>\n",
       "    </tr>\n",
       "    <tr>\n",
       "      <th>4</th>\n",
       "      <td>5</td>\n",
       "      <td>14</td>\n",
       "    </tr>\n",
       "    <tr>\n",
       "      <th>...</th>\n",
       "      <td>...</td>\n",
       "      <td>...</td>\n",
       "    </tr>\n",
       "    <tr>\n",
       "      <th>407</th>\n",
       "      <td>408</td>\n",
       "      <td>4</td>\n",
       "    </tr>\n",
       "    <tr>\n",
       "      <th>408</th>\n",
       "      <td>409</td>\n",
       "      <td>6</td>\n",
       "    </tr>\n",
       "    <tr>\n",
       "      <th>409</th>\n",
       "      <td>410</td>\n",
       "      <td>9</td>\n",
       "    </tr>\n",
       "    <tr>\n",
       "      <th>410</th>\n",
       "      <td>411</td>\n",
       "      <td>14</td>\n",
       "    </tr>\n",
       "    <tr>\n",
       "      <th>411</th>\n",
       "      <td>412</td>\n",
       "      <td>1</td>\n",
       "    </tr>\n",
       "  </tbody>\n",
       "</table>\n",
       "<p>412 rows × 2 columns</p>\n",
       "</div>"
      ],
      "text/plain": [
       "     InvoiceId  COUNT(II.InvoiceId)\n",
       "0            1                    2\n",
       "1            2                    4\n",
       "2            3                    6\n",
       "3            4                    9\n",
       "4            5                   14\n",
       "..         ...                  ...\n",
       "407        408                    4\n",
       "408        409                    6\n",
       "409        410                    9\n",
       "410        411                   14\n",
       "411        412                    1\n",
       "\n",
       "[412 rows x 2 columns]"
      ]
     },
     "execution_count": 20,
     "metadata": {},
     "output_type": "execute_result"
    }
   ],
   "source": [
    "# 10\n",
    "\n",
    "query = \"\"\"\n",
    "SELECT II.InvoiceId, COUNT(II.InvoiceId) FROM INVOICE_ITEMS AS II\n",
    "GROUP BY II.InvoiceId\n",
    "\"\"\"\n",
    "\n",
    "pd.read_sql_query(query, connection)"
   ]
  },
  {
   "cell_type": "code",
   "execution_count": null,
   "metadata": {},
   "outputs": [
    {
     "data": {
      "application/vnd.microsoft.datawrangler.viewer.v0+json": {
       "columns": [
        {
         "name": "index",
         "rawType": "int64",
         "type": "integer"
        },
        {
         "name": "BillingCountry",
         "rawType": "object",
         "type": "string"
        },
        {
         "name": "COUNT(I.INVOICEID)",
         "rawType": "int64",
         "type": "integer"
        }
       ],
       "conversionMethod": "pd.DataFrame",
       "ref": "ea42d8d7-320d-4f58-950f-a060ed6ea609",
       "rows": [
        [
         "0",
         "Argentina",
         "7"
        ],
        [
         "1",
         "Australia",
         "7"
        ],
        [
         "2",
         "Austria",
         "7"
        ],
        [
         "3",
         "Belgium",
         "7"
        ],
        [
         "4",
         "Brazil",
         "35"
        ],
        [
         "5",
         "Canada",
         "56"
        ],
        [
         "6",
         "Chile",
         "7"
        ],
        [
         "7",
         "Czech Republic",
         "14"
        ],
        [
         "8",
         "Denmark",
         "7"
        ],
        [
         "9",
         "Finland",
         "7"
        ],
        [
         "10",
         "France",
         "35"
        ],
        [
         "11",
         "Germany",
         "28"
        ],
        [
         "12",
         "Hungary",
         "7"
        ],
        [
         "13",
         "India",
         "13"
        ],
        [
         "14",
         "Ireland",
         "7"
        ],
        [
         "15",
         "Italy",
         "7"
        ],
        [
         "16",
         "Netherlands",
         "7"
        ],
        [
         "17",
         "Norway",
         "7"
        ],
        [
         "18",
         "Poland",
         "7"
        ],
        [
         "19",
         "Portugal",
         "14"
        ],
        [
         "20",
         "Spain",
         "7"
        ],
        [
         "21",
         "Sweden",
         "7"
        ],
        [
         "22",
         "USA",
         "91"
        ],
        [
         "23",
         "United Kingdom",
         "21"
        ]
       ],
       "shape": {
        "columns": 2,
        "rows": 24
       }
      },
      "text/html": [
       "<div>\n",
       "<style scoped>\n",
       "    .dataframe tbody tr th:only-of-type {\n",
       "        vertical-align: middle;\n",
       "    }\n",
       "\n",
       "    .dataframe tbody tr th {\n",
       "        vertical-align: top;\n",
       "    }\n",
       "\n",
       "    .dataframe thead th {\n",
       "        text-align: right;\n",
       "    }\n",
       "</style>\n",
       "<table border=\"1\" class=\"dataframe\">\n",
       "  <thead>\n",
       "    <tr style=\"text-align: right;\">\n",
       "      <th></th>\n",
       "      <th>BillingCountry</th>\n",
       "      <th>COUNT(I.INVOICEID)</th>\n",
       "    </tr>\n",
       "  </thead>\n",
       "  <tbody>\n",
       "    <tr>\n",
       "      <th>0</th>\n",
       "      <td>Argentina</td>\n",
       "      <td>7</td>\n",
       "    </tr>\n",
       "    <tr>\n",
       "      <th>1</th>\n",
       "      <td>Australia</td>\n",
       "      <td>7</td>\n",
       "    </tr>\n",
       "    <tr>\n",
       "      <th>2</th>\n",
       "      <td>Austria</td>\n",
       "      <td>7</td>\n",
       "    </tr>\n",
       "    <tr>\n",
       "      <th>3</th>\n",
       "      <td>Belgium</td>\n",
       "      <td>7</td>\n",
       "    </tr>\n",
       "    <tr>\n",
       "      <th>4</th>\n",
       "      <td>Brazil</td>\n",
       "      <td>35</td>\n",
       "    </tr>\n",
       "    <tr>\n",
       "      <th>5</th>\n",
       "      <td>Canada</td>\n",
       "      <td>56</td>\n",
       "    </tr>\n",
       "    <tr>\n",
       "      <th>6</th>\n",
       "      <td>Chile</td>\n",
       "      <td>7</td>\n",
       "    </tr>\n",
       "    <tr>\n",
       "      <th>7</th>\n",
       "      <td>Czech Republic</td>\n",
       "      <td>14</td>\n",
       "    </tr>\n",
       "    <tr>\n",
       "      <th>8</th>\n",
       "      <td>Denmark</td>\n",
       "      <td>7</td>\n",
       "    </tr>\n",
       "    <tr>\n",
       "      <th>9</th>\n",
       "      <td>Finland</td>\n",
       "      <td>7</td>\n",
       "    </tr>\n",
       "    <tr>\n",
       "      <th>10</th>\n",
       "      <td>France</td>\n",
       "      <td>35</td>\n",
       "    </tr>\n",
       "    <tr>\n",
       "      <th>11</th>\n",
       "      <td>Germany</td>\n",
       "      <td>28</td>\n",
       "    </tr>\n",
       "    <tr>\n",
       "      <th>12</th>\n",
       "      <td>Hungary</td>\n",
       "      <td>7</td>\n",
       "    </tr>\n",
       "    <tr>\n",
       "      <th>13</th>\n",
       "      <td>India</td>\n",
       "      <td>13</td>\n",
       "    </tr>\n",
       "    <tr>\n",
       "      <th>14</th>\n",
       "      <td>Ireland</td>\n",
       "      <td>7</td>\n",
       "    </tr>\n",
       "    <tr>\n",
       "      <th>15</th>\n",
       "      <td>Italy</td>\n",
       "      <td>7</td>\n",
       "    </tr>\n",
       "    <tr>\n",
       "      <th>16</th>\n",
       "      <td>Netherlands</td>\n",
       "      <td>7</td>\n",
       "    </tr>\n",
       "    <tr>\n",
       "      <th>17</th>\n",
       "      <td>Norway</td>\n",
       "      <td>7</td>\n",
       "    </tr>\n",
       "    <tr>\n",
       "      <th>18</th>\n",
       "      <td>Poland</td>\n",
       "      <td>7</td>\n",
       "    </tr>\n",
       "    <tr>\n",
       "      <th>19</th>\n",
       "      <td>Portugal</td>\n",
       "      <td>14</td>\n",
       "    </tr>\n",
       "    <tr>\n",
       "      <th>20</th>\n",
       "      <td>Spain</td>\n",
       "      <td>7</td>\n",
       "    </tr>\n",
       "    <tr>\n",
       "      <th>21</th>\n",
       "      <td>Sweden</td>\n",
       "      <td>7</td>\n",
       "    </tr>\n",
       "    <tr>\n",
       "      <th>22</th>\n",
       "      <td>USA</td>\n",
       "      <td>91</td>\n",
       "    </tr>\n",
       "    <tr>\n",
       "      <th>23</th>\n",
       "      <td>United Kingdom</td>\n",
       "      <td>21</td>\n",
       "    </tr>\n",
       "  </tbody>\n",
       "</table>\n",
       "</div>"
      ],
      "text/plain": [
       "    BillingCountry  COUNT(I.INVOICEID)\n",
       "0        Argentina                   7\n",
       "1        Australia                   7\n",
       "2          Austria                   7\n",
       "3          Belgium                   7\n",
       "4           Brazil                  35\n",
       "5           Canada                  56\n",
       "6            Chile                   7\n",
       "7   Czech Republic                  14\n",
       "8          Denmark                   7\n",
       "9          Finland                   7\n",
       "10          France                  35\n",
       "11         Germany                  28\n",
       "12         Hungary                   7\n",
       "13           India                  13\n",
       "14         Ireland                   7\n",
       "15           Italy                   7\n",
       "16     Netherlands                   7\n",
       "17          Norway                   7\n",
       "18          Poland                   7\n",
       "19        Portugal                  14\n",
       "20           Spain                   7\n",
       "21          Sweden                   7\n",
       "22             USA                  91\n",
       "23  United Kingdom                  21"
      ]
     },
     "execution_count": 21,
     "metadata": {},
     "output_type": "execute_result"
    }
   ],
   "source": [
    "# 11\n",
    "\n",
    "query = \"\"\"\n",
    "SELECT I.BillingCountry, COUNT(I.INVOICEID) FROM INVOICES AS I\n",
    "GROUP BY I.BillingCountry\n",
    "\"\"\"\n",
    "\n",
    "pd.read_sql_query(query, connection)"
   ]
  },
  {
   "cell_type": "code",
   "execution_count": null,
   "metadata": {},
   "outputs": [
    {
     "data": {
      "application/vnd.microsoft.datawrangler.viewer.v0+json": {
       "columns": [
        {
         "name": "index",
         "rawType": "int64",
         "type": "integer"
        },
        {
         "name": "YEAR",
         "rawType": "int64",
         "type": "integer"
        },
        {
         "name": "COUNT(I.InvoiceDate)",
         "rawType": "int64",
         "type": "integer"
        }
       ],
       "conversionMethod": "pd.DataFrame",
       "ref": "9f684a21-b84c-4ff7-b7b8-0ff5aaed2f6a",
       "rows": [
        [
         "0",
         "2009",
         "83"
        ],
        [
         "1",
         "2011",
         "83"
        ]
       ],
       "shape": {
        "columns": 2,
        "rows": 2
       }
      },
      "text/html": [
       "<div>\n",
       "<style scoped>\n",
       "    .dataframe tbody tr th:only-of-type {\n",
       "        vertical-align: middle;\n",
       "    }\n",
       "\n",
       "    .dataframe tbody tr th {\n",
       "        vertical-align: top;\n",
       "    }\n",
       "\n",
       "    .dataframe thead th {\n",
       "        text-align: right;\n",
       "    }\n",
       "</style>\n",
       "<table border=\"1\" class=\"dataframe\">\n",
       "  <thead>\n",
       "    <tr style=\"text-align: right;\">\n",
       "      <th></th>\n",
       "      <th>YEAR</th>\n",
       "      <th>COUNT(I.InvoiceDate)</th>\n",
       "    </tr>\n",
       "  </thead>\n",
       "  <tbody>\n",
       "    <tr>\n",
       "      <th>0</th>\n",
       "      <td>2009</td>\n",
       "      <td>83</td>\n",
       "    </tr>\n",
       "    <tr>\n",
       "      <th>1</th>\n",
       "      <td>2011</td>\n",
       "      <td>83</td>\n",
       "    </tr>\n",
       "  </tbody>\n",
       "</table>\n",
       "</div>"
      ],
      "text/plain": [
       "   YEAR  COUNT(I.InvoiceDate)\n",
       "0  2009                    83\n",
       "1  2011                    83"
      ]
     },
     "execution_count": 23,
     "metadata": {},
     "output_type": "execute_result"
    }
   ],
   "source": [
    "# 12\n",
    "\n",
    "query = \"\"\"\n",
    "SELECT CAST(strftime('%Y', I.InvoiceDate) AS INT) AS YEAR, COUNT(I.InvoiceDate) FROM INVOICES AS I\n",
    "WHERE YEAR = 2009 OR YEAR = 2011\n",
    "GROUP BY YEAR\n",
    "\"\"\"\n",
    "\n",
    "pd.read_sql_query(query, connection)"
   ]
  },
  {
   "cell_type": "code",
   "execution_count": null,
   "metadata": {},
   "outputs": [
    {
     "data": {
      "application/vnd.microsoft.datawrangler.viewer.v0+json": {
       "columns": [
        {
         "name": "index",
         "rawType": "int64",
         "type": "integer"
        },
        {
         "name": "YEAR",
         "rawType": "int64",
         "type": "integer"
        },
        {
         "name": "COUNT(I.InvoiceDate)",
         "rawType": "int64",
         "type": "integer"
        }
       ],
       "conversionMethod": "pd.DataFrame",
       "ref": "9f684a21-b84c-4ff7-b7b8-0ff5aaed2f6a",
       "rows": [
        [
         "0",
         "2009",
         "83"
        ],
        [
         "1",
         "2011",
         "83"
        ]
       ],
       "shape": {
        "columns": 2,
        "rows": 2
       }
      },
      "text/html": [
       "<div>\n",
       "<style scoped>\n",
       "    .dataframe tbody tr th:only-of-type {\n",
       "        vertical-align: middle;\n",
       "    }\n",
       "\n",
       "    .dataframe tbody tr th {\n",
       "        vertical-align: top;\n",
       "    }\n",
       "\n",
       "    .dataframe thead th {\n",
       "        text-align: right;\n",
       "    }\n",
       "</style>\n",
       "<table border=\"1\" class=\"dataframe\">\n",
       "  <thead>\n",
       "    <tr style=\"text-align: right;\">\n",
       "      <th></th>\n",
       "      <th>YEAR</th>\n",
       "      <th>COUNT(I.InvoiceDate)</th>\n",
       "    </tr>\n",
       "  </thead>\n",
       "  <tbody>\n",
       "    <tr>\n",
       "      <th>0</th>\n",
       "      <td>2009</td>\n",
       "      <td>83</td>\n",
       "    </tr>\n",
       "    <tr>\n",
       "      <th>1</th>\n",
       "      <td>2011</td>\n",
       "      <td>83</td>\n",
       "    </tr>\n",
       "  </tbody>\n",
       "</table>\n",
       "</div>"
      ],
      "text/plain": [
       "   YEAR  COUNT(I.InvoiceDate)\n",
       "0  2009                    83\n",
       "1  2011                    83"
      ]
     },
     "metadata": {},
     "output_type": "display_data"
    }
   ],
   "source": [
    "# 13\n",
    "\n",
    "query = \"\"\"\n",
    "SELECT CAST(strftime('%Y', I.InvoiceDate) AS INT) AS YEAR, COUNT(I.InvoiceDate) FROM INVOICES AS I\n",
    "WHERE YEAR = 2009 OR YEAR = 2011\n",
    "GROUP BY YEAR\n",
    "\"\"\"\n",
    "\n",
    "pd.read_sql_query(query, connection)"
   ]
  },
  {
   "cell_type": "code",
   "execution_count": null,
   "metadata": {},
   "outputs": [
    {
     "data": {
      "application/vnd.microsoft.datawrangler.viewer.v0+json": {
       "columns": [
        {
         "name": "index",
         "rawType": "int64",
         "type": "integer"
        },
        {
         "name": "Country",
         "rawType": "object",
         "type": "string"
        },
        {
         "name": "COUNT(C.CustomerId)",
         "rawType": "int64",
         "type": "integer"
        }
       ],
       "conversionMethod": "pd.DataFrame",
       "ref": "b1f7c226-9a5b-46c2-91d1-24aadb72f364",
       "rows": [
        [
         "0",
         "Brazil",
         "5"
        ],
        [
         "1",
         "Spain",
         "1"
        ]
       ],
       "shape": {
        "columns": 2,
        "rows": 2
       }
      },
      "text/html": [
       "<div>\n",
       "<style scoped>\n",
       "    .dataframe tbody tr th:only-of-type {\n",
       "        vertical-align: middle;\n",
       "    }\n",
       "\n",
       "    .dataframe tbody tr th {\n",
       "        vertical-align: top;\n",
       "    }\n",
       "\n",
       "    .dataframe thead th {\n",
       "        text-align: right;\n",
       "    }\n",
       "</style>\n",
       "<table border=\"1\" class=\"dataframe\">\n",
       "  <thead>\n",
       "    <tr style=\"text-align: right;\">\n",
       "      <th></th>\n",
       "      <th>Country</th>\n",
       "      <th>COUNT(C.CustomerId)</th>\n",
       "    </tr>\n",
       "  </thead>\n",
       "  <tbody>\n",
       "    <tr>\n",
       "      <th>0</th>\n",
       "      <td>Brazil</td>\n",
       "      <td>5</td>\n",
       "    </tr>\n",
       "    <tr>\n",
       "      <th>1</th>\n",
       "      <td>Spain</td>\n",
       "      <td>1</td>\n",
       "    </tr>\n",
       "  </tbody>\n",
       "</table>\n",
       "</div>"
      ],
      "text/plain": [
       "  Country  COUNT(C.CustomerId)\n",
       "0  Brazil                    5\n",
       "1   Spain                    1"
      ]
     },
     "execution_count": 25,
     "metadata": {},
     "output_type": "execute_result"
    }
   ],
   "source": [
    "# 14\n",
    "\n",
    "query = \"\"\"\n",
    "SELECT C.Country, COUNT(C.CustomerId) FROM CUSTOMERS AS C\n",
    "WHERE C.Country = 'Spain' OR C.Country = 'Brazil'\n",
    "GROUP BY C.Country\n",
    "\"\"\"\n",
    "\n",
    "pd.read_sql_query(query, connection)"
   ]
  },
  {
   "cell_type": "code",
   "execution_count": null,
   "metadata": {},
   "outputs": [
    {
     "data": {
      "application/vnd.microsoft.datawrangler.viewer.v0+json": {
       "columns": [
        {
         "name": "index",
         "rawType": "int64",
         "type": "integer"
        },
        {
         "name": "Name",
         "rawType": "object",
         "type": "string"
        }
       ],
       "conversionMethod": "pd.DataFrame",
       "ref": "c8cc332b-5f71-4731-93c1-fb2d8a53d7db",
       "rows": [
        [
         "0",
         "You Oughta Know"
        ],
        [
         "1",
         "You Learn"
        ],
        [
         "2",
         "You Oughta Know (Alternate)"
        ],
        [
         "3",
         "Your Time Has Come"
        ],
        [
         "4",
         "You Shook Me"
        ],
        [
         "5",
         "You Shook Me(2)"
        ],
        [
         "6",
         "You Fool No One"
        ],
        [
         "7",
         "You Fool No One (Alternate Version)"
        ],
        [
         "8",
         "You Keep On Moving"
        ],
        [
         "9",
         "You Can't Do it Right (With the One You Love)"
        ],
        [
         "10",
         "You're Crazy"
        ],
        [
         "11",
         "You Ain't the First"
        ],
        [
         "12",
         "You Could Be Mine"
        ],
        [
         "13",
         "You've Got Another Thing Comin'"
        ],
        [
         "14",
         "You Shook Me"
        ],
        [
         "15",
         "Your Time Is Gonna Come"
        ],
        [
         "16",
         "You've Been A Long Time Coming"
        ],
        [
         "17",
         "You're What's Happening (In The World Today)"
        ],
        [
         "18",
         "You Sure Love To Ball"
        ],
        [
         "19",
         "Your Blue Room"
        ],
        [
         "20",
         "You Are"
        ],
        [
         "21",
         "You're My Best Friend"
        ],
        [
         "22",
         "You Are The Everything"
        ],
        [
         "23",
         "You've Got It"
        ],
        [
         "24",
         "Your Mirror"
        ],
        [
         "25",
         "You Got Me Rocking"
        ],
        [
         "26",
         "You Got Me Rocking"
        ],
        [
         "27",
         "You Better You Bet"
        ],
        [
         "28",
         "You Really Got Me"
        ],
        [
         "29",
         "You Got No Right"
        ],
        [
         "30",
         "You're Gonna Break My Hart Again"
        ],
        [
         "31",
         "Your Time Is Gonna Come"
        ],
        [
         "32",
         "Your Savior"
        ],
        [
         "33",
         "Your Soul Today"
        ],
        [
         "34",
         "You Know My Name"
        ],
        [
         "35",
         "You Know I'm No Good"
        ],
        [
         "36",
         "You Know I'm No Good (feat. Ghostface Killah)"
        ],
        [
         "37",
         "You Sent Me Flying / Cherry"
        ]
       ],
       "shape": {
        "columns": 1,
        "rows": 38
       }
      },
      "text/html": [
       "<div>\n",
       "<style scoped>\n",
       "    .dataframe tbody tr th:only-of-type {\n",
       "        vertical-align: middle;\n",
       "    }\n",
       "\n",
       "    .dataframe tbody tr th {\n",
       "        vertical-align: top;\n",
       "    }\n",
       "\n",
       "    .dataframe thead th {\n",
       "        text-align: right;\n",
       "    }\n",
       "</style>\n",
       "<table border=\"1\" class=\"dataframe\">\n",
       "  <thead>\n",
       "    <tr style=\"text-align: right;\">\n",
       "      <th></th>\n",
       "      <th>Name</th>\n",
       "    </tr>\n",
       "  </thead>\n",
       "  <tbody>\n",
       "    <tr>\n",
       "      <th>0</th>\n",
       "      <td>You Oughta Know</td>\n",
       "    </tr>\n",
       "    <tr>\n",
       "      <th>1</th>\n",
       "      <td>You Learn</td>\n",
       "    </tr>\n",
       "    <tr>\n",
       "      <th>2</th>\n",
       "      <td>You Oughta Know (Alternate)</td>\n",
       "    </tr>\n",
       "    <tr>\n",
       "      <th>3</th>\n",
       "      <td>Your Time Has Come</td>\n",
       "    </tr>\n",
       "    <tr>\n",
       "      <th>4</th>\n",
       "      <td>You Shook Me</td>\n",
       "    </tr>\n",
       "    <tr>\n",
       "      <th>5</th>\n",
       "      <td>You Shook Me(2)</td>\n",
       "    </tr>\n",
       "    <tr>\n",
       "      <th>6</th>\n",
       "      <td>You Fool No One</td>\n",
       "    </tr>\n",
       "    <tr>\n",
       "      <th>7</th>\n",
       "      <td>You Fool No One (Alternate Version)</td>\n",
       "    </tr>\n",
       "    <tr>\n",
       "      <th>8</th>\n",
       "      <td>You Keep On Moving</td>\n",
       "    </tr>\n",
       "    <tr>\n",
       "      <th>9</th>\n",
       "      <td>You Can't Do it Right (With the One You Love)</td>\n",
       "    </tr>\n",
       "    <tr>\n",
       "      <th>10</th>\n",
       "      <td>You're Crazy</td>\n",
       "    </tr>\n",
       "    <tr>\n",
       "      <th>11</th>\n",
       "      <td>You Ain't the First</td>\n",
       "    </tr>\n",
       "    <tr>\n",
       "      <th>12</th>\n",
       "      <td>You Could Be Mine</td>\n",
       "    </tr>\n",
       "    <tr>\n",
       "      <th>13</th>\n",
       "      <td>You've Got Another Thing Comin'</td>\n",
       "    </tr>\n",
       "    <tr>\n",
       "      <th>14</th>\n",
       "      <td>You Shook Me</td>\n",
       "    </tr>\n",
       "    <tr>\n",
       "      <th>15</th>\n",
       "      <td>Your Time Is Gonna Come</td>\n",
       "    </tr>\n",
       "    <tr>\n",
       "      <th>16</th>\n",
       "      <td>You've Been A Long Time Coming</td>\n",
       "    </tr>\n",
       "    <tr>\n",
       "      <th>17</th>\n",
       "      <td>You're What's Happening (In The World Today)</td>\n",
       "    </tr>\n",
       "    <tr>\n",
       "      <th>18</th>\n",
       "      <td>You Sure Love To Ball</td>\n",
       "    </tr>\n",
       "    <tr>\n",
       "      <th>19</th>\n",
       "      <td>Your Blue Room</td>\n",
       "    </tr>\n",
       "    <tr>\n",
       "      <th>20</th>\n",
       "      <td>You Are</td>\n",
       "    </tr>\n",
       "    <tr>\n",
       "      <th>21</th>\n",
       "      <td>You're My Best Friend</td>\n",
       "    </tr>\n",
       "    <tr>\n",
       "      <th>22</th>\n",
       "      <td>You Are The Everything</td>\n",
       "    </tr>\n",
       "    <tr>\n",
       "      <th>23</th>\n",
       "      <td>You've Got It</td>\n",
       "    </tr>\n",
       "    <tr>\n",
       "      <th>24</th>\n",
       "      <td>Your Mirror</td>\n",
       "    </tr>\n",
       "    <tr>\n",
       "      <th>25</th>\n",
       "      <td>You Got Me Rocking</td>\n",
       "    </tr>\n",
       "    <tr>\n",
       "      <th>26</th>\n",
       "      <td>You Got Me Rocking</td>\n",
       "    </tr>\n",
       "    <tr>\n",
       "      <th>27</th>\n",
       "      <td>You Better You Bet</td>\n",
       "    </tr>\n",
       "    <tr>\n",
       "      <th>28</th>\n",
       "      <td>You Really Got Me</td>\n",
       "    </tr>\n",
       "    <tr>\n",
       "      <th>29</th>\n",
       "      <td>You Got No Right</td>\n",
       "    </tr>\n",
       "    <tr>\n",
       "      <th>30</th>\n",
       "      <td>You're Gonna Break My Hart Again</td>\n",
       "    </tr>\n",
       "    <tr>\n",
       "      <th>31</th>\n",
       "      <td>Your Time Is Gonna Come</td>\n",
       "    </tr>\n",
       "    <tr>\n",
       "      <th>32</th>\n",
       "      <td>Your Savior</td>\n",
       "    </tr>\n",
       "    <tr>\n",
       "      <th>33</th>\n",
       "      <td>Your Soul Today</td>\n",
       "    </tr>\n",
       "    <tr>\n",
       "      <th>34</th>\n",
       "      <td>You Know My Name</td>\n",
       "    </tr>\n",
       "    <tr>\n",
       "      <th>35</th>\n",
       "      <td>You Know I'm No Good</td>\n",
       "    </tr>\n",
       "    <tr>\n",
       "      <th>36</th>\n",
       "      <td>You Know I'm No Good (feat. Ghostface Killah)</td>\n",
       "    </tr>\n",
       "    <tr>\n",
       "      <th>37</th>\n",
       "      <td>You Sent Me Flying / Cherry</td>\n",
       "    </tr>\n",
       "  </tbody>\n",
       "</table>\n",
       "</div>"
      ],
      "text/plain": [
       "                                             Name\n",
       "0                                 You Oughta Know\n",
       "1                                       You Learn\n",
       "2                     You Oughta Know (Alternate)\n",
       "3                              Your Time Has Come\n",
       "4                                    You Shook Me\n",
       "5                                 You Shook Me(2)\n",
       "6                                 You Fool No One\n",
       "7             You Fool No One (Alternate Version)\n",
       "8                              You Keep On Moving\n",
       "9   You Can't Do it Right (With the One You Love)\n",
       "10                                   You're Crazy\n",
       "11                            You Ain't the First\n",
       "12                              You Could Be Mine\n",
       "13                You've Got Another Thing Comin'\n",
       "14                                   You Shook Me\n",
       "15                        Your Time Is Gonna Come\n",
       "16                 You've Been A Long Time Coming\n",
       "17   You're What's Happening (In The World Today)\n",
       "18                          You Sure Love To Ball\n",
       "19                                 Your Blue Room\n",
       "20                                        You Are\n",
       "21                          You're My Best Friend\n",
       "22                         You Are The Everything\n",
       "23                                  You've Got It\n",
       "24                                    Your Mirror\n",
       "25                             You Got Me Rocking\n",
       "26                             You Got Me Rocking\n",
       "27                             You Better You Bet\n",
       "28                              You Really Got Me\n",
       "29                               You Got No Right\n",
       "30               You're Gonna Break My Hart Again\n",
       "31                        Your Time Is Gonna Come\n",
       "32                                    Your Savior\n",
       "33                                Your Soul Today\n",
       "34                               You Know My Name\n",
       "35                           You Know I'm No Good\n",
       "36  You Know I'm No Good (feat. Ghostface Killah)\n",
       "37                    You Sent Me Flying / Cherry"
      ]
     },
     "execution_count": 27,
     "metadata": {},
     "output_type": "execute_result"
    }
   ],
   "source": [
    "# 15\n",
    "\n",
    "query = \"\"\"\n",
    "SELECT T.Name FROM TRACKS AS T\n",
    "WHERE T.Name LIKE 'You%'\n",
    "\"\"\"\n",
    "\n",
    "pd.read_sql_query(query, connection)"
   ]
  },
  {
   "cell_type": "markdown",
   "metadata": {},
   "source": [
    "1. Facturas de Clientes de Brasil, Nombre del cliente, Id de factura, fecha de la\n",
    "factura y el país de la factura\n",
    "2. Obtén cada factura asociada a cada agente de ventas con su nombre completo\n",
    "3. Obtén el nombre del cliente, el país, el nombre del agente y el total\n",
    "4. Obtén cada artículo de la factura con el nombre de la canción\n",
    "5. Muestra todas las canciones con su nombre, formato, álbum y género\n",
    "6. Cuántas canciones hay en cada playlist\n",
    "7. Cuánto ha vendido cada empleado\n",
    "8. ¿Quién ha sido el agente de ventas que más ha vendido en 2009?\n",
    "9. ¿Cuáles son los 3 grupos que más han vendido?"
   ]
  },
  {
   "cell_type": "code",
   "execution_count": null,
   "metadata": {},
   "outputs": [
    {
     "data": {
      "application/vnd.microsoft.datawrangler.viewer.v0+json": {
       "columns": [
        {
         "name": "index",
         "rawType": "int64",
         "type": "integer"
        },
        {
         "name": "CustomerName",
         "rawType": "object",
         "type": "string"
        },
        {
         "name": "InvoiceId",
         "rawType": "int64",
         "type": "integer"
        },
        {
         "name": "InvoiceDate",
         "rawType": "object",
         "type": "string"
        },
        {
         "name": "BillingCountry",
         "rawType": "object",
         "type": "string"
        }
       ],
       "conversionMethod": "pd.DataFrame",
       "ref": "e15b74a5-4607-417c-9c9a-1e419fbb5d2e",
       "rows": [
        [
         "0",
         "Eduardo Martins",
         "25",
         "2009-04-09 00:00:00",
         "Brazil"
        ],
        [
         "1",
         "Roberto Almeida",
         "34",
         "2009-05-23 00:00:00",
         "Brazil"
        ],
        [
         "2",
         "Fernanda Ramos",
         "35",
         "2009-06-05 00:00:00",
         "Brazil"
        ],
        [
         "3",
         "Alexandre Rocha",
         "57",
         "2009-09-06 00:00:00",
         "Brazil"
        ],
        [
         "4",
         "Fernanda Ramos",
         "58",
         "2009-09-07 00:00:00",
         "Brazil"
        ],
        [
         "5",
         "Alexandre Rocha",
         "68",
         "2009-10-17 00:00:00",
         "Brazil"
        ],
        [
         "6",
         "Fernanda Ramos",
         "80",
         "2009-12-10 00:00:00",
         "Brazil"
        ],
        [
         "7",
         "Luís Gonçalves",
         "98",
         "2010-03-11 00:00:00",
         "Brazil"
        ],
        [
         "8",
         "Luís Gonçalves",
         "121",
         "2010-06-13 00:00:00",
         "Brazil"
        ],
        [
         "9",
         "Alexandre Rocha",
         "123",
         "2010-06-17 00:00:00",
         "Brazil"
        ],
        [
         "10",
         "Fernanda Ramos",
         "132",
         "2010-07-31 00:00:00",
         "Brazil"
        ],
        [
         "11",
         "Luís Gonçalves",
         "143",
         "2010-09-15 00:00:00",
         "Brazil"
        ],
        [
         "12",
         "Eduardo Martins",
         "154",
         "2010-11-14 00:00:00",
         "Brazil"
        ],
        [
         "13",
         "Roberto Almeida",
         "155",
         "2010-11-14 00:00:00",
         "Brazil"
        ],
        [
         "14",
         "Roberto Almeida",
         "166",
         "2010-12-25 00:00:00",
         "Brazil"
        ],
        [
         "15",
         "Eduardo Martins",
         "177",
         "2011-02-16 00:00:00",
         "Brazil"
        ],
        [
         "16",
         "Luís Gonçalves",
         "195",
         "2011-05-06 00:00:00",
         "Brazil"
        ],
        [
         "17",
         "Eduardo Martins",
         "199",
         "2011-05-21 00:00:00",
         "Brazil"
        ],
        [
         "18",
         "Roberto Almeida",
         "221",
         "2011-08-25 00:00:00",
         "Brazil"
        ],
        [
         "19",
         "Eduardo Martins",
         "251",
         "2012-01-09 00:00:00",
         "Brazil"
        ],
        [
         "20",
         "Alexandre Rocha",
         "252",
         "2012-01-22 00:00:00",
         "Brazil"
        ],
        [
         "21",
         "Fernanda Ramos",
         "253",
         "2012-01-22 00:00:00",
         "Brazil"
        ],
        [
         "22",
         "Fernanda Ramos",
         "264",
         "2012-03-03 00:00:00",
         "Brazil"
        ],
        [
         "23",
         "Alexandre Rocha",
         "275",
         "2012-04-25 00:00:00",
         "Brazil"
        ],
        [
         "24",
         "Alexandre Rocha",
         "297",
         "2012-07-28 00:00:00",
         "Brazil"
        ],
        [
         "25",
         "Luís Gonçalves",
         "316",
         "2012-10-27 00:00:00",
         "Brazil"
        ],
        [
         "26",
         "Fernanda Ramos",
         "319",
         "2012-11-01 00:00:00",
         "Brazil"
        ],
        [
         "27",
         "Luís Gonçalves",
         "327",
         "2012-12-07 00:00:00",
         "Brazil"
        ],
        [
         "28",
         "Alexandre Rocha",
         "349",
         "2013-03-18 00:00:00",
         "Brazil"
        ],
        [
         "29",
         "Roberto Almeida",
         "350",
         "2013-03-31 00:00:00",
         "Brazil"
        ],
        [
         "30",
         "Eduardo Martins",
         "372",
         "2013-07-02 00:00:00",
         "Brazil"
        ],
        [
         "31",
         "Roberto Almeida",
         "373",
         "2013-07-03 00:00:00",
         "Brazil"
        ],
        [
         "32",
         "Luís Gonçalves",
         "382",
         "2013-08-07 00:00:00",
         "Brazil"
        ],
        [
         "33",
         "Eduardo Martins",
         "383",
         "2013-08-12 00:00:00",
         "Brazil"
        ],
        [
         "34",
         "Roberto Almeida",
         "395",
         "2013-10-05 00:00:00",
         "Brazil"
        ]
       ],
       "shape": {
        "columns": 4,
        "rows": 35
       }
      },
      "text/html": [
       "<div>\n",
       "<style scoped>\n",
       "    .dataframe tbody tr th:only-of-type {\n",
       "        vertical-align: middle;\n",
       "    }\n",
       "\n",
       "    .dataframe tbody tr th {\n",
       "        vertical-align: top;\n",
       "    }\n",
       "\n",
       "    .dataframe thead th {\n",
       "        text-align: right;\n",
       "    }\n",
       "</style>\n",
       "<table border=\"1\" class=\"dataframe\">\n",
       "  <thead>\n",
       "    <tr style=\"text-align: right;\">\n",
       "      <th></th>\n",
       "      <th>CustomerName</th>\n",
       "      <th>InvoiceId</th>\n",
       "      <th>InvoiceDate</th>\n",
       "      <th>BillingCountry</th>\n",
       "    </tr>\n",
       "  </thead>\n",
       "  <tbody>\n",
       "    <tr>\n",
       "      <th>0</th>\n",
       "      <td>Eduardo Martins</td>\n",
       "      <td>25</td>\n",
       "      <td>2009-04-09 00:00:00</td>\n",
       "      <td>Brazil</td>\n",
       "    </tr>\n",
       "    <tr>\n",
       "      <th>1</th>\n",
       "      <td>Roberto Almeida</td>\n",
       "      <td>34</td>\n",
       "      <td>2009-05-23 00:00:00</td>\n",
       "      <td>Brazil</td>\n",
       "    </tr>\n",
       "    <tr>\n",
       "      <th>2</th>\n",
       "      <td>Fernanda Ramos</td>\n",
       "      <td>35</td>\n",
       "      <td>2009-06-05 00:00:00</td>\n",
       "      <td>Brazil</td>\n",
       "    </tr>\n",
       "    <tr>\n",
       "      <th>3</th>\n",
       "      <td>Alexandre Rocha</td>\n",
       "      <td>57</td>\n",
       "      <td>2009-09-06 00:00:00</td>\n",
       "      <td>Brazil</td>\n",
       "    </tr>\n",
       "    <tr>\n",
       "      <th>4</th>\n",
       "      <td>Fernanda Ramos</td>\n",
       "      <td>58</td>\n",
       "      <td>2009-09-07 00:00:00</td>\n",
       "      <td>Brazil</td>\n",
       "    </tr>\n",
       "    <tr>\n",
       "      <th>5</th>\n",
       "      <td>Alexandre Rocha</td>\n",
       "      <td>68</td>\n",
       "      <td>2009-10-17 00:00:00</td>\n",
       "      <td>Brazil</td>\n",
       "    </tr>\n",
       "    <tr>\n",
       "      <th>6</th>\n",
       "      <td>Fernanda Ramos</td>\n",
       "      <td>80</td>\n",
       "      <td>2009-12-10 00:00:00</td>\n",
       "      <td>Brazil</td>\n",
       "    </tr>\n",
       "    <tr>\n",
       "      <th>7</th>\n",
       "      <td>Luís Gonçalves</td>\n",
       "      <td>98</td>\n",
       "      <td>2010-03-11 00:00:00</td>\n",
       "      <td>Brazil</td>\n",
       "    </tr>\n",
       "    <tr>\n",
       "      <th>8</th>\n",
       "      <td>Luís Gonçalves</td>\n",
       "      <td>121</td>\n",
       "      <td>2010-06-13 00:00:00</td>\n",
       "      <td>Brazil</td>\n",
       "    </tr>\n",
       "    <tr>\n",
       "      <th>9</th>\n",
       "      <td>Alexandre Rocha</td>\n",
       "      <td>123</td>\n",
       "      <td>2010-06-17 00:00:00</td>\n",
       "      <td>Brazil</td>\n",
       "    </tr>\n",
       "    <tr>\n",
       "      <th>10</th>\n",
       "      <td>Fernanda Ramos</td>\n",
       "      <td>132</td>\n",
       "      <td>2010-07-31 00:00:00</td>\n",
       "      <td>Brazil</td>\n",
       "    </tr>\n",
       "    <tr>\n",
       "      <th>11</th>\n",
       "      <td>Luís Gonçalves</td>\n",
       "      <td>143</td>\n",
       "      <td>2010-09-15 00:00:00</td>\n",
       "      <td>Brazil</td>\n",
       "    </tr>\n",
       "    <tr>\n",
       "      <th>12</th>\n",
       "      <td>Eduardo Martins</td>\n",
       "      <td>154</td>\n",
       "      <td>2010-11-14 00:00:00</td>\n",
       "      <td>Brazil</td>\n",
       "    </tr>\n",
       "    <tr>\n",
       "      <th>13</th>\n",
       "      <td>Roberto Almeida</td>\n",
       "      <td>155</td>\n",
       "      <td>2010-11-14 00:00:00</td>\n",
       "      <td>Brazil</td>\n",
       "    </tr>\n",
       "    <tr>\n",
       "      <th>14</th>\n",
       "      <td>Roberto Almeida</td>\n",
       "      <td>166</td>\n",
       "      <td>2010-12-25 00:00:00</td>\n",
       "      <td>Brazil</td>\n",
       "    </tr>\n",
       "    <tr>\n",
       "      <th>15</th>\n",
       "      <td>Eduardo Martins</td>\n",
       "      <td>177</td>\n",
       "      <td>2011-02-16 00:00:00</td>\n",
       "      <td>Brazil</td>\n",
       "    </tr>\n",
       "    <tr>\n",
       "      <th>16</th>\n",
       "      <td>Luís Gonçalves</td>\n",
       "      <td>195</td>\n",
       "      <td>2011-05-06 00:00:00</td>\n",
       "      <td>Brazil</td>\n",
       "    </tr>\n",
       "    <tr>\n",
       "      <th>17</th>\n",
       "      <td>Eduardo Martins</td>\n",
       "      <td>199</td>\n",
       "      <td>2011-05-21 00:00:00</td>\n",
       "      <td>Brazil</td>\n",
       "    </tr>\n",
       "    <tr>\n",
       "      <th>18</th>\n",
       "      <td>Roberto Almeida</td>\n",
       "      <td>221</td>\n",
       "      <td>2011-08-25 00:00:00</td>\n",
       "      <td>Brazil</td>\n",
       "    </tr>\n",
       "    <tr>\n",
       "      <th>19</th>\n",
       "      <td>Eduardo Martins</td>\n",
       "      <td>251</td>\n",
       "      <td>2012-01-09 00:00:00</td>\n",
       "      <td>Brazil</td>\n",
       "    </tr>\n",
       "    <tr>\n",
       "      <th>20</th>\n",
       "      <td>Alexandre Rocha</td>\n",
       "      <td>252</td>\n",
       "      <td>2012-01-22 00:00:00</td>\n",
       "      <td>Brazil</td>\n",
       "    </tr>\n",
       "    <tr>\n",
       "      <th>21</th>\n",
       "      <td>Fernanda Ramos</td>\n",
       "      <td>253</td>\n",
       "      <td>2012-01-22 00:00:00</td>\n",
       "      <td>Brazil</td>\n",
       "    </tr>\n",
       "    <tr>\n",
       "      <th>22</th>\n",
       "      <td>Fernanda Ramos</td>\n",
       "      <td>264</td>\n",
       "      <td>2012-03-03 00:00:00</td>\n",
       "      <td>Brazil</td>\n",
       "    </tr>\n",
       "    <tr>\n",
       "      <th>23</th>\n",
       "      <td>Alexandre Rocha</td>\n",
       "      <td>275</td>\n",
       "      <td>2012-04-25 00:00:00</td>\n",
       "      <td>Brazil</td>\n",
       "    </tr>\n",
       "    <tr>\n",
       "      <th>24</th>\n",
       "      <td>Alexandre Rocha</td>\n",
       "      <td>297</td>\n",
       "      <td>2012-07-28 00:00:00</td>\n",
       "      <td>Brazil</td>\n",
       "    </tr>\n",
       "    <tr>\n",
       "      <th>25</th>\n",
       "      <td>Luís Gonçalves</td>\n",
       "      <td>316</td>\n",
       "      <td>2012-10-27 00:00:00</td>\n",
       "      <td>Brazil</td>\n",
       "    </tr>\n",
       "    <tr>\n",
       "      <th>26</th>\n",
       "      <td>Fernanda Ramos</td>\n",
       "      <td>319</td>\n",
       "      <td>2012-11-01 00:00:00</td>\n",
       "      <td>Brazil</td>\n",
       "    </tr>\n",
       "    <tr>\n",
       "      <th>27</th>\n",
       "      <td>Luís Gonçalves</td>\n",
       "      <td>327</td>\n",
       "      <td>2012-12-07 00:00:00</td>\n",
       "      <td>Brazil</td>\n",
       "    </tr>\n",
       "    <tr>\n",
       "      <th>28</th>\n",
       "      <td>Alexandre Rocha</td>\n",
       "      <td>349</td>\n",
       "      <td>2013-03-18 00:00:00</td>\n",
       "      <td>Brazil</td>\n",
       "    </tr>\n",
       "    <tr>\n",
       "      <th>29</th>\n",
       "      <td>Roberto Almeida</td>\n",
       "      <td>350</td>\n",
       "      <td>2013-03-31 00:00:00</td>\n",
       "      <td>Brazil</td>\n",
       "    </tr>\n",
       "    <tr>\n",
       "      <th>30</th>\n",
       "      <td>Eduardo Martins</td>\n",
       "      <td>372</td>\n",
       "      <td>2013-07-02 00:00:00</td>\n",
       "      <td>Brazil</td>\n",
       "    </tr>\n",
       "    <tr>\n",
       "      <th>31</th>\n",
       "      <td>Roberto Almeida</td>\n",
       "      <td>373</td>\n",
       "      <td>2013-07-03 00:00:00</td>\n",
       "      <td>Brazil</td>\n",
       "    </tr>\n",
       "    <tr>\n",
       "      <th>32</th>\n",
       "      <td>Luís Gonçalves</td>\n",
       "      <td>382</td>\n",
       "      <td>2013-08-07 00:00:00</td>\n",
       "      <td>Brazil</td>\n",
       "    </tr>\n",
       "    <tr>\n",
       "      <th>33</th>\n",
       "      <td>Eduardo Martins</td>\n",
       "      <td>383</td>\n",
       "      <td>2013-08-12 00:00:00</td>\n",
       "      <td>Brazil</td>\n",
       "    </tr>\n",
       "    <tr>\n",
       "      <th>34</th>\n",
       "      <td>Roberto Almeida</td>\n",
       "      <td>395</td>\n",
       "      <td>2013-10-05 00:00:00</td>\n",
       "      <td>Brazil</td>\n",
       "    </tr>\n",
       "  </tbody>\n",
       "</table>\n",
       "</div>"
      ],
      "text/plain": [
       "       CustomerName  InvoiceId          InvoiceDate BillingCountry\n",
       "0   Eduardo Martins         25  2009-04-09 00:00:00         Brazil\n",
       "1   Roberto Almeida         34  2009-05-23 00:00:00         Brazil\n",
       "2    Fernanda Ramos         35  2009-06-05 00:00:00         Brazil\n",
       "3   Alexandre Rocha         57  2009-09-06 00:00:00         Brazil\n",
       "4    Fernanda Ramos         58  2009-09-07 00:00:00         Brazil\n",
       "5   Alexandre Rocha         68  2009-10-17 00:00:00         Brazil\n",
       "6    Fernanda Ramos         80  2009-12-10 00:00:00         Brazil\n",
       "7    Luís Gonçalves         98  2010-03-11 00:00:00         Brazil\n",
       "8    Luís Gonçalves        121  2010-06-13 00:00:00         Brazil\n",
       "9   Alexandre Rocha        123  2010-06-17 00:00:00         Brazil\n",
       "10   Fernanda Ramos        132  2010-07-31 00:00:00         Brazil\n",
       "11   Luís Gonçalves        143  2010-09-15 00:00:00         Brazil\n",
       "12  Eduardo Martins        154  2010-11-14 00:00:00         Brazil\n",
       "13  Roberto Almeida        155  2010-11-14 00:00:00         Brazil\n",
       "14  Roberto Almeida        166  2010-12-25 00:00:00         Brazil\n",
       "15  Eduardo Martins        177  2011-02-16 00:00:00         Brazil\n",
       "16   Luís Gonçalves        195  2011-05-06 00:00:00         Brazil\n",
       "17  Eduardo Martins        199  2011-05-21 00:00:00         Brazil\n",
       "18  Roberto Almeida        221  2011-08-25 00:00:00         Brazil\n",
       "19  Eduardo Martins        251  2012-01-09 00:00:00         Brazil\n",
       "20  Alexandre Rocha        252  2012-01-22 00:00:00         Brazil\n",
       "21   Fernanda Ramos        253  2012-01-22 00:00:00         Brazil\n",
       "22   Fernanda Ramos        264  2012-03-03 00:00:00         Brazil\n",
       "23  Alexandre Rocha        275  2012-04-25 00:00:00         Brazil\n",
       "24  Alexandre Rocha        297  2012-07-28 00:00:00         Brazil\n",
       "25   Luís Gonçalves        316  2012-10-27 00:00:00         Brazil\n",
       "26   Fernanda Ramos        319  2012-11-01 00:00:00         Brazil\n",
       "27   Luís Gonçalves        327  2012-12-07 00:00:00         Brazil\n",
       "28  Alexandre Rocha        349  2013-03-18 00:00:00         Brazil\n",
       "29  Roberto Almeida        350  2013-03-31 00:00:00         Brazil\n",
       "30  Eduardo Martins        372  2013-07-02 00:00:00         Brazil\n",
       "31  Roberto Almeida        373  2013-07-03 00:00:00         Brazil\n",
       "32   Luís Gonçalves        382  2013-08-07 00:00:00         Brazil\n",
       "33  Eduardo Martins        383  2013-08-12 00:00:00         Brazil\n",
       "34  Roberto Almeida        395  2013-10-05 00:00:00         Brazil"
      ]
     },
     "execution_count": 28,
     "metadata": {},
     "output_type": "execute_result"
    }
   ],
   "source": [
    "# 1\n",
    "\n",
    "query = \"\"\"\n",
    "SELECT c.FirstName || ' ' || c.LastName AS CustomerName, i.InvoiceId, i.InvoiceDate, i.BillingCountry\n",
    "FROM customers c\n",
    "JOIN invoices i ON c.CustomerId = i.CustomerId\n",
    "WHERE i.BillingCountry = 'Brazil';\n",
    "\"\"\"\n",
    "\n",
    "pd.read_sql_query(query, connection)"
   ]
  },
  {
   "cell_type": "code",
   "execution_count": null,
   "metadata": {},
   "outputs": [
    {
     "data": {
      "application/vnd.microsoft.datawrangler.viewer.v0+json": {
       "columns": [
        {
         "name": "index",
         "rawType": "int64",
         "type": "integer"
        },
        {
         "name": "SALESAGENT",
         "rawType": "object",
         "type": "string"
        },
        {
         "name": "InvoiceId",
         "rawType": "int64",
         "type": "integer"
        }
       ],
       "conversionMethod": "pd.DataFrame",
       "ref": "3bd18f46-f445-448c-8e8d-585cd04095c7",
       "rows": [
        [
         "0",
         "Jane Peacock",
         "98"
        ],
        [
         "1",
         "Jane Peacock",
         "121"
        ],
        [
         "2",
         "Jane Peacock",
         "143"
        ],
        [
         "3",
         "Jane Peacock",
         "195"
        ],
        [
         "4",
         "Jane Peacock",
         "316"
        ],
        [
         "5",
         "Jane Peacock",
         "327"
        ],
        [
         "6",
         "Jane Peacock",
         "382"
        ],
        [
         "7",
         "Jane Peacock",
         "99"
        ],
        [
         "8",
         "Jane Peacock",
         "110"
        ],
        [
         "9",
         "Jane Peacock",
         "165"
        ],
        [
         "10",
         "Jane Peacock",
         "294"
        ],
        [
         "11",
         "Jane Peacock",
         "317"
        ],
        [
         "12",
         "Jane Peacock",
         "339"
        ],
        [
         "13",
         "Jane Peacock",
         "391"
        ],
        [
         "14",
         "Jane Peacock",
         "34"
        ],
        [
         "15",
         "Jane Peacock",
         "155"
        ],
        [
         "16",
         "Jane Peacock",
         "166"
        ],
        [
         "17",
         "Jane Peacock",
         "221"
        ],
        [
         "18",
         "Jane Peacock",
         "350"
        ],
        [
         "19",
         "Jane Peacock",
         "373"
        ],
        [
         "20",
         "Jane Peacock",
         "395"
        ],
        [
         "21",
         "Jane Peacock",
         "36"
        ],
        [
         "22",
         "Jane Peacock",
         "47"
        ],
        [
         "23",
         "Jane Peacock",
         "102"
        ],
        [
         "24",
         "Jane Peacock",
         "231"
        ],
        [
         "25",
         "Jane Peacock",
         "254"
        ],
        [
         "26",
         "Jane Peacock",
         "276"
        ],
        [
         "27",
         "Jane Peacock",
         "328"
        ],
        [
         "28",
         "Jane Peacock",
         "112"
        ],
        [
         "29",
         "Jane Peacock",
         "135"
        ],
        [
         "30",
         "Jane Peacock",
         "157"
        ],
        [
         "31",
         "Jane Peacock",
         "209"
        ],
        [
         "32",
         "Jane Peacock",
         "330"
        ],
        [
         "33",
         "Jane Peacock",
         "341"
        ],
        [
         "34",
         "Jane Peacock",
         "396"
        ],
        [
         "35",
         "Jane Peacock",
         "15"
        ],
        [
         "36",
         "Jane Peacock",
         "26"
        ],
        [
         "37",
         "Jane Peacock",
         "81"
        ],
        [
         "38",
         "Jane Peacock",
         "210"
        ],
        [
         "39",
         "Jane Peacock",
         "233"
        ],
        [
         "40",
         "Jane Peacock",
         "255"
        ],
        [
         "41",
         "Jane Peacock",
         "307"
        ],
        [
         "42",
         "Jane Peacock",
         "92"
        ],
        [
         "43",
         "Jane Peacock",
         "103"
        ],
        [
         "44",
         "Jane Peacock",
         "158"
        ],
        [
         "45",
         "Jane Peacock",
         "287"
        ],
        [
         "46",
         "Jane Peacock",
         "310"
        ],
        [
         "47",
         "Jane Peacock",
         "332"
        ],
        [
         "48",
         "Jane Peacock",
         "384"
        ],
        [
         "49",
         "Jane Peacock",
         "48"
        ]
       ],
       "shape": {
        "columns": 2,
        "rows": 412
       }
      },
      "text/html": [
       "<div>\n",
       "<style scoped>\n",
       "    .dataframe tbody tr th:only-of-type {\n",
       "        vertical-align: middle;\n",
       "    }\n",
       "\n",
       "    .dataframe tbody tr th {\n",
       "        vertical-align: top;\n",
       "    }\n",
       "\n",
       "    .dataframe thead th {\n",
       "        text-align: right;\n",
       "    }\n",
       "</style>\n",
       "<table border=\"1\" class=\"dataframe\">\n",
       "  <thead>\n",
       "    <tr style=\"text-align: right;\">\n",
       "      <th></th>\n",
       "      <th>SALESAGENT</th>\n",
       "      <th>InvoiceId</th>\n",
       "    </tr>\n",
       "  </thead>\n",
       "  <tbody>\n",
       "    <tr>\n",
       "      <th>0</th>\n",
       "      <td>Jane Peacock</td>\n",
       "      <td>98</td>\n",
       "    </tr>\n",
       "    <tr>\n",
       "      <th>1</th>\n",
       "      <td>Jane Peacock</td>\n",
       "      <td>121</td>\n",
       "    </tr>\n",
       "    <tr>\n",
       "      <th>2</th>\n",
       "      <td>Jane Peacock</td>\n",
       "      <td>143</td>\n",
       "    </tr>\n",
       "    <tr>\n",
       "      <th>3</th>\n",
       "      <td>Jane Peacock</td>\n",
       "      <td>195</td>\n",
       "    </tr>\n",
       "    <tr>\n",
       "      <th>4</th>\n",
       "      <td>Jane Peacock</td>\n",
       "      <td>316</td>\n",
       "    </tr>\n",
       "    <tr>\n",
       "      <th>...</th>\n",
       "      <td>...</td>\n",
       "      <td>...</td>\n",
       "    </tr>\n",
       "    <tr>\n",
       "      <th>407</th>\n",
       "      <td>Steve Johnson</td>\n",
       "      <td>88</td>\n",
       "    </tr>\n",
       "    <tr>\n",
       "      <th>408</th>\n",
       "      <td>Steve Johnson</td>\n",
       "      <td>217</td>\n",
       "    </tr>\n",
       "    <tr>\n",
       "      <th>409</th>\n",
       "      <td>Steve Johnson</td>\n",
       "      <td>240</td>\n",
       "    </tr>\n",
       "    <tr>\n",
       "      <th>410</th>\n",
       "      <td>Steve Johnson</td>\n",
       "      <td>262</td>\n",
       "    </tr>\n",
       "    <tr>\n",
       "      <th>411</th>\n",
       "      <td>Steve Johnson</td>\n",
       "      <td>314</td>\n",
       "    </tr>\n",
       "  </tbody>\n",
       "</table>\n",
       "<p>412 rows × 2 columns</p>\n",
       "</div>"
      ],
      "text/plain": [
       "        SALESAGENT  InvoiceId\n",
       "0     Jane Peacock         98\n",
       "1     Jane Peacock        121\n",
       "2     Jane Peacock        143\n",
       "3     Jane Peacock        195\n",
       "4     Jane Peacock        316\n",
       "..             ...        ...\n",
       "407  Steve Johnson         88\n",
       "408  Steve Johnson        217\n",
       "409  Steve Johnson        240\n",
       "410  Steve Johnson        262\n",
       "411  Steve Johnson        314\n",
       "\n",
       "[412 rows x 2 columns]"
      ]
     },
     "execution_count": 29,
     "metadata": {},
     "output_type": "execute_result"
    }
   ],
   "source": [
    "# 2\n",
    "\n",
    "query = \"\"\"\n",
    "SELECT e.FirstName || ' ' || e.LastName AS SalesAgent, i.InvoiceId FROM employees e\n",
    "JOIN customers c ON e.EmployeeId = c.SupportRepId\n",
    "JOIN invoices i ON c.CustomerId = i.CustomerId;\n",
    "\"\"\"\n",
    "\n",
    "pd.read_sql_query(query, connection)"
   ]
  },
  {
   "cell_type": "code",
   "execution_count": 30,
   "metadata": {},
   "outputs": [
    {
     "data": {
      "application/vnd.microsoft.datawrangler.viewer.v0+json": {
       "columns": [
        {
         "name": "index",
         "rawType": "int64",
         "type": "integer"
        },
        {
         "name": "CustomerName",
         "rawType": "object",
         "type": "string"
        },
        {
         "name": "Country",
         "rawType": "object",
         "type": "string"
        },
        {
         "name": "SalesAgent",
         "rawType": "object",
         "type": "string"
        },
        {
         "name": "Total",
         "rawType": "float64",
         "type": "float"
        }
       ],
       "conversionMethod": "pd.DataFrame",
       "ref": "514b836b-f262-49a1-bdfd-1ab1376a5085",
       "rows": [
        [
         "0",
         "Luís Gonçalves",
         "Brazil",
         "Jane Peacock",
         "3.98"
        ],
        [
         "1",
         "Luís Gonçalves",
         "Brazil",
         "Jane Peacock",
         "3.96"
        ],
        [
         "2",
         "Luís Gonçalves",
         "Brazil",
         "Jane Peacock",
         "5.94"
        ],
        [
         "3",
         "Luís Gonçalves",
         "Brazil",
         "Jane Peacock",
         "0.99"
        ],
        [
         "4",
         "Luís Gonçalves",
         "Brazil",
         "Jane Peacock",
         "1.98"
        ],
        [
         "5",
         "Luís Gonçalves",
         "Brazil",
         "Jane Peacock",
         "13.86"
        ],
        [
         "6",
         "Luís Gonçalves",
         "Brazil",
         "Jane Peacock",
         "8.91"
        ],
        [
         "7",
         "Leonie Köhler",
         "Germany",
         "Steve Johnson",
         "1.98"
        ],
        [
         "8",
         "Leonie Köhler",
         "Germany",
         "Steve Johnson",
         "13.86"
        ],
        [
         "9",
         "Leonie Köhler",
         "Germany",
         "Steve Johnson",
         "8.91"
        ],
        [
         "10",
         "Leonie Köhler",
         "Germany",
         "Steve Johnson",
         "1.98"
        ],
        [
         "11",
         "Leonie Köhler",
         "Germany",
         "Steve Johnson",
         "3.96"
        ],
        [
         "12",
         "Leonie Köhler",
         "Germany",
         "Steve Johnson",
         "5.94"
        ],
        [
         "13",
         "Leonie Köhler",
         "Germany",
         "Steve Johnson",
         "0.99"
        ],
        [
         "14",
         "François Tremblay",
         "Canada",
         "Jane Peacock",
         "3.98"
        ],
        [
         "15",
         "François Tremblay",
         "Canada",
         "Jane Peacock",
         "13.86"
        ],
        [
         "16",
         "François Tremblay",
         "Canada",
         "Jane Peacock",
         "8.91"
        ],
        [
         "17",
         "François Tremblay",
         "Canada",
         "Jane Peacock",
         "1.98"
        ],
        [
         "18",
         "François Tremblay",
         "Canada",
         "Jane Peacock",
         "3.96"
        ],
        [
         "19",
         "François Tremblay",
         "Canada",
         "Jane Peacock",
         "5.94"
        ],
        [
         "20",
         "François Tremblay",
         "Canada",
         "Jane Peacock",
         "0.99"
        ],
        [
         "21",
         "Bjørn Hansen",
         "Norway",
         "Margaret Park",
         "3.96"
        ],
        [
         "22",
         "Bjørn Hansen",
         "Norway",
         "Margaret Park",
         "5.94"
        ],
        [
         "23",
         "Bjørn Hansen",
         "Norway",
         "Margaret Park",
         "0.99"
        ],
        [
         "24",
         "Bjørn Hansen",
         "Norway",
         "Margaret Park",
         "1.98"
        ],
        [
         "25",
         "Bjørn Hansen",
         "Norway",
         "Margaret Park",
         "15.86"
        ],
        [
         "26",
         "Bjørn Hansen",
         "Norway",
         "Margaret Park",
         "8.91"
        ],
        [
         "27",
         "Bjørn Hansen",
         "Norway",
         "Margaret Park",
         "1.98"
        ],
        [
         "28",
         "František Wichterlová",
         "Czech Republic",
         "Margaret Park",
         "1.98"
        ],
        [
         "29",
         "František Wichterlová",
         "Czech Republic",
         "Margaret Park",
         "3.96"
        ],
        [
         "30",
         "František Wichterlová",
         "Czech Republic",
         "Margaret Park",
         "5.94"
        ],
        [
         "31",
         "František Wichterlová",
         "Czech Republic",
         "Margaret Park",
         "0.99"
        ],
        [
         "32",
         "František Wichterlová",
         "Czech Republic",
         "Margaret Park",
         "1.98"
        ],
        [
         "33",
         "František Wichterlová",
         "Czech Republic",
         "Margaret Park",
         "16.86"
        ],
        [
         "34",
         "František Wichterlová",
         "Czech Republic",
         "Margaret Park",
         "8.91"
        ],
        [
         "35",
         "Helena Holý",
         "Czech Republic",
         "Steve Johnson",
         "8.91"
        ],
        [
         "36",
         "Helena Holý",
         "Czech Republic",
         "Steve Johnson",
         "1.98"
        ],
        [
         "37",
         "Helena Holý",
         "Czech Republic",
         "Steve Johnson",
         "3.96"
        ],
        [
         "38",
         "Helena Holý",
         "Czech Republic",
         "Steve Johnson",
         "5.94"
        ],
        [
         "39",
         "Helena Holý",
         "Czech Republic",
         "Steve Johnson",
         "0.99"
        ],
        [
         "40",
         "Helena Holý",
         "Czech Republic",
         "Steve Johnson",
         "1.98"
        ],
        [
         "41",
         "Helena Holý",
         "Czech Republic",
         "Steve Johnson",
         "25.86"
        ],
        [
         "42",
         "Astrid Gruber",
         "Austria",
         "Steve Johnson",
         "1.98"
        ],
        [
         "43",
         "Astrid Gruber",
         "Austria",
         "Steve Johnson",
         "18.86"
        ],
        [
         "44",
         "Astrid Gruber",
         "Austria",
         "Steve Johnson",
         "8.91"
        ],
        [
         "45",
         "Astrid Gruber",
         "Austria",
         "Steve Johnson",
         "1.98"
        ],
        [
         "46",
         "Astrid Gruber",
         "Austria",
         "Steve Johnson",
         "3.96"
        ],
        [
         "47",
         "Astrid Gruber",
         "Austria",
         "Steve Johnson",
         "5.94"
        ],
        [
         "48",
         "Astrid Gruber",
         "Austria",
         "Steve Johnson",
         "0.99"
        ],
        [
         "49",
         "Daan Peeters",
         "Belgium",
         "Margaret Park",
         "5.94"
        ]
       ],
       "shape": {
        "columns": 4,
        "rows": 412
       }
      },
      "text/html": [
       "<div>\n",
       "<style scoped>\n",
       "    .dataframe tbody tr th:only-of-type {\n",
       "        vertical-align: middle;\n",
       "    }\n",
       "\n",
       "    .dataframe tbody tr th {\n",
       "        vertical-align: top;\n",
       "    }\n",
       "\n",
       "    .dataframe thead th {\n",
       "        text-align: right;\n",
       "    }\n",
       "</style>\n",
       "<table border=\"1\" class=\"dataframe\">\n",
       "  <thead>\n",
       "    <tr style=\"text-align: right;\">\n",
       "      <th></th>\n",
       "      <th>CustomerName</th>\n",
       "      <th>Country</th>\n",
       "      <th>SalesAgent</th>\n",
       "      <th>Total</th>\n",
       "    </tr>\n",
       "  </thead>\n",
       "  <tbody>\n",
       "    <tr>\n",
       "      <th>0</th>\n",
       "      <td>Luís Gonçalves</td>\n",
       "      <td>Brazil</td>\n",
       "      <td>Jane Peacock</td>\n",
       "      <td>3.98</td>\n",
       "    </tr>\n",
       "    <tr>\n",
       "      <th>1</th>\n",
       "      <td>Luís Gonçalves</td>\n",
       "      <td>Brazil</td>\n",
       "      <td>Jane Peacock</td>\n",
       "      <td>3.96</td>\n",
       "    </tr>\n",
       "    <tr>\n",
       "      <th>2</th>\n",
       "      <td>Luís Gonçalves</td>\n",
       "      <td>Brazil</td>\n",
       "      <td>Jane Peacock</td>\n",
       "      <td>5.94</td>\n",
       "    </tr>\n",
       "    <tr>\n",
       "      <th>3</th>\n",
       "      <td>Luís Gonçalves</td>\n",
       "      <td>Brazil</td>\n",
       "      <td>Jane Peacock</td>\n",
       "      <td>0.99</td>\n",
       "    </tr>\n",
       "    <tr>\n",
       "      <th>4</th>\n",
       "      <td>Luís Gonçalves</td>\n",
       "      <td>Brazil</td>\n",
       "      <td>Jane Peacock</td>\n",
       "      <td>1.98</td>\n",
       "    </tr>\n",
       "    <tr>\n",
       "      <th>...</th>\n",
       "      <td>...</td>\n",
       "      <td>...</td>\n",
       "      <td>...</td>\n",
       "      <td>...</td>\n",
       "    </tr>\n",
       "    <tr>\n",
       "      <th>407</th>\n",
       "      <td>Puja Srivastava</td>\n",
       "      <td>India</td>\n",
       "      <td>Jane Peacock</td>\n",
       "      <td>5.94</td>\n",
       "    </tr>\n",
       "    <tr>\n",
       "      <th>408</th>\n",
       "      <td>Puja Srivastava</td>\n",
       "      <td>India</td>\n",
       "      <td>Jane Peacock</td>\n",
       "      <td>1.99</td>\n",
       "    </tr>\n",
       "    <tr>\n",
       "      <th>409</th>\n",
       "      <td>Puja Srivastava</td>\n",
       "      <td>India</td>\n",
       "      <td>Jane Peacock</td>\n",
       "      <td>1.98</td>\n",
       "    </tr>\n",
       "    <tr>\n",
       "      <th>410</th>\n",
       "      <td>Puja Srivastava</td>\n",
       "      <td>India</td>\n",
       "      <td>Jane Peacock</td>\n",
       "      <td>13.86</td>\n",
       "    </tr>\n",
       "    <tr>\n",
       "      <th>411</th>\n",
       "      <td>Puja Srivastava</td>\n",
       "      <td>India</td>\n",
       "      <td>Jane Peacock</td>\n",
       "      <td>8.91</td>\n",
       "    </tr>\n",
       "  </tbody>\n",
       "</table>\n",
       "<p>412 rows × 4 columns</p>\n",
       "</div>"
      ],
      "text/plain": [
       "        CustomerName Country    SalesAgent  Total\n",
       "0     Luís Gonçalves  Brazil  Jane Peacock   3.98\n",
       "1     Luís Gonçalves  Brazil  Jane Peacock   3.96\n",
       "2     Luís Gonçalves  Brazil  Jane Peacock   5.94\n",
       "3     Luís Gonçalves  Brazil  Jane Peacock   0.99\n",
       "4     Luís Gonçalves  Brazil  Jane Peacock   1.98\n",
       "..               ...     ...           ...    ...\n",
       "407  Puja Srivastava   India  Jane Peacock   5.94\n",
       "408  Puja Srivastava   India  Jane Peacock   1.99\n",
       "409  Puja Srivastava   India  Jane Peacock   1.98\n",
       "410  Puja Srivastava   India  Jane Peacock  13.86\n",
       "411  Puja Srivastava   India  Jane Peacock   8.91\n",
       "\n",
       "[412 rows x 4 columns]"
      ]
     },
     "execution_count": 30,
     "metadata": {},
     "output_type": "execute_result"
    }
   ],
   "source": [
    "# 3\n",
    "\n",
    "query = \"\"\"\n",
    "SELECT c.FirstName || ' ' || c.LastName AS CustomerName, c.Country, e.FirstName || ' ' || e.LastName AS SalesAgent, i.Total\n",
    "FROM customers c\n",
    "JOIN employees e ON c.SupportRepId = e.EmployeeId\n",
    "JOIN invoices i ON c.CustomerId = i.CustomerId;\n",
    "\"\"\"\n",
    "\n",
    "pd.read_sql_query(query, connection)"
   ]
  },
  {
   "cell_type": "code",
   "execution_count": null,
   "metadata": {},
   "outputs": [
    {
     "data": {
      "application/vnd.microsoft.datawrangler.viewer.v0+json": {
       "columns": [
        {
         "name": "index",
         "rawType": "int64",
         "type": "integer"
        },
        {
         "name": "InvoiceId",
         "rawType": "int64",
         "type": "integer"
        },
        {
         "name": "TrackName",
         "rawType": "object",
         "type": "string"
        }
       ],
       "conversionMethod": "pd.DataFrame",
       "ref": "d3844bcc-1e72-45dd-893d-9e517b5d0ef8",
       "rows": [
        [
         "0",
         "1",
         "Balls to the Wall"
        ],
        [
         "1",
         "1",
         "Restless and Wild"
        ],
        [
         "2",
         "2",
         "Put The Finger On You"
        ],
        [
         "3",
         "2",
         "Inject The Venom"
        ],
        [
         "4",
         "2",
         "Evil Walks"
        ],
        [
         "5",
         "2",
         "Breaking The Rules"
        ],
        [
         "6",
         "3",
         "Dog Eat Dog"
        ],
        [
         "7",
         "3",
         "Overdose"
        ],
        [
         "8",
         "3",
         "Love In An Elevator"
        ],
        [
         "9",
         "3",
         "Janie's Got A Gun"
        ],
        [
         "10",
         "3",
         "Deuces Are Wild"
        ],
        [
         "11",
         "3",
         "Angel"
        ],
        [
         "12",
         "4",
         "Right Through You"
        ],
        [
         "13",
         "4",
         "Not The Doctor"
        ],
        [
         "14",
         "4",
         "Bleed The Freak"
        ],
        [
         "15",
         "4",
         "Confusion"
        ],
        [
         "16",
         "4",
         "Por Causa De Você"
        ],
        [
         "17",
         "4",
         "Angela"
        ],
        [
         "18",
         "4",
         "Master Of Puppets"
        ],
        [
         "19",
         "4",
         "Welcome Home (Sanitarium)"
        ],
        [
         "20",
         "4",
         "Set It Off"
        ],
        [
         "21",
         "5",
         "Your Time Has Come"
        ],
        [
         "22",
         "5",
         "Dandelion"
        ],
        [
         "23",
         "5",
         "Rock 'N' Roll Music"
        ],
        [
         "24",
         "5",
         "Moon germs"
        ],
        [
         "25",
         "5",
         "Super Terrorizer"
        ],
        [
         "26",
         "5",
         "Heart Of Gold"
        ],
        [
         "27",
         "5",
         "Evil Woman"
        ],
        [
         "28",
         "5",
         "Cornucopia"
        ],
        [
         "29",
         "5",
         "Bowels Of The Devil"
        ],
        [
         "30",
         "5",
         "Body Count Anthem"
        ],
        [
         "31",
         "5",
         "Jerusalem"
        ],
        [
         "32",
         "5",
         "When My Left Eye Jumps"
        ],
        [
         "33",
         "5",
         "Meditação"
        ],
        [
         "34",
         "5",
         "Esse Cara"
        ],
        [
         "35",
         "6",
         "Bye, Bye Brasil"
        ],
        [
         "36",
         "7",
         "Atras Da Porta"
        ],
        [
         "37",
         "7",
         "Tatuagem"
        ],
        [
         "38",
         "8",
         "Morena De Angola"
        ],
        [
         "39",
         "8",
         "A Banda"
        ],
        [
         "40",
         "9",
         "Com Açúcar E Com Afeto"
        ],
        [
         "41",
         "9",
         "Meu Caro Amigo"
        ],
        [
         "42",
         "9",
         "Trocando Em Miúdos"
        ],
        [
         "43",
         "9",
         "Gota D'água"
        ],
        [
         "44",
         "10",
         "Etnia"
        ],
        [
         "45",
         "10",
         "Samba Do Lado"
        ],
        [
         "46",
         "10",
         "Sobremesa"
        ],
        [
         "47",
         "10",
         "Sangue De Bairro"
        ],
        [
         "48",
         "10",
         "Amor De Muito"
        ],
        [
         "49",
         "10",
         "Maracatu Atômico [Trip Hop]"
        ]
       ],
       "shape": {
        "columns": 2,
        "rows": 2240
       }
      },
      "text/html": [
       "<div>\n",
       "<style scoped>\n",
       "    .dataframe tbody tr th:only-of-type {\n",
       "        vertical-align: middle;\n",
       "    }\n",
       "\n",
       "    .dataframe tbody tr th {\n",
       "        vertical-align: top;\n",
       "    }\n",
       "\n",
       "    .dataframe thead th {\n",
       "        text-align: right;\n",
       "    }\n",
       "</style>\n",
       "<table border=\"1\" class=\"dataframe\">\n",
       "  <thead>\n",
       "    <tr style=\"text-align: right;\">\n",
       "      <th></th>\n",
       "      <th>InvoiceId</th>\n",
       "      <th>TrackName</th>\n",
       "    </tr>\n",
       "  </thead>\n",
       "  <tbody>\n",
       "    <tr>\n",
       "      <th>0</th>\n",
       "      <td>1</td>\n",
       "      <td>Balls to the Wall</td>\n",
       "    </tr>\n",
       "    <tr>\n",
       "      <th>1</th>\n",
       "      <td>1</td>\n",
       "      <td>Restless and Wild</td>\n",
       "    </tr>\n",
       "    <tr>\n",
       "      <th>2</th>\n",
       "      <td>2</td>\n",
       "      <td>Put The Finger On You</td>\n",
       "    </tr>\n",
       "    <tr>\n",
       "      <th>3</th>\n",
       "      <td>2</td>\n",
       "      <td>Inject The Venom</td>\n",
       "    </tr>\n",
       "    <tr>\n",
       "      <th>4</th>\n",
       "      <td>2</td>\n",
       "      <td>Evil Walks</td>\n",
       "    </tr>\n",
       "    <tr>\n",
       "      <th>...</th>\n",
       "      <td>...</td>\n",
       "      <td>...</td>\n",
       "    </tr>\n",
       "    <tr>\n",
       "      <th>2235</th>\n",
       "      <td>411</td>\n",
       "      <td>Looking For Love</td>\n",
       "    </tr>\n",
       "    <tr>\n",
       "      <th>2236</th>\n",
       "      <td>411</td>\n",
       "      <td>Sweet Lady Luck</td>\n",
       "    </tr>\n",
       "    <tr>\n",
       "      <th>2237</th>\n",
       "      <td>411</td>\n",
       "      <td>Feirinha da Pavuna/Luz do Repente/Bagaço da La...</td>\n",
       "    </tr>\n",
       "    <tr>\n",
       "      <th>2238</th>\n",
       "      <td>411</td>\n",
       "      <td>Samba pras moças</td>\n",
       "    </tr>\n",
       "    <tr>\n",
       "      <th>2239</th>\n",
       "      <td>412</td>\n",
       "      <td>Hot Girl</td>\n",
       "    </tr>\n",
       "  </tbody>\n",
       "</table>\n",
       "<p>2240 rows × 2 columns</p>\n",
       "</div>"
      ],
      "text/plain": [
       "      InvoiceId                                          TrackName\n",
       "0             1                                  Balls to the Wall\n",
       "1             1                                  Restless and Wild\n",
       "2             2                              Put The Finger On You\n",
       "3             2                                   Inject The Venom\n",
       "4             2                                         Evil Walks\n",
       "...         ...                                                ...\n",
       "2235        411                                   Looking For Love\n",
       "2236        411                                    Sweet Lady Luck\n",
       "2237        411  Feirinha da Pavuna/Luz do Repente/Bagaço da La...\n",
       "2238        411                                   Samba pras moças\n",
       "2239        412                                           Hot Girl\n",
       "\n",
       "[2240 rows x 2 columns]"
      ]
     },
     "execution_count": 32,
     "metadata": {},
     "output_type": "execute_result"
    }
   ],
   "source": [
    "# 4\n",
    "\n",
    "query = \"\"\"\n",
    "SELECT ii.invoiceid, t.name AS TrackName FROM invoice_items AS ii\n",
    "JOIN tracks t ON ii.TrackId = t.TrackId;\n",
    "\"\"\"\n",
    "\n",
    "pd.read_sql_query(query, connection)"
   ]
  },
  {
   "cell_type": "code",
   "execution_count": 33,
   "metadata": {},
   "outputs": [
    {
     "data": {
      "application/vnd.microsoft.datawrangler.viewer.v0+json": {
       "columns": [
        {
         "name": "index",
         "rawType": "int64",
         "type": "integer"
        },
        {
         "name": "TrackName",
         "rawType": "object",
         "type": "string"
        },
        {
         "name": "MediaType",
         "rawType": "object",
         "type": "string"
        },
        {
         "name": "Album",
         "rawType": "object",
         "type": "string"
        },
        {
         "name": "Genre",
         "rawType": "object",
         "type": "string"
        }
       ],
       "conversionMethod": "pd.DataFrame",
       "ref": "5f474725-9d7e-4554-9387-b2eb367ccad2",
       "rows": [
        [
         "0",
         "For Those About To Rock (We Salute You)",
         "MPEG audio file",
         "For Those About To Rock We Salute You",
         "Rock"
        ],
        [
         "1",
         "Balls to the Wall",
         "Protected AAC audio file",
         "Balls to the Wall",
         "Rock"
        ],
        [
         "2",
         "Fast As a Shark",
         "Protected AAC audio file",
         "Restless and Wild",
         "Rock"
        ],
        [
         "3",
         "Restless and Wild",
         "Protected AAC audio file",
         "Restless and Wild",
         "Rock"
        ],
        [
         "4",
         "Princess of the Dawn",
         "Protected AAC audio file",
         "Restless and Wild",
         "Rock"
        ],
        [
         "5",
         "Put The Finger On You",
         "MPEG audio file",
         "For Those About To Rock We Salute You",
         "Rock"
        ],
        [
         "6",
         "Let's Get It Up",
         "MPEG audio file",
         "For Those About To Rock We Salute You",
         "Rock"
        ],
        [
         "7",
         "Inject The Venom",
         "MPEG audio file",
         "For Those About To Rock We Salute You",
         "Rock"
        ],
        [
         "8",
         "Snowballed",
         "MPEG audio file",
         "For Those About To Rock We Salute You",
         "Rock"
        ],
        [
         "9",
         "Evil Walks",
         "MPEG audio file",
         "For Those About To Rock We Salute You",
         "Rock"
        ],
        [
         "10",
         "C.O.D.",
         "MPEG audio file",
         "For Those About To Rock We Salute You",
         "Rock"
        ],
        [
         "11",
         "Breaking The Rules",
         "MPEG audio file",
         "For Those About To Rock We Salute You",
         "Rock"
        ],
        [
         "12",
         "Night Of The Long Knives",
         "MPEG audio file",
         "For Those About To Rock We Salute You",
         "Rock"
        ],
        [
         "13",
         "Spellbound",
         "MPEG audio file",
         "For Those About To Rock We Salute You",
         "Rock"
        ],
        [
         "14",
         "Go Down",
         "MPEG audio file",
         "Let There Be Rock",
         "Rock"
        ],
        [
         "15",
         "Dog Eat Dog",
         "MPEG audio file",
         "Let There Be Rock",
         "Rock"
        ],
        [
         "16",
         "Let There Be Rock",
         "MPEG audio file",
         "Let There Be Rock",
         "Rock"
        ],
        [
         "17",
         "Bad Boy Boogie",
         "MPEG audio file",
         "Let There Be Rock",
         "Rock"
        ],
        [
         "18",
         "Problem Child",
         "MPEG audio file",
         "Let There Be Rock",
         "Rock"
        ],
        [
         "19",
         "Overdose",
         "MPEG audio file",
         "Let There Be Rock",
         "Rock"
        ],
        [
         "20",
         "Hell Ain't A Bad Place To Be",
         "MPEG audio file",
         "Let There Be Rock",
         "Rock"
        ],
        [
         "21",
         "Whole Lotta Rosie",
         "MPEG audio file",
         "Let There Be Rock",
         "Rock"
        ],
        [
         "22",
         "Walk On Water",
         "MPEG audio file",
         "Big Ones",
         "Rock"
        ],
        [
         "23",
         "Love In An Elevator",
         "MPEG audio file",
         "Big Ones",
         "Rock"
        ],
        [
         "24",
         "Rag Doll",
         "MPEG audio file",
         "Big Ones",
         "Rock"
        ],
        [
         "25",
         "What It Takes",
         "MPEG audio file",
         "Big Ones",
         "Rock"
        ],
        [
         "26",
         "Dude (Looks Like A Lady)",
         "MPEG audio file",
         "Big Ones",
         "Rock"
        ],
        [
         "27",
         "Janie's Got A Gun",
         "MPEG audio file",
         "Big Ones",
         "Rock"
        ],
        [
         "28",
         "Cryin'",
         "MPEG audio file",
         "Big Ones",
         "Rock"
        ],
        [
         "29",
         "Amazing",
         "MPEG audio file",
         "Big Ones",
         "Rock"
        ],
        [
         "30",
         "Blind Man",
         "MPEG audio file",
         "Big Ones",
         "Rock"
        ],
        [
         "31",
         "Deuces Are Wild",
         "MPEG audio file",
         "Big Ones",
         "Rock"
        ],
        [
         "32",
         "The Other Side",
         "MPEG audio file",
         "Big Ones",
         "Rock"
        ],
        [
         "33",
         "Crazy",
         "MPEG audio file",
         "Big Ones",
         "Rock"
        ],
        [
         "34",
         "Eat The Rich",
         "MPEG audio file",
         "Big Ones",
         "Rock"
        ],
        [
         "35",
         "Angel",
         "MPEG audio file",
         "Big Ones",
         "Rock"
        ],
        [
         "36",
         "Livin' On The Edge",
         "MPEG audio file",
         "Big Ones",
         "Rock"
        ],
        [
         "37",
         "All I Really Want",
         "MPEG audio file",
         "Jagged Little Pill",
         "Rock"
        ],
        [
         "38",
         "You Oughta Know",
         "MPEG audio file",
         "Jagged Little Pill",
         "Rock"
        ],
        [
         "39",
         "Perfect",
         "MPEG audio file",
         "Jagged Little Pill",
         "Rock"
        ],
        [
         "40",
         "Hand In My Pocket",
         "MPEG audio file",
         "Jagged Little Pill",
         "Rock"
        ],
        [
         "41",
         "Right Through You",
         "MPEG audio file",
         "Jagged Little Pill",
         "Rock"
        ],
        [
         "42",
         "Forgiven",
         "MPEG audio file",
         "Jagged Little Pill",
         "Rock"
        ],
        [
         "43",
         "You Learn",
         "MPEG audio file",
         "Jagged Little Pill",
         "Rock"
        ],
        [
         "44",
         "Head Over Feet",
         "MPEG audio file",
         "Jagged Little Pill",
         "Rock"
        ],
        [
         "45",
         "Mary Jane",
         "MPEG audio file",
         "Jagged Little Pill",
         "Rock"
        ],
        [
         "46",
         "Ironic",
         "MPEG audio file",
         "Jagged Little Pill",
         "Rock"
        ],
        [
         "47",
         "Not The Doctor",
         "MPEG audio file",
         "Jagged Little Pill",
         "Rock"
        ],
        [
         "48",
         "Wake Up",
         "MPEG audio file",
         "Jagged Little Pill",
         "Rock"
        ],
        [
         "49",
         "You Oughta Know (Alternate)",
         "MPEG audio file",
         "Jagged Little Pill",
         "Rock"
        ]
       ],
       "shape": {
        "columns": 4,
        "rows": 3503
       }
      },
      "text/html": [
       "<div>\n",
       "<style scoped>\n",
       "    .dataframe tbody tr th:only-of-type {\n",
       "        vertical-align: middle;\n",
       "    }\n",
       "\n",
       "    .dataframe tbody tr th {\n",
       "        vertical-align: top;\n",
       "    }\n",
       "\n",
       "    .dataframe thead th {\n",
       "        text-align: right;\n",
       "    }\n",
       "</style>\n",
       "<table border=\"1\" class=\"dataframe\">\n",
       "  <thead>\n",
       "    <tr style=\"text-align: right;\">\n",
       "      <th></th>\n",
       "      <th>TrackName</th>\n",
       "      <th>MediaType</th>\n",
       "      <th>Album</th>\n",
       "      <th>Genre</th>\n",
       "    </tr>\n",
       "  </thead>\n",
       "  <tbody>\n",
       "    <tr>\n",
       "      <th>0</th>\n",
       "      <td>For Those About To Rock (We Salute You)</td>\n",
       "      <td>MPEG audio file</td>\n",
       "      <td>For Those About To Rock We Salute You</td>\n",
       "      <td>Rock</td>\n",
       "    </tr>\n",
       "    <tr>\n",
       "      <th>1</th>\n",
       "      <td>Balls to the Wall</td>\n",
       "      <td>Protected AAC audio file</td>\n",
       "      <td>Balls to the Wall</td>\n",
       "      <td>Rock</td>\n",
       "    </tr>\n",
       "    <tr>\n",
       "      <th>2</th>\n",
       "      <td>Fast As a Shark</td>\n",
       "      <td>Protected AAC audio file</td>\n",
       "      <td>Restless and Wild</td>\n",
       "      <td>Rock</td>\n",
       "    </tr>\n",
       "    <tr>\n",
       "      <th>3</th>\n",
       "      <td>Restless and Wild</td>\n",
       "      <td>Protected AAC audio file</td>\n",
       "      <td>Restless and Wild</td>\n",
       "      <td>Rock</td>\n",
       "    </tr>\n",
       "    <tr>\n",
       "      <th>4</th>\n",
       "      <td>Princess of the Dawn</td>\n",
       "      <td>Protected AAC audio file</td>\n",
       "      <td>Restless and Wild</td>\n",
       "      <td>Rock</td>\n",
       "    </tr>\n",
       "    <tr>\n",
       "      <th>...</th>\n",
       "      <td>...</td>\n",
       "      <td>...</td>\n",
       "      <td>...</td>\n",
       "      <td>...</td>\n",
       "    </tr>\n",
       "    <tr>\n",
       "      <th>3498</th>\n",
       "      <td>Pini Di Roma (Pinien Von Rom) \\ I Pini Della V...</td>\n",
       "      <td>Protected AAC audio file</td>\n",
       "      <td>Respighi:Pines of Rome</td>\n",
       "      <td>Classical</td>\n",
       "    </tr>\n",
       "    <tr>\n",
       "      <th>3499</th>\n",
       "      <td>String Quartet No. 12 in C Minor, D. 703 \"Quar...</td>\n",
       "      <td>Protected AAC audio file</td>\n",
       "      <td>Schubert: The Late String Quartets &amp; String Qu...</td>\n",
       "      <td>Classical</td>\n",
       "    </tr>\n",
       "    <tr>\n",
       "      <th>3500</th>\n",
       "      <td>L'orfeo, Act 3, Sinfonia (Orchestra)</td>\n",
       "      <td>Protected AAC audio file</td>\n",
       "      <td>Monteverdi: L'Orfeo</td>\n",
       "      <td>Classical</td>\n",
       "    </tr>\n",
       "    <tr>\n",
       "      <th>3501</th>\n",
       "      <td>Quintet for Horn, Violin, 2 Violas, and Cello ...</td>\n",
       "      <td>Protected AAC audio file</td>\n",
       "      <td>Mozart: Chamber Music</td>\n",
       "      <td>Classical</td>\n",
       "    </tr>\n",
       "    <tr>\n",
       "      <th>3502</th>\n",
       "      <td>Die Zauberflöte, K.620: \"Der Hölle Rache Kocht...</td>\n",
       "      <td>Protected AAC audio file</td>\n",
       "      <td>Mozart Gala: Famous Arias</td>\n",
       "      <td>Opera</td>\n",
       "    </tr>\n",
       "  </tbody>\n",
       "</table>\n",
       "<p>3503 rows × 4 columns</p>\n",
       "</div>"
      ],
      "text/plain": [
       "                                              TrackName  \\\n",
       "0               For Those About To Rock (We Salute You)   \n",
       "1                                     Balls to the Wall   \n",
       "2                                       Fast As a Shark   \n",
       "3                                     Restless and Wild   \n",
       "4                                  Princess of the Dawn   \n",
       "...                                                 ...   \n",
       "3498  Pini Di Roma (Pinien Von Rom) \\ I Pini Della V...   \n",
       "3499  String Quartet No. 12 in C Minor, D. 703 \"Quar...   \n",
       "3500               L'orfeo, Act 3, Sinfonia (Orchestra)   \n",
       "3501  Quintet for Horn, Violin, 2 Violas, and Cello ...   \n",
       "3502  Die Zauberflöte, K.620: \"Der Hölle Rache Kocht...   \n",
       "\n",
       "                     MediaType  \\\n",
       "0              MPEG audio file   \n",
       "1     Protected AAC audio file   \n",
       "2     Protected AAC audio file   \n",
       "3     Protected AAC audio file   \n",
       "4     Protected AAC audio file   \n",
       "...                        ...   \n",
       "3498  Protected AAC audio file   \n",
       "3499  Protected AAC audio file   \n",
       "3500  Protected AAC audio file   \n",
       "3501  Protected AAC audio file   \n",
       "3502  Protected AAC audio file   \n",
       "\n",
       "                                                  Album      Genre  \n",
       "0                 For Those About To Rock We Salute You       Rock  \n",
       "1                                     Balls to the Wall       Rock  \n",
       "2                                     Restless and Wild       Rock  \n",
       "3                                     Restless and Wild       Rock  \n",
       "4                                     Restless and Wild       Rock  \n",
       "...                                                 ...        ...  \n",
       "3498                             Respighi:Pines of Rome  Classical  \n",
       "3499  Schubert: The Late String Quartets & String Qu...  Classical  \n",
       "3500                                Monteverdi: L'Orfeo  Classical  \n",
       "3501                              Mozart: Chamber Music  Classical  \n",
       "3502                          Mozart Gala: Famous Arias      Opera  \n",
       "\n",
       "[3503 rows x 4 columns]"
      ]
     },
     "execution_count": 33,
     "metadata": {},
     "output_type": "execute_result"
    }
   ],
   "source": [
    "# 5\n",
    "\n",
    "query = \"\"\"\n",
    "SELECT t.Name AS TrackName, mt.Name AS MediaType, a.Title AS Album, g.Name AS Genre FROM tracks t\n",
    "JOIN media_types mt ON t.MediaTypeId = mt.MediaTypeId\n",
    "JOIN albums a ON t.AlbumId = a.AlbumId\n",
    "JOIN genres g ON t.GenreId = g.GenreId;\n",
    "\"\"\"\n",
    "\n",
    "pd.read_sql_query(query, connection)"
   ]
  },
  {
   "cell_type": "code",
   "execution_count": 34,
   "metadata": {},
   "outputs": [
    {
     "data": {
      "application/vnd.microsoft.datawrangler.viewer.v0+json": {
       "columns": [
        {
         "name": "index",
         "rawType": "int64",
         "type": "integer"
        },
        {
         "name": "Playlist",
         "rawType": "object",
         "type": "string"
        },
        {
         "name": "COUNT(pt.TrackId)",
         "rawType": "int64",
         "type": "integer"
        }
       ],
       "conversionMethod": "pd.DataFrame",
       "ref": "698cf459-e57c-487d-8a18-195c352b5def",
       "rows": [
        [
         "0",
         "90’s Music",
         "1477"
        ],
        [
         "1",
         "Brazilian Music",
         "39"
        ],
        [
         "2",
         "Classical",
         "75"
        ],
        [
         "3",
         "Classical 101 - Deep Cuts",
         "25"
        ],
        [
         "4",
         "Classical 101 - Next Steps",
         "25"
        ],
        [
         "5",
         "Classical 101 - The Basics",
         "25"
        ],
        [
         "6",
         "Grunge",
         "15"
        ],
        [
         "7",
         "Heavy Metal Classic",
         "26"
        ],
        [
         "8",
         "Music",
         "6580"
        ],
        [
         "9",
         "Music Videos",
         "1"
        ],
        [
         "10",
         "On-The-Go 1",
         "1"
        ],
        [
         "11",
         "TV Shows",
         "426"
        ]
       ],
       "shape": {
        "columns": 2,
        "rows": 12
       }
      },
      "text/html": [
       "<div>\n",
       "<style scoped>\n",
       "    .dataframe tbody tr th:only-of-type {\n",
       "        vertical-align: middle;\n",
       "    }\n",
       "\n",
       "    .dataframe tbody tr th {\n",
       "        vertical-align: top;\n",
       "    }\n",
       "\n",
       "    .dataframe thead th {\n",
       "        text-align: right;\n",
       "    }\n",
       "</style>\n",
       "<table border=\"1\" class=\"dataframe\">\n",
       "  <thead>\n",
       "    <tr style=\"text-align: right;\">\n",
       "      <th></th>\n",
       "      <th>Playlist</th>\n",
       "      <th>COUNT(pt.TrackId)</th>\n",
       "    </tr>\n",
       "  </thead>\n",
       "  <tbody>\n",
       "    <tr>\n",
       "      <th>0</th>\n",
       "      <td>90’s Music</td>\n",
       "      <td>1477</td>\n",
       "    </tr>\n",
       "    <tr>\n",
       "      <th>1</th>\n",
       "      <td>Brazilian Music</td>\n",
       "      <td>39</td>\n",
       "    </tr>\n",
       "    <tr>\n",
       "      <th>2</th>\n",
       "      <td>Classical</td>\n",
       "      <td>75</td>\n",
       "    </tr>\n",
       "    <tr>\n",
       "      <th>3</th>\n",
       "      <td>Classical 101 - Deep Cuts</td>\n",
       "      <td>25</td>\n",
       "    </tr>\n",
       "    <tr>\n",
       "      <th>4</th>\n",
       "      <td>Classical 101 - Next Steps</td>\n",
       "      <td>25</td>\n",
       "    </tr>\n",
       "    <tr>\n",
       "      <th>5</th>\n",
       "      <td>Classical 101 - The Basics</td>\n",
       "      <td>25</td>\n",
       "    </tr>\n",
       "    <tr>\n",
       "      <th>6</th>\n",
       "      <td>Grunge</td>\n",
       "      <td>15</td>\n",
       "    </tr>\n",
       "    <tr>\n",
       "      <th>7</th>\n",
       "      <td>Heavy Metal Classic</td>\n",
       "      <td>26</td>\n",
       "    </tr>\n",
       "    <tr>\n",
       "      <th>8</th>\n",
       "      <td>Music</td>\n",
       "      <td>6580</td>\n",
       "    </tr>\n",
       "    <tr>\n",
       "      <th>9</th>\n",
       "      <td>Music Videos</td>\n",
       "      <td>1</td>\n",
       "    </tr>\n",
       "    <tr>\n",
       "      <th>10</th>\n",
       "      <td>On-The-Go 1</td>\n",
       "      <td>1</td>\n",
       "    </tr>\n",
       "    <tr>\n",
       "      <th>11</th>\n",
       "      <td>TV Shows</td>\n",
       "      <td>426</td>\n",
       "    </tr>\n",
       "  </tbody>\n",
       "</table>\n",
       "</div>"
      ],
      "text/plain": [
       "                      Playlist  COUNT(pt.TrackId)\n",
       "0                   90’s Music               1477\n",
       "1              Brazilian Music                 39\n",
       "2                    Classical                 75\n",
       "3    Classical 101 - Deep Cuts                 25\n",
       "4   Classical 101 - Next Steps                 25\n",
       "5   Classical 101 - The Basics                 25\n",
       "6                       Grunge                 15\n",
       "7          Heavy Metal Classic                 26\n",
       "8                        Music               6580\n",
       "9                 Music Videos                  1\n",
       "10                 On-The-Go 1                  1\n",
       "11                    TV Shows                426"
      ]
     },
     "execution_count": 34,
     "metadata": {},
     "output_type": "execute_result"
    }
   ],
   "source": [
    "# 6\n",
    "\n",
    "query = \"\"\"\n",
    "SELECT p.Name AS Playlist, COUNT(pt.TrackId) FROM playlists AS p\n",
    "JOIN playlist_track AS pt ON p.PlaylistId = pt.PlaylistId\n",
    "GROUP BY p.Name\n",
    "\"\"\"\n",
    "\n",
    "pd.read_sql_query(query, connection)"
   ]
  },
  {
   "cell_type": "code",
   "execution_count": 35,
   "metadata": {},
   "outputs": [
    {
     "data": {
      "application/vnd.microsoft.datawrangler.viewer.v0+json": {
       "columns": [
        {
         "name": "index",
         "rawType": "int64",
         "type": "integer"
        },
        {
         "name": "SalesAgent",
         "rawType": "object",
         "type": "string"
        },
        {
         "name": "TotalSales",
         "rawType": "float64",
         "type": "float"
        }
       ],
       "conversionMethod": "pd.DataFrame",
       "ref": "be868994-6079-497b-b3f6-e69c679efe1d",
       "rows": [
        [
         "0",
         "Jane Peacock",
         "833.0400000000013"
        ],
        [
         "1",
         "Margaret Park",
         "775.4000000000011"
        ],
        [
         "2",
         "Steve Johnson",
         "720.160000000001"
        ]
       ],
       "shape": {
        "columns": 2,
        "rows": 3
       }
      },
      "text/html": [
       "<div>\n",
       "<style scoped>\n",
       "    .dataframe tbody tr th:only-of-type {\n",
       "        vertical-align: middle;\n",
       "    }\n",
       "\n",
       "    .dataframe tbody tr th {\n",
       "        vertical-align: top;\n",
       "    }\n",
       "\n",
       "    .dataframe thead th {\n",
       "        text-align: right;\n",
       "    }\n",
       "</style>\n",
       "<table border=\"1\" class=\"dataframe\">\n",
       "  <thead>\n",
       "    <tr style=\"text-align: right;\">\n",
       "      <th></th>\n",
       "      <th>SalesAgent</th>\n",
       "      <th>TotalSales</th>\n",
       "    </tr>\n",
       "  </thead>\n",
       "  <tbody>\n",
       "    <tr>\n",
       "      <th>0</th>\n",
       "      <td>Jane Peacock</td>\n",
       "      <td>833.04</td>\n",
       "    </tr>\n",
       "    <tr>\n",
       "      <th>1</th>\n",
       "      <td>Margaret Park</td>\n",
       "      <td>775.40</td>\n",
       "    </tr>\n",
       "    <tr>\n",
       "      <th>2</th>\n",
       "      <td>Steve Johnson</td>\n",
       "      <td>720.16</td>\n",
       "    </tr>\n",
       "  </tbody>\n",
       "</table>\n",
       "</div>"
      ],
      "text/plain": [
       "      SalesAgent  TotalSales\n",
       "0   Jane Peacock      833.04\n",
       "1  Margaret Park      775.40\n",
       "2  Steve Johnson      720.16"
      ]
     },
     "execution_count": 35,
     "metadata": {},
     "output_type": "execute_result"
    }
   ],
   "source": [
    "# 7\n",
    "\n",
    "query = \"\"\"\n",
    "SELECT e.FirstName || ' ' || e.LastName AS SalesAgent, SUM(i.Total) AS TotalSales FROM employees e\n",
    "JOIN customers c ON e.EmployeeId = c.SupportRepId\n",
    "JOIN invoices i ON c.CustomerId = i.CustomerId\n",
    "GROUP BY e.EmployeeId\n",
    "\"\"\"\n",
    "\n",
    "pd.read_sql_query(query, connection)"
   ]
  },
  {
   "cell_type": "code",
   "execution_count": null,
   "metadata": {},
   "outputs": [
    {
     "data": {
      "application/vnd.microsoft.datawrangler.viewer.v0+json": {
       "columns": [
        {
         "name": "index",
         "rawType": "int64",
         "type": "integer"
        },
        {
         "name": "SalesAgent",
         "rawType": "object",
         "type": "string"
        },
        {
         "name": "TotalSales",
         "rawType": "float64",
         "type": "float"
        }
       ],
       "conversionMethod": "pd.DataFrame",
       "ref": "c4d684fe-a9ab-45f9-b200-d12d15f20c89",
       "rows": [
        [
         "0",
         "Jane Peacock",
         "833.0400000000013"
        ]
       ],
       "shape": {
        "columns": 2,
        "rows": 1
       }
      },
      "text/html": [
       "<div>\n",
       "<style scoped>\n",
       "    .dataframe tbody tr th:only-of-type {\n",
       "        vertical-align: middle;\n",
       "    }\n",
       "\n",
       "    .dataframe tbody tr th {\n",
       "        vertical-align: top;\n",
       "    }\n",
       "\n",
       "    .dataframe thead th {\n",
       "        text-align: right;\n",
       "    }\n",
       "</style>\n",
       "<table border=\"1\" class=\"dataframe\">\n",
       "  <thead>\n",
       "    <tr style=\"text-align: right;\">\n",
       "      <th></th>\n",
       "      <th>SalesAgent</th>\n",
       "      <th>TotalSales</th>\n",
       "    </tr>\n",
       "  </thead>\n",
       "  <tbody>\n",
       "    <tr>\n",
       "      <th>0</th>\n",
       "      <td>Jane Peacock</td>\n",
       "      <td>833.04</td>\n",
       "    </tr>\n",
       "  </tbody>\n",
       "</table>\n",
       "</div>"
      ],
      "text/plain": [
       "     SalesAgent  TotalSales\n",
       "0  Jane Peacock      833.04"
      ]
     },
     "execution_count": 36,
     "metadata": {},
     "output_type": "execute_result"
    }
   ],
   "source": [
    "# 8\n",
    "\n",
    "query = \"\"\"\n",
    "SELECT e.FirstName || ' ' || e.LastName AS SalesAgent, SUM(i.Total) AS TotalSales FROM employees AS e\n",
    "JOIN customers c ON e.EmployeeId = c.SupportRepId\n",
    "JOIN invoices i ON c.CustomerId = i.CustomerId\n",
    "GROUP BY e.EmployeeId\n",
    "ORDER BY TotalSales DESC\n",
    "LIMIT 1;\n",
    "\"\"\"\n",
    "\n",
    "pd.read_sql_query(query, connection)"
   ]
  },
  {
   "cell_type": "code",
   "execution_count": null,
   "metadata": {},
   "outputs": [
    {
     "data": {
      "application/vnd.microsoft.datawrangler.viewer.v0+json": {
       "columns": [
        {
         "name": "index",
         "rawType": "int64",
         "type": "integer"
        },
        {
         "name": "ArtistName",
         "rawType": "object",
         "type": "string"
        },
        {
         "name": "TotalRevenue",
         "rawType": "int64",
         "type": "integer"
        }
       ],
       "conversionMethod": "pd.DataFrame",
       "ref": "48ffc37d-5710-4fd3-9b99-54d221078f39",
       "rows": [
        [
         "0",
         "Iron Maiden",
         "140"
        ],
        [
         "1",
         "U2",
         "107"
        ],
        [
         "2",
         "Metallica",
         "91"
        ]
       ],
       "shape": {
        "columns": 2,
        "rows": 3
       }
      },
      "text/html": [
       "<div>\n",
       "<style scoped>\n",
       "    .dataframe tbody tr th:only-of-type {\n",
       "        vertical-align: middle;\n",
       "    }\n",
       "\n",
       "    .dataframe tbody tr th {\n",
       "        vertical-align: top;\n",
       "    }\n",
       "\n",
       "    .dataframe thead th {\n",
       "        text-align: right;\n",
       "    }\n",
       "</style>\n",
       "<table border=\"1\" class=\"dataframe\">\n",
       "  <thead>\n",
       "    <tr style=\"text-align: right;\">\n",
       "      <th></th>\n",
       "      <th>ArtistName</th>\n",
       "      <th>TotalRevenue</th>\n",
       "    </tr>\n",
       "  </thead>\n",
       "  <tbody>\n",
       "    <tr>\n",
       "      <th>0</th>\n",
       "      <td>Iron Maiden</td>\n",
       "      <td>140</td>\n",
       "    </tr>\n",
       "    <tr>\n",
       "      <th>1</th>\n",
       "      <td>U2</td>\n",
       "      <td>107</td>\n",
       "    </tr>\n",
       "    <tr>\n",
       "      <th>2</th>\n",
       "      <td>Metallica</td>\n",
       "      <td>91</td>\n",
       "    </tr>\n",
       "  </tbody>\n",
       "</table>\n",
       "</div>"
      ],
      "text/plain": [
       "    ArtistName  TotalRevenue\n",
       "0  Iron Maiden           140\n",
       "1           U2           107\n",
       "2    Metallica            91"
      ]
     },
     "execution_count": 38,
     "metadata": {},
     "output_type": "execute_result"
    }
   ],
   "source": [
    "# 9\n",
    "\n",
    "query = \"\"\"\n",
    "SELECT ar.Name AS ArtistName, SUM(ii.Quantity) AS TotalRevenue FROM invoice_items ii\n",
    "JOIN tracks t ON ii.TrackId = t.TrackId\n",
    "JOIN albums a ON t.AlbumId = a.AlbumId\n",
    "JOIN artists ar ON a.ArtistId = ar.ArtistId\n",
    "GROUP BY ar.ArtistId\n",
    "ORDER BY TotalRevenue DESC\n",
    "LIMIT 3;\n",
    "\"\"\"\n",
    "\n",
    "pd.read_sql_query(query, connection)"
   ]
  },
  {
   "cell_type": "code",
   "execution_count": null,
   "metadata": {},
   "outputs": [],
   "source": []
  }
 ],
 "metadata": {
  "kernelspec": {
   "display_name": "Python 3",
   "language": "python",
   "name": "python3"
  },
  "language_info": {
   "codemirror_mode": {
    "name": "ipython",
    "version": 3
   },
   "file_extension": ".py",
   "mimetype": "text/x-python",
   "name": "python",
   "nbconvert_exporter": "python",
   "pygments_lexer": "ipython3",
   "version": "3.12.0"
  }
 },
 "nbformat": 4,
 "nbformat_minor": 2
}
