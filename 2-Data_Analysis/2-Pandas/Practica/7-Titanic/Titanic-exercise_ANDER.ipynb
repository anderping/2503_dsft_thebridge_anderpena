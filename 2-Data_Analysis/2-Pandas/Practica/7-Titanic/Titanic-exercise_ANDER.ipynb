{
 "cells": [
  {
   "attachments": {},
   "cell_type": "markdown",
   "metadata": {},
   "source": [
    "   #                                                  Titanic Exercise \n",
    "\n",
    "   ![titanic](https://userscontent2.emaze.com/images/a5f68f37-6349-4065-a1fc-921cbe7401b2/958230111417e36d6b3c67ffd7bc3494.jpeg)\n",
    "   #### Practise Pandas"
   ]
  },
  {
   "attachments": {},
   "cell_type": "markdown",
   "metadata": {},
   "source": [
    "First of all, import the needed libraries. "
   ]
  },
  {
   "cell_type": "code",
   "execution_count": 1,
   "metadata": {},
   "outputs": [],
   "source": [
    "import pandas as pd\n",
    "import numpy as nd\n",
    "import random"
   ]
  },
  {
   "attachments": {},
   "cell_type": "markdown",
   "metadata": {},
   "source": [
    "1. Read in filename and call the variable `titanic`\n",
    "    - Explore the `titanic` dataset using `info`, `dtypes` & `describe`\n",
    " "
   ]
  },
  {
   "cell_type": "code",
   "execution_count": 2,
   "metadata": {},
   "outputs": [
    {
     "data": {
      "application/vnd.microsoft.datawrangler.viewer.v0+json": {
       "columns": [
        {
         "name": "index",
         "rawType": "int64",
         "type": "integer"
        },
        {
         "name": "pclass",
         "rawType": "int64",
         "type": "integer"
        },
        {
         "name": "survived",
         "rawType": "int64",
         "type": "integer"
        },
        {
         "name": "name",
         "rawType": "object",
         "type": "string"
        },
        {
         "name": "sex",
         "rawType": "object",
         "type": "string"
        },
        {
         "name": "age",
         "rawType": "float64",
         "type": "float"
        },
        {
         "name": "sibsp",
         "rawType": "int64",
         "type": "integer"
        },
        {
         "name": "parch",
         "rawType": "int64",
         "type": "integer"
        },
        {
         "name": "ticket",
         "rawType": "object",
         "type": "string"
        },
        {
         "name": "fare",
         "rawType": "float64",
         "type": "float"
        },
        {
         "name": "cabin",
         "rawType": "object",
         "type": "unknown"
        },
        {
         "name": "embarked",
         "rawType": "object",
         "type": "unknown"
        },
        {
         "name": "boat",
         "rawType": "object",
         "type": "unknown"
        },
        {
         "name": "body",
         "rawType": "float64",
         "type": "float"
        },
        {
         "name": "home.dest",
         "rawType": "object",
         "type": "unknown"
        }
       ],
       "conversionMethod": "pd.DataFrame",
       "ref": "37435111-3678-43be-96fc-0a8a4cefc459",
       "rows": [
        [
         "0",
         "1",
         "1",
         "Allen, Miss. Elisabeth Walton",
         "female",
         "29.0",
         "0",
         "0",
         "24160",
         "211.3375",
         "B5",
         "S",
         "2",
         null,
         "St Louis, MO"
        ],
        [
         "1",
         "1",
         "1",
         "Allison, Master. Hudson Trevor",
         "male",
         "0.92",
         "1",
         "2",
         "113781",
         "151.55",
         "C22 C26",
         "S",
         "11",
         null,
         "Montreal, PQ / Chesterville, ON"
        ],
        [
         "2",
         "1",
         "0",
         "Allison, Miss. Helen Loraine",
         "female",
         "2.0",
         "1",
         "2",
         "113781",
         "151.55",
         "C22 C26",
         "S",
         null,
         null,
         "Montreal, PQ / Chesterville, ON"
        ],
        [
         "3",
         "1",
         "0",
         "Allison, Mr. Hudson Joshua Creighton",
         "male",
         "30.0",
         "1",
         "2",
         "113781",
         "151.55",
         "C22 C26",
         "S",
         null,
         "135.0",
         "Montreal, PQ / Chesterville, ON"
        ],
        [
         "4",
         "1",
         "0",
         "Allison, Mrs. Hudson J C (Bessie Waldo Daniels)",
         "female",
         "25.0",
         "1",
         "2",
         "113781",
         "151.55",
         "C22 C26",
         "S",
         null,
         null,
         "Montreal, PQ / Chesterville, ON"
        ],
        [
         "5",
         "1",
         "1",
         "Anderson, Mr. Harry",
         "male",
         "48.0",
         "0",
         "0",
         "19952",
         "26.55",
         "E12",
         "S",
         "3",
         null,
         "New York, NY"
        ],
        [
         "6",
         "1",
         "1",
         "Andrews, Miss. Kornelia Theodosia",
         "female",
         "63.0",
         "1",
         "0",
         "13502",
         "77.9583",
         "D7",
         "S",
         "10",
         null,
         "Hudson, NY"
        ],
        [
         "7",
         "1",
         "0",
         "Andrews, Mr. Thomas Jr",
         "male",
         "39.0",
         "0",
         "0",
         "112050",
         "0.0",
         "A36",
         "S",
         null,
         null,
         "Belfast, NI"
        ],
        [
         "8",
         "1",
         "1",
         "Appleton, Mrs. Edward Dale (Charlotte Lamson)",
         "female",
         "53.0",
         "2",
         "0",
         "11769",
         "51.4792",
         "C101",
         "S",
         "D",
         null,
         "Bayside, Queens, NY"
        ],
        [
         "9",
         "1",
         "0",
         "Artagaveytia, Mr. Ramon",
         "male",
         "71.0",
         "0",
         "0",
         "PC 17609",
         "49.5042",
         null,
         "C",
         null,
         "22.0",
         "Montevideo, Uruguay"
        ],
        [
         "10",
         "1",
         "0",
         "Astor, Col. John Jacob",
         "male",
         "47.0",
         "1",
         "0",
         "PC 17757",
         "227.525",
         "C62 C64",
         "C",
         null,
         "124.0",
         "New York, NY"
        ],
        [
         "11",
         "1",
         "1",
         "Astor, Mrs. John Jacob (Madeleine Talmadge Force)",
         "female",
         "18.0",
         "1",
         "0",
         "PC 17757",
         "227.525",
         "C62 C64",
         "C",
         "4",
         null,
         "New York, NY"
        ],
        [
         "12",
         "1",
         "1",
         "Aubart, Mme. Leontine Pauline",
         "female",
         "24.0",
         "0",
         "0",
         "PC 17477",
         "69.3",
         "B35",
         "C",
         "9",
         null,
         "Paris, France"
        ],
        [
         "13",
         "1",
         "1",
         "Barber, Miss. Ellen \"Nellie\"",
         "female",
         "26.0",
         "0",
         "0",
         "19877",
         "78.85",
         null,
         "S",
         "6",
         null,
         null
        ],
        [
         "14",
         "1",
         "1",
         "Barkworth, Mr. Algernon Henry Wilson",
         "male",
         "80.0",
         "0",
         "0",
         "27042",
         "30.0",
         "A23",
         "S",
         "B",
         null,
         "Hessle, Yorks"
        ],
        [
         "15",
         "1",
         "0",
         "Baumann, Mr. John D",
         "male",
         null,
         "0",
         "0",
         "PC 17318",
         "25.925",
         null,
         "S",
         null,
         null,
         "New York, NY"
        ],
        [
         "16",
         "1",
         "0",
         "Baxter, Mr. Quigg Edmond",
         "male",
         "24.0",
         "0",
         "1",
         "PC 17558",
         "247.5208",
         "B58 B60",
         "C",
         null,
         null,
         "Montreal, PQ"
        ],
        [
         "17",
         "1",
         "1",
         "Baxter, Mrs. James (Helene DeLaudeniere Chaput)",
         "female",
         "50.0",
         "0",
         "1",
         "PC 17558",
         "247.5208",
         "B58 B60",
         "C",
         "6",
         null,
         "Montreal, PQ"
        ],
        [
         "18",
         "1",
         "1",
         "Bazzani, Miss. Albina",
         "female",
         "32.0",
         "0",
         "0",
         "11813",
         "76.2917",
         "D15",
         "C",
         "8",
         null,
         null
        ],
        [
         "19",
         "1",
         "0",
         "Beattie, Mr. Thomson",
         "male",
         "36.0",
         "0",
         "0",
         "13050",
         "75.2417",
         "C6",
         "C",
         "A",
         null,
         "Winnipeg, MN"
        ],
        [
         "20",
         "1",
         "1",
         "Beckwith, Mr. Richard Leonard",
         "male",
         "37.0",
         "1",
         "1",
         "11751",
         "52.5542",
         "D35",
         "S",
         "5",
         null,
         "New York, NY"
        ],
        [
         "21",
         "1",
         "1",
         "Beckwith, Mrs. Richard Leonard (Sallie Monypeny)",
         "female",
         "47.0",
         "1",
         "1",
         "11751",
         "52.5542",
         "D35",
         "S",
         "5",
         null,
         "New York, NY"
        ],
        [
         "22",
         "1",
         "1",
         "Behr, Mr. Karl Howell",
         "male",
         "26.0",
         "0",
         "0",
         "111369",
         "30.0",
         "C148",
         "C",
         "5",
         null,
         "New York, NY"
        ],
        [
         "23",
         "1",
         "1",
         "Bidois, Miss. Rosalie",
         "female",
         "42.0",
         "0",
         "0",
         "PC 17757",
         "227.525",
         null,
         "C",
         "4",
         null,
         null
        ],
        [
         "24",
         "1",
         "1",
         "Bird, Miss. Ellen",
         "female",
         "29.0",
         "0",
         "0",
         "PC 17483",
         "221.7792",
         "C97",
         "S",
         "8",
         null,
         null
        ],
        [
         "25",
         "1",
         "0",
         "Birnbaum, Mr. Jakob",
         "male",
         "25.0",
         "0",
         "0",
         "13905",
         "26.0",
         null,
         "C",
         null,
         "148.0",
         "San Francisco, CA"
        ],
        [
         "26",
         "1",
         "1",
         "Bishop, Mr. Dickinson H",
         "male",
         "25.0",
         "1",
         "0",
         "11967",
         "91.0792",
         "B49",
         "C",
         "7",
         null,
         "Dowagiac, MI"
        ],
        [
         "27",
         "1",
         "1",
         "Bishop, Mrs. Dickinson H (Helen Walton)",
         "female",
         "19.0",
         "1",
         "0",
         "11967",
         "91.0792",
         "B49",
         "C",
         "7",
         null,
         "Dowagiac, MI"
        ],
        [
         "28",
         "1",
         "1",
         "Bissette, Miss. Amelia",
         "female",
         "35.0",
         "0",
         "0",
         "PC 17760",
         "135.6333",
         "C99",
         "S",
         "8",
         null,
         null
        ],
        [
         "29",
         "1",
         "1",
         "Bjornstrom-Steffansson, Mr. Mauritz Hakan",
         "male",
         "28.0",
         "0",
         "0",
         "110564",
         "26.55",
         "C52",
         "S",
         "D",
         null,
         "Stockholm, Sweden / Washington, DC"
        ],
        [
         "30",
         "1",
         "0",
         "Blackwell, Mr. Stephen Weart",
         "male",
         "45.0",
         "0",
         "0",
         "113784",
         "35.5",
         "T",
         "S",
         null,
         null,
         "Trenton, NJ"
        ],
        [
         "31",
         "1",
         "1",
         "Blank, Mr. Henry",
         "male",
         "40.0",
         "0",
         "0",
         "112277",
         "31.0",
         "A31",
         "C",
         "7",
         null,
         "Glen Ridge, NJ"
        ],
        [
         "32",
         "1",
         "1",
         "Bonnell, Miss. Caroline",
         "female",
         "30.0",
         "0",
         "0",
         "36928",
         "164.8667",
         "C7",
         "S",
         "8",
         null,
         "Youngstown, OH"
        ],
        [
         "33",
         "1",
         "1",
         "Bonnell, Miss. Elizabeth",
         "female",
         "58.0",
         "0",
         "0",
         "113783",
         "26.55",
         "C103",
         "S",
         "8",
         null,
         "Birkdale, England Cleveland, Ohio"
        ],
        [
         "34",
         "1",
         "0",
         "Borebank, Mr. John James",
         "male",
         "42.0",
         "0",
         "0",
         "110489",
         "26.55",
         "D22",
         "S",
         null,
         null,
         "London / Winnipeg, MB"
        ],
        [
         "35",
         "1",
         "1",
         "Bowen, Miss. Grace Scott",
         "female",
         "45.0",
         "0",
         "0",
         "PC 17608",
         "262.375",
         null,
         "C",
         "4",
         null,
         "Cooperstown, NY"
        ],
        [
         "36",
         "1",
         "1",
         "Bowerman, Miss. Elsie Edith",
         "female",
         "22.0",
         "0",
         "1",
         "113505",
         "55.0",
         "E33",
         "S",
         "6",
         null,
         "St Leonards-on-Sea, England Ohio"
        ],
        [
         "37",
         "1",
         "1",
         "Bradley, Mr. George (\"George Arthur Brayton\")",
         "male",
         null,
         "0",
         "0",
         "111427",
         "26.55",
         null,
         "S",
         "9",
         null,
         "Los Angeles, CA"
        ],
        [
         "38",
         "1",
         "0",
         "Brady, Mr. John Bertram",
         "male",
         "41.0",
         "0",
         "0",
         "113054",
         "30.5",
         "A21",
         "S",
         null,
         null,
         "Pomeroy, WA"
        ],
        [
         "39",
         "1",
         "0",
         "Brandeis, Mr. Emil",
         "male",
         "48.0",
         "0",
         "0",
         "PC 17591",
         "50.4958",
         "B10",
         "C",
         null,
         "208.0",
         "Omaha, NE"
        ],
        [
         "40",
         "1",
         "0",
         "Brewe, Dr. Arthur Jackson",
         "male",
         null,
         "0",
         "0",
         "112379",
         "39.6",
         null,
         "C",
         null,
         null,
         "Philadelphia, PA"
        ],
        [
         "41",
         "1",
         "1",
         "Brown, Mrs. James Joseph (Margaret Tobin)",
         "female",
         "44.0",
         "0",
         "0",
         "PC 17610",
         "27.7208",
         "B4",
         "C",
         "6",
         null,
         "Denver, CO"
        ],
        [
         "42",
         "1",
         "1",
         "Brown, Mrs. John Murray (Caroline Lane Lamson)",
         "female",
         "59.0",
         "2",
         "0",
         "11769",
         "51.4792",
         "C101",
         "S",
         "D",
         null,
         "Belmont, MA"
        ],
        [
         "43",
         "1",
         "1",
         "Bucknell, Mrs. William Robert (Emma Eliza Ward)",
         "female",
         "60.0",
         "0",
         "0",
         "11813",
         "76.2917",
         "D15",
         "C",
         "8",
         null,
         "Philadelphia, PA"
        ],
        [
         "44",
         "1",
         "1",
         "Burns, Miss. Elizabeth Margaret",
         "female",
         "41.0",
         "0",
         "0",
         "16966",
         "134.5",
         "E40",
         "C",
         "3",
         null,
         null
        ],
        [
         "45",
         "1",
         "0",
         "Butt, Major. Archibald Willingham",
         "male",
         "45.0",
         "0",
         "0",
         "113050",
         "26.55",
         "B38",
         "S",
         null,
         null,
         "Washington, DC"
        ],
        [
         "46",
         "1",
         "0",
         "Cairns, Mr. Alexander",
         "male",
         null,
         "0",
         "0",
         "113798",
         "31.0",
         null,
         "S",
         null,
         null,
         null
        ],
        [
         "47",
         "1",
         "1",
         "Calderhead, Mr. Edward Pennington",
         "male",
         "42.0",
         "0",
         "0",
         "PC 17476",
         "26.2875",
         "E24",
         "S",
         "5",
         null,
         "New York, NY"
        ],
        [
         "48",
         "1",
         "1",
         "Candee, Mrs. Edward (Helen Churchill Hungerford)",
         "female",
         "53.0",
         "0",
         "0",
         "PC 17606",
         "27.4458",
         null,
         "C",
         "6",
         null,
         "Washington, DC"
        ],
        [
         "49",
         "1",
         "1",
         "Cardeza, Mr. Thomas Drake Martinez",
         "male",
         "36.0",
         "0",
         "1",
         "PC 17755",
         "512.3292",
         "B51 B53 B55",
         "C",
         "3",
         null,
         "Austria-Hungary / Germantown, Philadelphia, PA"
        ]
       ],
       "shape": {
        "columns": 14,
        "rows": 1309
       }
      },
      "text/html": [
       "<div>\n",
       "<style scoped>\n",
       "    .dataframe tbody tr th:only-of-type {\n",
       "        vertical-align: middle;\n",
       "    }\n",
       "\n",
       "    .dataframe tbody tr th {\n",
       "        vertical-align: top;\n",
       "    }\n",
       "\n",
       "    .dataframe thead th {\n",
       "        text-align: right;\n",
       "    }\n",
       "</style>\n",
       "<table border=\"1\" class=\"dataframe\">\n",
       "  <thead>\n",
       "    <tr style=\"text-align: right;\">\n",
       "      <th></th>\n",
       "      <th>pclass</th>\n",
       "      <th>survived</th>\n",
       "      <th>name</th>\n",
       "      <th>sex</th>\n",
       "      <th>age</th>\n",
       "      <th>sibsp</th>\n",
       "      <th>parch</th>\n",
       "      <th>ticket</th>\n",
       "      <th>fare</th>\n",
       "      <th>cabin</th>\n",
       "      <th>embarked</th>\n",
       "      <th>boat</th>\n",
       "      <th>body</th>\n",
       "      <th>home.dest</th>\n",
       "    </tr>\n",
       "  </thead>\n",
       "  <tbody>\n",
       "    <tr>\n",
       "      <th>0</th>\n",
       "      <td>1</td>\n",
       "      <td>1</td>\n",
       "      <td>Allen, Miss. Elisabeth Walton</td>\n",
       "      <td>female</td>\n",
       "      <td>29.00</td>\n",
       "      <td>0</td>\n",
       "      <td>0</td>\n",
       "      <td>24160</td>\n",
       "      <td>211.3375</td>\n",
       "      <td>B5</td>\n",
       "      <td>S</td>\n",
       "      <td>2</td>\n",
       "      <td>NaN</td>\n",
       "      <td>St Louis, MO</td>\n",
       "    </tr>\n",
       "    <tr>\n",
       "      <th>1</th>\n",
       "      <td>1</td>\n",
       "      <td>1</td>\n",
       "      <td>Allison, Master. Hudson Trevor</td>\n",
       "      <td>male</td>\n",
       "      <td>0.92</td>\n",
       "      <td>1</td>\n",
       "      <td>2</td>\n",
       "      <td>113781</td>\n",
       "      <td>151.5500</td>\n",
       "      <td>C22 C26</td>\n",
       "      <td>S</td>\n",
       "      <td>11</td>\n",
       "      <td>NaN</td>\n",
       "      <td>Montreal, PQ / Chesterville, ON</td>\n",
       "    </tr>\n",
       "    <tr>\n",
       "      <th>2</th>\n",
       "      <td>1</td>\n",
       "      <td>0</td>\n",
       "      <td>Allison, Miss. Helen Loraine</td>\n",
       "      <td>female</td>\n",
       "      <td>2.00</td>\n",
       "      <td>1</td>\n",
       "      <td>2</td>\n",
       "      <td>113781</td>\n",
       "      <td>151.5500</td>\n",
       "      <td>C22 C26</td>\n",
       "      <td>S</td>\n",
       "      <td>NaN</td>\n",
       "      <td>NaN</td>\n",
       "      <td>Montreal, PQ / Chesterville, ON</td>\n",
       "    </tr>\n",
       "    <tr>\n",
       "      <th>3</th>\n",
       "      <td>1</td>\n",
       "      <td>0</td>\n",
       "      <td>Allison, Mr. Hudson Joshua Creighton</td>\n",
       "      <td>male</td>\n",
       "      <td>30.00</td>\n",
       "      <td>1</td>\n",
       "      <td>2</td>\n",
       "      <td>113781</td>\n",
       "      <td>151.5500</td>\n",
       "      <td>C22 C26</td>\n",
       "      <td>S</td>\n",
       "      <td>NaN</td>\n",
       "      <td>135.0</td>\n",
       "      <td>Montreal, PQ / Chesterville, ON</td>\n",
       "    </tr>\n",
       "    <tr>\n",
       "      <th>4</th>\n",
       "      <td>1</td>\n",
       "      <td>0</td>\n",
       "      <td>Allison, Mrs. Hudson J C (Bessie Waldo Daniels)</td>\n",
       "      <td>female</td>\n",
       "      <td>25.00</td>\n",
       "      <td>1</td>\n",
       "      <td>2</td>\n",
       "      <td>113781</td>\n",
       "      <td>151.5500</td>\n",
       "      <td>C22 C26</td>\n",
       "      <td>S</td>\n",
       "      <td>NaN</td>\n",
       "      <td>NaN</td>\n",
       "      <td>Montreal, PQ / Chesterville, ON</td>\n",
       "    </tr>\n",
       "    <tr>\n",
       "      <th>...</th>\n",
       "      <td>...</td>\n",
       "      <td>...</td>\n",
       "      <td>...</td>\n",
       "      <td>...</td>\n",
       "      <td>...</td>\n",
       "      <td>...</td>\n",
       "      <td>...</td>\n",
       "      <td>...</td>\n",
       "      <td>...</td>\n",
       "      <td>...</td>\n",
       "      <td>...</td>\n",
       "      <td>...</td>\n",
       "      <td>...</td>\n",
       "      <td>...</td>\n",
       "    </tr>\n",
       "    <tr>\n",
       "      <th>1304</th>\n",
       "      <td>3</td>\n",
       "      <td>0</td>\n",
       "      <td>Zabour, Miss. Hileni</td>\n",
       "      <td>female</td>\n",
       "      <td>14.50</td>\n",
       "      <td>1</td>\n",
       "      <td>0</td>\n",
       "      <td>2665</td>\n",
       "      <td>14.4542</td>\n",
       "      <td>NaN</td>\n",
       "      <td>C</td>\n",
       "      <td>NaN</td>\n",
       "      <td>328.0</td>\n",
       "      <td>NaN</td>\n",
       "    </tr>\n",
       "    <tr>\n",
       "      <th>1305</th>\n",
       "      <td>3</td>\n",
       "      <td>0</td>\n",
       "      <td>Zabour, Miss. Thamine</td>\n",
       "      <td>female</td>\n",
       "      <td>NaN</td>\n",
       "      <td>1</td>\n",
       "      <td>0</td>\n",
       "      <td>2665</td>\n",
       "      <td>14.4542</td>\n",
       "      <td>NaN</td>\n",
       "      <td>C</td>\n",
       "      <td>NaN</td>\n",
       "      <td>NaN</td>\n",
       "      <td>NaN</td>\n",
       "    </tr>\n",
       "    <tr>\n",
       "      <th>1306</th>\n",
       "      <td>3</td>\n",
       "      <td>0</td>\n",
       "      <td>Zakarian, Mr. Mapriededer</td>\n",
       "      <td>male</td>\n",
       "      <td>26.50</td>\n",
       "      <td>0</td>\n",
       "      <td>0</td>\n",
       "      <td>2656</td>\n",
       "      <td>7.2250</td>\n",
       "      <td>NaN</td>\n",
       "      <td>C</td>\n",
       "      <td>NaN</td>\n",
       "      <td>304.0</td>\n",
       "      <td>NaN</td>\n",
       "    </tr>\n",
       "    <tr>\n",
       "      <th>1307</th>\n",
       "      <td>3</td>\n",
       "      <td>0</td>\n",
       "      <td>Zakarian, Mr. Ortin</td>\n",
       "      <td>male</td>\n",
       "      <td>27.00</td>\n",
       "      <td>0</td>\n",
       "      <td>0</td>\n",
       "      <td>2670</td>\n",
       "      <td>7.2250</td>\n",
       "      <td>NaN</td>\n",
       "      <td>C</td>\n",
       "      <td>NaN</td>\n",
       "      <td>NaN</td>\n",
       "      <td>NaN</td>\n",
       "    </tr>\n",
       "    <tr>\n",
       "      <th>1308</th>\n",
       "      <td>3</td>\n",
       "      <td>0</td>\n",
       "      <td>Zimmerman, Mr. Leo</td>\n",
       "      <td>male</td>\n",
       "      <td>29.00</td>\n",
       "      <td>0</td>\n",
       "      <td>0</td>\n",
       "      <td>315082</td>\n",
       "      <td>7.8750</td>\n",
       "      <td>NaN</td>\n",
       "      <td>S</td>\n",
       "      <td>NaN</td>\n",
       "      <td>NaN</td>\n",
       "      <td>NaN</td>\n",
       "    </tr>\n",
       "  </tbody>\n",
       "</table>\n",
       "<p>1309 rows × 14 columns</p>\n",
       "</div>"
      ],
      "text/plain": [
       "      pclass  survived                                             name  \\\n",
       "0          1         1                    Allen, Miss. Elisabeth Walton   \n",
       "1          1         1                   Allison, Master. Hudson Trevor   \n",
       "2          1         0                     Allison, Miss. Helen Loraine   \n",
       "3          1         0             Allison, Mr. Hudson Joshua Creighton   \n",
       "4          1         0  Allison, Mrs. Hudson J C (Bessie Waldo Daniels)   \n",
       "...      ...       ...                                              ...   \n",
       "1304       3         0                             Zabour, Miss. Hileni   \n",
       "1305       3         0                            Zabour, Miss. Thamine   \n",
       "1306       3         0                        Zakarian, Mr. Mapriededer   \n",
       "1307       3         0                              Zakarian, Mr. Ortin   \n",
       "1308       3         0                               Zimmerman, Mr. Leo   \n",
       "\n",
       "         sex    age  sibsp  parch  ticket      fare    cabin embarked boat  \\\n",
       "0     female  29.00      0      0   24160  211.3375       B5        S    2   \n",
       "1       male   0.92      1      2  113781  151.5500  C22 C26        S   11   \n",
       "2     female   2.00      1      2  113781  151.5500  C22 C26        S  NaN   \n",
       "3       male  30.00      1      2  113781  151.5500  C22 C26        S  NaN   \n",
       "4     female  25.00      1      2  113781  151.5500  C22 C26        S  NaN   \n",
       "...      ...    ...    ...    ...     ...       ...      ...      ...  ...   \n",
       "1304  female  14.50      1      0    2665   14.4542      NaN        C  NaN   \n",
       "1305  female    NaN      1      0    2665   14.4542      NaN        C  NaN   \n",
       "1306    male  26.50      0      0    2656    7.2250      NaN        C  NaN   \n",
       "1307    male  27.00      0      0    2670    7.2250      NaN        C  NaN   \n",
       "1308    male  29.00      0      0  315082    7.8750      NaN        S  NaN   \n",
       "\n",
       "       body                        home.dest  \n",
       "0       NaN                     St Louis, MO  \n",
       "1       NaN  Montreal, PQ / Chesterville, ON  \n",
       "2       NaN  Montreal, PQ / Chesterville, ON  \n",
       "3     135.0  Montreal, PQ / Chesterville, ON  \n",
       "4       NaN  Montreal, PQ / Chesterville, ON  \n",
       "...     ...                              ...  \n",
       "1304  328.0                              NaN  \n",
       "1305    NaN                              NaN  \n",
       "1306  304.0                              NaN  \n",
       "1307    NaN                              NaN  \n",
       "1308    NaN                              NaN  \n",
       "\n",
       "[1309 rows x 14 columns]"
      ]
     },
     "execution_count": 2,
     "metadata": {},
     "output_type": "execute_result"
    }
   ],
   "source": [
    "titanic = pd.read_csv(\"./data/titanic.csv\")\n",
    "titanic"
   ]
  },
  {
   "cell_type": "code",
   "execution_count": 3,
   "metadata": {},
   "outputs": [
    {
     "name": "stdout",
     "output_type": "stream",
     "text": [
      "<class 'pandas.core.frame.DataFrame'>\n",
      "RangeIndex: 1309 entries, 0 to 1308\n",
      "Data columns (total 14 columns):\n",
      " #   Column     Non-Null Count  Dtype  \n",
      "---  ------     --------------  -----  \n",
      " 0   pclass     1309 non-null   int64  \n",
      " 1   survived   1309 non-null   int64  \n",
      " 2   name       1309 non-null   object \n",
      " 3   sex        1309 non-null   object \n",
      " 4   age        1046 non-null   float64\n",
      " 5   sibsp      1309 non-null   int64  \n",
      " 6   parch      1309 non-null   int64  \n",
      " 7   ticket     1309 non-null   object \n",
      " 8   fare       1308 non-null   float64\n",
      " 9   cabin      295 non-null    object \n",
      " 10  embarked   1307 non-null   object \n",
      " 11  boat       486 non-null    object \n",
      " 12  body       121 non-null    float64\n",
      " 13  home.dest  745 non-null    object \n",
      "dtypes: float64(3), int64(4), object(7)\n",
      "memory usage: 143.3+ KB\n"
     ]
    }
   ],
   "source": [
    "titanic.info()"
   ]
  },
  {
   "cell_type": "code",
   "execution_count": 4,
   "metadata": {},
   "outputs": [
    {
     "data": {
      "text/plain": [
       "pclass         int64\n",
       "survived       int64\n",
       "name          object\n",
       "sex           object\n",
       "age          float64\n",
       "sibsp          int64\n",
       "parch          int64\n",
       "ticket        object\n",
       "fare         float64\n",
       "cabin         object\n",
       "embarked      object\n",
       "boat          object\n",
       "body         float64\n",
       "home.dest     object\n",
       "dtype: object"
      ]
     },
     "execution_count": 4,
     "metadata": {},
     "output_type": "execute_result"
    }
   ],
   "source": [
    "titanic.dtypes"
   ]
  },
  {
   "cell_type": "code",
   "execution_count": 5,
   "metadata": {},
   "outputs": [
    {
     "data": {
      "application/vnd.microsoft.datawrangler.viewer.v0+json": {
       "columns": [
        {
         "name": "index",
         "rawType": "object",
         "type": "string"
        },
        {
         "name": "count",
         "rawType": "float64",
         "type": "float"
        },
        {
         "name": "mean",
         "rawType": "float64",
         "type": "float"
        },
        {
         "name": "std",
         "rawType": "float64",
         "type": "float"
        },
        {
         "name": "min",
         "rawType": "float64",
         "type": "float"
        },
        {
         "name": "25%",
         "rawType": "float64",
         "type": "float"
        },
        {
         "name": "50%",
         "rawType": "float64",
         "type": "float"
        },
        {
         "name": "75%",
         "rawType": "float64",
         "type": "float"
        },
        {
         "name": "max",
         "rawType": "float64",
         "type": "float"
        }
       ],
       "conversionMethod": "pd.DataFrame",
       "ref": "16a688df-d4a8-4605-9a2f-96cbb1760807",
       "rows": [
        [
         "pclass",
         "1309.0",
         "2.294881588999236",
         "0.8378360189701274",
         "1.0",
         "2.0",
         "3.0",
         "3.0",
         "3.0"
        ],
        [
         "survived",
         "1309.0",
         "0.3819709702062643",
         "0.4860551708664827",
         "0.0",
         "0.0",
         "0.0",
         "1.0",
         "1.0"
        ],
        [
         "age",
         "1046.0",
         "29.881137667304014",
         "14.413493211271321",
         "0.17",
         "21.0",
         "28.0",
         "39.0",
         "80.0"
        ],
        [
         "sibsp",
         "1309.0",
         "0.4988540870893812",
         "1.041658390596102",
         "0.0",
         "0.0",
         "0.0",
         "1.0",
         "8.0"
        ],
        [
         "parch",
         "1309.0",
         "0.3850267379679144",
         "0.8655602753495147",
         "0.0",
         "0.0",
         "0.0",
         "0.0",
         "9.0"
        ],
        [
         "fare",
         "1308.0",
         "33.29547928134557",
         "51.75866823917411",
         "0.0",
         "7.8958",
         "14.4542",
         "31.275",
         "512.3292"
        ],
        [
         "body",
         "121.0",
         "160.8099173553719",
         "97.6969219960031",
         "1.0",
         "72.0",
         "155.0",
         "256.0",
         "328.0"
        ]
       ],
       "shape": {
        "columns": 8,
        "rows": 7
       }
      },
      "text/html": [
       "<div>\n",
       "<style scoped>\n",
       "    .dataframe tbody tr th:only-of-type {\n",
       "        vertical-align: middle;\n",
       "    }\n",
       "\n",
       "    .dataframe tbody tr th {\n",
       "        vertical-align: top;\n",
       "    }\n",
       "\n",
       "    .dataframe thead th {\n",
       "        text-align: right;\n",
       "    }\n",
       "</style>\n",
       "<table border=\"1\" class=\"dataframe\">\n",
       "  <thead>\n",
       "    <tr style=\"text-align: right;\">\n",
       "      <th></th>\n",
       "      <th>count</th>\n",
       "      <th>mean</th>\n",
       "      <th>std</th>\n",
       "      <th>min</th>\n",
       "      <th>25%</th>\n",
       "      <th>50%</th>\n",
       "      <th>75%</th>\n",
       "      <th>max</th>\n",
       "    </tr>\n",
       "  </thead>\n",
       "  <tbody>\n",
       "    <tr>\n",
       "      <th>pclass</th>\n",
       "      <td>1309.0</td>\n",
       "      <td>2.294882</td>\n",
       "      <td>0.837836</td>\n",
       "      <td>1.00</td>\n",
       "      <td>2.0000</td>\n",
       "      <td>3.0000</td>\n",
       "      <td>3.000</td>\n",
       "      <td>3.0000</td>\n",
       "    </tr>\n",
       "    <tr>\n",
       "      <th>survived</th>\n",
       "      <td>1309.0</td>\n",
       "      <td>0.381971</td>\n",
       "      <td>0.486055</td>\n",
       "      <td>0.00</td>\n",
       "      <td>0.0000</td>\n",
       "      <td>0.0000</td>\n",
       "      <td>1.000</td>\n",
       "      <td>1.0000</td>\n",
       "    </tr>\n",
       "    <tr>\n",
       "      <th>age</th>\n",
       "      <td>1046.0</td>\n",
       "      <td>29.881138</td>\n",
       "      <td>14.413493</td>\n",
       "      <td>0.17</td>\n",
       "      <td>21.0000</td>\n",
       "      <td>28.0000</td>\n",
       "      <td>39.000</td>\n",
       "      <td>80.0000</td>\n",
       "    </tr>\n",
       "    <tr>\n",
       "      <th>sibsp</th>\n",
       "      <td>1309.0</td>\n",
       "      <td>0.498854</td>\n",
       "      <td>1.041658</td>\n",
       "      <td>0.00</td>\n",
       "      <td>0.0000</td>\n",
       "      <td>0.0000</td>\n",
       "      <td>1.000</td>\n",
       "      <td>8.0000</td>\n",
       "    </tr>\n",
       "    <tr>\n",
       "      <th>parch</th>\n",
       "      <td>1309.0</td>\n",
       "      <td>0.385027</td>\n",
       "      <td>0.865560</td>\n",
       "      <td>0.00</td>\n",
       "      <td>0.0000</td>\n",
       "      <td>0.0000</td>\n",
       "      <td>0.000</td>\n",
       "      <td>9.0000</td>\n",
       "    </tr>\n",
       "    <tr>\n",
       "      <th>fare</th>\n",
       "      <td>1308.0</td>\n",
       "      <td>33.295479</td>\n",
       "      <td>51.758668</td>\n",
       "      <td>0.00</td>\n",
       "      <td>7.8958</td>\n",
       "      <td>14.4542</td>\n",
       "      <td>31.275</td>\n",
       "      <td>512.3292</td>\n",
       "    </tr>\n",
       "    <tr>\n",
       "      <th>body</th>\n",
       "      <td>121.0</td>\n",
       "      <td>160.809917</td>\n",
       "      <td>97.696922</td>\n",
       "      <td>1.00</td>\n",
       "      <td>72.0000</td>\n",
       "      <td>155.0000</td>\n",
       "      <td>256.000</td>\n",
       "      <td>328.0000</td>\n",
       "    </tr>\n",
       "  </tbody>\n",
       "</table>\n",
       "</div>"
      ],
      "text/plain": [
       "           count        mean        std   min      25%       50%      75%  \\\n",
       "pclass    1309.0    2.294882   0.837836  1.00   2.0000    3.0000    3.000   \n",
       "survived  1309.0    0.381971   0.486055  0.00   0.0000    0.0000    1.000   \n",
       "age       1046.0   29.881138  14.413493  0.17  21.0000   28.0000   39.000   \n",
       "sibsp     1309.0    0.498854   1.041658  0.00   0.0000    0.0000    1.000   \n",
       "parch     1309.0    0.385027   0.865560  0.00   0.0000    0.0000    0.000   \n",
       "fare      1308.0   33.295479  51.758668  0.00   7.8958   14.4542   31.275   \n",
       "body       121.0  160.809917  97.696922  1.00  72.0000  155.0000  256.000   \n",
       "\n",
       "               max  \n",
       "pclass      3.0000  \n",
       "survived    1.0000  \n",
       "age        80.0000  \n",
       "sibsp       8.0000  \n",
       "parch       9.0000  \n",
       "fare      512.3292  \n",
       "body      328.0000  "
      ]
     },
     "execution_count": 5,
     "metadata": {},
     "output_type": "execute_result"
    }
   ],
   "source": [
    "titanic.describe().T"
   ]
  },
  {
   "attachments": {},
   "cell_type": "markdown",
   "metadata": {},
   "source": [
    "2. Create a separate dataframe with the columns `['name', 'sex', 'age']`, call it `people`\n",
    "\n",
    "It can be done two ways, do it both!"
   ]
  },
  {
   "cell_type": "code",
   "execution_count": 6,
   "metadata": {},
   "outputs": [
    {
     "data": {
      "application/vnd.microsoft.datawrangler.viewer.v0+json": {
       "columns": [
        {
         "name": "index",
         "rawType": "int64",
         "type": "integer"
        },
        {
         "name": "name",
         "rawType": "object",
         "type": "string"
        },
        {
         "name": "sex",
         "rawType": "object",
         "type": "string"
        },
        {
         "name": "age",
         "rawType": "float64",
         "type": "float"
        }
       ],
       "conversionMethod": "pd.DataFrame",
       "ref": "92f32bad-1274-41c5-8033-003edbfb3888",
       "rows": [
        [
         "0",
         "Allen, Miss. Elisabeth Walton",
         "female",
         "29.0"
        ],
        [
         "1",
         "Allison, Master. Hudson Trevor",
         "male",
         "0.92"
        ],
        [
         "2",
         "Allison, Miss. Helen Loraine",
         "female",
         "2.0"
        ],
        [
         "3",
         "Allison, Mr. Hudson Joshua Creighton",
         "male",
         "30.0"
        ],
        [
         "4",
         "Allison, Mrs. Hudson J C (Bessie Waldo Daniels)",
         "female",
         "25.0"
        ],
        [
         "5",
         "Anderson, Mr. Harry",
         "male",
         "48.0"
        ],
        [
         "6",
         "Andrews, Miss. Kornelia Theodosia",
         "female",
         "63.0"
        ],
        [
         "7",
         "Andrews, Mr. Thomas Jr",
         "male",
         "39.0"
        ],
        [
         "8",
         "Appleton, Mrs. Edward Dale (Charlotte Lamson)",
         "female",
         "53.0"
        ],
        [
         "9",
         "Artagaveytia, Mr. Ramon",
         "male",
         "71.0"
        ],
        [
         "10",
         "Astor, Col. John Jacob",
         "male",
         "47.0"
        ],
        [
         "11",
         "Astor, Mrs. John Jacob (Madeleine Talmadge Force)",
         "female",
         "18.0"
        ],
        [
         "12",
         "Aubart, Mme. Leontine Pauline",
         "female",
         "24.0"
        ],
        [
         "13",
         "Barber, Miss. Ellen \"Nellie\"",
         "female",
         "26.0"
        ],
        [
         "14",
         "Barkworth, Mr. Algernon Henry Wilson",
         "male",
         "80.0"
        ],
        [
         "15",
         "Baumann, Mr. John D",
         "male",
         null
        ],
        [
         "16",
         "Baxter, Mr. Quigg Edmond",
         "male",
         "24.0"
        ],
        [
         "17",
         "Baxter, Mrs. James (Helene DeLaudeniere Chaput)",
         "female",
         "50.0"
        ],
        [
         "18",
         "Bazzani, Miss. Albina",
         "female",
         "32.0"
        ],
        [
         "19",
         "Beattie, Mr. Thomson",
         "male",
         "36.0"
        ],
        [
         "20",
         "Beckwith, Mr. Richard Leonard",
         "male",
         "37.0"
        ],
        [
         "21",
         "Beckwith, Mrs. Richard Leonard (Sallie Monypeny)",
         "female",
         "47.0"
        ],
        [
         "22",
         "Behr, Mr. Karl Howell",
         "male",
         "26.0"
        ],
        [
         "23",
         "Bidois, Miss. Rosalie",
         "female",
         "42.0"
        ],
        [
         "24",
         "Bird, Miss. Ellen",
         "female",
         "29.0"
        ],
        [
         "25",
         "Birnbaum, Mr. Jakob",
         "male",
         "25.0"
        ],
        [
         "26",
         "Bishop, Mr. Dickinson H",
         "male",
         "25.0"
        ],
        [
         "27",
         "Bishop, Mrs. Dickinson H (Helen Walton)",
         "female",
         "19.0"
        ],
        [
         "28",
         "Bissette, Miss. Amelia",
         "female",
         "35.0"
        ],
        [
         "29",
         "Bjornstrom-Steffansson, Mr. Mauritz Hakan",
         "male",
         "28.0"
        ],
        [
         "30",
         "Blackwell, Mr. Stephen Weart",
         "male",
         "45.0"
        ],
        [
         "31",
         "Blank, Mr. Henry",
         "male",
         "40.0"
        ],
        [
         "32",
         "Bonnell, Miss. Caroline",
         "female",
         "30.0"
        ],
        [
         "33",
         "Bonnell, Miss. Elizabeth",
         "female",
         "58.0"
        ],
        [
         "34",
         "Borebank, Mr. John James",
         "male",
         "42.0"
        ],
        [
         "35",
         "Bowen, Miss. Grace Scott",
         "female",
         "45.0"
        ],
        [
         "36",
         "Bowerman, Miss. Elsie Edith",
         "female",
         "22.0"
        ],
        [
         "37",
         "Bradley, Mr. George (\"George Arthur Brayton\")",
         "male",
         null
        ],
        [
         "38",
         "Brady, Mr. John Bertram",
         "male",
         "41.0"
        ],
        [
         "39",
         "Brandeis, Mr. Emil",
         "male",
         "48.0"
        ],
        [
         "40",
         "Brewe, Dr. Arthur Jackson",
         "male",
         null
        ],
        [
         "41",
         "Brown, Mrs. James Joseph (Margaret Tobin)",
         "female",
         "44.0"
        ],
        [
         "42",
         "Brown, Mrs. John Murray (Caroline Lane Lamson)",
         "female",
         "59.0"
        ],
        [
         "43",
         "Bucknell, Mrs. William Robert (Emma Eliza Ward)",
         "female",
         "60.0"
        ],
        [
         "44",
         "Burns, Miss. Elizabeth Margaret",
         "female",
         "41.0"
        ],
        [
         "45",
         "Butt, Major. Archibald Willingham",
         "male",
         "45.0"
        ],
        [
         "46",
         "Cairns, Mr. Alexander",
         "male",
         null
        ],
        [
         "47",
         "Calderhead, Mr. Edward Pennington",
         "male",
         "42.0"
        ],
        [
         "48",
         "Candee, Mrs. Edward (Helen Churchill Hungerford)",
         "female",
         "53.0"
        ],
        [
         "49",
         "Cardeza, Mr. Thomas Drake Martinez",
         "male",
         "36.0"
        ]
       ],
       "shape": {
        "columns": 3,
        "rows": 1309
       }
      },
      "text/html": [
       "<div>\n",
       "<style scoped>\n",
       "    .dataframe tbody tr th:only-of-type {\n",
       "        vertical-align: middle;\n",
       "    }\n",
       "\n",
       "    .dataframe tbody tr th {\n",
       "        vertical-align: top;\n",
       "    }\n",
       "\n",
       "    .dataframe thead th {\n",
       "        text-align: right;\n",
       "    }\n",
       "</style>\n",
       "<table border=\"1\" class=\"dataframe\">\n",
       "  <thead>\n",
       "    <tr style=\"text-align: right;\">\n",
       "      <th></th>\n",
       "      <th>name</th>\n",
       "      <th>sex</th>\n",
       "      <th>age</th>\n",
       "    </tr>\n",
       "  </thead>\n",
       "  <tbody>\n",
       "    <tr>\n",
       "      <th>0</th>\n",
       "      <td>Allen, Miss. Elisabeth Walton</td>\n",
       "      <td>female</td>\n",
       "      <td>29.00</td>\n",
       "    </tr>\n",
       "    <tr>\n",
       "      <th>1</th>\n",
       "      <td>Allison, Master. Hudson Trevor</td>\n",
       "      <td>male</td>\n",
       "      <td>0.92</td>\n",
       "    </tr>\n",
       "    <tr>\n",
       "      <th>2</th>\n",
       "      <td>Allison, Miss. Helen Loraine</td>\n",
       "      <td>female</td>\n",
       "      <td>2.00</td>\n",
       "    </tr>\n",
       "    <tr>\n",
       "      <th>3</th>\n",
       "      <td>Allison, Mr. Hudson Joshua Creighton</td>\n",
       "      <td>male</td>\n",
       "      <td>30.00</td>\n",
       "    </tr>\n",
       "    <tr>\n",
       "      <th>4</th>\n",
       "      <td>Allison, Mrs. Hudson J C (Bessie Waldo Daniels)</td>\n",
       "      <td>female</td>\n",
       "      <td>25.00</td>\n",
       "    </tr>\n",
       "    <tr>\n",
       "      <th>...</th>\n",
       "      <td>...</td>\n",
       "      <td>...</td>\n",
       "      <td>...</td>\n",
       "    </tr>\n",
       "    <tr>\n",
       "      <th>1304</th>\n",
       "      <td>Zabour, Miss. Hileni</td>\n",
       "      <td>female</td>\n",
       "      <td>14.50</td>\n",
       "    </tr>\n",
       "    <tr>\n",
       "      <th>1305</th>\n",
       "      <td>Zabour, Miss. Thamine</td>\n",
       "      <td>female</td>\n",
       "      <td>NaN</td>\n",
       "    </tr>\n",
       "    <tr>\n",
       "      <th>1306</th>\n",
       "      <td>Zakarian, Mr. Mapriededer</td>\n",
       "      <td>male</td>\n",
       "      <td>26.50</td>\n",
       "    </tr>\n",
       "    <tr>\n",
       "      <th>1307</th>\n",
       "      <td>Zakarian, Mr. Ortin</td>\n",
       "      <td>male</td>\n",
       "      <td>27.00</td>\n",
       "    </tr>\n",
       "    <tr>\n",
       "      <th>1308</th>\n",
       "      <td>Zimmerman, Mr. Leo</td>\n",
       "      <td>male</td>\n",
       "      <td>29.00</td>\n",
       "    </tr>\n",
       "  </tbody>\n",
       "</table>\n",
       "<p>1309 rows × 3 columns</p>\n",
       "</div>"
      ],
      "text/plain": [
       "                                                 name     sex    age\n",
       "0                       Allen, Miss. Elisabeth Walton  female  29.00\n",
       "1                      Allison, Master. Hudson Trevor    male   0.92\n",
       "2                        Allison, Miss. Helen Loraine  female   2.00\n",
       "3                Allison, Mr. Hudson Joshua Creighton    male  30.00\n",
       "4     Allison, Mrs. Hudson J C (Bessie Waldo Daniels)  female  25.00\n",
       "...                                               ...     ...    ...\n",
       "1304                             Zabour, Miss. Hileni  female  14.50\n",
       "1305                            Zabour, Miss. Thamine  female    NaN\n",
       "1306                        Zakarian, Mr. Mapriededer    male  26.50\n",
       "1307                              Zakarian, Mr. Ortin    male  27.00\n",
       "1308                               Zimmerman, Mr. Leo    male  29.00\n",
       "\n",
       "[1309 rows x 3 columns]"
      ]
     },
     "execution_count": 6,
     "metadata": {},
     "output_type": "execute_result"
    }
   ],
   "source": [
    "people1 = titanic[['name', 'sex', 'age']].copy()\n",
    "people1"
   ]
  },
  {
   "cell_type": "code",
   "execution_count": 7,
   "metadata": {},
   "outputs": [
    {
     "data": {
      "application/vnd.microsoft.datawrangler.viewer.v0+json": {
       "columns": [
        {
         "name": "index",
         "rawType": "int64",
         "type": "integer"
        },
        {
         "name": "name",
         "rawType": "object",
         "type": "string"
        },
        {
         "name": "sex",
         "rawType": "object",
         "type": "string"
        },
        {
         "name": "age",
         "rawType": "float64",
         "type": "float"
        }
       ],
       "conversionMethod": "pd.DataFrame",
       "ref": "7d40e08a-3cc9-4015-b6e0-63a501e27cf1",
       "rows": [
        [
         "0",
         "Allen, Miss. Elisabeth Walton",
         "female",
         "29.0"
        ],
        [
         "1",
         "Allison, Master. Hudson Trevor",
         "male",
         "0.92"
        ],
        [
         "2",
         "Allison, Miss. Helen Loraine",
         "female",
         "2.0"
        ],
        [
         "3",
         "Allison, Mr. Hudson Joshua Creighton",
         "male",
         "30.0"
        ],
        [
         "4",
         "Allison, Mrs. Hudson J C (Bessie Waldo Daniels)",
         "female",
         "25.0"
        ],
        [
         "5",
         "Anderson, Mr. Harry",
         "male",
         "48.0"
        ],
        [
         "6",
         "Andrews, Miss. Kornelia Theodosia",
         "female",
         "63.0"
        ],
        [
         "7",
         "Andrews, Mr. Thomas Jr",
         "male",
         "39.0"
        ],
        [
         "8",
         "Appleton, Mrs. Edward Dale (Charlotte Lamson)",
         "female",
         "53.0"
        ],
        [
         "9",
         "Artagaveytia, Mr. Ramon",
         "male",
         "71.0"
        ],
        [
         "10",
         "Astor, Col. John Jacob",
         "male",
         "47.0"
        ],
        [
         "11",
         "Astor, Mrs. John Jacob (Madeleine Talmadge Force)",
         "female",
         "18.0"
        ],
        [
         "12",
         "Aubart, Mme. Leontine Pauline",
         "female",
         "24.0"
        ],
        [
         "13",
         "Barber, Miss. Ellen \"Nellie\"",
         "female",
         "26.0"
        ],
        [
         "14",
         "Barkworth, Mr. Algernon Henry Wilson",
         "male",
         "80.0"
        ],
        [
         "15",
         "Baumann, Mr. John D",
         "male",
         null
        ],
        [
         "16",
         "Baxter, Mr. Quigg Edmond",
         "male",
         "24.0"
        ],
        [
         "17",
         "Baxter, Mrs. James (Helene DeLaudeniere Chaput)",
         "female",
         "50.0"
        ],
        [
         "18",
         "Bazzani, Miss. Albina",
         "female",
         "32.0"
        ],
        [
         "19",
         "Beattie, Mr. Thomson",
         "male",
         "36.0"
        ],
        [
         "20",
         "Beckwith, Mr. Richard Leonard",
         "male",
         "37.0"
        ],
        [
         "21",
         "Beckwith, Mrs. Richard Leonard (Sallie Monypeny)",
         "female",
         "47.0"
        ],
        [
         "22",
         "Behr, Mr. Karl Howell",
         "male",
         "26.0"
        ],
        [
         "23",
         "Bidois, Miss. Rosalie",
         "female",
         "42.0"
        ],
        [
         "24",
         "Bird, Miss. Ellen",
         "female",
         "29.0"
        ],
        [
         "25",
         "Birnbaum, Mr. Jakob",
         "male",
         "25.0"
        ],
        [
         "26",
         "Bishop, Mr. Dickinson H",
         "male",
         "25.0"
        ],
        [
         "27",
         "Bishop, Mrs. Dickinson H (Helen Walton)",
         "female",
         "19.0"
        ],
        [
         "28",
         "Bissette, Miss. Amelia",
         "female",
         "35.0"
        ],
        [
         "29",
         "Bjornstrom-Steffansson, Mr. Mauritz Hakan",
         "male",
         "28.0"
        ],
        [
         "30",
         "Blackwell, Mr. Stephen Weart",
         "male",
         "45.0"
        ],
        [
         "31",
         "Blank, Mr. Henry",
         "male",
         "40.0"
        ],
        [
         "32",
         "Bonnell, Miss. Caroline",
         "female",
         "30.0"
        ],
        [
         "33",
         "Bonnell, Miss. Elizabeth",
         "female",
         "58.0"
        ],
        [
         "34",
         "Borebank, Mr. John James",
         "male",
         "42.0"
        ],
        [
         "35",
         "Bowen, Miss. Grace Scott",
         "female",
         "45.0"
        ],
        [
         "36",
         "Bowerman, Miss. Elsie Edith",
         "female",
         "22.0"
        ],
        [
         "37",
         "Bradley, Mr. George (\"George Arthur Brayton\")",
         "male",
         null
        ],
        [
         "38",
         "Brady, Mr. John Bertram",
         "male",
         "41.0"
        ],
        [
         "39",
         "Brandeis, Mr. Emil",
         "male",
         "48.0"
        ],
        [
         "40",
         "Brewe, Dr. Arthur Jackson",
         "male",
         null
        ],
        [
         "41",
         "Brown, Mrs. James Joseph (Margaret Tobin)",
         "female",
         "44.0"
        ],
        [
         "42",
         "Brown, Mrs. John Murray (Caroline Lane Lamson)",
         "female",
         "59.0"
        ],
        [
         "43",
         "Bucknell, Mrs. William Robert (Emma Eliza Ward)",
         "female",
         "60.0"
        ],
        [
         "44",
         "Burns, Miss. Elizabeth Margaret",
         "female",
         "41.0"
        ],
        [
         "45",
         "Butt, Major. Archibald Willingham",
         "male",
         "45.0"
        ],
        [
         "46",
         "Cairns, Mr. Alexander",
         "male",
         null
        ],
        [
         "47",
         "Calderhead, Mr. Edward Pennington",
         "male",
         "42.0"
        ],
        [
         "48",
         "Candee, Mrs. Edward (Helen Churchill Hungerford)",
         "female",
         "53.0"
        ],
        [
         "49",
         "Cardeza, Mr. Thomas Drake Martinez",
         "male",
         "36.0"
        ]
       ],
       "shape": {
        "columns": 3,
        "rows": 1309
       }
      },
      "text/html": [
       "<div>\n",
       "<style scoped>\n",
       "    .dataframe tbody tr th:only-of-type {\n",
       "        vertical-align: middle;\n",
       "    }\n",
       "\n",
       "    .dataframe tbody tr th {\n",
       "        vertical-align: top;\n",
       "    }\n",
       "\n",
       "    .dataframe thead th {\n",
       "        text-align: right;\n",
       "    }\n",
       "</style>\n",
       "<table border=\"1\" class=\"dataframe\">\n",
       "  <thead>\n",
       "    <tr style=\"text-align: right;\">\n",
       "      <th></th>\n",
       "      <th>name</th>\n",
       "      <th>sex</th>\n",
       "      <th>age</th>\n",
       "    </tr>\n",
       "  </thead>\n",
       "  <tbody>\n",
       "    <tr>\n",
       "      <th>0</th>\n",
       "      <td>Allen, Miss. Elisabeth Walton</td>\n",
       "      <td>female</td>\n",
       "      <td>29.00</td>\n",
       "    </tr>\n",
       "    <tr>\n",
       "      <th>1</th>\n",
       "      <td>Allison, Master. Hudson Trevor</td>\n",
       "      <td>male</td>\n",
       "      <td>0.92</td>\n",
       "    </tr>\n",
       "    <tr>\n",
       "      <th>2</th>\n",
       "      <td>Allison, Miss. Helen Loraine</td>\n",
       "      <td>female</td>\n",
       "      <td>2.00</td>\n",
       "    </tr>\n",
       "    <tr>\n",
       "      <th>3</th>\n",
       "      <td>Allison, Mr. Hudson Joshua Creighton</td>\n",
       "      <td>male</td>\n",
       "      <td>30.00</td>\n",
       "    </tr>\n",
       "    <tr>\n",
       "      <th>4</th>\n",
       "      <td>Allison, Mrs. Hudson J C (Bessie Waldo Daniels)</td>\n",
       "      <td>female</td>\n",
       "      <td>25.00</td>\n",
       "    </tr>\n",
       "    <tr>\n",
       "      <th>...</th>\n",
       "      <td>...</td>\n",
       "      <td>...</td>\n",
       "      <td>...</td>\n",
       "    </tr>\n",
       "    <tr>\n",
       "      <th>1304</th>\n",
       "      <td>Zabour, Miss. Hileni</td>\n",
       "      <td>female</td>\n",
       "      <td>14.50</td>\n",
       "    </tr>\n",
       "    <tr>\n",
       "      <th>1305</th>\n",
       "      <td>Zabour, Miss. Thamine</td>\n",
       "      <td>female</td>\n",
       "      <td>NaN</td>\n",
       "    </tr>\n",
       "    <tr>\n",
       "      <th>1306</th>\n",
       "      <td>Zakarian, Mr. Mapriededer</td>\n",
       "      <td>male</td>\n",
       "      <td>26.50</td>\n",
       "    </tr>\n",
       "    <tr>\n",
       "      <th>1307</th>\n",
       "      <td>Zakarian, Mr. Ortin</td>\n",
       "      <td>male</td>\n",
       "      <td>27.00</td>\n",
       "    </tr>\n",
       "    <tr>\n",
       "      <th>1308</th>\n",
       "      <td>Zimmerman, Mr. Leo</td>\n",
       "      <td>male</td>\n",
       "      <td>29.00</td>\n",
       "    </tr>\n",
       "  </tbody>\n",
       "</table>\n",
       "<p>1309 rows × 3 columns</p>\n",
       "</div>"
      ],
      "text/plain": [
       "                                                 name     sex    age\n",
       "0                       Allen, Miss. Elisabeth Walton  female  29.00\n",
       "1                      Allison, Master. Hudson Trevor    male   0.92\n",
       "2                        Allison, Miss. Helen Loraine  female   2.00\n",
       "3                Allison, Mr. Hudson Joshua Creighton    male  30.00\n",
       "4     Allison, Mrs. Hudson J C (Bessie Waldo Daniels)  female  25.00\n",
       "...                                               ...     ...    ...\n",
       "1304                             Zabour, Miss. Hileni  female  14.50\n",
       "1305                            Zabour, Miss. Thamine  female    NaN\n",
       "1306                        Zakarian, Mr. Mapriededer    male  26.50\n",
       "1307                              Zakarian, Mr. Ortin    male  27.00\n",
       "1308                               Zimmerman, Mr. Leo    male  29.00\n",
       "\n",
       "[1309 rows x 3 columns]"
      ]
     },
     "execution_count": 7,
     "metadata": {},
     "output_type": "execute_result"
    }
   ],
   "source": [
    "people2 = titanic.loc[:, ['name', 'sex', 'age']].copy()\n",
    "people2"
   ]
  },
  {
   "attachments": {},
   "cell_type": "markdown",
   "metadata": {},
   "source": [
    "3. Print the output of `people` showing the first three rows and the last four rows, using `append`,`tail` and `head`"
   ]
  },
  {
   "cell_type": "code",
   "execution_count": 8,
   "metadata": {},
   "outputs": [
    {
     "name": "stdout",
     "output_type": "stream",
     "text": [
      "                                name     sex    age\n",
      "0      Allen, Miss. Elisabeth Walton  female  29.00\n",
      "1     Allison, Master. Hudson Trevor    male   0.92\n",
      "2       Allison, Miss. Helen Loraine  female   2.00\n",
      "1305           Zabour, Miss. Thamine  female    NaN\n",
      "1306       Zakarian, Mr. Mapriededer    male  26.50\n",
      "1307             Zakarian, Mr. Ortin    male  27.00\n",
      "1308              Zimmerman, Mr. Leo    male  29.00\n"
     ]
    }
   ],
   "source": [
    "print(pd.concat([people1.head(3), people1.tail(4)]))"
   ]
  },
  {
   "attachments": {},
   "cell_type": "markdown",
   "metadata": {},
   "source": [
    "4. Slice the row from 3 to 9, call it `s_titanic`"
   ]
  },
  {
   "cell_type": "code",
   "execution_count": 9,
   "metadata": {},
   "outputs": [
    {
     "data": {
      "application/vnd.microsoft.datawrangler.viewer.v0+json": {
       "columns": [
        {
         "name": "index",
         "rawType": "int64",
         "type": "integer"
        },
        {
         "name": "pclass",
         "rawType": "int64",
         "type": "integer"
        },
        {
         "name": "survived",
         "rawType": "int64",
         "type": "integer"
        },
        {
         "name": "name",
         "rawType": "object",
         "type": "string"
        },
        {
         "name": "sex",
         "rawType": "object",
         "type": "string"
        },
        {
         "name": "age",
         "rawType": "float64",
         "type": "float"
        },
        {
         "name": "sibsp",
         "rawType": "int64",
         "type": "integer"
        },
        {
         "name": "parch",
         "rawType": "int64",
         "type": "integer"
        },
        {
         "name": "ticket",
         "rawType": "object",
         "type": "string"
        },
        {
         "name": "fare",
         "rawType": "float64",
         "type": "float"
        },
        {
         "name": "cabin",
         "rawType": "object",
         "type": "unknown"
        },
        {
         "name": "embarked",
         "rawType": "object",
         "type": "string"
        },
        {
         "name": "boat",
         "rawType": "object",
         "type": "unknown"
        },
        {
         "name": "body",
         "rawType": "float64",
         "type": "float"
        },
        {
         "name": "home.dest",
         "rawType": "object",
         "type": "string"
        }
       ],
       "conversionMethod": "pd.DataFrame",
       "ref": "e52b81dd-512c-4e08-8ae4-c4948c1f24f4",
       "rows": [
        [
         "3",
         "1",
         "0",
         "Allison, Mr. Hudson Joshua Creighton",
         "male",
         "30.0",
         "1",
         "2",
         "113781",
         "151.55",
         "C22 C26",
         "S",
         null,
         "135.0",
         "Montreal, PQ / Chesterville, ON"
        ],
        [
         "4",
         "1",
         "0",
         "Allison, Mrs. Hudson J C (Bessie Waldo Daniels)",
         "female",
         "25.0",
         "1",
         "2",
         "113781",
         "151.55",
         "C22 C26",
         "S",
         null,
         null,
         "Montreal, PQ / Chesterville, ON"
        ],
        [
         "5",
         "1",
         "1",
         "Anderson, Mr. Harry",
         "male",
         "48.0",
         "0",
         "0",
         "19952",
         "26.55",
         "E12",
         "S",
         "3",
         null,
         "New York, NY"
        ],
        [
         "6",
         "1",
         "1",
         "Andrews, Miss. Kornelia Theodosia",
         "female",
         "63.0",
         "1",
         "0",
         "13502",
         "77.9583",
         "D7",
         "S",
         "10",
         null,
         "Hudson, NY"
        ],
        [
         "7",
         "1",
         "0",
         "Andrews, Mr. Thomas Jr",
         "male",
         "39.0",
         "0",
         "0",
         "112050",
         "0.0",
         "A36",
         "S",
         null,
         null,
         "Belfast, NI"
        ],
        [
         "8",
         "1",
         "1",
         "Appleton, Mrs. Edward Dale (Charlotte Lamson)",
         "female",
         "53.0",
         "2",
         "0",
         "11769",
         "51.4792",
         "C101",
         "S",
         "D",
         null,
         "Bayside, Queens, NY"
        ],
        [
         "9",
         "1",
         "0",
         "Artagaveytia, Mr. Ramon",
         "male",
         "71.0",
         "0",
         "0",
         "PC 17609",
         "49.5042",
         null,
         "C",
         null,
         "22.0",
         "Montevideo, Uruguay"
        ]
       ],
       "shape": {
        "columns": 14,
        "rows": 7
       }
      },
      "text/html": [
       "<div>\n",
       "<style scoped>\n",
       "    .dataframe tbody tr th:only-of-type {\n",
       "        vertical-align: middle;\n",
       "    }\n",
       "\n",
       "    .dataframe tbody tr th {\n",
       "        vertical-align: top;\n",
       "    }\n",
       "\n",
       "    .dataframe thead th {\n",
       "        text-align: right;\n",
       "    }\n",
       "</style>\n",
       "<table border=\"1\" class=\"dataframe\">\n",
       "  <thead>\n",
       "    <tr style=\"text-align: right;\">\n",
       "      <th></th>\n",
       "      <th>pclass</th>\n",
       "      <th>survived</th>\n",
       "      <th>name</th>\n",
       "      <th>sex</th>\n",
       "      <th>age</th>\n",
       "      <th>sibsp</th>\n",
       "      <th>parch</th>\n",
       "      <th>ticket</th>\n",
       "      <th>fare</th>\n",
       "      <th>cabin</th>\n",
       "      <th>embarked</th>\n",
       "      <th>boat</th>\n",
       "      <th>body</th>\n",
       "      <th>home.dest</th>\n",
       "    </tr>\n",
       "  </thead>\n",
       "  <tbody>\n",
       "    <tr>\n",
       "      <th>3</th>\n",
       "      <td>1</td>\n",
       "      <td>0</td>\n",
       "      <td>Allison, Mr. Hudson Joshua Creighton</td>\n",
       "      <td>male</td>\n",
       "      <td>30.0</td>\n",
       "      <td>1</td>\n",
       "      <td>2</td>\n",
       "      <td>113781</td>\n",
       "      <td>151.5500</td>\n",
       "      <td>C22 C26</td>\n",
       "      <td>S</td>\n",
       "      <td>NaN</td>\n",
       "      <td>135.0</td>\n",
       "      <td>Montreal, PQ / Chesterville, ON</td>\n",
       "    </tr>\n",
       "    <tr>\n",
       "      <th>4</th>\n",
       "      <td>1</td>\n",
       "      <td>0</td>\n",
       "      <td>Allison, Mrs. Hudson J C (Bessie Waldo Daniels)</td>\n",
       "      <td>female</td>\n",
       "      <td>25.0</td>\n",
       "      <td>1</td>\n",
       "      <td>2</td>\n",
       "      <td>113781</td>\n",
       "      <td>151.5500</td>\n",
       "      <td>C22 C26</td>\n",
       "      <td>S</td>\n",
       "      <td>NaN</td>\n",
       "      <td>NaN</td>\n",
       "      <td>Montreal, PQ / Chesterville, ON</td>\n",
       "    </tr>\n",
       "    <tr>\n",
       "      <th>5</th>\n",
       "      <td>1</td>\n",
       "      <td>1</td>\n",
       "      <td>Anderson, Mr. Harry</td>\n",
       "      <td>male</td>\n",
       "      <td>48.0</td>\n",
       "      <td>0</td>\n",
       "      <td>0</td>\n",
       "      <td>19952</td>\n",
       "      <td>26.5500</td>\n",
       "      <td>E12</td>\n",
       "      <td>S</td>\n",
       "      <td>3</td>\n",
       "      <td>NaN</td>\n",
       "      <td>New York, NY</td>\n",
       "    </tr>\n",
       "    <tr>\n",
       "      <th>6</th>\n",
       "      <td>1</td>\n",
       "      <td>1</td>\n",
       "      <td>Andrews, Miss. Kornelia Theodosia</td>\n",
       "      <td>female</td>\n",
       "      <td>63.0</td>\n",
       "      <td>1</td>\n",
       "      <td>0</td>\n",
       "      <td>13502</td>\n",
       "      <td>77.9583</td>\n",
       "      <td>D7</td>\n",
       "      <td>S</td>\n",
       "      <td>10</td>\n",
       "      <td>NaN</td>\n",
       "      <td>Hudson, NY</td>\n",
       "    </tr>\n",
       "    <tr>\n",
       "      <th>7</th>\n",
       "      <td>1</td>\n",
       "      <td>0</td>\n",
       "      <td>Andrews, Mr. Thomas Jr</td>\n",
       "      <td>male</td>\n",
       "      <td>39.0</td>\n",
       "      <td>0</td>\n",
       "      <td>0</td>\n",
       "      <td>112050</td>\n",
       "      <td>0.0000</td>\n",
       "      <td>A36</td>\n",
       "      <td>S</td>\n",
       "      <td>NaN</td>\n",
       "      <td>NaN</td>\n",
       "      <td>Belfast, NI</td>\n",
       "    </tr>\n",
       "    <tr>\n",
       "      <th>8</th>\n",
       "      <td>1</td>\n",
       "      <td>1</td>\n",
       "      <td>Appleton, Mrs. Edward Dale (Charlotte Lamson)</td>\n",
       "      <td>female</td>\n",
       "      <td>53.0</td>\n",
       "      <td>2</td>\n",
       "      <td>0</td>\n",
       "      <td>11769</td>\n",
       "      <td>51.4792</td>\n",
       "      <td>C101</td>\n",
       "      <td>S</td>\n",
       "      <td>D</td>\n",
       "      <td>NaN</td>\n",
       "      <td>Bayside, Queens, NY</td>\n",
       "    </tr>\n",
       "    <tr>\n",
       "      <th>9</th>\n",
       "      <td>1</td>\n",
       "      <td>0</td>\n",
       "      <td>Artagaveytia, Mr. Ramon</td>\n",
       "      <td>male</td>\n",
       "      <td>71.0</td>\n",
       "      <td>0</td>\n",
       "      <td>0</td>\n",
       "      <td>PC 17609</td>\n",
       "      <td>49.5042</td>\n",
       "      <td>NaN</td>\n",
       "      <td>C</td>\n",
       "      <td>NaN</td>\n",
       "      <td>22.0</td>\n",
       "      <td>Montevideo, Uruguay</td>\n",
       "    </tr>\n",
       "  </tbody>\n",
       "</table>\n",
       "</div>"
      ],
      "text/plain": [
       "   pclass  survived                                             name     sex  \\\n",
       "3       1         0             Allison, Mr. Hudson Joshua Creighton    male   \n",
       "4       1         0  Allison, Mrs. Hudson J C (Bessie Waldo Daniels)  female   \n",
       "5       1         1                              Anderson, Mr. Harry    male   \n",
       "6       1         1                Andrews, Miss. Kornelia Theodosia  female   \n",
       "7       1         0                           Andrews, Mr. Thomas Jr    male   \n",
       "8       1         1    Appleton, Mrs. Edward Dale (Charlotte Lamson)  female   \n",
       "9       1         0                          Artagaveytia, Mr. Ramon    male   \n",
       "\n",
       "    age  sibsp  parch    ticket      fare    cabin embarked boat   body  \\\n",
       "3  30.0      1      2    113781  151.5500  C22 C26        S  NaN  135.0   \n",
       "4  25.0      1      2    113781  151.5500  C22 C26        S  NaN    NaN   \n",
       "5  48.0      0      0     19952   26.5500      E12        S    3    NaN   \n",
       "6  63.0      1      0     13502   77.9583       D7        S   10    NaN   \n",
       "7  39.0      0      0    112050    0.0000      A36        S  NaN    NaN   \n",
       "8  53.0      2      0     11769   51.4792     C101        S    D    NaN   \n",
       "9  71.0      0      0  PC 17609   49.5042      NaN        C  NaN   22.0   \n",
       "\n",
       "                         home.dest  \n",
       "3  Montreal, PQ / Chesterville, ON  \n",
       "4  Montreal, PQ / Chesterville, ON  \n",
       "5                     New York, NY  \n",
       "6                       Hudson, NY  \n",
       "7                      Belfast, NI  \n",
       "8              Bayside, Queens, NY  \n",
       "9              Montevideo, Uruguay  "
      ]
     },
     "execution_count": 9,
     "metadata": {},
     "output_type": "execute_result"
    }
   ],
   "source": [
    "s_titanic = titanic.iloc[3:10]\n",
    "s_titanic"
   ]
  },
  {
   "attachments": {},
   "cell_type": "markdown",
   "metadata": {},
   "source": [
    "5. Slice the row from 40 to 63 in reverse order, call it `s_titanic_rev`"
   ]
  },
  {
   "cell_type": "code",
   "execution_count": 10,
   "metadata": {},
   "outputs": [
    {
     "data": {
      "application/vnd.microsoft.datawrangler.viewer.v0+json": {
       "columns": [
        {
         "name": "index",
         "rawType": "int64",
         "type": "integer"
        },
        {
         "name": "pclass",
         "rawType": "int64",
         "type": "integer"
        },
        {
         "name": "survived",
         "rawType": "int64",
         "type": "integer"
        },
        {
         "name": "name",
         "rawType": "object",
         "type": "string"
        },
        {
         "name": "sex",
         "rawType": "object",
         "type": "string"
        },
        {
         "name": "age",
         "rawType": "float64",
         "type": "float"
        },
        {
         "name": "sibsp",
         "rawType": "int64",
         "type": "integer"
        },
        {
         "name": "parch",
         "rawType": "int64",
         "type": "integer"
        },
        {
         "name": "ticket",
         "rawType": "object",
         "type": "string"
        },
        {
         "name": "fare",
         "rawType": "float64",
         "type": "float"
        },
        {
         "name": "cabin",
         "rawType": "object",
         "type": "unknown"
        },
        {
         "name": "embarked",
         "rawType": "object",
         "type": "string"
        },
        {
         "name": "boat",
         "rawType": "object",
         "type": "unknown"
        },
        {
         "name": "body",
         "rawType": "float64",
         "type": "float"
        },
        {
         "name": "home.dest",
         "rawType": "object",
         "type": "unknown"
        }
       ],
       "conversionMethod": "pd.DataFrame",
       "ref": "fd8e8775-5f7c-46d4-b51e-74244a96b2f4",
       "rows": [
        [
         "63",
         "1",
         "1",
         "Chaffee, Mrs. Herbert Fuller (Carrie Constance Toogood)",
         "female",
         "47.0",
         "1",
         "0",
         "W.E.P. 5734",
         "61.175",
         "E31",
         "S",
         "4",
         null,
         "Amenia, ND"
        ],
        [
         "62",
         "1",
         "0",
         "Chaffee, Mr. Herbert Fuller",
         "male",
         "46.0",
         "1",
         "0",
         "W.E.P. 5734",
         "61.175",
         "E31",
         "S",
         null,
         null,
         "Amenia, ND"
        ],
        [
         "61",
         "1",
         "1",
         "Cavendish, Mrs. Tyrell William (Julia Florence Siegel)",
         "female",
         "76.0",
         "1",
         "0",
         "19877",
         "78.85",
         "C46",
         "S",
         "6",
         null,
         "Little Onn Hall, Staffs"
        ],
        [
         "60",
         "1",
         "0",
         "Cavendish, Mr. Tyrell William",
         "male",
         "36.0",
         "1",
         "0",
         "19877",
         "78.85",
         "C46",
         "S",
         null,
         "172.0",
         "Little Onn Hall, Staffs"
        ],
        [
         "59",
         "1",
         "1",
         "Cassebeer, Mrs. Henry Arthur Jr (Eleanor Genevieve Fosdick)",
         "female",
         null,
         "0",
         "0",
         "17770",
         "27.7208",
         null,
         "C",
         "5",
         null,
         "New York, NY"
        ],
        [
         "58",
         "1",
         "0",
         "Case, Mr. Howard Brown",
         "male",
         "49.0",
         "0",
         "0",
         "19924",
         "26.0",
         null,
         "S",
         null,
         null,
         "Ascot, Berkshire / Rochester, NY"
        ],
        [
         "57",
         "1",
         "1",
         "Carter, Mrs. William Ernest (Lucile Polk)",
         "female",
         "36.0",
         "1",
         "2",
         "113760",
         "120.0",
         "B96 B98",
         "S",
         "4",
         null,
         "Bryn Mawr, PA"
        ],
        [
         "56",
         "1",
         "1",
         "Carter, Mr. William Ernest",
         "male",
         "36.0",
         "1",
         "2",
         "113760",
         "120.0",
         "B96 B98",
         "S",
         "C",
         null,
         "Bryn Mawr, PA"
        ],
        [
         "55",
         "1",
         "1",
         "Carter, Miss. Lucile Polk",
         "female",
         "14.0",
         "1",
         "2",
         "113760",
         "120.0",
         "B96 B98",
         "S",
         "4",
         null,
         "Bryn Mawr, PA"
        ],
        [
         "54",
         "1",
         "1",
         "Carter, Master. William Thornton II",
         "male",
         "11.0",
         "1",
         "2",
         "113760",
         "120.0",
         "B96 B98",
         "S",
         "4",
         null,
         "Bryn Mawr, PA"
        ],
        [
         "53",
         "1",
         "0",
         "Carrau, Mr. Jose Pedro",
         "male",
         "17.0",
         "0",
         "0",
         "113059",
         "47.1",
         null,
         "S",
         null,
         null,
         "Montevideo, Uruguay"
        ],
        [
         "52",
         "1",
         "0",
         "Carrau, Mr. Francisco M",
         "male",
         "28.0",
         "0",
         "0",
         "113059",
         "47.1",
         null,
         "S",
         null,
         null,
         "Montevideo, Uruguay"
        ],
        [
         "51",
         "1",
         "0",
         "Carlsson, Mr. Frans Olof",
         "male",
         "33.0",
         "0",
         "0",
         "695",
         "5.0",
         "B51 B53 B55",
         "S",
         null,
         null,
         "New York, NY"
        ],
        [
         "50",
         "1",
         "1",
         "Cardeza, Mrs. James Warburton Martinez (Charlotte Wardle Drake)",
         "female",
         "58.0",
         "0",
         "1",
         "PC 17755",
         "512.3292",
         "B51 B53 B55",
         "C",
         "3",
         null,
         "Germantown, Philadelphia, PA"
        ],
        [
         "49",
         "1",
         "1",
         "Cardeza, Mr. Thomas Drake Martinez",
         "male",
         "36.0",
         "0",
         "1",
         "PC 17755",
         "512.3292",
         "B51 B53 B55",
         "C",
         "3",
         null,
         "Austria-Hungary / Germantown, Philadelphia, PA"
        ],
        [
         "48",
         "1",
         "1",
         "Candee, Mrs. Edward (Helen Churchill Hungerford)",
         "female",
         "53.0",
         "0",
         "0",
         "PC 17606",
         "27.4458",
         null,
         "C",
         "6",
         null,
         "Washington, DC"
        ],
        [
         "47",
         "1",
         "1",
         "Calderhead, Mr. Edward Pennington",
         "male",
         "42.0",
         "0",
         "0",
         "PC 17476",
         "26.2875",
         "E24",
         "S",
         "5",
         null,
         "New York, NY"
        ],
        [
         "46",
         "1",
         "0",
         "Cairns, Mr. Alexander",
         "male",
         null,
         "0",
         "0",
         "113798",
         "31.0",
         null,
         "S",
         null,
         null,
         null
        ],
        [
         "45",
         "1",
         "0",
         "Butt, Major. Archibald Willingham",
         "male",
         "45.0",
         "0",
         "0",
         "113050",
         "26.55",
         "B38",
         "S",
         null,
         null,
         "Washington, DC"
        ],
        [
         "44",
         "1",
         "1",
         "Burns, Miss. Elizabeth Margaret",
         "female",
         "41.0",
         "0",
         "0",
         "16966",
         "134.5",
         "E40",
         "C",
         "3",
         null,
         null
        ],
        [
         "43",
         "1",
         "1",
         "Bucknell, Mrs. William Robert (Emma Eliza Ward)",
         "female",
         "60.0",
         "0",
         "0",
         "11813",
         "76.2917",
         "D15",
         "C",
         "8",
         null,
         "Philadelphia, PA"
        ],
        [
         "42",
         "1",
         "1",
         "Brown, Mrs. John Murray (Caroline Lane Lamson)",
         "female",
         "59.0",
         "2",
         "0",
         "11769",
         "51.4792",
         "C101",
         "S",
         "D",
         null,
         "Belmont, MA"
        ],
        [
         "41",
         "1",
         "1",
         "Brown, Mrs. James Joseph (Margaret Tobin)",
         "female",
         "44.0",
         "0",
         "0",
         "PC 17610",
         "27.7208",
         "B4",
         "C",
         "6",
         null,
         "Denver, CO"
        ],
        [
         "40",
         "1",
         "0",
         "Brewe, Dr. Arthur Jackson",
         "male",
         null,
         "0",
         "0",
         "112379",
         "39.6",
         null,
         "C",
         null,
         null,
         "Philadelphia, PA"
        ]
       ],
       "shape": {
        "columns": 14,
        "rows": 24
       }
      },
      "text/html": [
       "<div>\n",
       "<style scoped>\n",
       "    .dataframe tbody tr th:only-of-type {\n",
       "        vertical-align: middle;\n",
       "    }\n",
       "\n",
       "    .dataframe tbody tr th {\n",
       "        vertical-align: top;\n",
       "    }\n",
       "\n",
       "    .dataframe thead th {\n",
       "        text-align: right;\n",
       "    }\n",
       "</style>\n",
       "<table border=\"1\" class=\"dataframe\">\n",
       "  <thead>\n",
       "    <tr style=\"text-align: right;\">\n",
       "      <th></th>\n",
       "      <th>pclass</th>\n",
       "      <th>survived</th>\n",
       "      <th>name</th>\n",
       "      <th>sex</th>\n",
       "      <th>age</th>\n",
       "      <th>sibsp</th>\n",
       "      <th>parch</th>\n",
       "      <th>ticket</th>\n",
       "      <th>fare</th>\n",
       "      <th>cabin</th>\n",
       "      <th>embarked</th>\n",
       "      <th>boat</th>\n",
       "      <th>body</th>\n",
       "      <th>home.dest</th>\n",
       "    </tr>\n",
       "  </thead>\n",
       "  <tbody>\n",
       "    <tr>\n",
       "      <th>63</th>\n",
       "      <td>1</td>\n",
       "      <td>1</td>\n",
       "      <td>Chaffee, Mrs. Herbert Fuller (Carrie Constance...</td>\n",
       "      <td>female</td>\n",
       "      <td>47.0</td>\n",
       "      <td>1</td>\n",
       "      <td>0</td>\n",
       "      <td>W.E.P. 5734</td>\n",
       "      <td>61.1750</td>\n",
       "      <td>E31</td>\n",
       "      <td>S</td>\n",
       "      <td>4</td>\n",
       "      <td>NaN</td>\n",
       "      <td>Amenia, ND</td>\n",
       "    </tr>\n",
       "    <tr>\n",
       "      <th>62</th>\n",
       "      <td>1</td>\n",
       "      <td>0</td>\n",
       "      <td>Chaffee, Mr. Herbert Fuller</td>\n",
       "      <td>male</td>\n",
       "      <td>46.0</td>\n",
       "      <td>1</td>\n",
       "      <td>0</td>\n",
       "      <td>W.E.P. 5734</td>\n",
       "      <td>61.1750</td>\n",
       "      <td>E31</td>\n",
       "      <td>S</td>\n",
       "      <td>NaN</td>\n",
       "      <td>NaN</td>\n",
       "      <td>Amenia, ND</td>\n",
       "    </tr>\n",
       "    <tr>\n",
       "      <th>61</th>\n",
       "      <td>1</td>\n",
       "      <td>1</td>\n",
       "      <td>Cavendish, Mrs. Tyrell William (Julia Florence...</td>\n",
       "      <td>female</td>\n",
       "      <td>76.0</td>\n",
       "      <td>1</td>\n",
       "      <td>0</td>\n",
       "      <td>19877</td>\n",
       "      <td>78.8500</td>\n",
       "      <td>C46</td>\n",
       "      <td>S</td>\n",
       "      <td>6</td>\n",
       "      <td>NaN</td>\n",
       "      <td>Little Onn Hall, Staffs</td>\n",
       "    </tr>\n",
       "    <tr>\n",
       "      <th>60</th>\n",
       "      <td>1</td>\n",
       "      <td>0</td>\n",
       "      <td>Cavendish, Mr. Tyrell William</td>\n",
       "      <td>male</td>\n",
       "      <td>36.0</td>\n",
       "      <td>1</td>\n",
       "      <td>0</td>\n",
       "      <td>19877</td>\n",
       "      <td>78.8500</td>\n",
       "      <td>C46</td>\n",
       "      <td>S</td>\n",
       "      <td>NaN</td>\n",
       "      <td>172.0</td>\n",
       "      <td>Little Onn Hall, Staffs</td>\n",
       "    </tr>\n",
       "    <tr>\n",
       "      <th>59</th>\n",
       "      <td>1</td>\n",
       "      <td>1</td>\n",
       "      <td>Cassebeer, Mrs. Henry Arthur Jr (Eleanor Genev...</td>\n",
       "      <td>female</td>\n",
       "      <td>NaN</td>\n",
       "      <td>0</td>\n",
       "      <td>0</td>\n",
       "      <td>17770</td>\n",
       "      <td>27.7208</td>\n",
       "      <td>NaN</td>\n",
       "      <td>C</td>\n",
       "      <td>5</td>\n",
       "      <td>NaN</td>\n",
       "      <td>New York, NY</td>\n",
       "    </tr>\n",
       "    <tr>\n",
       "      <th>58</th>\n",
       "      <td>1</td>\n",
       "      <td>0</td>\n",
       "      <td>Case, Mr. Howard Brown</td>\n",
       "      <td>male</td>\n",
       "      <td>49.0</td>\n",
       "      <td>0</td>\n",
       "      <td>0</td>\n",
       "      <td>19924</td>\n",
       "      <td>26.0000</td>\n",
       "      <td>NaN</td>\n",
       "      <td>S</td>\n",
       "      <td>NaN</td>\n",
       "      <td>NaN</td>\n",
       "      <td>Ascot, Berkshire / Rochester, NY</td>\n",
       "    </tr>\n",
       "    <tr>\n",
       "      <th>57</th>\n",
       "      <td>1</td>\n",
       "      <td>1</td>\n",
       "      <td>Carter, Mrs. William Ernest (Lucile Polk)</td>\n",
       "      <td>female</td>\n",
       "      <td>36.0</td>\n",
       "      <td>1</td>\n",
       "      <td>2</td>\n",
       "      <td>113760</td>\n",
       "      <td>120.0000</td>\n",
       "      <td>B96 B98</td>\n",
       "      <td>S</td>\n",
       "      <td>4</td>\n",
       "      <td>NaN</td>\n",
       "      <td>Bryn Mawr, PA</td>\n",
       "    </tr>\n",
       "    <tr>\n",
       "      <th>56</th>\n",
       "      <td>1</td>\n",
       "      <td>1</td>\n",
       "      <td>Carter, Mr. William Ernest</td>\n",
       "      <td>male</td>\n",
       "      <td>36.0</td>\n",
       "      <td>1</td>\n",
       "      <td>2</td>\n",
       "      <td>113760</td>\n",
       "      <td>120.0000</td>\n",
       "      <td>B96 B98</td>\n",
       "      <td>S</td>\n",
       "      <td>C</td>\n",
       "      <td>NaN</td>\n",
       "      <td>Bryn Mawr, PA</td>\n",
       "    </tr>\n",
       "    <tr>\n",
       "      <th>55</th>\n",
       "      <td>1</td>\n",
       "      <td>1</td>\n",
       "      <td>Carter, Miss. Lucile Polk</td>\n",
       "      <td>female</td>\n",
       "      <td>14.0</td>\n",
       "      <td>1</td>\n",
       "      <td>2</td>\n",
       "      <td>113760</td>\n",
       "      <td>120.0000</td>\n",
       "      <td>B96 B98</td>\n",
       "      <td>S</td>\n",
       "      <td>4</td>\n",
       "      <td>NaN</td>\n",
       "      <td>Bryn Mawr, PA</td>\n",
       "    </tr>\n",
       "    <tr>\n",
       "      <th>54</th>\n",
       "      <td>1</td>\n",
       "      <td>1</td>\n",
       "      <td>Carter, Master. William Thornton II</td>\n",
       "      <td>male</td>\n",
       "      <td>11.0</td>\n",
       "      <td>1</td>\n",
       "      <td>2</td>\n",
       "      <td>113760</td>\n",
       "      <td>120.0000</td>\n",
       "      <td>B96 B98</td>\n",
       "      <td>S</td>\n",
       "      <td>4</td>\n",
       "      <td>NaN</td>\n",
       "      <td>Bryn Mawr, PA</td>\n",
       "    </tr>\n",
       "    <tr>\n",
       "      <th>53</th>\n",
       "      <td>1</td>\n",
       "      <td>0</td>\n",
       "      <td>Carrau, Mr. Jose Pedro</td>\n",
       "      <td>male</td>\n",
       "      <td>17.0</td>\n",
       "      <td>0</td>\n",
       "      <td>0</td>\n",
       "      <td>113059</td>\n",
       "      <td>47.1000</td>\n",
       "      <td>NaN</td>\n",
       "      <td>S</td>\n",
       "      <td>NaN</td>\n",
       "      <td>NaN</td>\n",
       "      <td>Montevideo, Uruguay</td>\n",
       "    </tr>\n",
       "    <tr>\n",
       "      <th>52</th>\n",
       "      <td>1</td>\n",
       "      <td>0</td>\n",
       "      <td>Carrau, Mr. Francisco M</td>\n",
       "      <td>male</td>\n",
       "      <td>28.0</td>\n",
       "      <td>0</td>\n",
       "      <td>0</td>\n",
       "      <td>113059</td>\n",
       "      <td>47.1000</td>\n",
       "      <td>NaN</td>\n",
       "      <td>S</td>\n",
       "      <td>NaN</td>\n",
       "      <td>NaN</td>\n",
       "      <td>Montevideo, Uruguay</td>\n",
       "    </tr>\n",
       "    <tr>\n",
       "      <th>51</th>\n",
       "      <td>1</td>\n",
       "      <td>0</td>\n",
       "      <td>Carlsson, Mr. Frans Olof</td>\n",
       "      <td>male</td>\n",
       "      <td>33.0</td>\n",
       "      <td>0</td>\n",
       "      <td>0</td>\n",
       "      <td>695</td>\n",
       "      <td>5.0000</td>\n",
       "      <td>B51 B53 B55</td>\n",
       "      <td>S</td>\n",
       "      <td>NaN</td>\n",
       "      <td>NaN</td>\n",
       "      <td>New York, NY</td>\n",
       "    </tr>\n",
       "    <tr>\n",
       "      <th>50</th>\n",
       "      <td>1</td>\n",
       "      <td>1</td>\n",
       "      <td>Cardeza, Mrs. James Warburton Martinez (Charlo...</td>\n",
       "      <td>female</td>\n",
       "      <td>58.0</td>\n",
       "      <td>0</td>\n",
       "      <td>1</td>\n",
       "      <td>PC 17755</td>\n",
       "      <td>512.3292</td>\n",
       "      <td>B51 B53 B55</td>\n",
       "      <td>C</td>\n",
       "      <td>3</td>\n",
       "      <td>NaN</td>\n",
       "      <td>Germantown, Philadelphia, PA</td>\n",
       "    </tr>\n",
       "    <tr>\n",
       "      <th>49</th>\n",
       "      <td>1</td>\n",
       "      <td>1</td>\n",
       "      <td>Cardeza, Mr. Thomas Drake Martinez</td>\n",
       "      <td>male</td>\n",
       "      <td>36.0</td>\n",
       "      <td>0</td>\n",
       "      <td>1</td>\n",
       "      <td>PC 17755</td>\n",
       "      <td>512.3292</td>\n",
       "      <td>B51 B53 B55</td>\n",
       "      <td>C</td>\n",
       "      <td>3</td>\n",
       "      <td>NaN</td>\n",
       "      <td>Austria-Hungary / Germantown, Philadelphia, PA</td>\n",
       "    </tr>\n",
       "    <tr>\n",
       "      <th>48</th>\n",
       "      <td>1</td>\n",
       "      <td>1</td>\n",
       "      <td>Candee, Mrs. Edward (Helen Churchill Hungerford)</td>\n",
       "      <td>female</td>\n",
       "      <td>53.0</td>\n",
       "      <td>0</td>\n",
       "      <td>0</td>\n",
       "      <td>PC 17606</td>\n",
       "      <td>27.4458</td>\n",
       "      <td>NaN</td>\n",
       "      <td>C</td>\n",
       "      <td>6</td>\n",
       "      <td>NaN</td>\n",
       "      <td>Washington, DC</td>\n",
       "    </tr>\n",
       "    <tr>\n",
       "      <th>47</th>\n",
       "      <td>1</td>\n",
       "      <td>1</td>\n",
       "      <td>Calderhead, Mr. Edward Pennington</td>\n",
       "      <td>male</td>\n",
       "      <td>42.0</td>\n",
       "      <td>0</td>\n",
       "      <td>0</td>\n",
       "      <td>PC 17476</td>\n",
       "      <td>26.2875</td>\n",
       "      <td>E24</td>\n",
       "      <td>S</td>\n",
       "      <td>5</td>\n",
       "      <td>NaN</td>\n",
       "      <td>New York, NY</td>\n",
       "    </tr>\n",
       "    <tr>\n",
       "      <th>46</th>\n",
       "      <td>1</td>\n",
       "      <td>0</td>\n",
       "      <td>Cairns, Mr. Alexander</td>\n",
       "      <td>male</td>\n",
       "      <td>NaN</td>\n",
       "      <td>0</td>\n",
       "      <td>0</td>\n",
       "      <td>113798</td>\n",
       "      <td>31.0000</td>\n",
       "      <td>NaN</td>\n",
       "      <td>S</td>\n",
       "      <td>NaN</td>\n",
       "      <td>NaN</td>\n",
       "      <td>NaN</td>\n",
       "    </tr>\n",
       "    <tr>\n",
       "      <th>45</th>\n",
       "      <td>1</td>\n",
       "      <td>0</td>\n",
       "      <td>Butt, Major. Archibald Willingham</td>\n",
       "      <td>male</td>\n",
       "      <td>45.0</td>\n",
       "      <td>0</td>\n",
       "      <td>0</td>\n",
       "      <td>113050</td>\n",
       "      <td>26.5500</td>\n",
       "      <td>B38</td>\n",
       "      <td>S</td>\n",
       "      <td>NaN</td>\n",
       "      <td>NaN</td>\n",
       "      <td>Washington, DC</td>\n",
       "    </tr>\n",
       "    <tr>\n",
       "      <th>44</th>\n",
       "      <td>1</td>\n",
       "      <td>1</td>\n",
       "      <td>Burns, Miss. Elizabeth Margaret</td>\n",
       "      <td>female</td>\n",
       "      <td>41.0</td>\n",
       "      <td>0</td>\n",
       "      <td>0</td>\n",
       "      <td>16966</td>\n",
       "      <td>134.5000</td>\n",
       "      <td>E40</td>\n",
       "      <td>C</td>\n",
       "      <td>3</td>\n",
       "      <td>NaN</td>\n",
       "      <td>NaN</td>\n",
       "    </tr>\n",
       "    <tr>\n",
       "      <th>43</th>\n",
       "      <td>1</td>\n",
       "      <td>1</td>\n",
       "      <td>Bucknell, Mrs. William Robert (Emma Eliza Ward)</td>\n",
       "      <td>female</td>\n",
       "      <td>60.0</td>\n",
       "      <td>0</td>\n",
       "      <td>0</td>\n",
       "      <td>11813</td>\n",
       "      <td>76.2917</td>\n",
       "      <td>D15</td>\n",
       "      <td>C</td>\n",
       "      <td>8</td>\n",
       "      <td>NaN</td>\n",
       "      <td>Philadelphia, PA</td>\n",
       "    </tr>\n",
       "    <tr>\n",
       "      <th>42</th>\n",
       "      <td>1</td>\n",
       "      <td>1</td>\n",
       "      <td>Brown, Mrs. John Murray (Caroline Lane Lamson)</td>\n",
       "      <td>female</td>\n",
       "      <td>59.0</td>\n",
       "      <td>2</td>\n",
       "      <td>0</td>\n",
       "      <td>11769</td>\n",
       "      <td>51.4792</td>\n",
       "      <td>C101</td>\n",
       "      <td>S</td>\n",
       "      <td>D</td>\n",
       "      <td>NaN</td>\n",
       "      <td>Belmont, MA</td>\n",
       "    </tr>\n",
       "    <tr>\n",
       "      <th>41</th>\n",
       "      <td>1</td>\n",
       "      <td>1</td>\n",
       "      <td>Brown, Mrs. James Joseph (Margaret Tobin)</td>\n",
       "      <td>female</td>\n",
       "      <td>44.0</td>\n",
       "      <td>0</td>\n",
       "      <td>0</td>\n",
       "      <td>PC 17610</td>\n",
       "      <td>27.7208</td>\n",
       "      <td>B4</td>\n",
       "      <td>C</td>\n",
       "      <td>6</td>\n",
       "      <td>NaN</td>\n",
       "      <td>Denver, CO</td>\n",
       "    </tr>\n",
       "    <tr>\n",
       "      <th>40</th>\n",
       "      <td>1</td>\n",
       "      <td>0</td>\n",
       "      <td>Brewe, Dr. Arthur Jackson</td>\n",
       "      <td>male</td>\n",
       "      <td>NaN</td>\n",
       "      <td>0</td>\n",
       "      <td>0</td>\n",
       "      <td>112379</td>\n",
       "      <td>39.6000</td>\n",
       "      <td>NaN</td>\n",
       "      <td>C</td>\n",
       "      <td>NaN</td>\n",
       "      <td>NaN</td>\n",
       "      <td>Philadelphia, PA</td>\n",
       "    </tr>\n",
       "  </tbody>\n",
       "</table>\n",
       "</div>"
      ],
      "text/plain": [
       "    pclass  survived                                               name  \\\n",
       "63       1         1  Chaffee, Mrs. Herbert Fuller (Carrie Constance...   \n",
       "62       1         0                        Chaffee, Mr. Herbert Fuller   \n",
       "61       1         1  Cavendish, Mrs. Tyrell William (Julia Florence...   \n",
       "60       1         0                      Cavendish, Mr. Tyrell William   \n",
       "59       1         1  Cassebeer, Mrs. Henry Arthur Jr (Eleanor Genev...   \n",
       "58       1         0                             Case, Mr. Howard Brown   \n",
       "57       1         1          Carter, Mrs. William Ernest (Lucile Polk)   \n",
       "56       1         1                         Carter, Mr. William Ernest   \n",
       "55       1         1                          Carter, Miss. Lucile Polk   \n",
       "54       1         1                Carter, Master. William Thornton II   \n",
       "53       1         0                             Carrau, Mr. Jose Pedro   \n",
       "52       1         0                            Carrau, Mr. Francisco M   \n",
       "51       1         0                           Carlsson, Mr. Frans Olof   \n",
       "50       1         1  Cardeza, Mrs. James Warburton Martinez (Charlo...   \n",
       "49       1         1                 Cardeza, Mr. Thomas Drake Martinez   \n",
       "48       1         1   Candee, Mrs. Edward (Helen Churchill Hungerford)   \n",
       "47       1         1                  Calderhead, Mr. Edward Pennington   \n",
       "46       1         0                              Cairns, Mr. Alexander   \n",
       "45       1         0                  Butt, Major. Archibald Willingham   \n",
       "44       1         1                    Burns, Miss. Elizabeth Margaret   \n",
       "43       1         1    Bucknell, Mrs. William Robert (Emma Eliza Ward)   \n",
       "42       1         1     Brown, Mrs. John Murray (Caroline Lane Lamson)   \n",
       "41       1         1          Brown, Mrs. James Joseph (Margaret Tobin)   \n",
       "40       1         0                          Brewe, Dr. Arthur Jackson   \n",
       "\n",
       "       sex   age  sibsp  parch       ticket      fare        cabin embarked  \\\n",
       "63  female  47.0      1      0  W.E.P. 5734   61.1750          E31        S   \n",
       "62    male  46.0      1      0  W.E.P. 5734   61.1750          E31        S   \n",
       "61  female  76.0      1      0        19877   78.8500          C46        S   \n",
       "60    male  36.0      1      0        19877   78.8500          C46        S   \n",
       "59  female   NaN      0      0        17770   27.7208          NaN        C   \n",
       "58    male  49.0      0      0        19924   26.0000          NaN        S   \n",
       "57  female  36.0      1      2       113760  120.0000      B96 B98        S   \n",
       "56    male  36.0      1      2       113760  120.0000      B96 B98        S   \n",
       "55  female  14.0      1      2       113760  120.0000      B96 B98        S   \n",
       "54    male  11.0      1      2       113760  120.0000      B96 B98        S   \n",
       "53    male  17.0      0      0       113059   47.1000          NaN        S   \n",
       "52    male  28.0      0      0       113059   47.1000          NaN        S   \n",
       "51    male  33.0      0      0          695    5.0000  B51 B53 B55        S   \n",
       "50  female  58.0      0      1     PC 17755  512.3292  B51 B53 B55        C   \n",
       "49    male  36.0      0      1     PC 17755  512.3292  B51 B53 B55        C   \n",
       "48  female  53.0      0      0     PC 17606   27.4458          NaN        C   \n",
       "47    male  42.0      0      0     PC 17476   26.2875          E24        S   \n",
       "46    male   NaN      0      0       113798   31.0000          NaN        S   \n",
       "45    male  45.0      0      0       113050   26.5500          B38        S   \n",
       "44  female  41.0      0      0        16966  134.5000          E40        C   \n",
       "43  female  60.0      0      0        11813   76.2917          D15        C   \n",
       "42  female  59.0      2      0        11769   51.4792         C101        S   \n",
       "41  female  44.0      0      0     PC 17610   27.7208           B4        C   \n",
       "40    male   NaN      0      0       112379   39.6000          NaN        C   \n",
       "\n",
       "   boat   body                                       home.dest  \n",
       "63    4    NaN                                      Amenia, ND  \n",
       "62  NaN    NaN                                      Amenia, ND  \n",
       "61    6    NaN                         Little Onn Hall, Staffs  \n",
       "60  NaN  172.0                         Little Onn Hall, Staffs  \n",
       "59    5    NaN                                    New York, NY  \n",
       "58  NaN    NaN                Ascot, Berkshire / Rochester, NY  \n",
       "57    4    NaN                                   Bryn Mawr, PA  \n",
       "56    C    NaN                                   Bryn Mawr, PA  \n",
       "55    4    NaN                                   Bryn Mawr, PA  \n",
       "54    4    NaN                                   Bryn Mawr, PA  \n",
       "53  NaN    NaN                             Montevideo, Uruguay  \n",
       "52  NaN    NaN                             Montevideo, Uruguay  \n",
       "51  NaN    NaN                                    New York, NY  \n",
       "50    3    NaN                    Germantown, Philadelphia, PA  \n",
       "49    3    NaN  Austria-Hungary / Germantown, Philadelphia, PA  \n",
       "48    6    NaN                                  Washington, DC  \n",
       "47    5    NaN                                    New York, NY  \n",
       "46  NaN    NaN                                             NaN  \n",
       "45  NaN    NaN                                  Washington, DC  \n",
       "44    3    NaN                                             NaN  \n",
       "43    8    NaN                                Philadelphia, PA  \n",
       "42    D    NaN                                     Belmont, MA  \n",
       "41    6    NaN                                      Denver, CO  \n",
       "40  NaN    NaN                                Philadelphia, PA  "
      ]
     },
     "execution_count": 10,
     "metadata": {},
     "output_type": "execute_result"
    }
   ],
   "source": [
    "s_titanic_rev = titanic.iloc[40:64][::-1]\n",
    "s_titanic_rev"
   ]
  },
  {
   "attachments": {},
   "cell_type": "markdown",
   "metadata": {},
   "source": [
    "6. Slice the columns from the starting column to `'parch'`, call it `left_columns`"
   ]
  },
  {
   "cell_type": "code",
   "execution_count": 11,
   "metadata": {},
   "outputs": [
    {
     "data": {
      "application/vnd.microsoft.datawrangler.viewer.v0+json": {
       "columns": [
        {
         "name": "index",
         "rawType": "int64",
         "type": "integer"
        },
        {
         "name": "pclass",
         "rawType": "int64",
         "type": "integer"
        },
        {
         "name": "survived",
         "rawType": "int64",
         "type": "integer"
        },
        {
         "name": "name",
         "rawType": "object",
         "type": "string"
        },
        {
         "name": "sex",
         "rawType": "object",
         "type": "string"
        },
        {
         "name": "age",
         "rawType": "float64",
         "type": "float"
        },
        {
         "name": "sibsp",
         "rawType": "int64",
         "type": "integer"
        },
        {
         "name": "parch",
         "rawType": "int64",
         "type": "integer"
        }
       ],
       "conversionMethod": "pd.DataFrame",
       "ref": "7ca85ed6-13c9-482a-a40d-1472585df929",
       "rows": [
        [
         "0",
         "1",
         "1",
         "Allen, Miss. Elisabeth Walton",
         "female",
         "29.0",
         "0",
         "0"
        ],
        [
         "1",
         "1",
         "1",
         "Allison, Master. Hudson Trevor",
         "male",
         "0.92",
         "1",
         "2"
        ],
        [
         "2",
         "1",
         "0",
         "Allison, Miss. Helen Loraine",
         "female",
         "2.0",
         "1",
         "2"
        ],
        [
         "3",
         "1",
         "0",
         "Allison, Mr. Hudson Joshua Creighton",
         "male",
         "30.0",
         "1",
         "2"
        ],
        [
         "4",
         "1",
         "0",
         "Allison, Mrs. Hudson J C (Bessie Waldo Daniels)",
         "female",
         "25.0",
         "1",
         "2"
        ]
       ],
       "shape": {
        "columns": 7,
        "rows": 5
       }
      },
      "text/html": [
       "<div>\n",
       "<style scoped>\n",
       "    .dataframe tbody tr th:only-of-type {\n",
       "        vertical-align: middle;\n",
       "    }\n",
       "\n",
       "    .dataframe tbody tr th {\n",
       "        vertical-align: top;\n",
       "    }\n",
       "\n",
       "    .dataframe thead th {\n",
       "        text-align: right;\n",
       "    }\n",
       "</style>\n",
       "<table border=\"1\" class=\"dataframe\">\n",
       "  <thead>\n",
       "    <tr style=\"text-align: right;\">\n",
       "      <th></th>\n",
       "      <th>pclass</th>\n",
       "      <th>survived</th>\n",
       "      <th>name</th>\n",
       "      <th>sex</th>\n",
       "      <th>age</th>\n",
       "      <th>sibsp</th>\n",
       "      <th>parch</th>\n",
       "    </tr>\n",
       "  </thead>\n",
       "  <tbody>\n",
       "    <tr>\n",
       "      <th>0</th>\n",
       "      <td>1</td>\n",
       "      <td>1</td>\n",
       "      <td>Allen, Miss. Elisabeth Walton</td>\n",
       "      <td>female</td>\n",
       "      <td>29.00</td>\n",
       "      <td>0</td>\n",
       "      <td>0</td>\n",
       "    </tr>\n",
       "    <tr>\n",
       "      <th>1</th>\n",
       "      <td>1</td>\n",
       "      <td>1</td>\n",
       "      <td>Allison, Master. Hudson Trevor</td>\n",
       "      <td>male</td>\n",
       "      <td>0.92</td>\n",
       "      <td>1</td>\n",
       "      <td>2</td>\n",
       "    </tr>\n",
       "    <tr>\n",
       "      <th>2</th>\n",
       "      <td>1</td>\n",
       "      <td>0</td>\n",
       "      <td>Allison, Miss. Helen Loraine</td>\n",
       "      <td>female</td>\n",
       "      <td>2.00</td>\n",
       "      <td>1</td>\n",
       "      <td>2</td>\n",
       "    </tr>\n",
       "    <tr>\n",
       "      <th>3</th>\n",
       "      <td>1</td>\n",
       "      <td>0</td>\n",
       "      <td>Allison, Mr. Hudson Joshua Creighton</td>\n",
       "      <td>male</td>\n",
       "      <td>30.00</td>\n",
       "      <td>1</td>\n",
       "      <td>2</td>\n",
       "    </tr>\n",
       "    <tr>\n",
       "      <th>4</th>\n",
       "      <td>1</td>\n",
       "      <td>0</td>\n",
       "      <td>Allison, Mrs. Hudson J C (Bessie Waldo Daniels)</td>\n",
       "      <td>female</td>\n",
       "      <td>25.00</td>\n",
       "      <td>1</td>\n",
       "      <td>2</td>\n",
       "    </tr>\n",
       "  </tbody>\n",
       "</table>\n",
       "</div>"
      ],
      "text/plain": [
       "   pclass  survived                                             name     sex  \\\n",
       "0       1         1                    Allen, Miss. Elisabeth Walton  female   \n",
       "1       1         1                   Allison, Master. Hudson Trevor    male   \n",
       "2       1         0                     Allison, Miss. Helen Loraine  female   \n",
       "3       1         0             Allison, Mr. Hudson Joshua Creighton    male   \n",
       "4       1         0  Allison, Mrs. Hudson J C (Bessie Waldo Daniels)  female   \n",
       "\n",
       "     age  sibsp  parch  \n",
       "0  29.00      0      0  \n",
       "1   0.92      1      2  \n",
       "2   2.00      1      2  \n",
       "3  30.00      1      2  \n",
       "4  25.00      1      2  "
      ]
     },
     "execution_count": 11,
     "metadata": {},
     "output_type": "execute_result"
    }
   ],
   "source": [
    "left_columns = titanic.loc[:, :'parch']\n",
    "left_columns.head()"
   ]
  },
  {
   "attachments": {},
   "cell_type": "markdown",
   "metadata": {},
   "source": [
    "7. Slice the columns from `'name'` to `'age'`, call it `middle_columns`"
   ]
  },
  {
   "cell_type": "code",
   "execution_count": 12,
   "metadata": {},
   "outputs": [
    {
     "data": {
      "application/vnd.microsoft.datawrangler.viewer.v0+json": {
       "columns": [
        {
         "name": "index",
         "rawType": "int64",
         "type": "integer"
        },
        {
         "name": "name",
         "rawType": "object",
         "type": "string"
        },
        {
         "name": "sex",
         "rawType": "object",
         "type": "string"
        },
        {
         "name": "age",
         "rawType": "float64",
         "type": "float"
        }
       ],
       "conversionMethod": "pd.DataFrame",
       "ref": "b3dd3230-f187-4504-a15b-8f934e1b0826",
       "rows": [
        [
         "0",
         "Allen, Miss. Elisabeth Walton",
         "female",
         "29.0"
        ],
        [
         "1",
         "Allison, Master. Hudson Trevor",
         "male",
         "0.92"
        ],
        [
         "2",
         "Allison, Miss. Helen Loraine",
         "female",
         "2.0"
        ],
        [
         "3",
         "Allison, Mr. Hudson Joshua Creighton",
         "male",
         "30.0"
        ],
        [
         "4",
         "Allison, Mrs. Hudson J C (Bessie Waldo Daniels)",
         "female",
         "25.0"
        ]
       ],
       "shape": {
        "columns": 3,
        "rows": 5
       }
      },
      "text/html": [
       "<div>\n",
       "<style scoped>\n",
       "    .dataframe tbody tr th:only-of-type {\n",
       "        vertical-align: middle;\n",
       "    }\n",
       "\n",
       "    .dataframe tbody tr th {\n",
       "        vertical-align: top;\n",
       "    }\n",
       "\n",
       "    .dataframe thead th {\n",
       "        text-align: right;\n",
       "    }\n",
       "</style>\n",
       "<table border=\"1\" class=\"dataframe\">\n",
       "  <thead>\n",
       "    <tr style=\"text-align: right;\">\n",
       "      <th></th>\n",
       "      <th>name</th>\n",
       "      <th>sex</th>\n",
       "      <th>age</th>\n",
       "    </tr>\n",
       "  </thead>\n",
       "  <tbody>\n",
       "    <tr>\n",
       "      <th>0</th>\n",
       "      <td>Allen, Miss. Elisabeth Walton</td>\n",
       "      <td>female</td>\n",
       "      <td>29.00</td>\n",
       "    </tr>\n",
       "    <tr>\n",
       "      <th>1</th>\n",
       "      <td>Allison, Master. Hudson Trevor</td>\n",
       "      <td>male</td>\n",
       "      <td>0.92</td>\n",
       "    </tr>\n",
       "    <tr>\n",
       "      <th>2</th>\n",
       "      <td>Allison, Miss. Helen Loraine</td>\n",
       "      <td>female</td>\n",
       "      <td>2.00</td>\n",
       "    </tr>\n",
       "    <tr>\n",
       "      <th>3</th>\n",
       "      <td>Allison, Mr. Hudson Joshua Creighton</td>\n",
       "      <td>male</td>\n",
       "      <td>30.00</td>\n",
       "    </tr>\n",
       "    <tr>\n",
       "      <th>4</th>\n",
       "      <td>Allison, Mrs. Hudson J C (Bessie Waldo Daniels)</td>\n",
       "      <td>female</td>\n",
       "      <td>25.00</td>\n",
       "    </tr>\n",
       "  </tbody>\n",
       "</table>\n",
       "</div>"
      ],
      "text/plain": [
       "                                              name     sex    age\n",
       "0                    Allen, Miss. Elisabeth Walton  female  29.00\n",
       "1                   Allison, Master. Hudson Trevor    male   0.92\n",
       "2                     Allison, Miss. Helen Loraine  female   2.00\n",
       "3             Allison, Mr. Hudson Joshua Creighton    male  30.00\n",
       "4  Allison, Mrs. Hudson J C (Bessie Waldo Daniels)  female  25.00"
      ]
     },
     "execution_count": 12,
     "metadata": {},
     "output_type": "execute_result"
    }
   ],
   "source": [
    "middle_columns = titanic.loc[:, 'name':'age']\n",
    "middle_columns.head()"
   ]
  },
  {
   "attachments": {},
   "cell_type": "markdown",
   "metadata": {},
   "source": [
    "8. Slice the columns from `'ticket'` to the end, call it `right_columns`"
   ]
  },
  {
   "cell_type": "code",
   "execution_count": 13,
   "metadata": {},
   "outputs": [
    {
     "data": {
      "application/vnd.microsoft.datawrangler.viewer.v0+json": {
       "columns": [
        {
         "name": "index",
         "rawType": "int64",
         "type": "integer"
        },
        {
         "name": "ticket",
         "rawType": "object",
         "type": "string"
        },
        {
         "name": "fare",
         "rawType": "float64",
         "type": "float"
        },
        {
         "name": "cabin",
         "rawType": "object",
         "type": "string"
        },
        {
         "name": "embarked",
         "rawType": "object",
         "type": "string"
        },
        {
         "name": "boat",
         "rawType": "object",
         "type": "unknown"
        },
        {
         "name": "body",
         "rawType": "float64",
         "type": "float"
        },
        {
         "name": "home.dest",
         "rawType": "object",
         "type": "string"
        }
       ],
       "conversionMethod": "pd.DataFrame",
       "ref": "7fbead26-994c-4f44-b405-a0a4bdf2792e",
       "rows": [
        [
         "0",
         "24160",
         "211.3375",
         "B5",
         "S",
         "2",
         null,
         "St Louis, MO"
        ],
        [
         "1",
         "113781",
         "151.55",
         "C22 C26",
         "S",
         "11",
         null,
         "Montreal, PQ / Chesterville, ON"
        ],
        [
         "2",
         "113781",
         "151.55",
         "C22 C26",
         "S",
         null,
         null,
         "Montreal, PQ / Chesterville, ON"
        ],
        [
         "3",
         "113781",
         "151.55",
         "C22 C26",
         "S",
         null,
         "135.0",
         "Montreal, PQ / Chesterville, ON"
        ],
        [
         "4",
         "113781",
         "151.55",
         "C22 C26",
         "S",
         null,
         null,
         "Montreal, PQ / Chesterville, ON"
        ]
       ],
       "shape": {
        "columns": 7,
        "rows": 5
       }
      },
      "text/html": [
       "<div>\n",
       "<style scoped>\n",
       "    .dataframe tbody tr th:only-of-type {\n",
       "        vertical-align: middle;\n",
       "    }\n",
       "\n",
       "    .dataframe tbody tr th {\n",
       "        vertical-align: top;\n",
       "    }\n",
       "\n",
       "    .dataframe thead th {\n",
       "        text-align: right;\n",
       "    }\n",
       "</style>\n",
       "<table border=\"1\" class=\"dataframe\">\n",
       "  <thead>\n",
       "    <tr style=\"text-align: right;\">\n",
       "      <th></th>\n",
       "      <th>ticket</th>\n",
       "      <th>fare</th>\n",
       "      <th>cabin</th>\n",
       "      <th>embarked</th>\n",
       "      <th>boat</th>\n",
       "      <th>body</th>\n",
       "      <th>home.dest</th>\n",
       "    </tr>\n",
       "  </thead>\n",
       "  <tbody>\n",
       "    <tr>\n",
       "      <th>0</th>\n",
       "      <td>24160</td>\n",
       "      <td>211.3375</td>\n",
       "      <td>B5</td>\n",
       "      <td>S</td>\n",
       "      <td>2</td>\n",
       "      <td>NaN</td>\n",
       "      <td>St Louis, MO</td>\n",
       "    </tr>\n",
       "    <tr>\n",
       "      <th>1</th>\n",
       "      <td>113781</td>\n",
       "      <td>151.5500</td>\n",
       "      <td>C22 C26</td>\n",
       "      <td>S</td>\n",
       "      <td>11</td>\n",
       "      <td>NaN</td>\n",
       "      <td>Montreal, PQ / Chesterville, ON</td>\n",
       "    </tr>\n",
       "    <tr>\n",
       "      <th>2</th>\n",
       "      <td>113781</td>\n",
       "      <td>151.5500</td>\n",
       "      <td>C22 C26</td>\n",
       "      <td>S</td>\n",
       "      <td>NaN</td>\n",
       "      <td>NaN</td>\n",
       "      <td>Montreal, PQ / Chesterville, ON</td>\n",
       "    </tr>\n",
       "    <tr>\n",
       "      <th>3</th>\n",
       "      <td>113781</td>\n",
       "      <td>151.5500</td>\n",
       "      <td>C22 C26</td>\n",
       "      <td>S</td>\n",
       "      <td>NaN</td>\n",
       "      <td>135.0</td>\n",
       "      <td>Montreal, PQ / Chesterville, ON</td>\n",
       "    </tr>\n",
       "    <tr>\n",
       "      <th>4</th>\n",
       "      <td>113781</td>\n",
       "      <td>151.5500</td>\n",
       "      <td>C22 C26</td>\n",
       "      <td>S</td>\n",
       "      <td>NaN</td>\n",
       "      <td>NaN</td>\n",
       "      <td>Montreal, PQ / Chesterville, ON</td>\n",
       "    </tr>\n",
       "  </tbody>\n",
       "</table>\n",
       "</div>"
      ],
      "text/plain": [
       "   ticket      fare    cabin embarked boat   body  \\\n",
       "0   24160  211.3375       B5        S    2    NaN   \n",
       "1  113781  151.5500  C22 C26        S   11    NaN   \n",
       "2  113781  151.5500  C22 C26        S  NaN    NaN   \n",
       "3  113781  151.5500  C22 C26        S  NaN  135.0   \n",
       "4  113781  151.5500  C22 C26        S  NaN    NaN   \n",
       "\n",
       "                         home.dest  \n",
       "0                     St Louis, MO  \n",
       "1  Montreal, PQ / Chesterville, ON  \n",
       "2  Montreal, PQ / Chesterville, ON  \n",
       "3  Montreal, PQ / Chesterville, ON  \n",
       "4  Montreal, PQ / Chesterville, ON  "
      ]
     },
     "execution_count": 13,
     "metadata": {},
     "output_type": "execute_result"
    }
   ],
   "source": [
    "right_columns = titanic.loc[:, 'ticket':]\n",
    "right_columns.head()\n"
   ]
  },
  {
   "attachments": {},
   "cell_type": "markdown",
   "metadata": {},
   "source": [
    "9. What is the name of the oldest person who died in the Titanic? Was he or she travelling alone or had any family travelling with them?  \n",
    "\n"
   ]
  },
  {
   "cell_type": "code",
   "execution_count": 14,
   "metadata": {},
   "outputs": [
    {
     "name": "stdout",
     "output_type": "stream",
     "text": [
      "The oldest person who died on the Titanic is Svensson, Mr. Johan, aged 74.0. They were traveling alone.\n"
     ]
    }
   ],
   "source": [
    "# Filtrar a las personas que murieron\n",
    "deceased = titanic[titanic['survived'] == 0]\n",
    "\n",
    "# Encontrar a la persona más vieja entre los fallecidos\n",
    "oldest_deceased = deceased.loc[deceased['age'].idxmax()]\n",
    "\n",
    "# Comprobar si viajaba solo (sin familiares)\n",
    "traveling_alone = (oldest_deceased['sibsp'] == 0) and (oldest_deceased['parch'] == 0)\n",
    "\n",
    "print(f\"The oldest person who died on the Titanic is {oldest_deceased['name']}, aged {oldest_deceased['age']}. They were traveling {\"alone\" if traveling_alone else \"with family\"}.\")\n"
   ]
  },
  {
   "attachments": {},
   "cell_type": "markdown",
   "metadata": {},
   "source": [
    "In order to give an answer to the second question you should find out which columns give you that info. Usually part of your job as a Data Scientist will be get to know the dataset which you are working with. In this case the columns which give you that info are the following: \n",
    "        - 'sibsp' Number of Siblings/Spouses Aboard\n",
    "        - 'parch' Number of Parents/Children Aboard"
   ]
  },
  {
   "attachments": {},
   "cell_type": "markdown",
   "metadata": {},
   "source": [
    "10. Create the list of 5 random numbers of rows from 0 to the lenght of the dataframe, call it `rows`\n",
    "\n",
    "ex. `rows = [3,7,99,52,48]` use `random` library\n",
    "\n"
   ]
  },
  {
   "cell_type": "code",
   "execution_count": 16,
   "metadata": {},
   "outputs": [
    {
     "data": {
      "text/plain": [
       "[1098, 299, 939, 1281, 1015]"
      ]
     },
     "execution_count": 16,
     "metadata": {},
     "output_type": "execute_result"
    }
   ],
   "source": [
    "rows = random.sample(range(len(titanic)), 5)\n",
    "rows"
   ]
  },
  {
   "attachments": {},
   "cell_type": "markdown",
   "metadata": {},
   "source": [
    "This list of numbers are random, could be different.\n"
   ]
  },
  {
   "attachments": {},
   "cell_type": "markdown",
   "metadata": {},
   "source": [
    "11. Create the list of three column labels, call it `cols`\n"
   ]
  },
  {
   "cell_type": "code",
   "execution_count": 17,
   "metadata": {},
   "outputs": [
    {
     "data": {
      "text/plain": [
       "['boat', 'embarked', 'sibsp']"
      ]
     },
     "execution_count": 17,
     "metadata": {},
     "output_type": "execute_result"
    }
   ],
   "source": [
    "cols = random.sample(titanic.columns.tolist(), 3)\n",
    "cols"
   ]
  },
  {
   "attachments": {},
   "cell_type": "markdown",
   "metadata": {},
   "source": [
    "12. Use both lists `rows` and `cols` to create a new dataframe"
   ]
  },
  {
   "cell_type": "code",
   "execution_count": 21,
   "metadata": {},
   "outputs": [
    {
     "data": {
      "application/vnd.microsoft.datawrangler.viewer.v0+json": {
       "columns": [
        {
         "name": "index",
         "rawType": "int64",
         "type": "integer"
        },
        {
         "name": "boat",
         "rawType": "object",
         "type": "unknown"
        },
        {
         "name": "embarked",
         "rawType": "object",
         "type": "string"
        },
        {
         "name": "sibsp",
         "rawType": "int64",
         "type": "integer"
        }
       ],
       "conversionMethod": "pd.DataFrame",
       "ref": "ca4c622c-9a52-428c-a4a6-ea5f87deeb6f",
       "rows": [
        [
         "786",
         null,
         "S",
         "0"
        ],
        [
         "439",
         null,
         "S",
         "1"
        ],
        [
         "616",
         null,
         "S",
         "0"
        ],
        [
         "870",
         null,
         "S",
         "0"
        ],
        [
         "447",
         null,
         "S",
         "2"
        ]
       ],
       "shape": {
        "columns": 3,
        "rows": 5
       }
      },
      "text/html": [
       "<div>\n",
       "<style scoped>\n",
       "    .dataframe tbody tr th:only-of-type {\n",
       "        vertical-align: middle;\n",
       "    }\n",
       "\n",
       "    .dataframe tbody tr th {\n",
       "        vertical-align: top;\n",
       "    }\n",
       "\n",
       "    .dataframe thead th {\n",
       "        text-align: right;\n",
       "    }\n",
       "</style>\n",
       "<table border=\"1\" class=\"dataframe\">\n",
       "  <thead>\n",
       "    <tr style=\"text-align: right;\">\n",
       "      <th></th>\n",
       "      <th>boat</th>\n",
       "      <th>embarked</th>\n",
       "      <th>sibsp</th>\n",
       "    </tr>\n",
       "  </thead>\n",
       "  <tbody>\n",
       "    <tr>\n",
       "      <th>786</th>\n",
       "      <td>NaN</td>\n",
       "      <td>S</td>\n",
       "      <td>0</td>\n",
       "    </tr>\n",
       "    <tr>\n",
       "      <th>439</th>\n",
       "      <td>NaN</td>\n",
       "      <td>S</td>\n",
       "      <td>1</td>\n",
       "    </tr>\n",
       "    <tr>\n",
       "      <th>616</th>\n",
       "      <td>NaN</td>\n",
       "      <td>S</td>\n",
       "      <td>0</td>\n",
       "    </tr>\n",
       "    <tr>\n",
       "      <th>870</th>\n",
       "      <td>NaN</td>\n",
       "      <td>S</td>\n",
       "      <td>0</td>\n",
       "    </tr>\n",
       "    <tr>\n",
       "      <th>447</th>\n",
       "      <td>NaN</td>\n",
       "      <td>S</td>\n",
       "      <td>2</td>\n",
       "    </tr>\n",
       "  </tbody>\n",
       "</table>\n",
       "</div>"
      ],
      "text/plain": [
       "    boat embarked  sibsp\n",
       "786  NaN        S      0\n",
       "439  NaN        S      1\n",
       "616  NaN        S      0\n",
       "870  NaN        S      0\n",
       "447  NaN        S      2"
      ]
     },
     "execution_count": 21,
     "metadata": {},
     "output_type": "execute_result"
    }
   ],
   "source": [
    "titanic.loc[rows, cols]"
   ]
  },
  {
   "attachments": {},
   "cell_type": "markdown",
   "metadata": {},
   "source": [
    "13. Create a boolean array with the condition of being a woman or a man, using the `sex` column, where **female** is True. Call it `array_fe`"
   ]
  },
  {
   "cell_type": "code",
   "execution_count": 22,
   "metadata": {},
   "outputs": [
    {
     "data": {
      "text/plain": [
       "0        True\n",
       "1       False\n",
       "2        True\n",
       "3       False\n",
       "4        True\n",
       "        ...  \n",
       "1304     True\n",
       "1305     True\n",
       "1306    False\n",
       "1307    False\n",
       "1308    False\n",
       "Name: sex, Length: 1309, dtype: bool"
      ]
     },
     "execution_count": 22,
     "metadata": {},
     "output_type": "execute_result"
    }
   ],
   "source": [
    "array_fe = titanic['sex'] == 'female'\n",
    "array_fe"
   ]
  },
  {
   "attachments": {},
   "cell_type": "markdown",
   "metadata": {},
   "source": [
    "14. Rename the column `\"sex\"` to `\"gender\"` and filter the `titanic` dataframe with the boolean array, call it `woman_titanic`"
   ]
  },
  {
   "cell_type": "code",
   "execution_count": 23,
   "metadata": {},
   "outputs": [
    {
     "data": {
      "application/vnd.microsoft.datawrangler.viewer.v0+json": {
       "columns": [
        {
         "name": "index",
         "rawType": "int64",
         "type": "integer"
        },
        {
         "name": "pclass",
         "rawType": "int64",
         "type": "integer"
        },
        {
         "name": "survived",
         "rawType": "int64",
         "type": "integer"
        },
        {
         "name": "name",
         "rawType": "object",
         "type": "string"
        },
        {
         "name": "gender",
         "rawType": "object",
         "type": "string"
        },
        {
         "name": "age",
         "rawType": "float64",
         "type": "float"
        },
        {
         "name": "sibsp",
         "rawType": "int64",
         "type": "integer"
        },
        {
         "name": "parch",
         "rawType": "int64",
         "type": "integer"
        },
        {
         "name": "ticket",
         "rawType": "object",
         "type": "string"
        },
        {
         "name": "fare",
         "rawType": "float64",
         "type": "float"
        },
        {
         "name": "cabin",
         "rawType": "object",
         "type": "unknown"
        },
        {
         "name": "embarked",
         "rawType": "object",
         "type": "unknown"
        },
        {
         "name": "boat",
         "rawType": "object",
         "type": "unknown"
        },
        {
         "name": "body",
         "rawType": "float64",
         "type": "float"
        },
        {
         "name": "home.dest",
         "rawType": "object",
         "type": "unknown"
        }
       ],
       "conversionMethod": "pd.DataFrame",
       "ref": "b31dd8af-28d5-43ec-be7a-fa3210c4d77e",
       "rows": [
        [
         "0",
         "1",
         "1",
         "Allen, Miss. Elisabeth Walton",
         "female",
         "29.0",
         "0",
         "0",
         "24160",
         "211.3375",
         "B5",
         "S",
         "2",
         null,
         "St Louis, MO"
        ],
        [
         "2",
         "1",
         "0",
         "Allison, Miss. Helen Loraine",
         "female",
         "2.0",
         "1",
         "2",
         "113781",
         "151.55",
         "C22 C26",
         "S",
         null,
         null,
         "Montreal, PQ / Chesterville, ON"
        ],
        [
         "4",
         "1",
         "0",
         "Allison, Mrs. Hudson J C (Bessie Waldo Daniels)",
         "female",
         "25.0",
         "1",
         "2",
         "113781",
         "151.55",
         "C22 C26",
         "S",
         null,
         null,
         "Montreal, PQ / Chesterville, ON"
        ],
        [
         "6",
         "1",
         "1",
         "Andrews, Miss. Kornelia Theodosia",
         "female",
         "63.0",
         "1",
         "0",
         "13502",
         "77.9583",
         "D7",
         "S",
         "10",
         null,
         "Hudson, NY"
        ],
        [
         "8",
         "1",
         "1",
         "Appleton, Mrs. Edward Dale (Charlotte Lamson)",
         "female",
         "53.0",
         "2",
         "0",
         "11769",
         "51.4792",
         "C101",
         "S",
         "D",
         null,
         "Bayside, Queens, NY"
        ],
        [
         "11",
         "1",
         "1",
         "Astor, Mrs. John Jacob (Madeleine Talmadge Force)",
         "female",
         "18.0",
         "1",
         "0",
         "PC 17757",
         "227.525",
         "C62 C64",
         "C",
         "4",
         null,
         "New York, NY"
        ],
        [
         "12",
         "1",
         "1",
         "Aubart, Mme. Leontine Pauline",
         "female",
         "24.0",
         "0",
         "0",
         "PC 17477",
         "69.3",
         "B35",
         "C",
         "9",
         null,
         "Paris, France"
        ],
        [
         "13",
         "1",
         "1",
         "Barber, Miss. Ellen \"Nellie\"",
         "female",
         "26.0",
         "0",
         "0",
         "19877",
         "78.85",
         null,
         "S",
         "6",
         null,
         null
        ],
        [
         "17",
         "1",
         "1",
         "Baxter, Mrs. James (Helene DeLaudeniere Chaput)",
         "female",
         "50.0",
         "0",
         "1",
         "PC 17558",
         "247.5208",
         "B58 B60",
         "C",
         "6",
         null,
         "Montreal, PQ"
        ],
        [
         "18",
         "1",
         "1",
         "Bazzani, Miss. Albina",
         "female",
         "32.0",
         "0",
         "0",
         "11813",
         "76.2917",
         "D15",
         "C",
         "8",
         null,
         null
        ],
        [
         "21",
         "1",
         "1",
         "Beckwith, Mrs. Richard Leonard (Sallie Monypeny)",
         "female",
         "47.0",
         "1",
         "1",
         "11751",
         "52.5542",
         "D35",
         "S",
         "5",
         null,
         "New York, NY"
        ],
        [
         "23",
         "1",
         "1",
         "Bidois, Miss. Rosalie",
         "female",
         "42.0",
         "0",
         "0",
         "PC 17757",
         "227.525",
         null,
         "C",
         "4",
         null,
         null
        ],
        [
         "24",
         "1",
         "1",
         "Bird, Miss. Ellen",
         "female",
         "29.0",
         "0",
         "0",
         "PC 17483",
         "221.7792",
         "C97",
         "S",
         "8",
         null,
         null
        ],
        [
         "27",
         "1",
         "1",
         "Bishop, Mrs. Dickinson H (Helen Walton)",
         "female",
         "19.0",
         "1",
         "0",
         "11967",
         "91.0792",
         "B49",
         "C",
         "7",
         null,
         "Dowagiac, MI"
        ],
        [
         "28",
         "1",
         "1",
         "Bissette, Miss. Amelia",
         "female",
         "35.0",
         "0",
         "0",
         "PC 17760",
         "135.6333",
         "C99",
         "S",
         "8",
         null,
         null
        ],
        [
         "32",
         "1",
         "1",
         "Bonnell, Miss. Caroline",
         "female",
         "30.0",
         "0",
         "0",
         "36928",
         "164.8667",
         "C7",
         "S",
         "8",
         null,
         "Youngstown, OH"
        ],
        [
         "33",
         "1",
         "1",
         "Bonnell, Miss. Elizabeth",
         "female",
         "58.0",
         "0",
         "0",
         "113783",
         "26.55",
         "C103",
         "S",
         "8",
         null,
         "Birkdale, England Cleveland, Ohio"
        ],
        [
         "35",
         "1",
         "1",
         "Bowen, Miss. Grace Scott",
         "female",
         "45.0",
         "0",
         "0",
         "PC 17608",
         "262.375",
         null,
         "C",
         "4",
         null,
         "Cooperstown, NY"
        ],
        [
         "36",
         "1",
         "1",
         "Bowerman, Miss. Elsie Edith",
         "female",
         "22.0",
         "0",
         "1",
         "113505",
         "55.0",
         "E33",
         "S",
         "6",
         null,
         "St Leonards-on-Sea, England Ohio"
        ],
        [
         "41",
         "1",
         "1",
         "Brown, Mrs. James Joseph (Margaret Tobin)",
         "female",
         "44.0",
         "0",
         "0",
         "PC 17610",
         "27.7208",
         "B4",
         "C",
         "6",
         null,
         "Denver, CO"
        ],
        [
         "42",
         "1",
         "1",
         "Brown, Mrs. John Murray (Caroline Lane Lamson)",
         "female",
         "59.0",
         "2",
         "0",
         "11769",
         "51.4792",
         "C101",
         "S",
         "D",
         null,
         "Belmont, MA"
        ],
        [
         "43",
         "1",
         "1",
         "Bucknell, Mrs. William Robert (Emma Eliza Ward)",
         "female",
         "60.0",
         "0",
         "0",
         "11813",
         "76.2917",
         "D15",
         "C",
         "8",
         null,
         "Philadelphia, PA"
        ],
        [
         "44",
         "1",
         "1",
         "Burns, Miss. Elizabeth Margaret",
         "female",
         "41.0",
         "0",
         "0",
         "16966",
         "134.5",
         "E40",
         "C",
         "3",
         null,
         null
        ],
        [
         "48",
         "1",
         "1",
         "Candee, Mrs. Edward (Helen Churchill Hungerford)",
         "female",
         "53.0",
         "0",
         "0",
         "PC 17606",
         "27.4458",
         null,
         "C",
         "6",
         null,
         "Washington, DC"
        ],
        [
         "50",
         "1",
         "1",
         "Cardeza, Mrs. James Warburton Martinez (Charlotte Wardle Drake)",
         "female",
         "58.0",
         "0",
         "1",
         "PC 17755",
         "512.3292",
         "B51 B53 B55",
         "C",
         "3",
         null,
         "Germantown, Philadelphia, PA"
        ],
        [
         "55",
         "1",
         "1",
         "Carter, Miss. Lucile Polk",
         "female",
         "14.0",
         "1",
         "2",
         "113760",
         "120.0",
         "B96 B98",
         "S",
         "4",
         null,
         "Bryn Mawr, PA"
        ],
        [
         "57",
         "1",
         "1",
         "Carter, Mrs. William Ernest (Lucile Polk)",
         "female",
         "36.0",
         "1",
         "2",
         "113760",
         "120.0",
         "B96 B98",
         "S",
         "4",
         null,
         "Bryn Mawr, PA"
        ],
        [
         "59",
         "1",
         "1",
         "Cassebeer, Mrs. Henry Arthur Jr (Eleanor Genevieve Fosdick)",
         "female",
         null,
         "0",
         "0",
         "17770",
         "27.7208",
         null,
         "C",
         "5",
         null,
         "New York, NY"
        ],
        [
         "61",
         "1",
         "1",
         "Cavendish, Mrs. Tyrell William (Julia Florence Siegel)",
         "female",
         "76.0",
         "1",
         "0",
         "19877",
         "78.85",
         "C46",
         "S",
         "6",
         null,
         "Little Onn Hall, Staffs"
        ],
        [
         "63",
         "1",
         "1",
         "Chaffee, Mrs. Herbert Fuller (Carrie Constance Toogood)",
         "female",
         "47.0",
         "1",
         "0",
         "W.E.P. 5734",
         "61.175",
         "E31",
         "S",
         "4",
         null,
         "Amenia, ND"
        ],
        [
         "65",
         "1",
         "1",
         "Chambers, Mrs. Norman Campbell (Bertha Griggs)",
         "female",
         "33.0",
         "1",
         "0",
         "113806",
         "53.1",
         "E8",
         "S",
         "5",
         null,
         "New York, NY / Ithaca, NY"
        ],
        [
         "66",
         "1",
         "1",
         "Chaudanson, Miss. Victorine",
         "female",
         "36.0",
         "0",
         "0",
         "PC 17608",
         "262.375",
         "B61",
         "C",
         "4",
         null,
         null
        ],
        [
         "67",
         "1",
         "1",
         "Cherry, Miss. Gladys",
         "female",
         "30.0",
         "0",
         "0",
         "110152",
         "86.5",
         "B77",
         "S",
         "8",
         null,
         "London, England"
        ],
        [
         "69",
         "1",
         "1",
         "Chibnall, Mrs. (Edith Martha Bowerman)",
         "female",
         null,
         "0",
         "1",
         "113505",
         "55.0",
         "E33",
         "S",
         "6",
         null,
         "St Leonards-on-Sea, England Ohio"
        ],
        [
         "72",
         "1",
         "1",
         "Clark, Mrs. Walter Miller (Virginia McDowell)",
         "female",
         "26.0",
         "1",
         "0",
         "13508",
         "136.7792",
         "C89",
         "C",
         "4",
         null,
         "Los Angeles, CA"
        ],
        [
         "73",
         "1",
         "1",
         "Cleaver, Miss. Alice",
         "female",
         "22.0",
         "0",
         "0",
         "113781",
         "151.55",
         null,
         "S",
         "11",
         null,
         null
        ],
        [
         "76",
         "1",
         "1",
         "Compton, Miss. Sara Rebecca",
         "female",
         "39.0",
         "1",
         "1",
         "PC 17756",
         "83.1583",
         "E49",
         "C",
         "14",
         null,
         "Lakewood, NJ"
        ],
        [
         "78",
         "1",
         "1",
         "Compton, Mrs. Alexander Taylor (Mary Eliza Ingersoll)",
         "female",
         "64.0",
         "0",
         "2",
         "PC 17756",
         "83.1583",
         "E45",
         "C",
         "14",
         null,
         "Lakewood, NJ"
        ],
        [
         "79",
         "1",
         "1",
         "Cornell, Mrs. Robert Clifford (Malvina Helen Lamson)",
         "female",
         "55.0",
         "2",
         "0",
         "11770",
         "25.7",
         "C101",
         "S",
         "2",
         null,
         "New York, NY"
        ],
        [
         "82",
         "1",
         "1",
         "Crosby, Miss. Harriet R",
         "female",
         "36.0",
         "0",
         "2",
         "WE/P 5735",
         "71.0",
         "B22",
         "S",
         "7",
         null,
         "Milwaukee, WI"
        ],
        [
         "83",
         "1",
         "1",
         "Crosby, Mrs. Edward Gifford (Catherine Elizabeth Halstead)",
         "female",
         "64.0",
         "1",
         "1",
         "112901",
         "26.55",
         "B26",
         "S",
         "7",
         null,
         "Milwaukee, WI"
        ],
        [
         "85",
         "1",
         "1",
         "Cumings, Mrs. John Bradley (Florence Briggs Thayer)",
         "female",
         "38.0",
         "1",
         "0",
         "PC 17599",
         "71.2833",
         "C85",
         "C",
         "4",
         null,
         "New York, NY"
        ],
        [
         "88",
         "1",
         "1",
         "Daniels, Miss. Sarah",
         "female",
         "33.0",
         "0",
         "0",
         "113781",
         "151.55",
         null,
         "S",
         "8",
         null,
         null
        ],
        [
         "90",
         "1",
         "1",
         "Davidson, Mrs. Thornton (Orian Hays)",
         "female",
         "27.0",
         "1",
         "2",
         "F.C. 12750",
         "52.0",
         "B71",
         "S",
         "3",
         null,
         "Montreal, PQ"
        ],
        [
         "92",
         "1",
         "1",
         "Dick, Mrs. Albert Adrian (Vera Gillespie)",
         "female",
         "17.0",
         "1",
         "0",
         "17474",
         "57.0",
         "B20",
         "S",
         "3",
         null,
         "Calgary, AB"
        ],
        [
         "95",
         "1",
         "1",
         "Dodge, Mrs. Washington (Ruth Vidaver)",
         "female",
         "54.0",
         "1",
         "1",
         "33638",
         "81.8583",
         "A34",
         "S",
         "5",
         null,
         "San Francisco, CA"
        ],
        [
         "97",
         "1",
         "1",
         "Douglas, Mrs. Frederick Charles (Mary Helene Baxter)",
         "female",
         "27.0",
         "1",
         "1",
         "PC 17558",
         "247.5208",
         "B58 B60",
         "C",
         "6",
         null,
         "Montreal, PQ"
        ],
        [
         "98",
         "1",
         "1",
         "Douglas, Mrs. Walter Donald (Mahala Dutton)",
         "female",
         "48.0",
         "1",
         "0",
         "PC 17761",
         "106.425",
         "C86",
         "C",
         "2",
         null,
         "Deephaven, MN / Cedar Rapids, IA"
        ],
        [
         "99",
         "1",
         "1",
         "Duff Gordon, Lady. (Lucille Christiana Sutherland) (\"Mrs Morgan\")",
         "female",
         "48.0",
         "1",
         "0",
         "11755",
         "39.6",
         "A16",
         "C",
         "1",
         null,
         "London / Paris"
        ],
        [
         "102",
         "1",
         "1",
         "Earnshaw, Mrs. Boulton (Olive Potter)",
         "female",
         "23.0",
         "0",
         "1",
         "11767",
         "83.1583",
         "C54",
         "C",
         "7",
         null,
         "Mt Airy, Philadelphia, PA"
        ]
       ],
       "shape": {
        "columns": 14,
        "rows": 466
       }
      },
      "text/html": [
       "<div>\n",
       "<style scoped>\n",
       "    .dataframe tbody tr th:only-of-type {\n",
       "        vertical-align: middle;\n",
       "    }\n",
       "\n",
       "    .dataframe tbody tr th {\n",
       "        vertical-align: top;\n",
       "    }\n",
       "\n",
       "    .dataframe thead th {\n",
       "        text-align: right;\n",
       "    }\n",
       "</style>\n",
       "<table border=\"1\" class=\"dataframe\">\n",
       "  <thead>\n",
       "    <tr style=\"text-align: right;\">\n",
       "      <th></th>\n",
       "      <th>pclass</th>\n",
       "      <th>survived</th>\n",
       "      <th>name</th>\n",
       "      <th>gender</th>\n",
       "      <th>age</th>\n",
       "      <th>sibsp</th>\n",
       "      <th>parch</th>\n",
       "      <th>ticket</th>\n",
       "      <th>fare</th>\n",
       "      <th>cabin</th>\n",
       "      <th>embarked</th>\n",
       "      <th>boat</th>\n",
       "      <th>body</th>\n",
       "      <th>home.dest</th>\n",
       "    </tr>\n",
       "  </thead>\n",
       "  <tbody>\n",
       "    <tr>\n",
       "      <th>0</th>\n",
       "      <td>1</td>\n",
       "      <td>1</td>\n",
       "      <td>Allen, Miss. Elisabeth Walton</td>\n",
       "      <td>female</td>\n",
       "      <td>29.0</td>\n",
       "      <td>0</td>\n",
       "      <td>0</td>\n",
       "      <td>24160</td>\n",
       "      <td>211.3375</td>\n",
       "      <td>B5</td>\n",
       "      <td>S</td>\n",
       "      <td>2</td>\n",
       "      <td>NaN</td>\n",
       "      <td>St Louis, MO</td>\n",
       "    </tr>\n",
       "    <tr>\n",
       "      <th>2</th>\n",
       "      <td>1</td>\n",
       "      <td>0</td>\n",
       "      <td>Allison, Miss. Helen Loraine</td>\n",
       "      <td>female</td>\n",
       "      <td>2.0</td>\n",
       "      <td>1</td>\n",
       "      <td>2</td>\n",
       "      <td>113781</td>\n",
       "      <td>151.5500</td>\n",
       "      <td>C22 C26</td>\n",
       "      <td>S</td>\n",
       "      <td>NaN</td>\n",
       "      <td>NaN</td>\n",
       "      <td>Montreal, PQ / Chesterville, ON</td>\n",
       "    </tr>\n",
       "    <tr>\n",
       "      <th>4</th>\n",
       "      <td>1</td>\n",
       "      <td>0</td>\n",
       "      <td>Allison, Mrs. Hudson J C (Bessie Waldo Daniels)</td>\n",
       "      <td>female</td>\n",
       "      <td>25.0</td>\n",
       "      <td>1</td>\n",
       "      <td>2</td>\n",
       "      <td>113781</td>\n",
       "      <td>151.5500</td>\n",
       "      <td>C22 C26</td>\n",
       "      <td>S</td>\n",
       "      <td>NaN</td>\n",
       "      <td>NaN</td>\n",
       "      <td>Montreal, PQ / Chesterville, ON</td>\n",
       "    </tr>\n",
       "    <tr>\n",
       "      <th>6</th>\n",
       "      <td>1</td>\n",
       "      <td>1</td>\n",
       "      <td>Andrews, Miss. Kornelia Theodosia</td>\n",
       "      <td>female</td>\n",
       "      <td>63.0</td>\n",
       "      <td>1</td>\n",
       "      <td>0</td>\n",
       "      <td>13502</td>\n",
       "      <td>77.9583</td>\n",
       "      <td>D7</td>\n",
       "      <td>S</td>\n",
       "      <td>10</td>\n",
       "      <td>NaN</td>\n",
       "      <td>Hudson, NY</td>\n",
       "    </tr>\n",
       "    <tr>\n",
       "      <th>8</th>\n",
       "      <td>1</td>\n",
       "      <td>1</td>\n",
       "      <td>Appleton, Mrs. Edward Dale (Charlotte Lamson)</td>\n",
       "      <td>female</td>\n",
       "      <td>53.0</td>\n",
       "      <td>2</td>\n",
       "      <td>0</td>\n",
       "      <td>11769</td>\n",
       "      <td>51.4792</td>\n",
       "      <td>C101</td>\n",
       "      <td>S</td>\n",
       "      <td>D</td>\n",
       "      <td>NaN</td>\n",
       "      <td>Bayside, Queens, NY</td>\n",
       "    </tr>\n",
       "    <tr>\n",
       "      <th>...</th>\n",
       "      <td>...</td>\n",
       "      <td>...</td>\n",
       "      <td>...</td>\n",
       "      <td>...</td>\n",
       "      <td>...</td>\n",
       "      <td>...</td>\n",
       "      <td>...</td>\n",
       "      <td>...</td>\n",
       "      <td>...</td>\n",
       "      <td>...</td>\n",
       "      <td>...</td>\n",
       "      <td>...</td>\n",
       "      <td>...</td>\n",
       "      <td>...</td>\n",
       "    </tr>\n",
       "    <tr>\n",
       "      <th>1286</th>\n",
       "      <td>3</td>\n",
       "      <td>1</td>\n",
       "      <td>Whabee, Mrs. George Joseph (Shawneene Abi-Saab)</td>\n",
       "      <td>female</td>\n",
       "      <td>38.0</td>\n",
       "      <td>0</td>\n",
       "      <td>0</td>\n",
       "      <td>2688</td>\n",
       "      <td>7.2292</td>\n",
       "      <td>NaN</td>\n",
       "      <td>C</td>\n",
       "      <td>C</td>\n",
       "      <td>NaN</td>\n",
       "      <td>NaN</td>\n",
       "    </tr>\n",
       "    <tr>\n",
       "      <th>1290</th>\n",
       "      <td>3</td>\n",
       "      <td>1</td>\n",
       "      <td>Wilkes, Mrs. James (Ellen Needs)</td>\n",
       "      <td>female</td>\n",
       "      <td>47.0</td>\n",
       "      <td>1</td>\n",
       "      <td>0</td>\n",
       "      <td>363272</td>\n",
       "      <td>7.0000</td>\n",
       "      <td>NaN</td>\n",
       "      <td>S</td>\n",
       "      <td>NaN</td>\n",
       "      <td>NaN</td>\n",
       "      <td>NaN</td>\n",
       "    </tr>\n",
       "    <tr>\n",
       "      <th>1300</th>\n",
       "      <td>3</td>\n",
       "      <td>1</td>\n",
       "      <td>Yasbeck, Mrs. Antoni (Selini Alexander)</td>\n",
       "      <td>female</td>\n",
       "      <td>15.0</td>\n",
       "      <td>1</td>\n",
       "      <td>0</td>\n",
       "      <td>2659</td>\n",
       "      <td>14.4542</td>\n",
       "      <td>NaN</td>\n",
       "      <td>C</td>\n",
       "      <td>NaN</td>\n",
       "      <td>NaN</td>\n",
       "      <td>NaN</td>\n",
       "    </tr>\n",
       "    <tr>\n",
       "      <th>1304</th>\n",
       "      <td>3</td>\n",
       "      <td>0</td>\n",
       "      <td>Zabour, Miss. Hileni</td>\n",
       "      <td>female</td>\n",
       "      <td>14.5</td>\n",
       "      <td>1</td>\n",
       "      <td>0</td>\n",
       "      <td>2665</td>\n",
       "      <td>14.4542</td>\n",
       "      <td>NaN</td>\n",
       "      <td>C</td>\n",
       "      <td>NaN</td>\n",
       "      <td>328.0</td>\n",
       "      <td>NaN</td>\n",
       "    </tr>\n",
       "    <tr>\n",
       "      <th>1305</th>\n",
       "      <td>3</td>\n",
       "      <td>0</td>\n",
       "      <td>Zabour, Miss. Thamine</td>\n",
       "      <td>female</td>\n",
       "      <td>NaN</td>\n",
       "      <td>1</td>\n",
       "      <td>0</td>\n",
       "      <td>2665</td>\n",
       "      <td>14.4542</td>\n",
       "      <td>NaN</td>\n",
       "      <td>C</td>\n",
       "      <td>NaN</td>\n",
       "      <td>NaN</td>\n",
       "      <td>NaN</td>\n",
       "    </tr>\n",
       "  </tbody>\n",
       "</table>\n",
       "<p>466 rows × 14 columns</p>\n",
       "</div>"
      ],
      "text/plain": [
       "      pclass  survived                                             name  \\\n",
       "0          1         1                    Allen, Miss. Elisabeth Walton   \n",
       "2          1         0                     Allison, Miss. Helen Loraine   \n",
       "4          1         0  Allison, Mrs. Hudson J C (Bessie Waldo Daniels)   \n",
       "6          1         1                Andrews, Miss. Kornelia Theodosia   \n",
       "8          1         1    Appleton, Mrs. Edward Dale (Charlotte Lamson)   \n",
       "...      ...       ...                                              ...   \n",
       "1286       3         1  Whabee, Mrs. George Joseph (Shawneene Abi-Saab)   \n",
       "1290       3         1                 Wilkes, Mrs. James (Ellen Needs)   \n",
       "1300       3         1          Yasbeck, Mrs. Antoni (Selini Alexander)   \n",
       "1304       3         0                             Zabour, Miss. Hileni   \n",
       "1305       3         0                            Zabour, Miss. Thamine   \n",
       "\n",
       "      gender   age  sibsp  parch  ticket      fare    cabin embarked boat  \\\n",
       "0     female  29.0      0      0   24160  211.3375       B5        S    2   \n",
       "2     female   2.0      1      2  113781  151.5500  C22 C26        S  NaN   \n",
       "4     female  25.0      1      2  113781  151.5500  C22 C26        S  NaN   \n",
       "6     female  63.0      1      0   13502   77.9583       D7        S   10   \n",
       "8     female  53.0      2      0   11769   51.4792     C101        S    D   \n",
       "...      ...   ...    ...    ...     ...       ...      ...      ...  ...   \n",
       "1286  female  38.0      0      0    2688    7.2292      NaN        C    C   \n",
       "1290  female  47.0      1      0  363272    7.0000      NaN        S  NaN   \n",
       "1300  female  15.0      1      0    2659   14.4542      NaN        C  NaN   \n",
       "1304  female  14.5      1      0    2665   14.4542      NaN        C  NaN   \n",
       "1305  female   NaN      1      0    2665   14.4542      NaN        C  NaN   \n",
       "\n",
       "       body                        home.dest  \n",
       "0       NaN                     St Louis, MO  \n",
       "2       NaN  Montreal, PQ / Chesterville, ON  \n",
       "4       NaN  Montreal, PQ / Chesterville, ON  \n",
       "6       NaN                       Hudson, NY  \n",
       "8       NaN              Bayside, Queens, NY  \n",
       "...     ...                              ...  \n",
       "1286    NaN                              NaN  \n",
       "1290    NaN                              NaN  \n",
       "1300    NaN                              NaN  \n",
       "1304  328.0                              NaN  \n",
       "1305    NaN                              NaN  \n",
       "\n",
       "[466 rows x 14 columns]"
      ]
     },
     "execution_count": 23,
     "metadata": {},
     "output_type": "execute_result"
    }
   ],
   "source": [
    "titanic.rename(columns={'sex': 'gender'}, inplace = True)\n",
    "\n",
    "woman_titanic = titanic[array_fe]\n",
    "woman_titanic"
   ]
  },
  {
   "attachments": {},
   "cell_type": "markdown",
   "metadata": {},
   "source": [
    "15. How many woman were younger than 18? Call the variable `minor_wo`"
   ]
  },
  {
   "cell_type": "code",
   "execution_count": 25,
   "metadata": {},
   "outputs": [
    {
     "data": {
      "text/plain": [
       "72"
      ]
     },
     "execution_count": 25,
     "metadata": {},
     "output_type": "execute_result"
    }
   ],
   "source": [
    "minor_wo = woman_titanic[woman_titanic['age'] < 18]\n",
    "\n",
    "num_minor_wo = len(minor_wo)\n",
    "num_minor_wo"
   ]
  },
  {
   "attachments": {},
   "cell_type": "markdown",
   "metadata": {},
   "source": [
    "16. How many woman that were less than 18 actually died? Call the variable `dead_wo`"
   ]
  },
  {
   "cell_type": "code",
   "execution_count": null,
   "metadata": {},
   "outputs": [
    {
     "data": {
      "text/plain": [
       "22"
      ]
     },
     "execution_count": 26,
     "metadata": {},
     "output_type": "execute_result"
    }
   ],
   "source": [
    "dead_wo = minor_wo[minor_wo['survived'] == 0]\n",
    "len(dead_wo)"
   ]
  },
  {
   "attachments": {},
   "cell_type": "markdown",
   "metadata": {},
   "source": [
    "17. Drop rows with *Nan* in `titanic` with `how='any'` and print the shape\n",
    "\n"
   ]
  },
  {
   "cell_type": "code",
   "execution_count": null,
   "metadata": {},
   "outputs": [
    {
     "data": {
      "text/plain": [
       "(0, 14)"
      ]
     },
     "execution_count": 27,
     "metadata": {},
     "output_type": "execute_result"
    }
   ],
   "source": [
    "titanic_dropped_any = titanic.dropna(how='any')\n",
    "titanic_dropped_any.shape"
   ]
  },
  {
   "attachments": {},
   "cell_type": "markdown",
   "metadata": {},
   "source": [
    "18. Drop rows with *Nan* in `titanic` with `how='all'` and print the shape\n"
   ]
  },
  {
   "cell_type": "code",
   "execution_count": null,
   "metadata": {},
   "outputs": [
    {
     "data": {
      "text/plain": [
       "(1309, 14)"
      ]
     },
     "execution_count": 28,
     "metadata": {},
     "output_type": "execute_result"
    }
   ],
   "source": [
    "titanic_dropped_all = titanic.dropna(how='all')\n",
    "titanic_dropped_all.shape"
   ]
  },
  {
   "attachments": {},
   "cell_type": "markdown",
   "metadata": {},
   "source": [
    "Check in [here](https://pandas.pydata.org/pandas-docs/stable/reference/api/pandas.DataFrame.dropna.html) why the shapes are different."
   ]
  },
  {
   "attachments": {},
   "cell_type": "markdown",
   "metadata": {},
   "source": [
    "19. Drop columns in `titanic` with more than 1000 missing values and print the columns remaining"
   ]
  },
  {
   "cell_type": "code",
   "execution_count": null,
   "metadata": {},
   "outputs": [
    {
     "data": {
      "text/plain": [
       "Index(['pclass', 'survived', 'name', 'gender', 'age', 'sibsp', 'parch',\n",
       "       'ticket', 'fare', 'embarked', 'boat', 'home.dest'],\n",
       "      dtype='object')"
      ]
     },
     "execution_count": 29,
     "metadata": {},
     "output_type": "execute_result"
    }
   ],
   "source": [
    "titanic_dropped_columns = titanic.dropna(thresh=len(titanic)-1000, axis=1)\n",
    "titanic_dropped_columns.columns"
   ]
  },
  {
   "attachments": {},
   "cell_type": "markdown",
   "metadata": {},
   "source": [
    "20. Calculate the ratio of missing values at the `boat` column. "
   ]
  },
  {
   "cell_type": "code",
   "execution_count": null,
   "metadata": {},
   "outputs": [
    {
     "name": "stdout",
     "output_type": "stream",
     "text": [
      "The ratio of missing values in the 'boat' column is 0.63\n"
     ]
    }
   ],
   "source": [
    "print(f\"The ratio of missing values in the 'boat' column is {titanic['boat'].isna().sum()/len(titanic):.2f}\")"
   ]
  },
  {
   "attachments": {},
   "cell_type": "markdown",
   "metadata": {},
   "source": [
    "21.  Group `titanic` by `'pclass'` and aggregate by the columns `age` & `fare`, by `max` and `median` and assign it to `by_class`\n"
   ]
  },
  {
   "cell_type": "code",
   "execution_count": 34,
   "metadata": {},
   "outputs": [
    {
     "data": {
      "application/vnd.microsoft.datawrangler.viewer.v0+json": {
       "columns": [
        {
         "name": "pclass",
         "rawType": "int64",
         "type": "integer"
        },
        {
         "name": "('age', 'max')",
         "rawType": "float64",
         "type": "float"
        },
        {
         "name": "('age', 'median')",
         "rawType": "float64",
         "type": "float"
        },
        {
         "name": "('fare', 'max')",
         "rawType": "float64",
         "type": "float"
        },
        {
         "name": "('fare', 'median')",
         "rawType": "float64",
         "type": "float"
        }
       ],
       "conversionMethod": "pd.DataFrame",
       "ref": "8d8ae0a4-f1a0-4de4-825f-3be1a8fb7680",
       "rows": [
        [
         "1",
         "80.0",
         "39.0",
         "512.3292",
         "60.0"
        ],
        [
         "2",
         "70.0",
         "29.0",
         "73.5",
         "15.0458"
        ],
        [
         "3",
         "74.0",
         "24.0",
         "69.55",
         "8.05"
        ]
       ],
       "shape": {
        "columns": 4,
        "rows": 3
       }
      },
      "text/html": [
       "<div>\n",
       "<style scoped>\n",
       "    .dataframe tbody tr th:only-of-type {\n",
       "        vertical-align: middle;\n",
       "    }\n",
       "\n",
       "    .dataframe tbody tr th {\n",
       "        vertical-align: top;\n",
       "    }\n",
       "\n",
       "    .dataframe thead tr th {\n",
       "        text-align: left;\n",
       "    }\n",
       "\n",
       "    .dataframe thead tr:last-of-type th {\n",
       "        text-align: right;\n",
       "    }\n",
       "</style>\n",
       "<table border=\"1\" class=\"dataframe\">\n",
       "  <thead>\n",
       "    <tr>\n",
       "      <th></th>\n",
       "      <th colspan=\"2\" halign=\"left\">age</th>\n",
       "      <th colspan=\"2\" halign=\"left\">fare</th>\n",
       "    </tr>\n",
       "    <tr>\n",
       "      <th></th>\n",
       "      <th>max</th>\n",
       "      <th>median</th>\n",
       "      <th>max</th>\n",
       "      <th>median</th>\n",
       "    </tr>\n",
       "    <tr>\n",
       "      <th>pclass</th>\n",
       "      <th></th>\n",
       "      <th></th>\n",
       "      <th></th>\n",
       "      <th></th>\n",
       "    </tr>\n",
       "  </thead>\n",
       "  <tbody>\n",
       "    <tr>\n",
       "      <th>1</th>\n",
       "      <td>80.0</td>\n",
       "      <td>39.0</td>\n",
       "      <td>512.3292</td>\n",
       "      <td>60.0000</td>\n",
       "    </tr>\n",
       "    <tr>\n",
       "      <th>2</th>\n",
       "      <td>70.0</td>\n",
       "      <td>29.0</td>\n",
       "      <td>73.5000</td>\n",
       "      <td>15.0458</td>\n",
       "    </tr>\n",
       "    <tr>\n",
       "      <th>3</th>\n",
       "      <td>74.0</td>\n",
       "      <td>24.0</td>\n",
       "      <td>69.5500</td>\n",
       "      <td>8.0500</td>\n",
       "    </tr>\n",
       "  </tbody>\n",
       "</table>\n",
       "</div>"
      ],
      "text/plain": [
       "         age             fare         \n",
       "         max median       max   median\n",
       "pclass                                \n",
       "1       80.0   39.0  512.3292  60.0000\n",
       "2       70.0   29.0   73.5000  15.0458\n",
       "3       74.0   24.0   69.5500   8.0500"
      ]
     },
     "execution_count": 34,
     "metadata": {},
     "output_type": "execute_result"
    }
   ],
   "source": [
    "by_class = titanic.groupby('pclass').agg({'age': ['max', 'median'], 'fare': ['max', 'median']})\n",
    "by_class"
   ]
  },
  {
   "attachments": {},
   "cell_type": "markdown",
   "metadata": {},
   "source": [
    "22. Print the maximum age in each class from `by_class`"
   ]
  },
  {
   "cell_type": "code",
   "execution_count": 36,
   "metadata": {},
   "outputs": [
    {
     "data": {
      "text/plain": [
       "pclass\n",
       "1    80.0\n",
       "2    70.0\n",
       "3    74.0\n",
       "Name: max, dtype: float64"
      ]
     },
     "execution_count": 36,
     "metadata": {},
     "output_type": "execute_result"
    }
   ],
   "source": [
    "max_age_by_class = by_class['age']['max']\n",
    "max_age_by_class"
   ]
  },
  {
   "attachments": {},
   "cell_type": "markdown",
   "metadata": {},
   "source": [
    "23. Print the median fare in each class from `by_class`"
   ]
  },
  {
   "cell_type": "code",
   "execution_count": 37,
   "metadata": {},
   "outputs": [
    {
     "data": {
      "text/plain": [
       "pclass\n",
       "1    60.0000\n",
       "2    15.0458\n",
       "3     8.0500\n",
       "Name: median, dtype: float64"
      ]
     },
     "execution_count": 37,
     "metadata": {},
     "output_type": "execute_result"
    }
   ],
   "source": [
    "by_class['fare']['median']"
   ]
  },
  {
   "attachments": {},
   "cell_type": "markdown",
   "metadata": {},
   "source": [
    "24. Using [`.pivot_table()`](https://pandas.pydata.org/pandas-docs/stable/reference/api/pandas.pivot_table.html) to count how many women or men survived by class, call it `counted`.\n",
    "\n",
    "Don't panic and read the documentation!\n",
    "\n",
    "\n"
   ]
  },
  {
   "cell_type": "code",
   "execution_count": 39,
   "metadata": {},
   "outputs": [
    {
     "data": {
      "application/vnd.microsoft.datawrangler.viewer.v0+json": {
       "columns": [
        {
         "name": "pclass",
         "rawType": "int64",
         "type": "integer"
        },
        {
         "name": "female",
         "rawType": "int64",
         "type": "integer"
        },
        {
         "name": "male",
         "rawType": "int64",
         "type": "integer"
        }
       ],
       "conversionMethod": "pd.DataFrame",
       "ref": "383a3bf7-f952-446d-ba00-adc57c5c746d",
       "rows": [
        [
         "1",
         "139",
         "61"
        ],
        [
         "2",
         "94",
         "25"
        ],
        [
         "3",
         "106",
         "75"
        ]
       ],
       "shape": {
        "columns": 2,
        "rows": 3
       }
      },
      "text/html": [
       "<div>\n",
       "<style scoped>\n",
       "    .dataframe tbody tr th:only-of-type {\n",
       "        vertical-align: middle;\n",
       "    }\n",
       "\n",
       "    .dataframe tbody tr th {\n",
       "        vertical-align: top;\n",
       "    }\n",
       "\n",
       "    .dataframe thead th {\n",
       "        text-align: right;\n",
       "    }\n",
       "</style>\n",
       "<table border=\"1\" class=\"dataframe\">\n",
       "  <thead>\n",
       "    <tr style=\"text-align: right;\">\n",
       "      <th>gender</th>\n",
       "      <th>female</th>\n",
       "      <th>male</th>\n",
       "    </tr>\n",
       "    <tr>\n",
       "      <th>pclass</th>\n",
       "      <th></th>\n",
       "      <th></th>\n",
       "    </tr>\n",
       "  </thead>\n",
       "  <tbody>\n",
       "    <tr>\n",
       "      <th>1</th>\n",
       "      <td>139</td>\n",
       "      <td>61</td>\n",
       "    </tr>\n",
       "    <tr>\n",
       "      <th>2</th>\n",
       "      <td>94</td>\n",
       "      <td>25</td>\n",
       "    </tr>\n",
       "    <tr>\n",
       "      <th>3</th>\n",
       "      <td>106</td>\n",
       "      <td>75</td>\n",
       "    </tr>\n",
       "  </tbody>\n",
       "</table>\n",
       "</div>"
      ],
      "text/plain": [
       "gender  female  male\n",
       "pclass              \n",
       "1          139    61\n",
       "2           94    25\n",
       "3          106    75"
      ]
     },
     "execution_count": 39,
     "metadata": {},
     "output_type": "execute_result"
    }
   ],
   "source": [
    "counted = pd.pivot_table(titanic, values='survived', index='pclass', columns='gender', aggfunc='sum')\n",
    "counted"
   ]
  },
  {
   "attachments": {},
   "cell_type": "markdown",
   "metadata": {},
   "source": [
    "25. Add a new column with the sum of survived men and women, call it `counted['total']` \n"
   ]
  },
  {
   "cell_type": "code",
   "execution_count": 40,
   "metadata": {},
   "outputs": [
    {
     "data": {
      "application/vnd.microsoft.datawrangler.viewer.v0+json": {
       "columns": [
        {
         "name": "pclass",
         "rawType": "int64",
         "type": "integer"
        },
        {
         "name": "female",
         "rawType": "int64",
         "type": "integer"
        },
        {
         "name": "male",
         "rawType": "int64",
         "type": "integer"
        },
        {
         "name": "total",
         "rawType": "int64",
         "type": "integer"
        }
       ],
       "conversionMethod": "pd.DataFrame",
       "ref": "ac7cb4c9-b76b-464d-a457-9a16048b6de5",
       "rows": [
        [
         "1",
         "139",
         "61",
         "200"
        ],
        [
         "2",
         "94",
         "25",
         "119"
        ],
        [
         "3",
         "106",
         "75",
         "181"
        ]
       ],
       "shape": {
        "columns": 3,
        "rows": 3
       }
      },
      "text/html": [
       "<div>\n",
       "<style scoped>\n",
       "    .dataframe tbody tr th:only-of-type {\n",
       "        vertical-align: middle;\n",
       "    }\n",
       "\n",
       "    .dataframe tbody tr th {\n",
       "        vertical-align: top;\n",
       "    }\n",
       "\n",
       "    .dataframe thead th {\n",
       "        text-align: right;\n",
       "    }\n",
       "</style>\n",
       "<table border=\"1\" class=\"dataframe\">\n",
       "  <thead>\n",
       "    <tr style=\"text-align: right;\">\n",
       "      <th>gender</th>\n",
       "      <th>female</th>\n",
       "      <th>male</th>\n",
       "      <th>total</th>\n",
       "    </tr>\n",
       "    <tr>\n",
       "      <th>pclass</th>\n",
       "      <th></th>\n",
       "      <th></th>\n",
       "      <th></th>\n",
       "    </tr>\n",
       "  </thead>\n",
       "  <tbody>\n",
       "    <tr>\n",
       "      <th>1</th>\n",
       "      <td>139</td>\n",
       "      <td>61</td>\n",
       "      <td>200</td>\n",
       "    </tr>\n",
       "    <tr>\n",
       "      <th>2</th>\n",
       "      <td>94</td>\n",
       "      <td>25</td>\n",
       "      <td>119</td>\n",
       "    </tr>\n",
       "    <tr>\n",
       "      <th>3</th>\n",
       "      <td>106</td>\n",
       "      <td>75</td>\n",
       "      <td>181</td>\n",
       "    </tr>\n",
       "  </tbody>\n",
       "</table>\n",
       "</div>"
      ],
      "text/plain": [
       "gender  female  male  total\n",
       "pclass                     \n",
       "1          139    61    200\n",
       "2           94    25    119\n",
       "3          106    75    181"
      ]
     },
     "execution_count": 40,
     "metadata": {},
     "output_type": "execute_result"
    }
   ],
   "source": [
    "counted['total'] = counted.sum(axis=1)\n",
    "counted"
   ]
  },
  {
   "attachments": {},
   "cell_type": "markdown",
   "metadata": {},
   "source": [
    "26. Sort `counted` by the `'total'` column. In which class the people survived the most?"
   ]
  },
  {
   "cell_type": "code",
   "execution_count": 41,
   "metadata": {},
   "outputs": [
    {
     "data": {
      "application/vnd.microsoft.datawrangler.viewer.v0+json": {
       "columns": [
        {
         "name": "pclass",
         "rawType": "int64",
         "type": "integer"
        },
        {
         "name": "female",
         "rawType": "int64",
         "type": "integer"
        },
        {
         "name": "male",
         "rawType": "int64",
         "type": "integer"
        },
        {
         "name": "total",
         "rawType": "int64",
         "type": "integer"
        }
       ],
       "conversionMethod": "pd.DataFrame",
       "ref": "39401c3f-ac5b-4354-b956-15b06b60a39e",
       "rows": [
        [
         "1",
         "139",
         "61",
         "200"
        ],
        [
         "3",
         "106",
         "75",
         "181"
        ],
        [
         "2",
         "94",
         "25",
         "119"
        ]
       ],
       "shape": {
        "columns": 3,
        "rows": 3
       }
      },
      "text/html": [
       "<div>\n",
       "<style scoped>\n",
       "    .dataframe tbody tr th:only-of-type {\n",
       "        vertical-align: middle;\n",
       "    }\n",
       "\n",
       "    .dataframe tbody tr th {\n",
       "        vertical-align: top;\n",
       "    }\n",
       "\n",
       "    .dataframe thead th {\n",
       "        text-align: right;\n",
       "    }\n",
       "</style>\n",
       "<table border=\"1\" class=\"dataframe\">\n",
       "  <thead>\n",
       "    <tr style=\"text-align: right;\">\n",
       "      <th>gender</th>\n",
       "      <th>female</th>\n",
       "      <th>male</th>\n",
       "      <th>total</th>\n",
       "    </tr>\n",
       "    <tr>\n",
       "      <th>pclass</th>\n",
       "      <th></th>\n",
       "      <th></th>\n",
       "      <th></th>\n",
       "    </tr>\n",
       "  </thead>\n",
       "  <tbody>\n",
       "    <tr>\n",
       "      <th>1</th>\n",
       "      <td>139</td>\n",
       "      <td>61</td>\n",
       "      <td>200</td>\n",
       "    </tr>\n",
       "    <tr>\n",
       "      <th>3</th>\n",
       "      <td>106</td>\n",
       "      <td>75</td>\n",
       "      <td>181</td>\n",
       "    </tr>\n",
       "    <tr>\n",
       "      <th>2</th>\n",
       "      <td>94</td>\n",
       "      <td>25</td>\n",
       "      <td>119</td>\n",
       "    </tr>\n",
       "  </tbody>\n",
       "</table>\n",
       "</div>"
      ],
      "text/plain": [
       "gender  female  male  total\n",
       "pclass                     \n",
       "1          139    61    200\n",
       "3          106    75    181\n",
       "2           94    25    119"
      ]
     },
     "execution_count": 41,
     "metadata": {},
     "output_type": "execute_result"
    }
   ],
   "source": [
    "counted_sorted = counted.sort_values(by='total', ascending=False)\n",
    "counted_sorted"
   ]
  },
  {
   "cell_type": "markdown",
   "metadata": {},
   "source": [
    "They survided the most in the first class."
   ]
  },
  {
   "attachments": {},
   "cell_type": "markdown",
   "metadata": {},
   "source": [
    "27. Please, show only the rows using a mask with the following conditions: \n",
    "    - They are woman\n",
    "    - From third class\n",
    "    - Younger than 30\n",
    "    - They survived\n",
    "    \n",
    "    ¿How many rows fulfill the condition?"
   ]
  },
  {
   "cell_type": "code",
   "execution_count": 46,
   "metadata": {},
   "outputs": [
    {
     "data": {
      "text/plain": [
       "57"
      ]
     },
     "execution_count": 46,
     "metadata": {},
     "output_type": "execute_result"
    }
   ],
   "source": [
    "woman_third_class_under_30_survived = titanic[(titanic['gender'] == 'female') & \n",
    "                                              (titanic['pclass'] == 3) & \n",
    "                                              (titanic['age'] < 30) & \n",
    "                                              (titanic['survived'] == 1)]\n",
    "\n",
    "len(woman_third_class_under_30_survived)"
   ]
  },
  {
   "attachments": {},
   "cell_type": "markdown",
   "metadata": {},
   "source": [
    "28. Now, show only the rows using `.loc` with the following conditions: \n",
    "    - They are man\n",
    "    - From first class\n",
    "    - Older than 50\n",
    "    - They died\n",
    "    \n",
    "    ¿How many rows fulfill the condition?"
   ]
  },
  {
   "cell_type": "code",
   "execution_count": 47,
   "metadata": {},
   "outputs": [
    {
     "data": {
      "text/plain": [
       "29"
      ]
     },
     "execution_count": 47,
     "metadata": {},
     "output_type": "execute_result"
    }
   ],
   "source": [
    "man_first_class_over_50_died = titanic.loc[(titanic['gender'] == 'male') & \n",
    "                                           (titanic['pclass'] == 1) & \n",
    "                                           (titanic['age'] > 50) & \n",
    "                                           (titanic['survived'] == 0)]\n",
    "\n",
    "num_man_first_class_over_50_died = len(man_first_class_over_50_died)\n",
    "num_man_first_class_over_50_died"
   ]
  },
  {
   "attachments": {},
   "cell_type": "markdown",
   "metadata": {},
   "source": [
    "29. Print the uniques values at the column `'name'`"
   ]
  },
  {
   "cell_type": "code",
   "execution_count": 52,
   "metadata": {},
   "outputs": [
    {
     "data": {
      "text/plain": [
       "array(['Allen, Miss. Elisabeth Walton', 'Allison, Master. Hudson Trevor',\n",
       "       'Allison, Miss. Helen Loraine', ..., 'Zakarian, Mr. Mapriededer',\n",
       "       'Zakarian, Mr. Ortin', 'Zimmerman, Mr. Leo'], dtype=object)"
      ]
     },
     "execution_count": 52,
     "metadata": {},
     "output_type": "execute_result"
    }
   ],
   "source": [
    "unique_names = titanic['name'].unique()\n",
    "unique_names"
   ]
  },
  {
   "attachments": {},
   "cell_type": "markdown",
   "metadata": {},
   "source": [
    "30. Find if was there any `name` repeated at the Titanic?\n",
    "\n",
    "Hint: There were two people with the same name, who?"
   ]
  },
  {
   "cell_type": "code",
   "execution_count": 53,
   "metadata": {},
   "outputs": [
    {
     "data": {
      "application/vnd.microsoft.datawrangler.viewer.v0+json": {
       "columns": [
        {
         "name": "index",
         "rawType": "int64",
         "type": "integer"
        },
        {
         "name": "name",
         "rawType": "object",
         "type": "string"
        },
        {
         "name": "pclass",
         "rawType": "int64",
         "type": "integer"
        },
        {
         "name": "age",
         "rawType": "float64",
         "type": "float"
        },
        {
         "name": "gender",
         "rawType": "object",
         "type": "string"
        }
       ],
       "conversionMethod": "pd.DataFrame",
       "ref": "d40984b1-8e91-4e07-8cae-025218da4c9d",
       "rows": [
        [
         "725",
         "Connolly, Miss. Kate",
         "3",
         "22.0",
         "female"
        ],
        [
         "726",
         "Connolly, Miss. Kate",
         "3",
         "30.0",
         "female"
        ],
        [
         "924",
         "Kelly, Mr. James",
         "3",
         "34.5",
         "male"
        ],
        [
         "925",
         "Kelly, Mr. James",
         "3",
         "44.0",
         "male"
        ]
       ],
       "shape": {
        "columns": 4,
        "rows": 4
       }
      },
      "text/html": [
       "<div>\n",
       "<style scoped>\n",
       "    .dataframe tbody tr th:only-of-type {\n",
       "        vertical-align: middle;\n",
       "    }\n",
       "\n",
       "    .dataframe tbody tr th {\n",
       "        vertical-align: top;\n",
       "    }\n",
       "\n",
       "    .dataframe thead th {\n",
       "        text-align: right;\n",
       "    }\n",
       "</style>\n",
       "<table border=\"1\" class=\"dataframe\">\n",
       "  <thead>\n",
       "    <tr style=\"text-align: right;\">\n",
       "      <th></th>\n",
       "      <th>name</th>\n",
       "      <th>pclass</th>\n",
       "      <th>age</th>\n",
       "      <th>gender</th>\n",
       "    </tr>\n",
       "  </thead>\n",
       "  <tbody>\n",
       "    <tr>\n",
       "      <th>725</th>\n",
       "      <td>Connolly, Miss. Kate</td>\n",
       "      <td>3</td>\n",
       "      <td>22.0</td>\n",
       "      <td>female</td>\n",
       "    </tr>\n",
       "    <tr>\n",
       "      <th>726</th>\n",
       "      <td>Connolly, Miss. Kate</td>\n",
       "      <td>3</td>\n",
       "      <td>30.0</td>\n",
       "      <td>female</td>\n",
       "    </tr>\n",
       "    <tr>\n",
       "      <th>924</th>\n",
       "      <td>Kelly, Mr. James</td>\n",
       "      <td>3</td>\n",
       "      <td>34.5</td>\n",
       "      <td>male</td>\n",
       "    </tr>\n",
       "    <tr>\n",
       "      <th>925</th>\n",
       "      <td>Kelly, Mr. James</td>\n",
       "      <td>3</td>\n",
       "      <td>44.0</td>\n",
       "      <td>male</td>\n",
       "    </tr>\n",
       "  </tbody>\n",
       "</table>\n",
       "</div>"
      ],
      "text/plain": [
       "                     name  pclass   age  gender\n",
       "725  Connolly, Miss. Kate       3  22.0  female\n",
       "726  Connolly, Miss. Kate       3  30.0  female\n",
       "924      Kelly, Mr. James       3  34.5    male\n",
       "925      Kelly, Mr. James       3  44.0    male"
      ]
     },
     "execution_count": 53,
     "metadata": {},
     "output_type": "execute_result"
    }
   ],
   "source": [
    "repeated_names = titanic[titanic.duplicated(subset='name', keep=False)]\n",
    "repeated_names[['name', 'pclass', 'age', 'gender']]"
   ]
  },
  {
   "attachments": {},
   "cell_type": "markdown",
   "metadata": {},
   "source": [
    "31. Using `matplotlib` find the appropriate visualization to show the distribution of the column `'age'`"
   ]
  },
  {
   "cell_type": "code",
   "execution_count": 54,
   "metadata": {},
   "outputs": [],
   "source": [
    "import matplotlib.pyplot as plt"
   ]
  },
  {
   "cell_type": "code",
   "execution_count": 55,
   "metadata": {},
   "outputs": [
    {
     "data": {
      "image/png": "[encoded data removed]",
      "text/plain": [
       "<Figure size 640x480 with 1 Axes>"
      ]
     },
     "metadata": {},
     "output_type": "display_data"
    }
   ],
   "source": [
    "plt.hist(titanic['age'].dropna(), bins=30, edgecolor='black')\n",
    "plt.xlabel('Age')\n",
    "plt.ylabel('Frequency')\n",
    "plt.title('Age Distribution on the Titanic')\n",
    "plt.show()"
   ]
  },
  {
   "attachments": {},
   "cell_type": "markdown",
   "metadata": {},
   "source": [
    "32. Using `matplotlib` find the appropriate plot to visualize the column `'gender'`"
   ]
  },
  {
   "cell_type": "code",
   "execution_count": 56,
   "metadata": {},
   "outputs": [
    {
     "data": {
      "image/png": "[encoded data removed]",
      "text/plain": [
       "<Figure size 640x480 with 1 Axes>"
      ]
     },
     "metadata": {},
     "output_type": "display_data"
    }
   ],
   "source": [
    "titanic['gender'].value_counts().plot(kind='bar')\n",
    "plt.xlabel('Gender')\n",
    "plt.ylabel('Count')\n",
    "plt.title('Gender Distribution on the Titanic')\n",
    "plt.show()"
   ]
  },
  {
   "attachments": {},
   "cell_type": "markdown",
   "metadata": {},
   "source": [
    "32b. What if you also plot the column `'gender'` using the function [`countplot`](https://seaborn.pydata.org/generated/seaborn.countplot.html) from the library [`seaborn`](https://seaborn.pydata.org/)?\n",
    "\n",
    "Remember you have never used `seaborn` before, therefore you should install it before importing it."
   ]
  },
  {
   "cell_type": "code",
   "execution_count": 57,
   "metadata": {},
   "outputs": [],
   "source": [
    "import seaborn as sns"
   ]
  },
  {
   "cell_type": "code",
   "execution_count": 58,
   "metadata": {},
   "outputs": [
    {
     "data": {
      "image/png": "[encoded data removed]",
      "text/plain": [
       "<Figure size 640x480 with 1 Axes>"
      ]
     },
     "metadata": {},
     "output_type": "display_data"
    }
   ],
   "source": [
    "sns.countplot(x='gender', data=titanic)\n",
    "plt.xlabel('Gender')\n",
    "plt.ylabel('Count')\n",
    "plt.title('Gender Distribution on the Titanic')\n",
    "plt.show()"
   ]
  },
  {
   "attachments": {},
   "cell_type": "markdown",
   "metadata": {},
   "source": [
    "33. Using the function [`catplot`](https://seaborn.pydata.org/generated/seaborn.catplot.html) from the library `seaborn`, find out if the hypothesis _\"Women are more likely to survive shipwrecks\"_ is true or not.\n"
   ]
  },
  {
   "cell_type": "code",
   "execution_count": 59,
   "metadata": {},
   "outputs": [
    {
     "data": {
      "image/png": "[encoded data removed]",
      "text/plain": [
       "<Figure size 1570.49x500 with 3 Axes>"
      ]
     },
     "metadata": {},
     "output_type": "display_data"
    }
   ],
   "source": [
    "sns.catplot(x='gender', hue='survived', col='pclass', data=titanic, kind='count')\n",
    "plt.show()"
   ]
  },
  {
   "cell_type": "markdown",
   "metadata": {},
   "source": [
    "It can be seen how the hypothesis is true, since in every class more women survided than they didn't, while the opposite for men."
   ]
  },
  {
   "attachments": {},
   "cell_type": "markdown",
   "metadata": {},
   "source": [
    "34. Using [`kdeplot`](\"https://seaborn.pydata.org/generated/seaborn.kdeplot.html\") from `seaborn` represent those who not survived distributed by age.<>\n",
    "\n",
    "Hint: First you should \"filter\" the `titanic` dataset where the column \"survived\" is 0, indexing the column `\"age\"` only.\n",
    "\n",
    "Arguments you should pass to the function: \n",
    "\n",
    "    - color = \"red\"\n",
    "    - label = \"Not Survived\"\n",
    "    - shade = True\n",
    "    \n",
    "You should get something like this: "
   ]
  },
  {
   "attachments": {},
   "cell_type": "markdown",
   "metadata": {},
   "source": [
    "![kdeplot](./img/kdeplotsur.png)"
   ]
  },
  {
   "cell_type": "code",
   "execution_count": 62,
   "metadata": {},
   "outputs": [
    {
     "data": {
      "image/png": "[encoded data removed]",
      "text/plain": [
       "<Figure size 640x480 with 1 Axes>"
      ]
     },
     "metadata": {},
     "output_type": "display_data"
    }
   ],
   "source": [
    "not_survived_age = titanic[titanic['survived'] == 0]['age']\n",
    "sns.kdeplot(not_survived_age, color=\"red\", label=\"Not Survived\", fill=True)\n",
    "plt.xlabel('Age')\n",
    "plt.ylabel('Density')\n",
    "plt.title('Age distribution of those who did not survive')\n",
    "plt.legend()\n",
    "plt.show()"
   ]
  },
  {
   "cell_type": "code",
   "execution_count": null,
   "metadata": {},
   "outputs": [],
   "source": []
  }
 ],
 "metadata": {
  "kernelspec": {
   "display_name": "Python 3",
   "language": "python",
   "name": "python3"
  },
  "language_info": {
   "codemirror_mode": {
    "name": "ipython",
    "version": 3
   },
   "file_extension": ".py",
   "mimetype": "text/x-python",
   "name": "python",
   "nbconvert_exporter": "python",
   "pygments_lexer": "ipython3",
   "version": "3.12.0"
  }
 },
 "nbformat": 4,
 "nbformat_minor": 4
}
