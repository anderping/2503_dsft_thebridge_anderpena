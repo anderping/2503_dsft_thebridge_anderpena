{
 "cells": [
  {
   "attachments": {},
   "cell_type": "markdown",
   "metadata": {},
   "source": [
    "# Ex - GroupBy"
   ]
  },
  {
   "cell_type": "code",
   "execution_count": 1,
   "metadata": {},
   "outputs": [],
   "source": [
    "import pandas as pd\n",
    "import numpy as np"
   ]
  },
  {
   "attachments": {},
   "cell_type": "markdown",
   "metadata": {},
   "source": [
    "### Step 2. Import the dataset from this [address](https://raw.githubusercontent.com/justmarkham/DAT8/master/data/drinks.csv). "
   ]
  },
  {
   "attachments": {},
   "cell_type": "markdown",
   "metadata": {},
   "source": [
    "### Step 3. Assign it to a variable called drinks."
   ]
  },
  {
   "cell_type": "code",
   "execution_count": 2,
   "metadata": {},
   "outputs": [
    {
     "data": {
      "application/vnd.microsoft.datawrangler.viewer.v0+json": {
       "columns": [
        {
         "name": "index",
         "rawType": "int64",
         "type": "integer"
        },
        {
         "name": "country",
         "rawType": "object",
         "type": "string"
        },
        {
         "name": "beer_servings",
         "rawType": "int64",
         "type": "integer"
        },
        {
         "name": "spirit_servings",
         "rawType": "int64",
         "type": "integer"
        },
        {
         "name": "wine_servings",
         "rawType": "int64",
         "type": "integer"
        },
        {
         "name": "total_litres_of_pure_alcohol",
         "rawType": "float64",
         "type": "float"
        },
        {
         "name": "continent",
         "rawType": "object",
         "type": "unknown"
        }
       ],
       "conversionMethod": "pd.DataFrame",
       "ref": "871cf6f1-8c47-455f-9d15-80653e4a6fae",
       "rows": [
        [
         "0",
         "Afghanistan",
         "0",
         "0",
         "0",
         "0.0",
         "AS"
        ],
        [
         "1",
         "Albania",
         "89",
         "132",
         "54",
         "4.9",
         "EU"
        ],
        [
         "2",
         "Algeria",
         "25",
         "0",
         "14",
         "0.7",
         "AF"
        ],
        [
         "3",
         "Andorra",
         "245",
         "138",
         "312",
         "12.4",
         "EU"
        ],
        [
         "4",
         "Angola",
         "217",
         "57",
         "45",
         "5.9",
         "AF"
        ],
        [
         "5",
         "Antigua & Barbuda",
         "102",
         "128",
         "45",
         "4.9",
         null
        ],
        [
         "6",
         "Argentina",
         "193",
         "25",
         "221",
         "8.3",
         "SA"
        ],
        [
         "7",
         "Armenia",
         "21",
         "179",
         "11",
         "3.8",
         "EU"
        ],
        [
         "8",
         "Australia",
         "261",
         "72",
         "212",
         "10.4",
         "OC"
        ],
        [
         "9",
         "Austria",
         "279",
         "75",
         "191",
         "9.7",
         "EU"
        ],
        [
         "10",
         "Azerbaijan",
         "21",
         "46",
         "5",
         "1.3",
         "EU"
        ],
        [
         "11",
         "Bahamas",
         "122",
         "176",
         "51",
         "6.3",
         null
        ],
        [
         "12",
         "Bahrain",
         "42",
         "63",
         "7",
         "2.0",
         "AS"
        ],
        [
         "13",
         "Bangladesh",
         "0",
         "0",
         "0",
         "0.0",
         "AS"
        ],
        [
         "14",
         "Barbados",
         "143",
         "173",
         "36",
         "6.3",
         null
        ],
        [
         "15",
         "Belarus",
         "142",
         "373",
         "42",
         "14.4",
         "EU"
        ],
        [
         "16",
         "Belgium",
         "295",
         "84",
         "212",
         "10.5",
         "EU"
        ],
        [
         "17",
         "Belize",
         "263",
         "114",
         "8",
         "6.8",
         null
        ],
        [
         "18",
         "Benin",
         "34",
         "4",
         "13",
         "1.1",
         "AF"
        ],
        [
         "19",
         "Bhutan",
         "23",
         "0",
         "0",
         "0.4",
         "AS"
        ],
        [
         "20",
         "Bolivia",
         "167",
         "41",
         "8",
         "3.8",
         "SA"
        ],
        [
         "21",
         "Bosnia-Herzegovina",
         "76",
         "173",
         "8",
         "4.6",
         "EU"
        ],
        [
         "22",
         "Botswana",
         "173",
         "35",
         "35",
         "5.4",
         "AF"
        ],
        [
         "23",
         "Brazil",
         "245",
         "145",
         "16",
         "7.2",
         "SA"
        ],
        [
         "24",
         "Brunei",
         "31",
         "2",
         "1",
         "0.6",
         "AS"
        ],
        [
         "25",
         "Bulgaria",
         "231",
         "252",
         "94",
         "10.3",
         "EU"
        ],
        [
         "26",
         "Burkina Faso",
         "25",
         "7",
         "7",
         "4.3",
         "AF"
        ],
        [
         "27",
         "Burundi",
         "88",
         "0",
         "0",
         "6.3",
         "AF"
        ],
        [
         "28",
         "Cote d'Ivoire",
         "37",
         "1",
         "7",
         "4.0",
         "AF"
        ],
        [
         "29",
         "Cabo Verde",
         "144",
         "56",
         "16",
         "4.0",
         "AF"
        ],
        [
         "30",
         "Cambodia",
         "57",
         "65",
         "1",
         "2.2",
         "AS"
        ],
        [
         "31",
         "Cameroon",
         "147",
         "1",
         "4",
         "5.8",
         "AF"
        ],
        [
         "32",
         "Canada",
         "240",
         "122",
         "100",
         "8.2",
         null
        ],
        [
         "33",
         "Central African Republic",
         "17",
         "2",
         "1",
         "1.8",
         "AF"
        ],
        [
         "34",
         "Chad",
         "15",
         "1",
         "1",
         "0.4",
         "AF"
        ],
        [
         "35",
         "Chile",
         "130",
         "124",
         "172",
         "7.6",
         "SA"
        ],
        [
         "36",
         "China",
         "79",
         "192",
         "8",
         "5.0",
         "AS"
        ],
        [
         "37",
         "Colombia",
         "159",
         "76",
         "3",
         "4.2",
         "SA"
        ],
        [
         "38",
         "Comoros",
         "1",
         "3",
         "1",
         "0.1",
         "AF"
        ],
        [
         "39",
         "Congo",
         "76",
         "1",
         "9",
         "1.7",
         "AF"
        ],
        [
         "40",
         "Cook Islands",
         "0",
         "254",
         "74",
         "5.9",
         "OC"
        ],
        [
         "41",
         "Costa Rica",
         "149",
         "87",
         "11",
         "4.4",
         null
        ],
        [
         "42",
         "Croatia",
         "230",
         "87",
         "254",
         "10.2",
         "EU"
        ],
        [
         "43",
         "Cuba",
         "93",
         "137",
         "5",
         "4.2",
         null
        ],
        [
         "44",
         "Cyprus",
         "192",
         "154",
         "113",
         "8.2",
         "EU"
        ],
        [
         "45",
         "Czech Republic",
         "361",
         "170",
         "134",
         "11.8",
         "EU"
        ],
        [
         "46",
         "North Korea",
         "0",
         "0",
         "0",
         "0.0",
         "AS"
        ],
        [
         "47",
         "DR Congo",
         "32",
         "3",
         "1",
         "2.3",
         "AF"
        ],
        [
         "48",
         "Denmark",
         "224",
         "81",
         "278",
         "10.4",
         "EU"
        ],
        [
         "49",
         "Djibouti",
         "15",
         "44",
         "3",
         "1.1",
         "AF"
        ]
       ],
       "shape": {
        "columns": 6,
        "rows": 193
       }
      },
      "text/html": [
       "<div>\n",
       "<style scoped>\n",
       "    .dataframe tbody tr th:only-of-type {\n",
       "        vertical-align: middle;\n",
       "    }\n",
       "\n",
       "    .dataframe tbody tr th {\n",
       "        vertical-align: top;\n",
       "    }\n",
       "\n",
       "    .dataframe thead th {\n",
       "        text-align: right;\n",
       "    }\n",
       "</style>\n",
       "<table border=\"1\" class=\"dataframe\">\n",
       "  <thead>\n",
       "    <tr style=\"text-align: right;\">\n",
       "      <th></th>\n",
       "      <th>country</th>\n",
       "      <th>beer_servings</th>\n",
       "      <th>spirit_servings</th>\n",
       "      <th>wine_servings</th>\n",
       "      <th>total_litres_of_pure_alcohol</th>\n",
       "      <th>continent</th>\n",
       "    </tr>\n",
       "  </thead>\n",
       "  <tbody>\n",
       "    <tr>\n",
       "      <th>0</th>\n",
       "      <td>Afghanistan</td>\n",
       "      <td>0</td>\n",
       "      <td>0</td>\n",
       "      <td>0</td>\n",
       "      <td>0.0</td>\n",
       "      <td>AS</td>\n",
       "    </tr>\n",
       "    <tr>\n",
       "      <th>1</th>\n",
       "      <td>Albania</td>\n",
       "      <td>89</td>\n",
       "      <td>132</td>\n",
       "      <td>54</td>\n",
       "      <td>4.9</td>\n",
       "      <td>EU</td>\n",
       "    </tr>\n",
       "    <tr>\n",
       "      <th>2</th>\n",
       "      <td>Algeria</td>\n",
       "      <td>25</td>\n",
       "      <td>0</td>\n",
       "      <td>14</td>\n",
       "      <td>0.7</td>\n",
       "      <td>AF</td>\n",
       "    </tr>\n",
       "    <tr>\n",
       "      <th>3</th>\n",
       "      <td>Andorra</td>\n",
       "      <td>245</td>\n",
       "      <td>138</td>\n",
       "      <td>312</td>\n",
       "      <td>12.4</td>\n",
       "      <td>EU</td>\n",
       "    </tr>\n",
       "    <tr>\n",
       "      <th>4</th>\n",
       "      <td>Angola</td>\n",
       "      <td>217</td>\n",
       "      <td>57</td>\n",
       "      <td>45</td>\n",
       "      <td>5.9</td>\n",
       "      <td>AF</td>\n",
       "    </tr>\n",
       "    <tr>\n",
       "      <th>...</th>\n",
       "      <td>...</td>\n",
       "      <td>...</td>\n",
       "      <td>...</td>\n",
       "      <td>...</td>\n",
       "      <td>...</td>\n",
       "      <td>...</td>\n",
       "    </tr>\n",
       "    <tr>\n",
       "      <th>188</th>\n",
       "      <td>Venezuela</td>\n",
       "      <td>333</td>\n",
       "      <td>100</td>\n",
       "      <td>3</td>\n",
       "      <td>7.7</td>\n",
       "      <td>SA</td>\n",
       "    </tr>\n",
       "    <tr>\n",
       "      <th>189</th>\n",
       "      <td>Vietnam</td>\n",
       "      <td>111</td>\n",
       "      <td>2</td>\n",
       "      <td>1</td>\n",
       "      <td>2.0</td>\n",
       "      <td>AS</td>\n",
       "    </tr>\n",
       "    <tr>\n",
       "      <th>190</th>\n",
       "      <td>Yemen</td>\n",
       "      <td>6</td>\n",
       "      <td>0</td>\n",
       "      <td>0</td>\n",
       "      <td>0.1</td>\n",
       "      <td>AS</td>\n",
       "    </tr>\n",
       "    <tr>\n",
       "      <th>191</th>\n",
       "      <td>Zambia</td>\n",
       "      <td>32</td>\n",
       "      <td>19</td>\n",
       "      <td>4</td>\n",
       "      <td>2.5</td>\n",
       "      <td>AF</td>\n",
       "    </tr>\n",
       "    <tr>\n",
       "      <th>192</th>\n",
       "      <td>Zimbabwe</td>\n",
       "      <td>64</td>\n",
       "      <td>18</td>\n",
       "      <td>4</td>\n",
       "      <td>4.7</td>\n",
       "      <td>AF</td>\n",
       "    </tr>\n",
       "  </tbody>\n",
       "</table>\n",
       "<p>193 rows × 6 columns</p>\n",
       "</div>"
      ],
      "text/plain": [
       "         country  beer_servings  spirit_servings  wine_servings  \\\n",
       "0    Afghanistan              0                0              0   \n",
       "1        Albania             89              132             54   \n",
       "2        Algeria             25                0             14   \n",
       "3        Andorra            245              138            312   \n",
       "4         Angola            217               57             45   \n",
       "..           ...            ...              ...            ...   \n",
       "188    Venezuela            333              100              3   \n",
       "189      Vietnam            111                2              1   \n",
       "190        Yemen              6                0              0   \n",
       "191       Zambia             32               19              4   \n",
       "192     Zimbabwe             64               18              4   \n",
       "\n",
       "     total_litres_of_pure_alcohol continent  \n",
       "0                             0.0        AS  \n",
       "1                             4.9        EU  \n",
       "2                             0.7        AF  \n",
       "3                            12.4        EU  \n",
       "4                             5.9        AF  \n",
       "..                            ...       ...  \n",
       "188                           7.7        SA  \n",
       "189                           2.0        AS  \n",
       "190                           0.1        AS  \n",
       "191                           2.5        AF  \n",
       "192                           4.7        AF  \n",
       "\n",
       "[193 rows x 6 columns]"
      ]
     },
     "execution_count": 2,
     "metadata": {},
     "output_type": "execute_result"
    }
   ],
   "source": [
    "url = \"https://raw.githubusercontent.com/justmarkham/DAT8/master/data/drinks.csv\"\n",
    "\n",
    "drinks = pd.read_csv(url)\n",
    "drinks"
   ]
  },
  {
   "attachments": {},
   "cell_type": "markdown",
   "metadata": {},
   "source": [
    "### Step 4. Which continent drinks more beer on average?"
   ]
  },
  {
   "cell_type": "code",
   "execution_count": null,
   "metadata": {},
   "outputs": [
    {
     "data": {
      "text/plain": [
       "'EU'"
      ]
     },
     "execution_count": 6,
     "metadata": {},
     "output_type": "execute_result"
    }
   ],
   "source": [
    "drinks.groupby(\"continent\")[\"beer_servings\"].mean().idxmax()"
   ]
  },
  {
   "attachments": {},
   "cell_type": "markdown",
   "metadata": {},
   "source": [
    "### Step 5. For each continent print the statistics for wine consumption."
   ]
  },
  {
   "cell_type": "code",
   "execution_count": 12,
   "metadata": {},
   "outputs": [
    {
     "data": {
      "application/vnd.microsoft.datawrangler.viewer.v0+json": {
       "columns": [
        {
         "name": "index",
         "rawType": "object",
         "type": "string"
        },
        {
         "name": "AF",
         "rawType": "float64",
         "type": "float"
        },
        {
         "name": "AS",
         "rawType": "float64",
         "type": "float"
        },
        {
         "name": "EU",
         "rawType": "float64",
         "type": "float"
        },
        {
         "name": "OC",
         "rawType": "float64",
         "type": "float"
        },
        {
         "name": "SA",
         "rawType": "float64",
         "type": "float"
        }
       ],
       "conversionMethod": "pd.DataFrame",
       "ref": "386e0e94-7845-429f-ab4d-f6491f2b48a1",
       "rows": [
        [
         "count",
         "53.0",
         "44.0",
         "45.0",
         "16.0",
         "12.0"
        ],
        [
         "mean",
         "16.264150943396228",
         "9.068181818181818",
         "142.22222222222223",
         "35.625",
         "62.416666666666664"
        ],
        [
         "std",
         "38.84641897335842",
         "21.667033931944488",
         "97.42173756146494",
         "64.55578982554547",
         "88.62018888937148"
        ],
        [
         "min",
         "0.0",
         "0.0",
         "0.0",
         "0.0",
         "1.0"
        ],
        [
         "25%",
         "1.0",
         "0.0",
         "59.0",
         "1.0",
         "3.0"
        ],
        [
         "50%",
         "2.0",
         "1.0",
         "128.0",
         "8.5",
         "12.0"
        ],
        [
         "75%",
         "13.0",
         "8.0",
         "195.0",
         "23.25",
         "98.5"
        ],
        [
         "max",
         "233.0",
         "123.0",
         "370.0",
         "212.0",
         "221.0"
        ]
       ],
       "shape": {
        "columns": 5,
        "rows": 8
       }
      },
      "text/html": [
       "<div>\n",
       "<style scoped>\n",
       "    .dataframe tbody tr th:only-of-type {\n",
       "        vertical-align: middle;\n",
       "    }\n",
       "\n",
       "    .dataframe tbody tr th {\n",
       "        vertical-align: top;\n",
       "    }\n",
       "\n",
       "    .dataframe thead th {\n",
       "        text-align: right;\n",
       "    }\n",
       "</style>\n",
       "<table border=\"1\" class=\"dataframe\">\n",
       "  <thead>\n",
       "    <tr style=\"text-align: right;\">\n",
       "      <th>continent</th>\n",
       "      <th>AF</th>\n",
       "      <th>AS</th>\n",
       "      <th>EU</th>\n",
       "      <th>OC</th>\n",
       "      <th>SA</th>\n",
       "    </tr>\n",
       "  </thead>\n",
       "  <tbody>\n",
       "    <tr>\n",
       "      <th>count</th>\n",
       "      <td>53.000000</td>\n",
       "      <td>44.000000</td>\n",
       "      <td>45.000000</td>\n",
       "      <td>16.00000</td>\n",
       "      <td>12.000000</td>\n",
       "    </tr>\n",
       "    <tr>\n",
       "      <th>mean</th>\n",
       "      <td>16.264151</td>\n",
       "      <td>9.068182</td>\n",
       "      <td>142.222222</td>\n",
       "      <td>35.62500</td>\n",
       "      <td>62.416667</td>\n",
       "    </tr>\n",
       "    <tr>\n",
       "      <th>std</th>\n",
       "      <td>38.846419</td>\n",
       "      <td>21.667034</td>\n",
       "      <td>97.421738</td>\n",
       "      <td>64.55579</td>\n",
       "      <td>88.620189</td>\n",
       "    </tr>\n",
       "    <tr>\n",
       "      <th>min</th>\n",
       "      <td>0.000000</td>\n",
       "      <td>0.000000</td>\n",
       "      <td>0.000000</td>\n",
       "      <td>0.00000</td>\n",
       "      <td>1.000000</td>\n",
       "    </tr>\n",
       "    <tr>\n",
       "      <th>25%</th>\n",
       "      <td>1.000000</td>\n",
       "      <td>0.000000</td>\n",
       "      <td>59.000000</td>\n",
       "      <td>1.00000</td>\n",
       "      <td>3.000000</td>\n",
       "    </tr>\n",
       "    <tr>\n",
       "      <th>50%</th>\n",
       "      <td>2.000000</td>\n",
       "      <td>1.000000</td>\n",
       "      <td>128.000000</td>\n",
       "      <td>8.50000</td>\n",
       "      <td>12.000000</td>\n",
       "    </tr>\n",
       "    <tr>\n",
       "      <th>75%</th>\n",
       "      <td>13.000000</td>\n",
       "      <td>8.000000</td>\n",
       "      <td>195.000000</td>\n",
       "      <td>23.25000</td>\n",
       "      <td>98.500000</td>\n",
       "    </tr>\n",
       "    <tr>\n",
       "      <th>max</th>\n",
       "      <td>233.000000</td>\n",
       "      <td>123.000000</td>\n",
       "      <td>370.000000</td>\n",
       "      <td>212.00000</td>\n",
       "      <td>221.000000</td>\n",
       "    </tr>\n",
       "  </tbody>\n",
       "</table>\n",
       "</div>"
      ],
      "text/plain": [
       "continent          AF          AS          EU         OC          SA\n",
       "count       53.000000   44.000000   45.000000   16.00000   12.000000\n",
       "mean        16.264151    9.068182  142.222222   35.62500   62.416667\n",
       "std         38.846419   21.667034   97.421738   64.55579   88.620189\n",
       "min          0.000000    0.000000    0.000000    0.00000    1.000000\n",
       "25%          1.000000    0.000000   59.000000    1.00000    3.000000\n",
       "50%          2.000000    1.000000  128.000000    8.50000   12.000000\n",
       "75%         13.000000    8.000000  195.000000   23.25000   98.500000\n",
       "max        233.000000  123.000000  370.000000  212.00000  221.000000"
      ]
     },
     "execution_count": 12,
     "metadata": {},
     "output_type": "execute_result"
    }
   ],
   "source": [
    "drinks.groupby(\"continent\")[\"wine_servings\"].describe().T"
   ]
  },
  {
   "attachments": {},
   "cell_type": "markdown",
   "metadata": {},
   "source": [
    "### Step 6. Print the mean alcohol consumption per continent for every column"
   ]
  },
  {
   "cell_type": "code",
   "execution_count": 17,
   "metadata": {},
   "outputs": [
    {
     "data": {
      "text/plain": [
       "continent\n",
       "AF    3.007547\n",
       "AS    2.170455\n",
       "EU    8.617778\n",
       "OC    3.381250\n",
       "SA    6.308333\n",
       "Name: total_litres_of_pure_alcohol, dtype: float64"
      ]
     },
     "execution_count": 17,
     "metadata": {},
     "output_type": "execute_result"
    }
   ],
   "source": [
    "drinks.groupby(\"continent\")[\"total_litres_of_pure_alcohol\"].mean()"
   ]
  },
  {
   "attachments": {},
   "cell_type": "markdown",
   "metadata": {},
   "source": [
    "### Step 7. Print the median alcohol consumption per continent for every column"
   ]
  },
  {
   "cell_type": "code",
   "execution_count": 26,
   "metadata": {},
   "outputs": [
    {
     "data": {
      "application/vnd.microsoft.datawrangler.viewer.v0+json": {
       "columns": [
        {
         "name": "continent",
         "rawType": "object",
         "type": "string"
        },
        {
         "name": "beer_servings",
         "rawType": "float64",
         "type": "float"
        },
        {
         "name": "spirit_servings",
         "rawType": "float64",
         "type": "float"
        },
        {
         "name": "wine_servings",
         "rawType": "float64",
         "type": "float"
        },
        {
         "name": "total_litres_of_pure_alcohol",
         "rawType": "float64",
         "type": "float"
        }
       ],
       "conversionMethod": "pd.DataFrame",
       "ref": "47dfefdd-9922-432f-9ffa-b49ae508b019",
       "rows": [
        [
         "AF",
         "32.0",
         "3.0",
         "2.0",
         "2.3"
        ],
        [
         "AS",
         "17.5",
         "16.0",
         "1.0",
         "1.2"
        ],
        [
         "EU",
         "219.0",
         "122.0",
         "128.0",
         "10.0"
        ],
        [
         "OC",
         "52.5",
         "37.0",
         "8.5",
         "1.75"
        ],
        [
         "SA",
         "162.5",
         "108.5",
         "12.0",
         "6.85"
        ]
       ],
       "shape": {
        "columns": 4,
        "rows": 5
       }
      },
      "text/html": [
       "<div>\n",
       "<style scoped>\n",
       "    .dataframe tbody tr th:only-of-type {\n",
       "        vertical-align: middle;\n",
       "    }\n",
       "\n",
       "    .dataframe tbody tr th {\n",
       "        vertical-align: top;\n",
       "    }\n",
       "\n",
       "    .dataframe thead th {\n",
       "        text-align: right;\n",
       "    }\n",
       "</style>\n",
       "<table border=\"1\" class=\"dataframe\">\n",
       "  <thead>\n",
       "    <tr style=\"text-align: right;\">\n",
       "      <th></th>\n",
       "      <th>beer_servings</th>\n",
       "      <th>spirit_servings</th>\n",
       "      <th>wine_servings</th>\n",
       "      <th>total_litres_of_pure_alcohol</th>\n",
       "    </tr>\n",
       "    <tr>\n",
       "      <th>continent</th>\n",
       "      <th></th>\n",
       "      <th></th>\n",
       "      <th></th>\n",
       "      <th></th>\n",
       "    </tr>\n",
       "  </thead>\n",
       "  <tbody>\n",
       "    <tr>\n",
       "      <th>AF</th>\n",
       "      <td>32.0</td>\n",
       "      <td>3.0</td>\n",
       "      <td>2.0</td>\n",
       "      <td>2.30</td>\n",
       "    </tr>\n",
       "    <tr>\n",
       "      <th>AS</th>\n",
       "      <td>17.5</td>\n",
       "      <td>16.0</td>\n",
       "      <td>1.0</td>\n",
       "      <td>1.20</td>\n",
       "    </tr>\n",
       "    <tr>\n",
       "      <th>EU</th>\n",
       "      <td>219.0</td>\n",
       "      <td>122.0</td>\n",
       "      <td>128.0</td>\n",
       "      <td>10.00</td>\n",
       "    </tr>\n",
       "    <tr>\n",
       "      <th>OC</th>\n",
       "      <td>52.5</td>\n",
       "      <td>37.0</td>\n",
       "      <td>8.5</td>\n",
       "      <td>1.75</td>\n",
       "    </tr>\n",
       "    <tr>\n",
       "      <th>SA</th>\n",
       "      <td>162.5</td>\n",
       "      <td>108.5</td>\n",
       "      <td>12.0</td>\n",
       "      <td>6.85</td>\n",
       "    </tr>\n",
       "  </tbody>\n",
       "</table>\n",
       "</div>"
      ],
      "text/plain": [
       "           beer_servings  spirit_servings  wine_servings  \\\n",
       "continent                                                  \n",
       "AF                  32.0              3.0            2.0   \n",
       "AS                  17.5             16.0            1.0   \n",
       "EU                 219.0            122.0          128.0   \n",
       "OC                  52.5             37.0            8.5   \n",
       "SA                 162.5            108.5           12.0   \n",
       "\n",
       "           total_litres_of_pure_alcohol  \n",
       "continent                                \n",
       "AF                                 2.30  \n",
       "AS                                 1.20  \n",
       "EU                                10.00  \n",
       "OC                                 1.75  \n",
       "SA                                 6.85  "
      ]
     },
     "execution_count": 26,
     "metadata": {},
     "output_type": "execute_result"
    }
   ],
   "source": [
    "drinks.drop(\"country\", axis=1).groupby(\"continent\").median()"
   ]
  },
  {
   "attachments": {},
   "cell_type": "markdown",
   "metadata": {},
   "source": [
    "### Step 8. Print the mean, min and max values for spirit consumption per continent."
   ]
  },
  {
   "cell_type": "code",
   "execution_count": 27,
   "metadata": {},
   "outputs": [
    {
     "data": {
      "application/vnd.microsoft.datawrangler.viewer.v0+json": {
       "columns": [
        {
         "name": "continent",
         "rawType": "object",
         "type": "string"
        },
        {
         "name": "mean",
         "rawType": "float64",
         "type": "float"
        },
        {
         "name": "min",
         "rawType": "int64",
         "type": "integer"
        },
        {
         "name": "max",
         "rawType": "int64",
         "type": "integer"
        }
       ],
       "conversionMethod": "pd.DataFrame",
       "ref": "99d6d5c8-af49-41fa-a611-8074e9a0ca13",
       "rows": [
        [
         "AF",
         "16.339622641509433",
         "0",
         "152"
        ],
        [
         "AS",
         "60.84090909090909",
         "0",
         "326"
        ],
        [
         "EU",
         "132.55555555555554",
         "0",
         "373"
        ],
        [
         "OC",
         "58.4375",
         "0",
         "254"
        ],
        [
         "SA",
         "114.75",
         "25",
         "302"
        ]
       ],
       "shape": {
        "columns": 3,
        "rows": 5
       }
      },
      "text/html": [
       "<div>\n",
       "<style scoped>\n",
       "    .dataframe tbody tr th:only-of-type {\n",
       "        vertical-align: middle;\n",
       "    }\n",
       "\n",
       "    .dataframe tbody tr th {\n",
       "        vertical-align: top;\n",
       "    }\n",
       "\n",
       "    .dataframe thead th {\n",
       "        text-align: right;\n",
       "    }\n",
       "</style>\n",
       "<table border=\"1\" class=\"dataframe\">\n",
       "  <thead>\n",
       "    <tr style=\"text-align: right;\">\n",
       "      <th></th>\n",
       "      <th>mean</th>\n",
       "      <th>min</th>\n",
       "      <th>max</th>\n",
       "    </tr>\n",
       "    <tr>\n",
       "      <th>continent</th>\n",
       "      <th></th>\n",
       "      <th></th>\n",
       "      <th></th>\n",
       "    </tr>\n",
       "  </thead>\n",
       "  <tbody>\n",
       "    <tr>\n",
       "      <th>AF</th>\n",
       "      <td>16.339623</td>\n",
       "      <td>0</td>\n",
       "      <td>152</td>\n",
       "    </tr>\n",
       "    <tr>\n",
       "      <th>AS</th>\n",
       "      <td>60.840909</td>\n",
       "      <td>0</td>\n",
       "      <td>326</td>\n",
       "    </tr>\n",
       "    <tr>\n",
       "      <th>EU</th>\n",
       "      <td>132.555556</td>\n",
       "      <td>0</td>\n",
       "      <td>373</td>\n",
       "    </tr>\n",
       "    <tr>\n",
       "      <th>OC</th>\n",
       "      <td>58.437500</td>\n",
       "      <td>0</td>\n",
       "      <td>254</td>\n",
       "    </tr>\n",
       "    <tr>\n",
       "      <th>SA</th>\n",
       "      <td>114.750000</td>\n",
       "      <td>25</td>\n",
       "      <td>302</td>\n",
       "    </tr>\n",
       "  </tbody>\n",
       "</table>\n",
       "</div>"
      ],
      "text/plain": [
       "                 mean  min  max\n",
       "continent                      \n",
       "AF          16.339623    0  152\n",
       "AS          60.840909    0  326\n",
       "EU         132.555556    0  373\n",
       "OC          58.437500    0  254\n",
       "SA         114.750000   25  302"
      ]
     },
     "execution_count": 27,
     "metadata": {},
     "output_type": "execute_result"
    }
   ],
   "source": [
    "drinks.groupby(\"continent\")[\"spirit_servings\"].agg([\"mean\", \"min\", \"max\"])"
   ]
  }
 ],
 "metadata": {
  "kernelspec": {
   "display_name": "Python 3",
   "language": "python",
   "name": "python3"
  },
  "language_info": {
   "codemirror_mode": {
    "name": "ipython",
    "version": 3
   },
   "file_extension": ".py",
   "mimetype": "text/x-python",
   "name": "python",
   "nbconvert_exporter": "python",
   "pygments_lexer": "ipython3",
   "version": "3.12.0"
  }
 },
 "nbformat": 4,
 "nbformat_minor": 4
}
