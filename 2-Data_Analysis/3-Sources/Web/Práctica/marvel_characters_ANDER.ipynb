{
 "cells": [
  {
   "cell_type": "markdown",
   "metadata": {},
   "source": [
    "# Obtén datos de la API de Marvel\n",
    "\n",
    "![imagen](https://cdn.hobbyconsolas.com/sites/navi.axelspringer.es/public/styles/hc_1440x810/public/media/image/2021/09/marvel-2460339.jpg?itok=cBnC1CBi)"
   ]
  },
  {
   "cell_type": "markdown",
   "metadata": {},
   "source": [
    "Te tendrás que [registrar](https://developer.marvel.com/) y consultar la [documentación](https://developer.marvel.com/docs)"
   ]
  },
  {
   "cell_type": "markdown",
   "metadata": {},
   "source": [
    "Queremos que consultes a la api para que te devuelva la info de los personajes de marvel que empiecen por la inicial de tu nombre. Deberemos guardarlos en un csv la información con la siguiente estructura\n",
    "\n",
    "![imagen](./img/Captura_marvel.PNG)"
   ]
  },
  {
   "cell_type": "markdown",
   "metadata": {},
   "source": [
    "Aquí te dejamos el código en python para poder empezar a hacer las llamadas, rellenando algunas variables como tus keys, parámetros de la llamada y la url (endpoint) a la que quieres acceder"
   ]
  },
  {
   "cell_type": "code",
   "execution_count": 1,
   "metadata": {},
   "outputs": [],
   "source": [
    "import hashlib\n",
    "import requests\n",
    "import datetime\n",
    "import pandas as pd\n",
    "\n",
    "pd.set_option('display.max_columns', 200)\n",
    "pd.set_option('display.max_rows', 100)\n",
    "pd.set_option('display.max_colwidth', 100)"
   ]
  },
  {
   "cell_type": "code",
   "execution_count": 2,
   "metadata": {},
   "outputs": [],
   "source": [
    "def hash_params(timestamp, priv_key, pub_key):\n",
    "    \"\"\" Marvel API requires server side API calls to include\n",
    "    md5 hash of timestamp + public key + private key \"\"\"\n",
    "\n",
    "    hash_md5 = hashlib.md5()\n",
    "    hash_md5.update(f'{timestamp}{priv_key}{pub_key}'.encode('utf-8'))\n",
    "    hashed_params = hash_md5.hexdigest()\n",
    "\n",
    "    return hashed_params"
   ]
  },
  {
   "cell_type": "code",
   "execution_count": 24,
   "metadata": {},
   "outputs": [
    {
     "name": "stdout",
     "output_type": "stream",
     "text": [
      "Timestamp: 2025-03-2712:37:44\n",
      "Hash: 3da3bbc6edc1f9ef9d4d0c0aefe68c04\n",
      "Public Key: eb0bfc52784cfdfcc8f4b297aa7e9f3d\n",
      "res.status_code:  500\n"
     ]
    }
   ],
   "source": [
    "timestamp = datetime.datetime.now().strftime('%Y-%m-%d%H:%M:%S')\n",
    "\n",
    "pub_key = 'eb0bfc52784cfdfcc8f4b297aa7e9f3d'\n",
    "priv_key = 'c9c12cf0166e66dbd4ec4505a1d71684f41f77c1'\n",
    "\n",
    "hash_value = hash_params(timestamp, priv_key, pub_key)\n",
    "\n",
    "params = {'ts': timestamp, \n",
    "        'apikey': pub_key, \n",
    "        'hash': hash_value,\n",
    "        'nameStartsWith':\"A\",\n",
    "        'limit': 5\n",
    "        }\n",
    "\n",
    "print(f\"Timestamp: {timestamp}\")\n",
    "print(f\"Hash: {hash_value}\")\n",
    "print(f\"Public Key: {pub_key}\")\n",
    "\n",
    "url = 'http://gateway.marvel.com/v1/public/characters'\n",
    "\n",
    "res = requests.get(url, params=params, verify=False)\n",
    "\n",
    "if res.status_code == 200:\n",
    "    data = res.json()\n",
    "else:\n",
    "    print(f\"res.status_code: \", res.status_code)"
   ]
  },
  {
   "cell_type": "code",
   "execution_count": 7,
   "metadata": {},
   "outputs": [
    {
     "ename": "NameError",
     "evalue": "name 'data' is not defined",
     "output_type": "error",
     "traceback": [
      "\u001b[31m---------------------------------------------------------------------------\u001b[39m",
      "\u001b[31mNameError\u001b[39m                                 Traceback (most recent call last)",
      "\u001b[36mCell\u001b[39m\u001b[36m \u001b[39m\u001b[32mIn[7]\u001b[39m\u001b[32m, line 1\u001b[39m\n\u001b[32m----> \u001b[39m\u001b[32m1\u001b[39m \u001b[43mdata\u001b[49m\n",
      "\u001b[31mNameError\u001b[39m: name 'data' is not defined"
     ]
    }
   ],
   "source": [
    "data"
   ]
  },
  {
   "cell_type": "code",
   "execution_count": null,
   "metadata": {},
   "outputs": [],
   "source": []
  }
 ],
 "metadata": {
  "kernelspec": {
   "display_name": "Python 3",
   "language": "python",
   "name": "python3"
  },
  "language_info": {
   "codemirror_mode": {
    "name": "ipython",
    "version": 3
   },
   "file_extension": ".py",
   "mimetype": "text/x-python",
   "name": "python",
   "nbconvert_exporter": "python",
   "pygments_lexer": "ipython3",
   "version": "3.12.0"
  },
  "orig_nbformat": 4
 },
 "nbformat": 4,
 "nbformat_minor": 2
}
