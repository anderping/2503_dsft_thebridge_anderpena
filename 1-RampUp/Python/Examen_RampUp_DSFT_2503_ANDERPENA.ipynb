{
 "cells": [
  {
   "cell_type": "markdown",
   "metadata": {},
   "source": [
    "# Test RAMP UP DS-FT Marzo 2025"
   ]
  },
  {
   "cell_type": "markdown",
   "metadata": {},
   "source": [
    "Antes de comenzar, cambia el nombre del archivo notebook poniéndole delante tu nombre y primer apellido:\n",
    "\n",
    "* nombre_apellido_test_pract_marzo_2025.ipynb"
   ]
  },
  {
   "cell_type": "code",
   "execution_count": 1,
   "metadata": {},
   "outputs": [],
   "source": [
    "# Escribe tu nombre y apellidos (apellido si solo tienes uno) en las variables:\n",
    "nombre = \"Ander\"\n",
    "apellidos = \"Pena Villalobos\""
   ]
  },
  {
   "cell_type": "code",
   "execution_count": 2,
   "metadata": {},
   "outputs": [
    {
     "name": "stdout",
     "output_type": "stream",
     "text": [
      "Bienvenido Ander Pena Villalobos. Mucha suerte!\n"
     ]
    }
   ],
   "source": [
    "# Solo ejecutar\n",
    "nombre_apellidos = nombre + ' ' + apellidos\n",
    "print(\"Bienvenido\", nombre_apellidos + '. Mucha suerte!')"
   ]
  },
  {
   "cell_type": "markdown",
   "metadata": {},
   "source": [
    "-----------------"
   ]
  },
  {
   "cell_type": "code",
   "execution_count": 76,
   "metadata": {},
   "outputs": [
    {
     "data": {
      "text/plain": [
       "'\\nCriterios de corrección:\\n\\nejecución (ausencia de errores y obtención de resultados)\\nestructura del código\\nuso correcto de variables\\nmanejo de tipo de variables\\nasignaciones\\noperaciones booleanas\\nmanejo lógico de flujos de control y bucles\\nuso de colecciones\\nuso de funciones\\n'"
      ]
     },
     "execution_count": 76,
     "metadata": {},
     "output_type": "execute_result"
    }
   ],
   "source": [
    "\"\"\"\n",
    "Criterios de corrección:\n",
    "\n",
    "ejecución (ausencia de errores y obtención de resultados)\n",
    "estructura del código\n",
    "uso correcto de variables\n",
    "manejo de tipo de variables\n",
    "asignaciones\n",
    "operaciones booleanas\n",
    "manejo lógico de flujos de control y bucles\n",
    "uso de colecciones\n",
    "uso de funciones\n",
    "\"\"\"\n",
    "\n",
    "# Ejemplo de como queremos ver el código para más de un intento:\n",
    "\n",
    "# intento 1\n",
    "#your code\n",
    "\n",
    "# intento 2\n",
    "#your code"
   ]
  },
  {
   "cell_type": "markdown",
   "metadata": {},
   "source": [
    "#### Notas y pruebas de apoyo para contestar las preguntas\n",
    "\n",
    "\n",
    "Cualquier código aunque no esté correcto nos dirá más de ti que no escribir nada. "
   ]
  },
  {
   "cell_type": "code",
   "execution_count": null,
   "metadata": {},
   "outputs": [],
   "source": [
    "# No te olvides de documentar el código para dejar clara la lógica, sobre todo cuando no sale el resultado"
   ]
  },
  {
   "cell_type": "markdown",
   "metadata": {},
   "source": [
    "### Ejercicio 1\n",
    "En este ejercicio se va a crear una lista con los siguientes elementos. Primero, crearemos las variables que luego añadiremos a la lista. Las variables son las siguientes:\n",
    "\n",
    "1. Crea una variable llamada `edad` de tipo Integer que represente tu edad en años. \n",
    "2. Crea una variable llamada `poblacion` de tipo String , con tu población de nacimiento. \n",
    "3. Crea una variable llamada `altura` con el valor de tu altura en metros de tipo float.\n",
    "4. Crea una variable llamada `s_operativo` de tipo Boolean True si usas Windows y False si usas otro.\n",
    "5. Crea una variable llamada `nada` de tipo None cuyo valor sea None.\n",
    "6. Crea una variable llamada `lista_vacaciones` de tipo List que contenga 5 destinos de viaje a los que te gustaría ir. Cada elemento ha de ser de tipo String.\n",
    "7. Crea una variable llamada `tupla_isla` de tipo Tuple con tres objetos que te llevarías a una isla desierta.\n",
    "8. Crea una variable llamada `dict_pc` con dos keys y dos values. Una key es `marca`, teniendo como value la marca de tu pc de tipo String. Otra key es la `ram`, cuyo valor es es un entero del número de gigas de la ram de tu ordenador\n",
    "9. Añade todos estos elementos en una lista llamada `lista_examen` en el orden de aparición.\n",
    "10. Guarda en la variable `lon_lista_examen` la longitud de `lista_examen`."
   ]
  },
  {
   "cell_type": "code",
   "execution_count": 6,
   "metadata": {},
   "outputs": [
    {
     "name": "stdout",
     "output_type": "stream",
     "text": [
      "Longitud de la lista_examen: 8\n"
     ]
    }
   ],
   "source": [
    "# Creo las variables:\n",
    "\n",
    "edad = 29\n",
    "poblacion = \"Bilbao\"\n",
    "altura = 1.70\n",
    "s_operativo = True\n",
    "nada = None\n",
    "lista_vacaciones = [\"Bali\", \"Grecia\", \"Alemania\", \"Rusia\", \"Japón\"]\n",
    "tupla_isla = (\"cuchillo\", \"playstation\", \"PC para programar (no creo)\")\n",
    "dict_pc = {\"marca\": \"HP\",\n",
    "           \"ram\": 16,\n",
    "           }\n",
    "\n",
    "# Creo la lista:\n",
    "lista_examen = [edad, poblacion, altura, s_operativo, nada, lista_vacaciones, tupla_isla, dict_pc]\n",
    "\n",
    "# Creo la variable de longitud de la lista\n",
    "lon_lista_examen = len(lista_examen)\n",
    "\n",
    "print(f\"Longitud de la lista_examen: {lon_lista_examen}\")"
   ]
  },
  {
   "cell_type": "markdown",
   "metadata": {},
   "source": [
    "### Ejercicio 2\n",
    "\n",
    "Escribe un programa que simule un libro de \"sigue tu propia aventura\". Solo se pide control de flujo y uso de print().\n",
    "\n",
    "El programa tiene dos variables:\n",
    "\n",
    "*puerta* --> es una variable de tipo entero\n",
    "\n",
    "*amuleto* --> es una variable booleana\n",
    "\n",
    "\n",
    "    · Si la puerta que eliges es la 1, imprime \"has perdido\"\n",
    "\n",
    "    · Si la puerta que eliges es la 2 y tienes el amuleto (verdadero), imprime \"has ganado\"\n",
    "\n",
    "    · En cualquier otro caso, imprime \"sigue jugando\"\n",
    "\n",
    "Haz este programa de dos formas: usando un AND y sin usar un AND\n",
    "\n",
    "Nota: no son necesarias funciones. Puedes declarar puerta y amuleto al principio de tu programa."
   ]
  },
  {
   "cell_type": "code",
   "execution_count": 8,
   "metadata": {},
   "outputs": [],
   "source": [
    "puerta = 1\n",
    "amuleto = True"
   ]
  },
  {
   "cell_type": "code",
   "execution_count": 10,
   "metadata": {},
   "outputs": [
    {
     "name": "stdout",
     "output_type": "stream",
     "text": [
      "Has perdido\n",
      "\n",
      "Sigue jugando\n"
     ]
    }
   ],
   "source": [
    "# Usando AND:\n",
    "\n",
    "if puerta == 1:\n",
    "    print(\"Has perdido\\n\")\n",
    "\n",
    "elif puerta == 2 and amuleto:\n",
    "    print(\"Has ganado\")\n",
    "\n",
    "print(\"Sigue jugando\")"
   ]
  },
  {
   "cell_type": "code",
   "execution_count": 12,
   "metadata": {},
   "outputs": [
    {
     "name": "stdout",
     "output_type": "stream",
     "text": [
      "Has perdido\n",
      "\n",
      "Sigue jugando\n"
     ]
    }
   ],
   "source": [
    "# Sin usar AND (utilizo el comando match-case para mostrar una forma diferente, aunque podría también hacerse con if-elif-else):\n",
    "\n",
    "match puerta:\n",
    "    case 1:\n",
    "        print(\"Has perdido\\n\")\n",
    "\n",
    "    case 2:\n",
    "        if amuleto:\n",
    "            print(\"Has ganado\\n\")\n",
    "\n",
    "print(\"Sigue jugando\")"
   ]
  },
  {
   "cell_type": "markdown",
   "metadata": {},
   "source": [
    "### Ejercicio 3\n",
    "\n",
    "Escribe un programa que solicite al usuario un número entero positivo n y luego imprima un triángulo de asteriscos (*) de altura n. Por ejemplo, si el usuario ingresa 5, el programa debería imprimir:"
   ]
  },
  {
   "cell_type": "code",
   "execution_count": null,
   "metadata": {},
   "outputs": [],
   "source": [
    "'''\n",
    "\n",
    "*\n",
    "*  *  \n",
    "*  *  *  \n",
    "*  *  *  *\n",
    "*  *  *  *  *\n",
    "\n",
    "'''"
   ]
  },
  {
   "cell_type": "code",
   "execution_count": 29,
   "metadata": {},
   "outputs": [
    {
     "name": "stdout",
     "output_type": "stream",
     "text": [
      "*  \n",
      "*  *  \n",
      "*  *  *  \n",
      "*  *  *  *  \n",
      "*  *  *  *  *  \n"
     ]
    }
   ],
   "source": [
    "# Solicito el número al usuario a través de un input y lo convierto a entero:\n",
    "num_entero = int(input(\"Escribe un número entero positivo: \"))\n",
    "\n",
    "# Mediante un bucle for imprimo los asteriscos en cada iteración por el número que corresponda, siendo estos desde 1 al num_entero + 1, ya que range no toma el último valor.\n",
    "for x in range(1, num_entero + 1):\n",
    "    print(\"*  \" * x)"
   ]
  },
  {
   "cell_type": "markdown",
   "metadata": {},
   "source": [
    "### Ejercicio 4\n",
    "\n",
    "Crea un programa que pida una contraseña por teclado e indique si es correcta\n",
    "o incorrecta con un print(). La contraseña correcta es “python”. Si la contraseña era incorrecta la pide de nuevo hasta 3 veces como máximo. Si al tercer intento no se acierta, debe ponerse a None y poner en un print() que la cuenta se ha bloqueado. Si se consigue entrar, se muestra que es correcta en un print(). Debe haber como mínimo un **BUCLE WHILE**"
   ]
  },
  {
   "cell_type": "code",
   "execution_count": 41,
   "metadata": {},
   "outputs": [
    {
     "name": "stdout",
     "output_type": "stream",
     "text": [
      "Contraseña incorrecta:(\n",
      "\n",
      "Contraseña incorrecta:(\n",
      "\n",
      "Demasiados intentos. Tu cuenta ha sido bloqueada. Contacta con el administrador a ver si te hace caso\n"
     ]
    }
   ],
   "source": [
    "# El usuario introduce la contraseña:\n",
    "contrasena = input(\"Introduce la contraseña: \")\n",
    "\n",
    "# En primer lugar se comprueba si es correcta:\n",
    "if contrasena == \"python\":\n",
    "    print(\"Contraseña correcta!\")\n",
    "\n",
    "# Inicializo un contador de intentos a 0 para el bucle while:\n",
    "contador = 0\n",
    "\n",
    "# Inicio el bucle while si la contraseña no es correcta:\n",
    "while contrasena != \"python\":\n",
    "    print(\"Contraseña incorrecta:(\\n\") # Se indica que es incorrecta\n",
    "    \n",
    "    contrasena = input(f\"Introduce de nuevo la contraseña. Tienes otros {2 - contador} intentos: \") # Se solicita introducirla de nuevo\n",
    "\n",
    "    contador += 1 # El contador de intentos sube 1\n",
    "\n",
    "    if contador == 2: # Si el contador llega a 2, es decir si el usuario ha utilizado su tercer intento, se bloquea la cuenta y se sale del bucle finalizando el programa\n",
    "        print(\"Demasiados intentos. Tu cuenta ha sido bloqueada. Contacta con el administrador a ver si te hace caso\")\n",
    "        contrasena = None\n",
    "        break\n"
   ]
  },
  {
   "cell_type": "markdown",
   "metadata": {},
   "source": [
    "### Ejercicio 5\n",
    "Una empresa usa dos listas  para guardar la información de sus empleados. Una lista guarda el nombre del empleado y la otra guarda su salario. Escribe un programa que cree esas dos listas originalmente vacías y que a través de un menú pueda hacer lo siguiente:\n",
    "    \n",
    "Inserta 1 para añadir un nuevo empleado y su salario\n",
    "\n",
    "Inserta 2 para imprimir los nombres y salarios de todos los empleados\n",
    "\n",
    "Inserta 3 para mostrar el número de empleados\n",
    "\n",
    "Inserta 4 para imprimir los nombres de los empleados con sueldos superiores a 400000\n",
    "\n",
    "Inserta 5 para subir un 5% los sueldos por debajo de 10000\n",
    "\n",
    "Inserta 6 para mostrar el total de todos los salarios\n",
    "\n",
    "Inserta 7 para salir del programa"
   ]
  },
  {
   "cell_type": "code",
   "execution_count": null,
   "metadata": {},
   "outputs": [
    {
     "name": "stdout",
     "output_type": "stream",
     "text": [
      "Inserta 1 para añadir un nuevo empleado y su salario\n",
      "Inserta 2 para imprimir los nombres y salarios de todos los empleados\n",
      "Inserta 3 para mostrar el número de empleados\n",
      "Inserta 4 para imprimir los nombres de los empleados con sueldos superiores a 400000\n",
      "Inserta 5 para subir un 5% los sueldos por debajo de 10000\n",
      "Inserta 6 para mostrar el total de todos los salarios\n",
      "Inserta 7 para salir del programa\n",
      "\n",
      "Inserta 1 para añadir un nuevo empleado y su salario\n",
      "Inserta 2 para imprimir los nombres y salarios de todos los empleados\n",
      "Inserta 3 para mostrar el número de empleados\n",
      "Inserta 4 para imprimir los nombres de los empleados con sueldos superiores a 400000\n",
      "Inserta 5 para subir un 5% los sueldos por debajo de 10000\n",
      "Inserta 6 para mostrar el total de todos los salarios\n",
      "Inserta 7 para salir del programa\n",
      "\n",
      "Inserta 1 para añadir un nuevo empleado y su salario\n",
      "Inserta 2 para imprimir los nombres y salarios de todos los empleados\n",
      "Inserta 3 para mostrar el número de empleados\n",
      "Inserta 4 para imprimir los nombres de los empleados con sueldos superiores a 400000\n",
      "Inserta 5 para subir un 5% los sueldos por debajo de 10000\n",
      "Inserta 6 para mostrar el total de todos los salarios\n",
      "Inserta 7 para salir del programa\n",
      "\n",
      "509000\n",
      "Inserta 1 para añadir un nuevo empleado y su salario\n",
      "Inserta 2 para imprimir los nombres y salarios de todos los empleados\n",
      "Inserta 3 para mostrar el número de empleados\n",
      "Inserta 4 para imprimir los nombres de los empleados con sueldos superiores a 400000\n",
      "Inserta 5 para subir un 5% los sueldos por debajo de 10000\n",
      "Inserta 6 para mostrar el total de todos los salarios\n",
      "Inserta 7 para salir del programa\n",
      "\n"
     ]
    }
   ],
   "source": [
    "# Defino las funciones que ejecutarán las tareas solicitadas por el usuario:\n",
    "\n",
    "def anadir_empleado(nombre, salario):\n",
    "    \"\"\"Añade un nuevo empleado y su salario a las listas correspondientes\"\"\"\n",
    "    nombres_empleados.append(nombre)\n",
    "    salarios_empleados.append(salario)\n",
    "\n",
    "\n",
    "def imprimir_datos():\n",
    "    \"\"\"Imprime las lista de empleados y salarios en pantalla\"\"\"\n",
    "    print(f\"Nombres de los empleados: {nombres_empleados}\")\n",
    "    print(f\"Salarios de los empleados: {salarios_empleados}\\n\")\n",
    "\n",
    "\n",
    "def mostrar_numero_empleados():\n",
    "    \"\"\"Muestra el número total de empleados\"\"\"\n",
    "    print(f\"Número de empleados: {len(nombres_empleados)}\\n\")\n",
    "\n",
    "\n",
    "def mostrar_sueldos_altos():\n",
    "    \"\"\"Muestra los sueldos por encima de 400000\"\"\"\n",
    "    for i, empleado in enumerate(nombres_empleados):\n",
    "        if salarios_empleados[i] > 400000:\n",
    "            print(empleado)\n",
    "            print()\n",
    "\n",
    "\n",
    "def subir_sueldos():\n",
    "    \"\"\"Sube los sueldos que están por debajo de 1000 y actualiza la lista de salarios\"\"\"\n",
    "    global salarios_empleados # Utilizo salarios_empleados como variable global para que quede actualizada con los nuevos salarios aumentados\n",
    "    \n",
    "    # Utilizo list comprehension para actualizar la lista de salarios con los nuevos valores actualizados:\n",
    "    salarios_empleados = [salario*1.05 if salario < 10000 else salario for salario in salarios_empleados]\n",
    "\n",
    "\n",
    "def mostrar_total_salarios():\n",
    "    \"\"\"Muestra el valor de la suma de los salarios\"\"\"\n",
    "    print(f\"El total de los salarios es: {sum(salarios_empleados)}\")\n",
    "\n",
    "\n",
    "# Inicializo las listas:\n",
    "\n",
    "nombres_empleados = []\n",
    "salarios_empleados = []\n",
    "\n",
    "while True:\n",
    "    # Imprimo las opciones del menú:\n",
    "\n",
    "    print(\"Inserta 1 para añadir un nuevo empleado y su salario\")\n",
    "    print(\"Inserta 2 para imprimir los nombres y salarios de todos los empleados\")\n",
    "    print(\"Inserta 3 para mostrar el número de empleados\")\n",
    "    print(\"Inserta 4 para imprimir los nombres de los empleados con sueldos superiores a 400000\")\n",
    "    print(r\"Inserta 5 para subir un 5% los sueldos por debajo de 10000\")\n",
    "    print(\"Inserta 6 para mostrar el total de todos los salarios\")\n",
    "    print(\"Inserta 7 para salir del programa\\n\")\n",
    "\n",
    "    # Solicito la opción deseada al usuario:\n",
    "    seleccion_menu = int(input(\"Introduce la opción deseada: \"))\n",
    "\n",
    "    # Compruebo qué opción ha seleccionado el usuario mediante el comando match-case y llamando a la función respectiva en cada caso:\n",
    "    match seleccion_menu:\n",
    "        case 1:\n",
    "            nombre = input(\"Introduce el nombre del empleado a añadir: \\n\")\n",
    "            salario = int(input(\"Introduce su salario: \")) # Hay que convertir el salario a integer para poder operar con él en el resto de funciones\n",
    "\n",
    "            anadir_empleado(nombre, salario)\n",
    "\n",
    "        case 2:\n",
    "            imprimir_datos()\n",
    "\n",
    "        case 3:\n",
    "            mostrar_numero_empleados()\n",
    "\n",
    "        case 4:\n",
    "            mostrar_sueldos_altos()\n",
    "\n",
    "        case 5:\n",
    "            subir_sueldos()\n",
    "\n",
    "        case 6:\n",
    "            mostrar_total_salarios()\n",
    "\n",
    "        case 7:\n",
    "            break # Break para salir del bucle y finalizar el programa"
   ]
  },
  {
   "cell_type": "markdown",
   "metadata": {},
   "source": [
    "\n",
    "### Ejercicio 6 (**EXTRA**)\n",
    "\n",
    "#### Crear un programa que calcule la cuota de una hipoteca\n",
    "\n",
    "Las cuotas hipotecarias se calculan utilizando la fórmula del interés francés. \n",
    "\n",
    "La fórmula del interés frances es la siguiente:\n",
    "\\begin{align*}\n",
    "C=V \\frac{(1+i)^n i}{(1+i)^n -1}\n",
    "\\end{align*}\n",
    "\n",
    "\n",
    "    C = cuota a pagar (mensual)\n",
    "    V = volumen del préstamo hipotecario\n",
    "    i = tipo de interés del período (mensual)\n",
    "    n = número de cuotas (mensuales)\n",
    "\n",
    "1. Crea un programa que solicite al usuario los datos de su hipoteca mediante input() los datos (volumen, interés **anual**, y plazo en **años**) y le devuelva la cuota **mensual** a pagar. No es necesario encapsularlo en funciones.\n",
    "\n",
    "2. Crea una función `calcular_hip` que realiza el cálculo y cuyos argumentos de entrada sean `volumen`, `interes_anual` y `años`, devolviendo la couta mensual(float). El argumento de `años` deberá de tener un valor por defecto de 30.\n",
    "3. Calcula la cuota y guárdala en la variable `res_cuota` si la cantidad de la hipoteca son 350000 euros, el interés anual es del 5% y la quiere pagar en 20 años a partir de la función `calcular_hip`.\n",
    "4. Crea una función `gasto_vivienda`, con dos argumentos de entrada `ingreso` y `lista_hip`. Esta lista tendrá los 3 valores de los argumentos de entrada de `calcular_hip`, siendo esta una función que deberá ser utilizada dentro de `gasto_vivienda`. Tiene que devolver el valor del porcentaje de gasto en la hipoteca respecto a los ingresos. (Entre 0 y 1, es decir 0.5 si es del 50%)\n",
    "5. Calcula el porcentaje de gasto en la hipoteca si el ingreso es de 1700 euros y guárdalo en la variable `res_porcentaje`.\n",
    "6. Documenta ambas funciones."
   ]
  },
  {
   "cell_type": "code",
   "execution_count": 65,
   "metadata": {},
   "outputs": [],
   "source": [
    "# Solicito los datos necesarios al usuario:\n",
    "\n",
    "volumen = int(input(\"Introduce el volúmen de tu préstamo hipotecario: \"))\n",
    "interes_anual =float(input(\"Introduce el tipo de interés anual en tanto por 1: \")) # Se pasa a float ya que el interés se introduce en tanto por 1\n",
    "plazo_anos = int(input(\"Introduce el plazo en años: \"))"
   ]
  },
  {
   "cell_type": "code",
   "execution_count": 66,
   "metadata": {},
   "outputs": [],
   "source": [
    "def calcular_hip(volumen, interes_anual, plazo_anos = 30):\n",
    "    \"\"\"Realiza el cálculo de la cuota mensual\"\"\"\n",
    "\n",
    "    interes_mensual = interes_anual / 12 # El interés mensual es el anual entre 12 meses al año\n",
    "    numero_cuotas = plazo_anos * 12 # El número de cuotas es el plazo anual por 12 meses al año\n",
    "    \n",
    "    # Se hace el cálculo de la cuota:\n",
    "    cuota = volumen * (interes_mensual * (1 + interes_mensual) ** numero_cuotas) / ((1 + interes_mensual) ** numero_cuotas - 1)\n",
    "\n",
    "    return cuota"
   ]
  },
  {
   "cell_type": "code",
   "execution_count": 67,
   "metadata": {},
   "outputs": [
    {
     "name": "stdout",
     "output_type": "stream",
     "text": [
      "Tu cuota a pagar (mensual) es la siguiente: 2309.85 €/mes\n"
     ]
    }
   ],
   "source": [
    "# Se llama a la función para hacer el cálculo:\n",
    "cuota_mensual = calcular_hip(volumen, interes_anual, plazo_anos)\n",
    "\n",
    "# Se imprime el resultado:\n",
    "print(f\"Tu cuota a pagar (mensual) es la siguiente: {round(cuota_mensual, 2)} €/mes\")\n",
    "\n",
    "# Aplico las condiciones para que la cuota se guarde en la variable res_cuota:\n",
    "if volumen == 350000 and interes_anual == 0.05 and plazo_anos == 20:\n",
    "    res_cuota = cuota_mensual"
   ]
  },
  {
   "cell_type": "code",
   "execution_count": 68,
   "metadata": {},
   "outputs": [],
   "source": [
    "lista_hip = [volumen, interes_anual, plazo_anos]\n",
    "\n",
    "# Defino la función, donde la lista de datos del usuario se introducirá en un unpacking operator *args, después de introducir el ingreso:\n",
    "def gasto_vivienda(ingreso, *args):\n",
    "    \"\"\"Calcula el valor del porcentaje de gasto en la hipoteca respecto a los ingresos en tanto por 1\"\"\"\n",
    "\n",
    "    return (calcular_hip(*args) / ingreso) # Devuelve el cálculo"
   ]
  },
  {
   "cell_type": "code",
   "execution_count": 75,
   "metadata": {},
   "outputs": [
    {
     "name": "stdout",
     "output_type": "stream",
     "text": [
      "Porcentage de gasto: 1.36\n",
      "\n",
      "Vas a tener que buscarte un trabajo extra\n"
     ]
    }
   ],
   "source": [
    "res_porcentaje = gasto_vivienda(1700, *lista_hip) # Introduzco el valor del ingreso y desempaco la lista de datos\n",
    "\n",
    "print(f\"Porcentage de gasto: {round(res_porcentaje, 2)}\")\n",
    "\n",
    "if res_porcentaje > 1:\n",
    "    print(\"\\nVas a tener que buscarte un trabajo extra\")\n",
    "\n",
    "else:\n",
    "    print(\"\\nPuedes permitírtelo\")"
   ]
  },
  {
   "attachments": {},
   "cell_type": "markdown",
   "metadata": {},
   "source": [
    "¡Has terminado!\n",
    "\n",
    "Adjunta este fichero en la tarea del CampusVirtual"
   ]
  }
 ],
 "metadata": {
  "kernelspec": {
   "display_name": "Python 3",
   "language": "python",
   "name": "python3"
  },
  "language_info": {
   "codemirror_mode": {
    "name": "ipython",
    "version": 3
   },
   "file_extension": ".py",
   "mimetype": "text/x-python",
   "name": "python",
   "nbconvert_exporter": "python",
   "pygments_lexer": "ipython3",
   "version": "3.12.0"
  },
  "orig_nbformat": 4,
  "vscode": {
   "interpreter": {
    "hash": "1e989a6a87260c027f3014f78a3a3d191394072689c96a40223c8499353d25ee"
   }
  }
 },
 "nbformat": 4,
 "nbformat_minor": 2
}
