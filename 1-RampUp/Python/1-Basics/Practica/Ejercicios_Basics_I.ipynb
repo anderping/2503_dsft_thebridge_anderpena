{
 "cells": [
  {
   "cell_type": "markdown",
   "metadata": {},
   "source": [
    "![imagen](./img/ejercicios.png)"
   ]
  },
  {
   "cell_type": "markdown",
   "metadata": {},
   "source": [
    "# Ejercicios Python Basics I"
   ]
  },
  {
   "cell_type": "markdown",
   "metadata": {},
   "source": [
    "## Ejercicio 0\n",
    "Imprime por pantalla esta cita con el siguiente formato\n",
    "\n",
    "![imagen](./img/frase_Einstein.PNG)"
   ]
  },
  {
   "cell_type": "code",
   "execution_count": 3,
   "metadata": {},
   "outputs": [
    {
     "name": "stdout",
     "output_type": "stream",
     "text": [
      "¿Por qué esta magnífica tecnología cientígica,\n",
      "\tque ahorra trabajo y nos hace la vida fácil,\n",
      "\t\tnos aporta tan poca felicidad?\n",
      "\t\t\tLa respuesta es está, simplemente: porque aún no hemos aprendido a usarla con tino.\n",
      "\"Albert Einstein\"\n"
     ]
    }
   ],
   "source": [
    "print(\"¿Por qué esta magnífica tecnología cientígica,\\n\\tque ahorra trabajo y nos hace la vida fácil,\\n\\t\\t\"\n",
    "      \"nos aporta tan poca felicidad?\\n\\t\\t\\tLa respuesta es está, simplemente: porque aún no hemos aprendido a usarla con tino.\\n\\\"Albert Einstein\\\"\")"
   ]
  },
  {
   "cell_type": "markdown",
   "metadata": {},
   "source": [
    "## Ejercicio 1\n",
    "1. Escribe el nombre de la calle de tu domicilio en una variable\n",
    "2. Escribe el numero de la calle en otra\n",
    "3. Ciudad en una tercera\n",
    "4. Codigo postal en la cuarta variable\n",
    "5. Imprime las 4 variables concatenadas por pantalla\n",
    "6. Crea una quinta variable que concatene todas ellas\n",
    "7. Imprímela por pantalla"
   ]
  },
  {
   "cell_type": "code",
   "execution_count": 4,
   "metadata": {},
   "outputs": [],
   "source": [
    "# \"15\" > \"5\"\n",
    "\n",
    "calle = \"Santutxu\""
   ]
  },
  {
   "cell_type": "code",
   "execution_count": 15,
   "metadata": {},
   "outputs": [],
   "source": [
    "num = \"5\""
   ]
  },
  {
   "cell_type": "code",
   "execution_count": 7,
   "metadata": {},
   "outputs": [],
   "source": [
    "ciudad = \"Bilbao\""
   ]
  },
  {
   "cell_type": "code",
   "execution_count": 16,
   "metadata": {},
   "outputs": [],
   "source": [
    "cp = \"48004\""
   ]
  },
  {
   "cell_type": "code",
   "execution_count": 22,
   "metadata": {},
   "outputs": [
    {
     "name": "stdout",
     "output_type": "stream",
     "text": [
      "Santutxu 5 Bilbao 48004\n"
     ]
    }
   ],
   "source": [
    "print(f\"{calle} {num} {ciudad} {cp}\")"
   ]
  },
  {
   "cell_type": "code",
   "execution_count": 20,
   "metadata": {},
   "outputs": [],
   "source": [
    "concatenado = calle + \" \" + num + \" \" + ciudad + \" \" + cp"
   ]
  },
  {
   "cell_type": "code",
   "execution_count": 21,
   "metadata": {},
   "outputs": [
    {
     "name": "stdout",
     "output_type": "stream",
     "text": [
      "Santutxu 5 Bilbao 48004\n"
     ]
    }
   ],
   "source": [
    "print(concatenado)"
   ]
  },
  {
   "cell_type": "markdown",
   "metadata": {},
   "source": [
    "## Ejercicio 2\n",
    "Repite el ejercicio 1, pero pidiendo estos datos al usuario mediante un input(), imprimiendo a continuación la dirección completa"
   ]
  },
  {
   "cell_type": "code",
   "execution_count": 4,
   "metadata": {},
   "outputs": [
    {
     "name": "stdout",
     "output_type": "stream",
     "text": [
      "Escribe el nombre de la calle de tu domicilio\n",
      "Santutxu\n",
      "Escribe el numero de la calle\n",
      "8\n",
      "Escribe el nombre de tu ciudad\n",
      "Bilbao\n",
      "Escribe el nombre de tu código postal\n",
      "48004\n"
     ]
    }
   ],
   "source": [
    "print(\"Escribe el nombre de la calle de tu domicilio\")\n",
    "calle_2 = input()\n",
    "print(calle_2)\n",
    "\n",
    "print(\"Escribe el numero de la calle\")\n",
    "num_2 = input()\n",
    "print(num_2)\n",
    "\n",
    "print(\"Escribe el nombre de tu ciudad\")\n",
    "ciudad_2 = input()\n",
    "print(ciudad_2)\n",
    "\n",
    "print(\"Escribe el nombre de tu código postal\")\n",
    "cp_2 = input()\n",
    "print(cp_2)"
   ]
  },
  {
   "cell_type": "code",
   "execution_count": 5,
   "metadata": {},
   "outputs": [
    {
     "name": "stdout",
     "output_type": "stream",
     "text": [
      "Santutxu 8 Bilbao 48004\n"
     ]
    }
   ],
   "source": [
    "print(f\"{calle_2} {num_2} {ciudad_2} {cp_2}\")"
   ]
  },
  {
   "cell_type": "markdown",
   "metadata": {},
   "source": [
    "## Ejercicio 3\n",
    "¿Qué variables están mal escritas y por qué? Realiza primero tu hipótesis y luego ejecuta las variables para comprobarlo. En ese orden :)\n",
    "\n",
    "\n",
    "1. mi_variable = \"Economía\"\n",
    "2. otra_var = \"Ejercicio\n",
    "3. True = \"Ejercicio\"\n",
    "4. mi variab1e = \"Alpha\"\n",
    "5. import = 40\n",
    "6. 81mi_variable = \"Agua\"\n",
    "7. mi_variable10 = 6"
   ]
  },
  {
   "cell_type": "markdown",
   "metadata": {},
   "source": []
  },
  {
   "cell_type": "markdown",
   "metadata": {},
   "source": [
    "Las variables mal escritas son:\n",
    "\n",
    "* **otra_var** porque le falta cerrar las comillas\n",
    "* **True** porque es el nombre utilizado para definir un boolean en Python\n",
    "* **mi variab1e** porque contiene un espacio entre palabras\n",
    "* **import** porque es el nombre de un comando interno en Python\n",
    "* **81mi_variable** porque entre el \"81\" y el \"mi\" tiene que haber una barra baja, si no el número se interpreta como un integer, no parte de la variable"
   ]
  },
  {
   "cell_type": "markdown",
   "metadata": {},
   "source": [
    "## Ejercicio 4\n",
    "Realiza un conversor de grados Celsius a Fahrenheit. El conversor tiene que recibir el input del usuario y devolver la conversión.\n",
    "\n",
    "La conversión de grados sigue la siguiente fórmula: F = C × (9 / 5) + 32 "
   ]
  },
  {
   "cell_type": "code",
   "execution_count": null,
   "metadata": {},
   "outputs": [
    {
     "name": "stdout",
     "output_type": "stream",
     "text": [
      "Introduce los grados celsius:\n",
      "45\n",
      "Los grados Fahrenheit son: 113.0\n"
     ]
    }
   ],
   "source": [
    "print(\"Introduce los grados celsius:\")\n",
    "grados_celsius = int(input())\n",
    "print(grados_celsius)\n",
    "\n",
    "grados_farhrenheit = grados_celsius*(9/5) + 32\n",
    "print(f\"Los grados Fahrenheit son: {grados_farhrenheit}\")"
   ]
  },
  {
   "cell_type": "markdown",
   "metadata": {},
   "source": [
    "## Ejercicio 5\n",
    "Comenta  el Ejercicio 4. Pon un comentario multilinea y haz comentarios de cada linea de código"
   ]
  },
  {
   "cell_type": "code",
   "execution_count": 11,
   "metadata": {},
   "outputs": [
    {
     "name": "stdout",
     "output_type": "stream",
     "text": [
      "Introduce los grados celsius:\n",
      "45\n",
      "Los grados Fahrenheit son: 113.0\n"
     ]
    }
   ],
   "source": [
    "\"\"\"Ejercicio para calcular grados Farhenheit\"\"\"\n",
    "\n",
    "# Solicitar grados celsius al usuario\n",
    "print(\"Introduce los grados celsius:\")\n",
    "# Definir la variable con input y transformar el string en integer\n",
    "grados_celsius = int(input())\n",
    "# Imprimir el input\n",
    "print(grados_celsius)\n",
    "\n",
    "# Definir variable para grados Fahrenheit\n",
    "grados_farhrenheit = grados_celsius*(9/5) + 32\n",
    "# Imprimir resultado final\n",
    "print(f\"Los grados Fahrenheit son: {grados_farhrenheit}\")"
   ]
  }
 ],
 "metadata": {
  "kernelspec": {
   "display_name": "Python 3",
   "language": "python",
   "name": "python3"
  },
  "language_info": {
   "codemirror_mode": {
    "name": "ipython",
    "version": 3
   },
   "file_extension": ".py",
   "mimetype": "text/x-python",
   "name": "python",
   "nbconvert_exporter": "python",
   "pygments_lexer": "ipython3",
   "version": "3.12.0"
  },
  "nbTranslate": {
   "displayLangs": [
    "*"
   ],
   "hotkey": "alt-t",
   "langInMainMenu": true,
   "sourceLang": "en",
   "targetLang": "fr",
   "useGoogleTranslate": true
  },
  "varInspector": {
   "cols": {
    "lenName": 16,
    "lenType": 16,
    "lenVar": 40
   },
   "kernels_config": {
    "python": {
     "delete_cmd_postfix": "",
     "delete_cmd_prefix": "del ",
     "library": "var_list.py",
     "varRefreshCmd": "print(var_dic_list())"
    },
    "r": {
     "delete_cmd_postfix": ") ",
     "delete_cmd_prefix": "rm(",
     "library": "var_list.r",
     "varRefreshCmd": "cat(var_dic_list()) "
    }
   },
   "types_to_exclude": [
    "module",
    "function",
    "builtin_function_or_method",
    "instance",
    "_Feature"
   ],
   "window_display": false
  }
 },
 "nbformat": 4,
 "nbformat_minor": 4
}
