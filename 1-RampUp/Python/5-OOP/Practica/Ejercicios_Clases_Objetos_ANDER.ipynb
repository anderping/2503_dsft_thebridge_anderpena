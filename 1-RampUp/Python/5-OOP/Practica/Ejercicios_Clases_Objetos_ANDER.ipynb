{
 "cells": [
  {
   "cell_type": "markdown",
   "metadata": {},
   "source": [
    "![imagen](./img/ejercicios.png)\n",
    "\n",
    "# Ejercicios Clases y Objetos"
   ]
  },
  {
   "attachments": {},
   "cell_type": "markdown",
   "metadata": {},
   "source": [
    "## Ejercicio 1\n",
    "Somos una empresa que tiene varias tiendas de electrodomésticos. Necesitamos un programa para manejar las tiendas, ver las ventas que han tenido, cuántos empleados hay, etc... Para ello vamos a modelizar la tienda en una clase, que tendrá las siguientes características:\n",
    "* Nombre clase: \"Tienda\"\n",
    "* Atributos comunes:\n",
    "    * Tipo: \"Electrodomésticos\"\n",
    "    * Abierta: True\n",
    "* Atributos propios de cada tienda:\n",
    "    * Nombre - String\n",
    "    * Dirección - String\n",
    "    * Número de empleados - int\n",
    "    * Ventas últimos 3 meses - Lista de 3 numeros\n",
    "* Método para calcular las ventas de todos los meses, que devuelva un número con todas las ventas.\n",
    "* Método que calcula la media de ventas de los últimos meses, por empleado\n",
    "* Método que devuelve en un string el nombre de la tienda, junto con su dirección.\n",
    "* Método que obtiene las ventas del último mes.\n",
    "* Método para dar una proyección de las ventas en caso de haber invertido X dinero en marketing en esa tienda. Siendo X el parámetro de entrada. Si X es menor de 1000, las ventas de los ultimos 3 meses hubiesen sido de (1.2 x ventas), si es mayor o igual de 1000, las ventas hubiesen sido de (1.5 x venta). El método reescribe el atributo de ventas en los últimos 3 meses, y además devuelve las ventas con el aumento.\n",
    "\n",
    "Se pide:\n",
    "1. Implementar la clase \"Tienda\"\n",
    "2. Crear tres tiendas con datos inventados\n",
    "3. Comprueba en al menos una de ellas, todo lo implementado en la clase tienda (sus atributos, media de ventas, ventas/empleado...)\n",
    "3. Calcular las ventas del último mes de todas las tiendas. Para ello usa el bucle `for`\n",
    "4. Imprime por pantalla los nombres de las tiendas cuya dirección lleve el string \"Avenida\"\n",
    "5. Seguro que ya has hecho este apartado... Documenta la clase :)"
   ]
  },
  {
   "cell_type": "code",
   "execution_count": 2,
   "metadata": {},
   "outputs": [],
   "source": [
    "import numpy"
   ]
  },
  {
   "cell_type": "code",
   "execution_count": 6,
   "metadata": {},
   "outputs": [],
   "source": [
    "class Tienda():\n",
    "    \"\"\"Clase para definir una tienda en función de sus datos como nombre, dirección y ventas. Las ventas de los 3 últimos meses deben introducirse como una lista de 3 elementos.\"\"\"\n",
    "    tipo = \"Electrodomésticos\"\n",
    "    abierta = True\n",
    "\n",
    "    def __init__(self, nombre: str, direccion: str, num_empleados: int, ventas_3_meses: list[float]):\n",
    "        self.nombre = nombre\n",
    "        self.direccion = direccion\n",
    "        self.num_empleados = num_empleados\n",
    "        self.ventas_3_meses = ventas_3_meses\n",
    "\n",
    "    def calcular_ventas(self):\n",
    "        \"\"\"Función que calcula la suma de las ventas en los 3 últimos meses\"\"\"\n",
    "\n",
    "        return sum(self.ventas_3_meses)\n",
    "    \n",
    "    def calcular_media(self):\n",
    "        \"\"\"Función para calcular la media de las ventas en los 3 últimos meses.\"\"\"\n",
    "\n",
    "        return numpy.average(self.ventas_3_meses)\n",
    "\n",
    "    def mostrar_datos(self):\n",
    "        \"\"\"Función para mostrar el nombre y dirección de la tienda\"\"\"\n",
    "\n",
    "        return f\"Nombre: {self.nombre}\\nDirección: {self.direccion}\"\n",
    "    \n",
    "    def mostrar_ventas_ultimo_mes(self):\n",
    "        \"\"\"Función que muestra las ventas del último mes\"\"\"\n",
    "        return self.ventas_3_meses[2]\n",
    "    \n",
    "    def mostrar_proyeccion(self, inversion):\n",
    "        \"\"\"Función que muestra la proyección de ventas en función de la inversión en marketing\"\"\"\n",
    "        if inversion < 1000:\n",
    "            self.ventas_3_meses = [x*1.2 for x in self.ventas_3_meses]\n",
    "\n",
    "            return self.ventas_3_meses\n",
    "        \n",
    "        else:\n",
    "            self.ventas_3_meses = [x*1.5 for x in self.ventas_3_meses]\n",
    "\n",
    "            return self.ventas_3_meses"
   ]
  },
  {
   "cell_type": "code",
   "execution_count": 7,
   "metadata": {},
   "outputs": [],
   "source": [
    "# Creo 3 objetos \"Tienda\" a través de la clase \"Tienda\"\n",
    "\n",
    "TiendaCasaPaco = Tienda(\"Casa Paco\", \"C/Julián\", 3, [1000, 900, 345.5])\n",
    "TiendaLaDeChuchesDeAlLao = Tienda(\"La de chuches de al lao\", \"Avenida Pepe\", 2, [456.7, 500, 345.5])\n",
    "TiendaEsaDeLasUñas = Tienda(\"Esa De Las Uñas\", \"C/La Mía\", 10, [3000, 3200.2, 9000])"
   ]
  },
  {
   "cell_type": "code",
   "execution_count": 8,
   "metadata": {},
   "outputs": [
    {
     "name": "stdout",
     "output_type": "stream",
     "text": [
      "Tienda abierta: True\n",
      "Nombre tienda: Casa Paco\n",
      "Número de empleados: 3\n",
      "Tipo de negocio: Electrodomésticos\n",
      "Ventas en los últimos 3 meses: [1000, 900, 345.5]\n",
      "Dirección tienda: C/Julián\n",
      "Ventas totales: 2245.5\n",
      "Media de ventas: 748.5\n",
      "Datos tienda: Nombre: Casa Paco\n",
      "Dirección: C/Julián\n",
      "Ventas último mes: 345.5\n",
      "Proyección de ventas: [1500.0, 1350.0, 518.25]\n"
     ]
    }
   ],
   "source": [
    "# Imprimo cada uno de los atributos y métodos de la clase:\n",
    "\n",
    "print(f\"Tienda abierta: {TiendaCasaPaco.abierta}\")\n",
    "print(f\"Nombre tienda: {TiendaCasaPaco.nombre}\")\n",
    "print(f\"Número de empleados: {TiendaCasaPaco.num_empleados}\")\n",
    "print(f\"Tipo de negocio: {TiendaCasaPaco.tipo}\")\n",
    "print(f\"Ventas en los últimos 3 meses: {TiendaCasaPaco.ventas_3_meses}\")\n",
    "print(f\"Dirección tienda: {TiendaCasaPaco.direccion}\")\n",
    "print(f\"Ventas totales: {TiendaCasaPaco.calcular_ventas()}\")\n",
    "print(f\"Media de ventas: {TiendaCasaPaco.calcular_media()}\")\n",
    "print(f\"Datos tienda: {TiendaCasaPaco.mostrar_datos()}\")\n",
    "print(f\"Ventas último mes: {TiendaCasaPaco.mostrar_ventas_ultimo_mes()}\")\n",
    "print(f\"Proyección de ventas: {TiendaCasaPaco.mostrar_proyeccion(1000)}\")"
   ]
  },
  {
   "cell_type": "code",
   "execution_count": 9,
   "metadata": {},
   "outputs": [
    {
     "name": "stdout",
     "output_type": "stream",
     "text": [
      "Ventas del último mes en Casa Paco: 518.25\n",
      "Ventas del último mes en La de chuches de al lao: 345.5\n",
      "Ventas del último mes en Esa De Las Uñas: 9000\n"
     ]
    }
   ],
   "source": [
    "# Ventas en el último mes de cada tienda. Para ello contruyo una lista con los objetos \"Tienda\" e itero en ella.\n",
    "\n",
    "lista_tiendas = [TiendaCasaPaco, TiendaLaDeChuchesDeAlLao, TiendaEsaDeLasUñas]\n",
    "\n",
    "for x in lista_tiendas:\n",
    "    print(f\"Ventas del último mes en {x.nombre}: {x.mostrar_ventas_ultimo_mes()}\")"
   ]
  },
  {
   "cell_type": "code",
   "execution_count": 10,
   "metadata": {},
   "outputs": [
    {
     "name": "stdout",
     "output_type": "stream",
     "text": [
      "La de chuches de al lao\n"
     ]
    }
   ],
   "source": [
    "# Busco en la lista anterior si la dirección de alguna tienda tiene la palabra \"Avendia\".\n",
    "\n",
    "for x in lista_tiendas:\n",
    "    if \"Avenida\" in x.direccion:\n",
    "        print(f\"{x.nombre}\")"
   ]
  },
  {
   "cell_type": "markdown",
   "metadata": {},
   "source": [
    "## Ejercicio 2\n",
    "En este ejercicio vamos a implementar una clase *Perro* en Python. La clase tiene las siguientes características:\n",
    "* Cosas que sabemos seguro que tiene un perro\n",
    "    * Tiene 4 patas\n",
    "    * 2 orejas\n",
    "    * 2 ojos\n",
    "    * Una velocidad de 0. Por defecto, el perro está parado\n",
    "* Cuando se inicialice:\n",
    "    * El perro será de una determinada raza\n",
    "    * Por defecto tendrá pelo \"Marrón\", a no ser que se diga lo contrario.\n",
    "    * Por defecto no tendrá dueño, a no ser que se diga lo contrario.\n",
    "    \n",
    "* Dispondrá también de un método llamado andar, que tiene un argumento de entrada (aumento_velocidad). Este valor se le sumará a la velocidad que ya llevaba el perro.\n",
    "* Necesita otro método (parar), donde pondremos la velocidad a 0.\n",
    "* Otro método llamado \"ladrar\", que tendrá un argumento de entrada, y la salida será el siguiente string: \"GUAU!\" + el argumento de entrada.\n",
    "\n",
    "\n",
    "Se pide:\n",
    "* Implementa la clase *Perro*\n",
    "* Crea un objeto de tipo *Perro*, sin dueño\n",
    "* Comprueba que están bien todos sus atributos\n",
    "* Prueba que ande, y comprueba su velocidad\n",
    "* Páralo\n",
    "* Documenta la clase *Perro*"
   ]
  },
  {
   "cell_type": "code",
   "execution_count": 20,
   "metadata": {},
   "outputs": [],
   "source": [
    "class Perro():\n",
    "    \"\"\"Clase para definir un perro en función de sus características como raza, color de pelo y dueño.\"\"\"\n",
    "    num_patas = 4\n",
    "    num_orejas = 2\n",
    "    num_ojos = 2\n",
    "    velocidad = 0\n",
    "\n",
    "    def __init__(self, raza: str, color_pelo=\"Marrón\", dueno=False):\n",
    "        self.raza = raza\n",
    "        self.color_pelo = color_pelo\n",
    "        self.dueño = dueno\n",
    "\n",
    "    def andar(self, aumento_velocidad: int):\n",
    "        \"\"\"Función que aumenta la velocidad del perro\"\"\"\n",
    "        \n",
    "        self.velocidad += aumento_velocidad\n",
    "\n",
    "        return self.velocidad\n",
    "    \n",
    "    def parar(self):\n",
    "        \"\"\"Función que detiene el perro bajando su velocidad a 0.\"\"\"\n",
    "        \n",
    "        self.velocidad = 0\n",
    "\n",
    "        return self.velocidad\n",
    "\n",
    "    def ladrar(self, palabra: str):\n",
    "        \"\"\"Función que el perro ladre\"\"\"\n",
    "\n",
    "        return f\"GUAU! {palabra}\""
   ]
  },
  {
   "cell_type": "code",
   "execution_count": 21,
   "metadata": {},
   "outputs": [],
   "source": [
    "# Creo 1 objeto \"Perro\" a través de la clase \"Perro\"\n",
    "\n",
    "Perro1 = Perro(\"salchica\")"
   ]
  },
  {
   "cell_type": "code",
   "execution_count": 22,
   "metadata": {},
   "outputs": [
    {
     "name": "stdout",
     "output_type": "stream",
     "text": [
      "Número de patas: 4\n",
      "Número de orejas: 2\n",
      "Número de ojos: 2\n",
      "Velocidad: 0\n",
      "Raza: salchica\n",
      "Color de pelo: Marrón\n",
      "Dueño: False\n"
     ]
    }
   ],
   "source": [
    "# Imprimo cada uno de los atributos:\n",
    "\n",
    "print(f\"Número de patas: {Perro1.num_patas}\")\n",
    "print(f\"Número de orejas: {Perro1.num_orejas}\")\n",
    "print(f\"Número de ojos: {Perro1.num_ojos}\")\n",
    "print(f\"Velocidad: {Perro1.velocidad}\")\n",
    "print(f\"Raza: {Perro1.raza}\")\n",
    "print(f\"Color de pelo: {Perro1.color_pelo}\")\n",
    "print(f\"Dueño: {Perro1.dueño}\")"
   ]
  },
  {
   "cell_type": "code",
   "execution_count": 23,
   "metadata": {},
   "outputs": [
    {
     "name": "stdout",
     "output_type": "stream",
     "text": [
      "Velocidad del perro: 3\n"
     ]
    }
   ],
   "source": [
    "# Aumento la velocidad del perro mediante su método \"andar\"\n",
    "\n",
    "print(f\"Velocidad del perro: {Perro1.andar(3)}\")"
   ]
  },
  {
   "cell_type": "code",
   "execution_count": null,
   "metadata": {},
   "outputs": [
    {
     "name": "stdout",
     "output_type": "stream",
     "text": [
      "Velocidad del perro: 0\n"
     ]
    }
   ],
   "source": [
    "# Detengo el perro mediante su método \"parar\"\n",
    "\n",
    "print(f\"Velocidad del perro: {Perro1.parar()}\")"
   ]
  }
 ],
 "metadata": {
  "kernelspec": {
   "display_name": "Python 3",
   "language": "python",
   "name": "python3"
  },
  "language_info": {
   "codemirror_mode": {
    "name": "ipython",
    "version": 3
   },
   "file_extension": ".py",
   "mimetype": "text/x-python",
   "name": "python",
   "nbconvert_exporter": "python",
   "pygments_lexer": "ipython3",
   "version": "3.12.0"
  }
 },
 "nbformat": 4,
 "nbformat_minor": 4
}
