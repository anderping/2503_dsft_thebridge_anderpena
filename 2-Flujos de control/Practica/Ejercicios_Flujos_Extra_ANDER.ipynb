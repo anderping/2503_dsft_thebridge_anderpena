{
 "cells": [
  {
   "cell_type": "markdown",
   "metadata": {},
   "source": [
    "![imagen](./img/ejercicios.png)"
   ]
  },
  {
   "cell_type": "markdown",
   "metadata": {},
   "source": [
    "# Ejercicios Flujos de control"
   ]
  },
  {
   "cell_type": "markdown",
   "metadata": {},
   "source": [
    "## Ejercicio Extra\n",
    "Programa una calculadora que\n",
    "\n",
    "* Pregunte qué operación quieres realizar (multiplicación/división/suma/resta/potencia/salir)\n",
    "* Pida dos números \n",
    "* Realice la operación\n",
    "* Siga funcionando hasta que el usuario elija salir\n",
    "\n",
    "#### Bonus:\n",
    "* Que guarde todas las operaciones realizadas y las imprima por pantalla cuando el usuario elija esa opción\n",
    "* Que sea robusta frente a entradas erróneas del usuario o frente a operaciones como dividir por 0"
   ]
  },
  {
   "cell_type": "code",
   "execution_count": 7,
   "metadata": {},
   "outputs": [
    {
     "name": "stdout",
     "output_type": "stream",
     "text": [
      "\n",
      "Operaciones disponibles: suma, resta, multiplicacion, division, potencia, historial, salir\n",
      "Resultado: 5.0\n",
      "\n",
      "Operaciones disponibles: suma, resta, multiplicacion, division, potencia, historial, salir\n",
      "Operación no válida. Inténtalo de nuevo.\n",
      "\n",
      "Operaciones disponibles: suma, resta, multiplicacion, division, potencia, historial, salir\n",
      "Resultado: 10.0\n",
      "\n",
      "Operaciones disponibles: suma, resta, multiplicacion, division, potencia, historial, salir\n",
      "\n",
      "Historial de operaciones:\n",
      "3.0 suma 2.0 = 5.0\n",
      "5.0 multiplicacion 2.0 = 10.0\n",
      "\n",
      "Operaciones disponibles: suma, resta, multiplicacion, division, potencia, historial, salir\n",
      "Saliendo de la calculadora.\n"
     ]
    }
   ],
   "source": [
    "historial = []\n",
    "    \n",
    "while True:\n",
    "    print(\"\\nOperaciones disponibles: suma, resta, multiplicacion, division, potencia, historial, salir\")\n",
    "    operacion = input(\"Elige una operación: \").strip().lower()\n",
    "        \n",
    "    if operacion == \"salir\":\n",
    "        print(\"Saliendo de la calculadora.\")\n",
    "        break\n",
    "        \n",
    "    if operacion == \"historial\":\n",
    "        print(\"\\nHistorial de operaciones:\")\n",
    "        for item in historial:\n",
    "            print(item)\n",
    "        continue\n",
    "        \n",
    "    if operacion not in [\"suma\", \"resta\", \"multiplicacion\", \"division\", \"potencia\"]:\n",
    "        print(\"Operación no válida. Inténtalo de nuevo.\")\n",
    "        continue\n",
    "        \n",
    "    try:\n",
    "        num1 = float(input(\"Ingresa el primer número: \"))\n",
    "        num2 = float(input(\"Ingresa el segundo número: \"))\n",
    "            \n",
    "        if operacion == \"suma\":\n",
    "            resultado = num1 + num2\n",
    "        elif operacion == \"resta\":\n",
    "            resultado = num1 - num2\n",
    "        elif operacion == \"multiplicacion\":\n",
    "            resultado = num1 * num2\n",
    "        elif operacion == \"division\":\n",
    "            if num2 == 0:\n",
    "                print(\"Error: No se puede dividir por 0.\")\n",
    "                continue\n",
    "            resultado = num1 / num2\n",
    "        elif operacion == \"potencia\":\n",
    "            resultado = num1 ** num2\n",
    "            \n",
    "        operacion_realizada = f\"{num1} {operacion} {num2} = {resultado}\"\n",
    "        historial.append(operacion_realizada)\n",
    "        print(\"Resultado:\", resultado)\n",
    "        \n",
    "    except ValueError:\n",
    "        print(\"Error: Ingresa valores numéricos válidos.\")"
   ]
  },
  {
   "cell_type": "code",
   "execution_count": null,
   "metadata": {},
   "outputs": [],
   "source": []
  }
 ],
 "metadata": {
  "kernelspec": {
   "display_name": "Python 3",
   "language": "python",
   "name": "python3"
  },
  "language_info": {
   "codemirror_mode": {
    "name": "ipython",
    "version": 3
   },
   "file_extension": ".py",
   "mimetype": "text/x-python",
   "name": "python",
   "nbconvert_exporter": "python",
   "pygments_lexer": "ipython3",
   "version": "3.12.0"
  }
 },
 "nbformat": 4,
 "nbformat_minor": 4
}
